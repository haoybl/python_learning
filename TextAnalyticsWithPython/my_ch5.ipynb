{
 "cells": [
  {
   "cell_type": "code",
   "execution_count": 193,
   "metadata": {
    "collapsed": true
   },
   "outputs": [],
   "source": [
    "import numpy as np\n",
    "import pandas as pd\n",
    "import nltk\n",
    "import re\n",
    "import pickle\n",
    "import string\n",
    "\n",
    "%matplotlib inline"
   ]
  },
  {
   "cell_type": "code",
   "execution_count": 4,
   "metadata": {
    "collapsed": false
   },
   "outputs": [
    {
     "data": {
      "text/plain": [
       "['i',\n",
       " 'me',\n",
       " 'my',\n",
       " 'myself',\n",
       " 'we',\n",
       " 'our',\n",
       " 'ours',\n",
       " 'ourselves',\n",
       " 'you',\n",
       " \"you're\",\n",
       " \"you've\",\n",
       " \"you'll\",\n",
       " \"you'd\",\n",
       " 'your',\n",
       " 'yours',\n",
       " 'yourself',\n",
       " 'yourselves',\n",
       " 'he',\n",
       " 'him',\n",
       " 'his',\n",
       " 'himself',\n",
       " 'she',\n",
       " \"she's\",\n",
       " 'her',\n",
       " 'hers',\n",
       " 'herself',\n",
       " 'it',\n",
       " \"it's\",\n",
       " 'its',\n",
       " 'itself',\n",
       " 'they',\n",
       " 'them',\n",
       " 'their',\n",
       " 'theirs',\n",
       " 'themselves',\n",
       " 'what',\n",
       " 'which',\n",
       " 'who',\n",
       " 'whom',\n",
       " 'this',\n",
       " 'that',\n",
       " \"that'll\",\n",
       " 'these',\n",
       " 'those',\n",
       " 'am',\n",
       " 'is',\n",
       " 'are',\n",
       " 'was',\n",
       " 'were',\n",
       " 'be',\n",
       " 'been',\n",
       " 'being',\n",
       " 'have',\n",
       " 'has',\n",
       " 'had',\n",
       " 'having',\n",
       " 'do',\n",
       " 'does',\n",
       " 'did',\n",
       " 'doing',\n",
       " 'a',\n",
       " 'an',\n",
       " 'the',\n",
       " 'and',\n",
       " 'but',\n",
       " 'if',\n",
       " 'or',\n",
       " 'because',\n",
       " 'as',\n",
       " 'until',\n",
       " 'while',\n",
       " 'of',\n",
       " 'at',\n",
       " 'by',\n",
       " 'for',\n",
       " 'with',\n",
       " 'about',\n",
       " 'against',\n",
       " 'between',\n",
       " 'into',\n",
       " 'through',\n",
       " 'during',\n",
       " 'before',\n",
       " 'after',\n",
       " 'above',\n",
       " 'below',\n",
       " 'to',\n",
       " 'from',\n",
       " 'up',\n",
       " 'down',\n",
       " 'in',\n",
       " 'out',\n",
       " 'on',\n",
       " 'off',\n",
       " 'over',\n",
       " 'under',\n",
       " 'again',\n",
       " 'further',\n",
       " 'then',\n",
       " 'once',\n",
       " 'here',\n",
       " 'there',\n",
       " 'when',\n",
       " 'where',\n",
       " 'why',\n",
       " 'how',\n",
       " 'all',\n",
       " 'any',\n",
       " 'both',\n",
       " 'each',\n",
       " 'few',\n",
       " 'more',\n",
       " 'most',\n",
       " 'other',\n",
       " 'some',\n",
       " 'such',\n",
       " 'no',\n",
       " 'nor',\n",
       " 'not',\n",
       " 'only',\n",
       " 'own',\n",
       " 'same',\n",
       " 'so',\n",
       " 'than',\n",
       " 'too',\n",
       " 'very',\n",
       " 's',\n",
       " 't',\n",
       " 'can',\n",
       " 'will',\n",
       " 'just',\n",
       " 'don',\n",
       " \"don't\",\n",
       " 'should',\n",
       " \"should've\",\n",
       " 'now',\n",
       " 'd',\n",
       " 'll',\n",
       " 'm',\n",
       " 'o',\n",
       " 're',\n",
       " 've',\n",
       " 'y',\n",
       " 'ain',\n",
       " 'aren',\n",
       " \"aren't\",\n",
       " 'couldn',\n",
       " \"couldn't\",\n",
       " 'didn',\n",
       " \"didn't\",\n",
       " 'doesn',\n",
       " \"doesn't\",\n",
       " 'hadn',\n",
       " \"hadn't\",\n",
       " 'hasn',\n",
       " \"hasn't\",\n",
       " 'haven',\n",
       " \"haven't\",\n",
       " 'isn',\n",
       " \"isn't\",\n",
       " 'ma',\n",
       " 'mightn',\n",
       " \"mightn't\",\n",
       " 'mustn',\n",
       " \"mustn't\",\n",
       " 'needn',\n",
       " \"needn't\",\n",
       " 'shan',\n",
       " \"shan't\",\n",
       " 'shouldn',\n",
       " \"shouldn't\",\n",
       " 'wasn',\n",
       " \"wasn't\",\n",
       " 'weren',\n",
       " \"weren't\",\n",
       " 'won',\n",
       " \"won't\",\n",
       " 'wouldn',\n",
       " \"wouldn't\"]"
      ]
     },
     "execution_count": 4,
     "metadata": {},
     "output_type": "execute_result"
    }
   ],
   "source": [
    "nltk.corpus.stopwords.words('english')"
   ]
  },
  {
   "cell_type": "markdown",
   "metadata": {},
   "source": [
    "### Text Normalization"
   ]
  },
  {
   "cell_type": "code",
   "execution_count": 5,
   "metadata": {
    "collapsed": false
   },
   "outputs": [],
   "source": [
    "\n",
    "from html import unescape\n",
    "from nltk.corpus import wordnet as wn\n",
    "\n",
    "CONTRACTION_MAP = pickle.load(open('contraction_map.pkl', 'rb'))\n",
    "\n",
    "wnl = nltk.wordnet.WordNetLemmatizer()\n",
    "\n",
    "stop_words = set(nltk.corpus.stopwords.words('english'))\n",
    "\n",
    "\n",
    "def parse_document(doc):\n",
    "    doc = re.sub('\\n', ' ', doc).strip()    \n",
    "    return [sent.strip() for sent in nltk.sent_tokenize(doc)]\n",
    "\n",
    "def unescape_html(text):\n",
    "    return unescape(text)\n",
    "\n",
    "def expand_contractions(text, contraction_map):\n",
    "    \n",
    "    pat = re.compile(\"({})\".format(\"|\".join(contraction_map.keys())), \n",
    "                     flags=re.IGNORECASE|re.DOTALL)\n",
    "    \n",
    "    def expand_match(match_object):\n",
    "        text = match_object.group(0)\n",
    "        new_text = contraction_map.get(text, contraction_map.get(text.lower()))\n",
    "        return text[0] + new_text[1:]\n",
    "        \n",
    "    return pat.sub(expand_match, text)\n",
    "\n",
    "\n",
    "def remove_special_characters(text):\n",
    "    pat = re.compile(\"[{}]\".format(re.escape(string.punctuation)))\n",
    "    return pat.sub(\"\", text)\n",
    "\n",
    "\n",
    "def remove_stopwords(text):\n",
    "    return \" \".join(w for w in nltk.word_tokenize(text) if w not in stop_words)\n",
    "\n",
    "\n",
    "def tokenize_text(text):\n",
    "    return [w.strip() for w in nltk.word_tokenize(text)]\n",
    "\n",
    "\n",
    "def lemmatize_text(text):\n",
    "    \n",
    "    def penn_to_wn(tag):\n",
    "        if tag.startswith('JJ'):\n",
    "            return wn.ADJ\n",
    "        elif tag.startswith('NN'):\n",
    "            return wn.NOUN\n",
    "        elif tag.startswith('RB'):\n",
    "            return wn.ADV\n",
    "        elif tag.startswith('VB'):\n",
    "            return wn.VERB\n",
    "        return None\n",
    "\n",
    "    text_tagged = ((word.lower(), penn_to_wn(tag)) for word, tag in nltk.pos_tag(tokenize_text(text)))\n",
    "    return \" \".join(wnl.lemmatize(word, pos=tag) if tag else word for word, tag in text_tagged)\n",
    "\n",
    "\n",
    "def normalize_corpus(corpus, lemmatize=True, tokenize=False):\n",
    "    \n",
    "    normalized_corpus = []\n",
    "    for text in corpus:\n",
    "        \n",
    "        text = unescape_html(text)\n",
    "        text = expand_contractions(text, CONTRACTION_MAP)\n",
    "        \n",
    "        if lemmatize:\n",
    "            text = lemmatize_text(text)\n",
    "        else:\n",
    "            text = text.lower()\n",
    "        \n",
    "        text = remove_special_characters(text)\n",
    "        text = remove_stopwords(text)\n",
    "        \n",
    "        if tokenize:\n",
    "            normalized_corpus.append(tokenize_text(text))\n",
    "        else:\n",
    "            normalized_corpus.append(text)\n",
    "        \n",
    "    return normalized_corpus"
   ]
  },
  {
   "cell_type": "markdown",
   "metadata": {},
   "source": [
    "### Feature Extraction"
   ]
  },
  {
   "cell_type": "code",
   "execution_count": 6,
   "metadata": {
    "collapsed": false
   },
   "outputs": [],
   "source": [
    "from sklearn.feature_extraction.text import TfidfVectorizer, CountVectorizer\n",
    "\n",
    "\n",
    "def build_feature_matrix(corpus, feature_type='freq'):\n",
    "    \n",
    "    if feature_type == 'freq':\n",
    "        vectorizer = CountVectorizer(binary=False, min_df=1, ngram_range=(1, 1))\n",
    "    \n",
    "    elif feature_type == 'binary':\n",
    "        vectorizer = CountVectorizer(binary=True, min_df=1, ngram_range=(1, 1))\n",
    "    \n",
    "    elif feature_type == 'tfidf':\n",
    "        vectorizer = TfidfVectorizer(min_df=1, ngram_range=(1, 1))\n",
    "    \n",
    "    else:\n",
    "        raise Exception('Invalid feature type:\\n\\\n",
    "                        Possible values: {}, {}, {}'.format(\"`freq`\", \"`binary`\", \"`tfidf`\"))\n",
    "    \n",
    "    features = vectorizer.fit_transform(corpus).astype(float)\n",
    "    \n",
    "    return vectorizer, features\n"
   ]
  },
  {
   "cell_type": "markdown",
   "metadata": {},
   "source": [
    "### Collocations"
   ]
  },
  {
   "cell_type": "code",
   "execution_count": 7,
   "metadata": {
    "collapsed": true
   },
   "outputs": [],
   "source": [
    "from nltk.corpus import gutenberg\n",
    "from operator import itemgetter"
   ]
  },
  {
   "cell_type": "code",
   "execution_count": 8,
   "metadata": {
    "collapsed": true
   },
   "outputs": [],
   "source": [
    "def flatten_corpus(corpus):\n",
    "    return \" \".join(text.strip() for text in corpus)\n",
    "\n",
    "def compute_ngrams(sequence, n_gram):\n",
    "    return list(zip(*(sequence[i:] for i in range(n_gram))))\n",
    "\n",
    "\n",
    "def get_top_ngrams(corpus, ngram_val=1, limit=5):\n",
    "    \n",
    "    corpus = flatten_corpus(corpus)\n",
    "    tokens = nltk.word_tokenize(corpus)\n",
    "    \n",
    "    ngrams = compute_ngrams(tokens, n_gram=ngram_val)\n",
    "    ngrams_freq = nltk.FreqDist(samples=ngrams)\n",
    "    sorted_ngrams = sorted(ngrams_freq.items(), \n",
    "                           key=lambda x: x[1], \n",
    "                           reverse=True)\n",
    "    return [(\" \".join(ngram), freq) for ngram, freq in  sorted_ngrams[:limit]]"
   ]
  },
  {
   "cell_type": "code",
   "execution_count": 9,
   "metadata": {
    "collapsed": true
   },
   "outputs": [],
   "source": [
    "alice = gutenberg.sents(fileids='carroll-alice.txt')"
   ]
  },
  {
   "cell_type": "code",
   "execution_count": 10,
   "metadata": {
    "collapsed": false
   },
   "outputs": [],
   "source": [
    "alice = [\" \".join(s) for s in alice]"
   ]
  },
  {
   "cell_type": "code",
   "execution_count": 11,
   "metadata": {
    "collapsed": false
   },
   "outputs": [],
   "source": [
    "norm_alice = list(filter(None, normalize_corpus(alice, lemmatize=False)))"
   ]
  },
  {
   "cell_type": "code",
   "execution_count": 12,
   "metadata": {
    "collapsed": false
   },
   "outputs": [
    {
     "data": {
      "text/plain": [
       "\"[ Alice ' s Adventures in Wonderland by Lewis Carroll 1865 ]\""
      ]
     },
     "execution_count": 12,
     "metadata": {},
     "output_type": "execute_result"
    }
   ],
   "source": [
    "alice[0]"
   ]
  },
  {
   "cell_type": "code",
   "execution_count": 13,
   "metadata": {
    "collapsed": false
   },
   "outputs": [
    {
     "data": {
      "text/plain": [
       "'alice adventures wonderland lewis carroll 1865'"
      ]
     },
     "execution_count": 13,
     "metadata": {},
     "output_type": "execute_result"
    }
   ],
   "source": [
    "norm_alice[0]"
   ]
  },
  {
   "cell_type": "code",
   "execution_count": 14,
   "metadata": {
    "collapsed": false
   },
   "outputs": [
    {
     "data": {
      "text/plain": [
       "[(1, 2, 3), (2, 3, 4)]"
      ]
     },
     "execution_count": 14,
     "metadata": {},
     "output_type": "execute_result"
    }
   ],
   "source": [
    "compute_ngrams([1,2,3,4], 3)"
   ]
  },
  {
   "cell_type": "code",
   "execution_count": 15,
   "metadata": {
    "collapsed": false
   },
   "outputs": [
    {
     "data": {
      "text/plain": [
       "[('said alice', 123),\n",
       " ('mock turtle', 56),\n",
       " ('march hare', 31),\n",
       " ('said king', 29),\n",
       " ('thought alice', 26),\n",
       " ('said hatter', 22),\n",
       " ('white rabbit', 22),\n",
       " ('said mock', 20),\n",
       " ('said gryphon', 18),\n",
       " ('said caterpillar', 18)]"
      ]
     },
     "execution_count": 15,
     "metadata": {},
     "output_type": "execute_result"
    }
   ],
   "source": [
    "get_top_ngrams(norm_alice, ngram_val=2, limit=10)"
   ]
  },
  {
   "cell_type": "code",
   "execution_count": 16,
   "metadata": {
    "collapsed": false
   },
   "outputs": [
    {
     "data": {
      "text/plain": [
       "[('said mock turtle', 20),\n",
       " ('said march hare', 10),\n",
       " ('poor little thing', 6),\n",
       " ('certainly said alice', 5),\n",
       " ('little golden key', 5),\n",
       " ('march hare said', 5),\n",
       " ('white kid gloves', 5),\n",
       " ('mock turtle said', 5),\n",
       " ('mouse mouse mouse', 4),\n",
       " ('ootiful soo oop', 4)]"
      ]
     },
     "execution_count": 16,
     "metadata": {},
     "output_type": "execute_result"
    }
   ],
   "source": [
    "get_top_ngrams(norm_alice, ngram_val=3, limit=10)"
   ]
  },
  {
   "cell_type": "markdown",
   "metadata": {
    "collapsed": true
   },
   "source": [
    "### nltk - collocation finders"
   ]
  },
  {
   "cell_type": "code",
   "execution_count": 17,
   "metadata": {
    "collapsed": true
   },
   "outputs": [],
   "source": [
    "# bigrams\n",
    "from nltk.collocations import BigramCollocationFinder\n",
    "from nltk.collocations import BigramAssocMeasures"
   ]
  },
  {
   "cell_type": "code",
   "execution_count": 18,
   "metadata": {
    "collapsed": false
   },
   "outputs": [],
   "source": [
    "bi_finder = BigramCollocationFinder.from_documents(list(map(nltk.word_tokenize, norm_alice)))"
   ]
  },
  {
   "cell_type": "code",
   "execution_count": 19,
   "metadata": {
    "collapsed": false
   },
   "outputs": [],
   "source": [
    "bigram_measures = BigramAssocMeasures()"
   ]
  },
  {
   "cell_type": "code",
   "execution_count": 20,
   "metadata": {
    "collapsed": false
   },
   "outputs": [
    {
     "data": {
      "text/plain": [
       "[('said', 'alice'),\n",
       " ('mock', 'turtle'),\n",
       " ('march', 'hare'),\n",
       " ('said', 'king'),\n",
       " ('thought', 'alice'),\n",
       " ('said', 'hatter'),\n",
       " ('white', 'rabbit'),\n",
       " ('said', 'mock'),\n",
       " ('said', 'caterpillar'),\n",
       " ('said', 'gryphon')]"
      ]
     },
     "execution_count": 20,
     "metadata": {},
     "output_type": "execute_result"
    }
   ],
   "source": [
    "bi_finder.nbest(bigram_measures.raw_freq, 10)"
   ]
  },
  {
   "cell_type": "code",
   "execution_count": 21,
   "metadata": {
    "collapsed": false
   },
   "outputs": [
    {
     "data": {
      "text/plain": [
       "[('abide', 'figures'),\n",
       " ('acceptance', 'elegant'),\n",
       " ('accounting', 'tastes'),\n",
       " ('accustomed', 'usurpation'),\n",
       " ('act', 'crawling'),\n",
       " ('adjourn', 'immediate'),\n",
       " ('adoption', 'energetic'),\n",
       " ('affair', 'trusts'),\n",
       " ('agony', 'terror'),\n",
       " ('alarmed', 'proposal')]"
      ]
     },
     "execution_count": 21,
     "metadata": {},
     "output_type": "execute_result"
    }
   ],
   "source": [
    "bi_finder.nbest(bigram_measures.pmi, 10)"
   ]
  },
  {
   "cell_type": "code",
   "execution_count": 22,
   "metadata": {
    "collapsed": true
   },
   "outputs": [],
   "source": [
    "# trigrams\n",
    "from nltk.collocations import TrigramCollocationFinder, TrigramAssocMeasures"
   ]
  },
  {
   "cell_type": "code",
   "execution_count": 23,
   "metadata": {
    "collapsed": true
   },
   "outputs": [],
   "source": [
    "tri_finder = TrigramCollocationFinder.from_documents(list(map(nltk.word_tokenize, norm_alice)))"
   ]
  },
  {
   "cell_type": "code",
   "execution_count": 24,
   "metadata": {
    "collapsed": true
   },
   "outputs": [],
   "source": [
    "trigram_measures = TrigramAssocMeasures()"
   ]
  },
  {
   "cell_type": "code",
   "execution_count": 25,
   "metadata": {
    "collapsed": false
   },
   "outputs": [
    {
     "data": {
      "text/plain": [
       "[('said', 'mock', 'turtle'),\n",
       " ('said', 'march', 'hare'),\n",
       " ('poor', 'little', 'thing'),\n",
       " ('little', 'golden', 'key'),\n",
       " ('march', 'hare', 'said'),\n",
       " ('mock', 'turtle', 'said'),\n",
       " ('white', 'kid', 'gloves'),\n",
       " ('beau', 'ootiful', 'soo'),\n",
       " ('certainly', 'said', 'alice'),\n",
       " ('might', 'well', 'say')]"
      ]
     },
     "execution_count": 25,
     "metadata": {},
     "output_type": "execute_result"
    }
   ],
   "source": [
    "tri_finder.nbest(trigram_measures.raw_freq, 10)"
   ]
  },
  {
   "cell_type": "code",
   "execution_count": 26,
   "metadata": {
    "collapsed": false
   },
   "outputs": [
    {
     "data": {
      "text/plain": [
       "[('accustomed', 'usurpation', 'conquest'),\n",
       " ('adjourn', 'immediate', 'adoption'),\n",
       " ('adoption', 'energetic', 'remedies'),\n",
       " ('ancient', 'modern', 'seaography'),\n",
       " ('apple', 'roast', 'turkey'),\n",
       " ('arithmetic', 'ambition', 'distraction'),\n",
       " ('brother', 'latin', 'grammar'),\n",
       " ('canvas', 'bag', 'tied'),\n",
       " ('cherry', 'tart', 'custard'),\n",
       " ('circle', 'exact', 'shape')]"
      ]
     },
     "execution_count": 26,
     "metadata": {},
     "output_type": "execute_result"
    }
   ],
   "source": [
    "tri_finder.nbest(trigram_measures.pmi, 10)"
   ]
  },
  {
   "cell_type": "markdown",
   "metadata": {},
   "source": [
    "### Weighted Tag-Based Phrase Extraction"
   ]
  },
  {
   "cell_type": "code",
   "execution_count": 27,
   "metadata": {
    "collapsed": true
   },
   "outputs": [],
   "source": [
    "import itertools\n",
    "import nltk\n",
    "from gensim import corpora, models"
   ]
  },
  {
   "cell_type": "code",
   "execution_count": 28,
   "metadata": {
    "collapsed": true
   },
   "outputs": [],
   "source": [
    "toy_text = \"\"\"\n",
    "Elephants are large mammals of the family Elephantidae \n",
    "and the order Proboscidea. Two species are traditionally recognised, \n",
    "the African elephant and the Asian elephant. Elephants are scattered \n",
    "throughout sub-Saharan Africa, South Asia, and Southeast Asia. Male \n",
    "African elephants are the largest extant terrestrial animals. All \n",
    "elephants have a long trunk used for many purposes, \n",
    "particularly breathing, lifting water and grasping objects. Their \n",
    "incisors grow into tusks, which can serve as weapons and as tools \n",
    "for moving objects and digging. Elephants' large ear flaps help \n",
    "to control their body temperature. Their pillar-like legs can \n",
    "carry their great weight. African elephants have larger ears \n",
    "and concave backs while Asian elephants have smaller ears \n",
    "and convex or level backs.  \n",
    "\"\"\""
   ]
  },
  {
   "cell_type": "code",
   "execution_count": 29,
   "metadata": {
    "collapsed": false
   },
   "outputs": [],
   "source": [
    "noun_grammar = r'NP: {<DT>? <JJ>* <NN.*>+}'\n",
    "sentences = parse_document(toy_text)\n",
    "\n",
    "def get_chunks(sentences, grammar=noun_grammar):\n",
    "\n",
    "    # build chunker based on grammar pattern\n",
    "    all_chunks = []\n",
    "    chunker = nltk.chunk.regexp.RegexpParser(grammar)\n",
    "\n",
    "    for sentence in sentences:\n",
    "        # POS tag sentences\n",
    "        tagged_sents = nltk.pos_tag_sents([nltk.word_tokenize(sentence)])\n",
    "\n",
    "        # extract chunks: tree\n",
    "        chunks = [chunker.parse(tagged_sent) for tagged_sent in tagged_sents]\n",
    "\n",
    "        # get word, pos_tag, chunk_tag triples\n",
    "        wtc_sents = [nltk.chunk.tree2conlltags(chunk) for chunk in chunks]\n",
    "\n",
    "        flattened_chunks = list(itertools.chain.from_iterable(wtc for wtc in wtc_sents))\n",
    "\n",
    "        # get valid chunks based on tags\n",
    "        valid_chunks_tagged = [(status, list(chunk)) \n",
    "                               for status, chunk in itertools.groupby(flattened_chunks, lambda x: x[-1]!='O') if status]\n",
    "\n",
    "        # append words in each chunk to make phrases\n",
    "        valid_chunks = [\" \".join(w.lower() for w,_,_ in chunks if w.lower() not in stop_words) \n",
    "                        for _, chunks in valid_chunks_tagged]\n",
    "\n",
    "        all_chunks.append(valid_chunks)\n",
    "    \n",
    "    return all_chunks\n",
    "\n",
    "\n",
    "def get_tfidf_weighted_keyphrases(sentences, grammar=r\"NP: <DT>? <JJ>* <NN.*>+\", top_n=10):\n",
    "    \n",
    "    valid_chunks = get_chunks(sentences, grammar)\n",
    "    \n",
    "    # build tf-idf based model\n",
    "    chunk_dict = corpora.Dictionary(valid_chunks)\n",
    "    corpus = [chunk_dict.doc2bow(chunk) for chunk in valid_chunks]\n",
    "    tfidf = models.TfidfModel(corpus)\n",
    "    corpus_tfidf = tfidf[corpus]\n",
    "    \n",
    "    # get phrases and their tf-idf weights\n",
    "    weighted_phrases = {chunk_dict.get(idx): round(val, 3) \n",
    "                            for doc in corpus_tfidf \n",
    "                            for (idx, val) in doc}\n",
    "    weighted_phrases = sorted(weighted_phrases.items(), key=lambda x: x[1], reverse=True)\n",
    "    return weighted_phrases[:top_n]"
   ]
  },
  {
   "cell_type": "code",
   "execution_count": 30,
   "metadata": {
    "collapsed": false
   },
   "outputs": [
    {
     "data": {
      "text/plain": [
       "[['elephants', 'large mammals', 'family elephantidae', 'order proboscidea'],\n",
       " ['species', 'african elephant', 'asian elephant'],\n",
       " ['elephants', 'sub-saharan africa', 'south asia', 'southeast asia'],\n",
       " ['male african elephants', 'extant terrestrial animals'],\n",
       " ['elephants',\n",
       "  'long trunk',\n",
       "  'many purposes',\n",
       "  'breathing',\n",
       "  'water',\n",
       "  'grasping objects'],\n",
       " ['incisors', 'tusks', 'weapons', 'tools', 'objects', 'digging'],\n",
       " ['elephants', 'large ear flaps', 'body temperature'],\n",
       " ['pillar-like legs', 'great weight'],\n",
       " ['african elephants',\n",
       "  'ears',\n",
       "  'backs',\n",
       "  'asian elephants',\n",
       "  'ears',\n",
       "  'convex',\n",
       "  'level backs']]"
      ]
     },
     "execution_count": 30,
     "metadata": {},
     "output_type": "execute_result"
    }
   ],
   "source": [
    "get_chunks(parse_document(toy_text), noun_grammar)"
   ]
  },
  {
   "cell_type": "code",
   "execution_count": 31,
   "metadata": {
    "collapsed": false
   },
   "outputs": [
    {
     "data": {
      "text/plain": [
       "[('male african elephants', 0.707),\n",
       " ('great weight', 0.707),\n",
       " ('pillar-like legs', 0.707),\n",
       " ('extant terrestrial animals', 0.707),\n",
       " ('body temperature', 0.684),\n",
       " ('large ear flaps', 0.684),\n",
       " ('ears', 0.667),\n",
       " ('species', 0.577),\n",
       " ('african elephant', 0.577),\n",
       " ('asian elephant', 0.577)]"
      ]
     },
     "execution_count": 31,
     "metadata": {},
     "output_type": "execute_result"
    }
   ],
   "source": [
    "get_tfidf_weighted_keyphrases(sentences, noun_grammar, 10)"
   ]
  },
  {
   "cell_type": "code",
   "execution_count": 32,
   "metadata": {
    "collapsed": false
   },
   "outputs": [
    {
     "data": {
      "text/plain": [
       "[('particular bill', 1.0),\n",
       " ('prisoner', 1.0),\n",
       " ('manage twelfth', 1.0),\n",
       " ('blacking believe', 1.0),\n",
       " ('chapter ii', 1.0),\n",
       " ('end bill french music', 1.0),\n",
       " ('tails mouths crumbs', 1.0),\n",
       " ('continued way', 1.0),\n",
       " ('mock turtle sing song', 1.0),\n",
       " ('experiment', 1.0),\n",
       " ('play croquet queen day', 1.0),\n",
       " ('thump', 1.0),\n",
       " ('book', 1.0),\n",
       " ('deny', 1.0),\n",
       " ('next question world', 1.0),\n",
       " ('inquired alice', 1.0),\n",
       " ('oh poor hands', 1.0),\n",
       " ('stay', 1.0),\n",
       " ('right think', 1.0),\n",
       " ('melancholy tone', 1.0)]"
      ]
     },
     "execution_count": 32,
     "metadata": {},
     "output_type": "execute_result"
    }
   ],
   "source": [
    "get_tfidf_weighted_keyphrases(norm_alice, noun_grammar, 20)"
   ]
  },
  {
   "cell_type": "markdown",
   "metadata": {},
   "source": [
    "### Topic Modeling"
   ]
  },
  {
   "cell_type": "code",
   "execution_count": 33,
   "metadata": {
    "collapsed": true
   },
   "outputs": [],
   "source": [
    "# 2 distinct topics corpus: [animal, programming language]\n",
    "\n",
    "toy_corpus = [\"The fox jumps over the dog\",\n",
    "\"The fox is very clever and quick\",\n",
    "\"The dog is slow and lazy\",\n",
    "\"The cat is smarter than the fox and the dog\",\n",
    "\"Python is an excellent programming language\",\n",
    "\"Java and Ruby are other programming languages\",\n",
    "\"Python and Java are very popular programming languages\",\n",
    "\"Python programs are smaller than Java programs\"]\n"
   ]
  },
  {
   "cell_type": "markdown",
   "metadata": {},
   "source": [
    "#### 1) Latent Semantic Indexing (LSI)"
   ]
  },
  {
   "cell_type": "code",
   "execution_count": 34,
   "metadata": {
    "collapsed": true
   },
   "outputs": [],
   "source": [
    "from gensim import corpora, models\n",
    "import numpy as np"
   ]
  },
  {
   "cell_type": "code",
   "execution_count": 35,
   "metadata": {
    "collapsed": false
   },
   "outputs": [
    {
     "data": {
      "text/plain": [
       "[['fox', 'jump', 'dog'],\n",
       " ['fox', 'clever', 'quick'],\n",
       " ['dog', 'slow', 'lazy'],\n",
       " ['cat', 'smarter', 'fox', 'dog'],\n",
       " ['python', 'excellent', 'programming', 'language'],\n",
       " ['java', 'ruby', 'programming', 'language'],\n",
       " ['python', 'java', 'popular', 'programming', 'language'],\n",
       " ['python', 'program', 'small', 'java', 'program']]"
      ]
     },
     "execution_count": 35,
     "metadata": {},
     "output_type": "execute_result"
    }
   ],
   "source": [
    "norm_tokenized_corpus = normalize_corpus(toy_corpus, tokenize=True)\n",
    "norm_tokenized_corpus"
   ]
  },
  {
   "cell_type": "code",
   "execution_count": 36,
   "metadata": {
    "collapsed": true
   },
   "outputs": [],
   "source": [
    "# build Bag-of-word model\n",
    "bow = corpora.Dictionary(norm_tokenized_corpus)\n",
    "\n",
    "bow_corpus = [bow.doc2bow(doc) for doc in norm_tokenized_corpus]"
   ]
  },
  {
   "cell_type": "code",
   "execution_count": 37,
   "metadata": {
    "collapsed": false
   },
   "outputs": [
    {
     "data": {
      "text/plain": [
       "[[(0, 1), (1, 1), (2, 1)],\n",
       " [(1, 1), (3, 1), (4, 1)],\n",
       " [(0, 1), (5, 1), (6, 1)],\n",
       " [(0, 1), (1, 1), (7, 1), (8, 1)],\n",
       " [(9, 1), (10, 1), (11, 1), (12, 1)],\n",
       " [(9, 1), (11, 1), (13, 1), (14, 1)],\n",
       " [(9, 1), (10, 1), (11, 1), (14, 1), (15, 1)],\n",
       " [(10, 1), (14, 1), (16, 2), (17, 1)]]"
      ]
     },
     "execution_count": 37,
     "metadata": {},
     "output_type": "execute_result"
    }
   ],
   "source": [
    "bow_corpus"
   ]
  },
  {
   "cell_type": "code",
   "execution_count": 38,
   "metadata": {
    "collapsed": false
   },
   "outputs": [],
   "source": [
    "# tfidf model\n",
    "tfidf = models.TfidfModel(bow_corpus)\n",
    "\n",
    "tfidf_corpus = tfidf[bow_corpus]"
   ]
  },
  {
   "cell_type": "code",
   "execution_count": 39,
   "metadata": {
    "collapsed": false
   },
   "outputs": [],
   "source": [
    "# fix the number of topic\n",
    "n_topic = 2\n",
    "\n",
    "lsi = models.LsiModel(corpus=tfidf_corpus, num_topics=n_topic, id2word=bow)"
   ]
  },
  {
   "cell_type": "code",
   "execution_count": 40,
   "metadata": {
    "collapsed": false
   },
   "outputs": [
    {
     "name": "stdout",
     "output_type": "stream",
     "text": [
      "Topic 0:\n",
      "0.459*\"language\" + 0.459*\"programming\" + 0.344*\"python\" + 0.344*\"java\" + 0.336*\"popular\" + 0.318*\"excellent\" + 0.318*\"ruby\" + 0.148*\"program\" + 0.074*\"small\" + 0.000*\"dog\"\n",
      "\n",
      "Topic 1:\n",
      "-0.459*\"dog\" + -0.459*\"fox\" + -0.444*\"jump\" + -0.322*\"cat\" + -0.322*\"smarter\" + -0.208*\"lazy\" + -0.208*\"slow\" + -0.208*\"clever\" + -0.208*\"quick\" + 0.000*\"language\"\n",
      "\n"
     ]
    }
   ],
   "source": [
    "for idx, topic in lsi.print_topics(n_topic):\n",
    "    print(\"Topic {}:\\n{}\\n\".format(idx, topic))"
   ]
  },
  {
   "cell_type": "code",
   "execution_count": 72,
   "metadata": {
    "collapsed": false
   },
   "outputs": [],
   "source": [
    "def print_topic_gensim(topic_model, total_topic=1, weight_threshold=0.0001, \n",
    "                       display_weights=False, num_terms=None):\n",
    "    for i in range(total_topic):\n",
    "        topic = topic_model.show_topic(i)\n",
    "        \n",
    "        topic = [(word, round(val, 2)) for  word, val in topic \n",
    "                                         if abs(val) > weight_threshold]\n",
    "        \n",
    "        print(\"Topic {}:\".format(i))\n",
    "        if not display_weights:\n",
    "            print([w for w,_ in topic][:num_terms])\n",
    "        else:\n",
    "            print(topic[:num_terms])\n",
    "        print()"
   ]
  },
  {
   "cell_type": "code",
   "execution_count": 42,
   "metadata": {
    "collapsed": false
   },
   "outputs": [
    {
     "name": "stdout",
     "output_type": "stream",
     "text": [
      "Topic 0:\n",
      "[('language', 0.46000000000000002), ('programming', 0.46000000000000002), ('python', 0.34000000000000002), ('java', 0.34000000000000002), ('popular', 0.34000000000000002)]\n",
      "\n",
      "Topic 1:\n",
      "[('dog', -0.46000000000000002), ('fox', -0.46000000000000002), ('jump', -0.44), ('cat', -0.32000000000000001), ('smarter', -0.32000000000000001)]\n",
      "\n"
     ]
    }
   ],
   "source": [
    "print_topic_gensim(lsi, total_topic=2, num_terms=5)"
   ]
  },
  {
   "cell_type": "markdown",
   "metadata": {},
   "source": [
    "### LSI using SVD"
   ]
  },
  {
   "cell_type": "code",
   "execution_count": 43,
   "metadata": {
    "collapsed": true
   },
   "outputs": [],
   "source": [
    "from scipy.sparse.linalg import svds\n",
    "from sklearn.feature_extraction.text import TfidfVectorizer"
   ]
  },
  {
   "cell_type": "code",
   "execution_count": 81,
   "metadata": {
    "collapsed": false
   },
   "outputs": [],
   "source": [
    "def low_rank_svd(matrix, singular_count=2):\n",
    "    u, s, vt = svds(matrix, k=singular_count)\n",
    "    return u, s, vt\n",
    "\n",
    "def build_tfidf_matrix(corpus):\n",
    "    tfidf = TfidfVectorizer(min_df=1, ngram_range=(1, 1))\n",
    "    features = tfidf.fit_transform(corpus)\n",
    "    return tfidf, features\n",
    "\n",
    "def get_topics_with_terms_and_weights(weights, feature_names):\n",
    "    topics = []\n",
    "    for weight in weights:\n",
    "        a = pd.Series(weight, index=feature_names)\n",
    "        idx = a.abs().argsort().values[::-1]\n",
    "        topics.append(a.iloc[idx].round(3))\n",
    "    return topics\n",
    "\n",
    "\n",
    "def train_lsi_model_gensim(corpus, n_topics=2):\n",
    "    \n",
    "    corpus = normalize_corpus(corpus, tokenize=True)\n",
    "    bow = corpora.Dictionary(corpus)\n",
    "    bow_corpus = [bow.doc2bow(doc) for doc in corpus]\n",
    "    tfidf = models.TfidfModel(bow_corpus)\n",
    "    tfidf_corpus = tfidf[bow_corpus]\n",
    "    \n",
    "    lsi = models.LsiModel(corpus=tfidf_corpus, \n",
    "                          num_topics=n_topics, \n",
    "                          id2word=bow)\n",
    "    return lsi\n",
    "\n",
    "def print_topics(weights, feature_names, weight_threshold=0.0001, num_terms=None):\n",
    "    \n",
    "    topics = get_topics_with_terms_and_weights(weights, feature_names)\n",
    "    for i, topic in enumerate(topics, 1):\n",
    "        topic = topic.loc[topic.abs() >= weight_threshold]\n",
    "        print(\"Topic {}:\\n{}\".format(i, topic[:num_terms]))\n",
    "        print()"
   ]
  },
  {
   "cell_type": "code",
   "execution_count": 45,
   "metadata": {
    "collapsed": false
   },
   "outputs": [
    {
     "data": {
      "text/plain": [
       "(8, 18)"
      ]
     },
     "execution_count": 45,
     "metadata": {},
     "output_type": "execute_result"
    }
   ],
   "source": [
    "norm_corpus = normalize_corpus(toy_corpus)\n",
    "\n",
    "# tfidf_matrix -> [n_docs, n_words]\n",
    "vectorizer, tfidf_matrix = build_tfidf_matrix(norm_corpus)\n",
    "tfidf_matrix.shape"
   ]
  },
  {
   "cell_type": "code",
   "execution_count": 46,
   "metadata": {
    "collapsed": false
   },
   "outputs": [],
   "source": [
    "# td_matrix -> [n_words, n_docs]\n",
    "td_matrix = tfidf_matrix.T\n",
    "td_matrix = td_matrix.multiply(td_matrix > 0)"
   ]
  },
  {
   "cell_type": "code",
   "execution_count": 47,
   "metadata": {
    "collapsed": false
   },
   "outputs": [],
   "source": [
    "n_topic = 2\n",
    "feature_names = vectorizer.get_feature_names()"
   ]
  },
  {
   "cell_type": "code",
   "execution_count": 48,
   "metadata": {
    "collapsed": false
   },
   "outputs": [],
   "source": [
    "u, s, vt = low_rank_svd(td_matrix, singular_count=n_topic)"
   ]
  },
  {
   "cell_type": "code",
   "execution_count": 49,
   "metadata": {
    "collapsed": false
   },
   "outputs": [],
   "source": [
    "weights = (u * s).T    # shape -> [n_topic, n_words]"
   ]
  },
  {
   "cell_type": "code",
   "execution_count": 50,
   "metadata": {
    "collapsed": false
   },
   "outputs": [],
   "source": [
    "topics = get_topics_with_terms_and_weights(weights, feature_names)"
   ]
  },
  {
   "cell_type": "code",
   "execution_count": 51,
   "metadata": {
    "collapsed": false
   },
   "outputs": [
    {
     "name": "stdout",
     "output_type": "stream",
     "text": [
      "dog            0.724\n",
      "fox            0.724\n",
      "jump           0.430\n",
      "smarter        0.336\n",
      "cat            0.336\n",
      "slow           0.234\n",
      "lazy           0.234\n",
      "quick          0.234\n",
      "clever         0.234\n",
      "programming    0.000\n",
      "language       0.000\n",
      "java           0.000\n",
      "python         0.000\n",
      "popular        0.000\n",
      "program        0.000\n",
      "ruby           0.000\n",
      "excellent      0.000\n",
      "small          0.000\n",
      "dtype: float64\n"
     ]
    }
   ],
   "source": [
    "print(topics[0])"
   ]
  },
  {
   "cell_type": "code",
   "execution_count": 52,
   "metadata": {
    "collapsed": false
   },
   "outputs": [
    {
     "name": "stdout",
     "output_type": "stream",
     "text": [
      "programming   -0.729\n",
      "language      -0.729\n",
      "python        -0.565\n",
      "java          -0.565\n",
      "popular       -0.341\n",
      "ruby          -0.333\n",
      "excellent     -0.333\n",
      "program       -0.213\n",
      "small         -0.106\n",
      "dog            0.000\n",
      "fox            0.000\n",
      "lazy           0.000\n",
      "slow           0.000\n",
      "jump           0.000\n",
      "smarter        0.000\n",
      "cat            0.000\n",
      "quick          0.000\n",
      "clever         0.000\n",
      "dtype: float64\n"
     ]
    }
   ],
   "source": [
    "print(topics[1])"
   ]
  },
  {
   "cell_type": "code",
   "execution_count": 53,
   "metadata": {
    "collapsed": false
   },
   "outputs": [
    {
     "data": {
      "text/plain": [
       "dog        0.724\n",
       "fox        0.724\n",
       "jump       0.430\n",
       "smarter    0.336\n",
       "cat        0.336\n",
       "slow       0.234\n",
       "lazy       0.234\n",
       "quick      0.234\n",
       "clever     0.234\n",
       "dtype: float64"
      ]
     },
     "execution_count": 53,
     "metadata": {},
     "output_type": "execute_result"
    }
   ],
   "source": [
    "topics[0][(topics[0].abs() > .15).values]"
   ]
  },
  {
   "cell_type": "markdown",
   "metadata": {},
   "source": [
    "### Latent Dirichlet Allocation"
   ]
  },
  {
   "cell_type": "code",
   "execution_count": 68,
   "metadata": {
    "collapsed": true
   },
   "outputs": [],
   "source": [
    "def train_lda_model_gensim(corpus, total_topics=2):\n",
    "    \n",
    "    norm_tokenized_corpus = normalize_corpus(corpus, tokenize=True)\n",
    "    id2word = corpora.Dictionary(norm_tokenized_corpus)\n",
    "    mapped_corpus = [id2word.doc2bow(doc) for doc in norm_tokenized_corpus]\n",
    "    tfidf = models.TfidfModel(mapped_corpus)\n",
    "    tfidf_corpus = tfidf[mapped_corpus]\n",
    "    lda = models.LdaModel(tfidf_corpus, \n",
    "                          num_topics=total_topics, \n",
    "                          id2word=id2word, \n",
    "                          iterations=1000)\n",
    "    return lda"
   ]
  },
  {
   "cell_type": "code",
   "execution_count": 69,
   "metadata": {
    "collapsed": false
   },
   "outputs": [],
   "source": [
    "lda_gensim = train_lda_model_gensim(toy_corpus, total_topics=2)"
   ]
  },
  {
   "cell_type": "code",
   "execution_count": 74,
   "metadata": {
    "collapsed": false
   },
   "outputs": [
    {
     "name": "stdout",
     "output_type": "stream",
     "text": [
      "Topic 0:\n",
      "[('language', 0.070000000000000007), ('jump', 0.070000000000000007), ('fox', 0.070000000000000007), ('dog', 0.059999999999999998), ('programming', 0.059999999999999998), ('excellent', 0.059999999999999998), ('quick', 0.059999999999999998), ('clever', 0.059999999999999998), ('lazy', 0.059999999999999998), ('python', 0.059999999999999998)]\n",
      "\n",
      "Topic 1:\n",
      "[('java', 0.070000000000000007), ('popular', 0.070000000000000007), ('programming', 0.059999999999999998), ('program', 0.059999999999999998), ('ruby', 0.059999999999999998), ('language', 0.059999999999999998), ('python', 0.059999999999999998), ('smarter', 0.059999999999999998), ('dog', 0.059999999999999998), ('fox', 0.059999999999999998)]\n",
      "\n"
     ]
    }
   ],
   "source": [
    "print_topic_gensim(lda_gensim, total_topic=2, display_weights=True, num_terms=10)"
   ]
  },
  {
   "cell_type": "code",
   "execution_count": 75,
   "metadata": {
    "collapsed": true
   },
   "outputs": [],
   "source": [
    "from sklearn.decomposition import LatentDirichletAllocation"
   ]
  },
  {
   "cell_type": "code",
   "execution_count": 76,
   "metadata": {
    "collapsed": true
   },
   "outputs": [],
   "source": [
    "norm_corpus = normalize_corpus(toy_corpus)\n",
    "vectorizer, tfidf_matrix = build_tfidf_matrix(norm_corpus)"
   ]
  },
  {
   "cell_type": "code",
   "execution_count": 77,
   "metadata": {
    "collapsed": false
   },
   "outputs": [
    {
     "data": {
      "text/plain": [
       "LatentDirichletAllocation(batch_size=128, doc_topic_prior=None,\n",
       "             evaluate_every=-1, learning_decay=0.7,\n",
       "             learning_method='online', learning_offset=50,\n",
       "             max_doc_update_iter=100, max_iter=100, mean_change_tol=0.001,\n",
       "             n_components=2, n_jobs=1, n_topics=None, perp_tol=0.1,\n",
       "             random_state=42, topic_word_prior=None,\n",
       "             total_samples=1000000.0, verbose=0)"
      ]
     },
     "execution_count": 77,
     "metadata": {},
     "output_type": "execute_result"
    }
   ],
   "source": [
    "total_topics = 2\n",
    "lda = LatentDirichletAllocation(n_components=total_topics, \n",
    "                                max_iter=100, \n",
    "                                learning_method='online', \n",
    "                                learning_offset=50, \n",
    "                                random_state=42)\n",
    "\n",
    "lda.fit(tfidf_matrix)"
   ]
  },
  {
   "cell_type": "code",
   "execution_count": 79,
   "metadata": {
    "collapsed": false
   },
   "outputs": [
    {
     "data": {
      "text/plain": [
       "((2, 18), 18)"
      ]
     },
     "execution_count": 79,
     "metadata": {},
     "output_type": "execute_result"
    }
   ],
   "source": [
    "feature_names = vectorizer.get_feature_names()\n",
    "weights = lda.components_\n",
    "\n",
    "weights.shape, len(feature_names)"
   ]
  },
  {
   "cell_type": "code",
   "execution_count": 85,
   "metadata": {
    "collapsed": false
   },
   "outputs": [
    {
     "name": "stdout",
     "output_type": "stream",
     "text": [
      "Topic 1:\n",
      "fox        1.846\n",
      "dog        1.538\n",
      "jump       1.173\n",
      "clever     1.113\n",
      "quick      1.113\n",
      "cat        1.057\n",
      "smarter    1.055\n",
      "dtype: float64\n",
      "\n",
      "Topic 2:\n",
      "programming    1.732\n",
      "language       1.727\n",
      "java           1.615\n",
      "python         1.583\n",
      "program        1.286\n",
      "ruby           1.090\n",
      "slow           1.078\n",
      "dtype: float64\n",
      "\n"
     ]
    }
   ],
   "source": [
    "print_topics(weights, feature_names, num_terms=7)"
   ]
  },
  {
   "cell_type": "markdown",
   "metadata": {},
   "source": [
    "### Non-negative Matrix Factorization"
   ]
  },
  {
   "cell_type": "code",
   "execution_count": 86,
   "metadata": {
    "collapsed": true
   },
   "outputs": [],
   "source": [
    "from sklearn.decomposition import NMF"
   ]
  },
  {
   "cell_type": "code",
   "execution_count": 89,
   "metadata": {
    "collapsed": false
   },
   "outputs": [],
   "source": [
    "norm_corpus = normalize_corpus(toy_corpus)\n",
    "vectorizer, tfidf_matrix = build_tfidf_matrix(norm_corpus)"
   ]
  },
  {
   "cell_type": "code",
   "execution_count": 90,
   "metadata": {
    "collapsed": true
   },
   "outputs": [],
   "source": [
    "n_topic = 2\n",
    "nmf = NMF(n_components=n_topic, init='random', random_state=42, alpha=.1, l1_ratio=.5)"
   ]
  },
  {
   "cell_type": "code",
   "execution_count": 91,
   "metadata": {
    "collapsed": false
   },
   "outputs": [
    {
     "data": {
      "text/plain": [
       "NMF(alpha=0.1, beta_loss='frobenius', init='random', l1_ratio=0.5,\n",
       "  max_iter=200, n_components=2, random_state=42, shuffle=False,\n",
       "  solver='cd', tol=0.0001, verbose=0)"
      ]
     },
     "execution_count": 91,
     "metadata": {},
     "output_type": "execute_result"
    }
   ],
   "source": [
    "nmf.fit(tfidf_matrix)"
   ]
  },
  {
   "cell_type": "code",
   "execution_count": 92,
   "metadata": {
    "collapsed": true
   },
   "outputs": [],
   "source": [
    "feature_names = vectorizer.get_feature_names()\n",
    "weights = nmf.components_"
   ]
  },
  {
   "cell_type": "code",
   "execution_count": 95,
   "metadata": {
    "collapsed": false
   },
   "outputs": [
    {
     "name": "stdout",
     "output_type": "stream",
     "text": [
      "Topic 1:\n",
      "programming    0.551\n",
      "language       0.551\n",
      "python         0.402\n",
      "java           0.402\n",
      "popular        0.241\n",
      "excellent      0.235\n",
      "ruby           0.235\n",
      "program        0.090\n",
      "small          0.029\n",
      "dtype: float64\n",
      "\n",
      "Topic 2:\n",
      "dog        0.573\n",
      "fox        0.573\n",
      "jump       0.346\n",
      "smarter    0.255\n",
      "cat        0.255\n",
      "slow       0.132\n",
      "lazy       0.132\n",
      "quick      0.132\n",
      "clever     0.132\n",
      "dtype: float64\n",
      "\n"
     ]
    }
   ],
   "source": [
    "print_topics(weights, feature_names, num_terms=10)"
   ]
  },
  {
   "cell_type": "markdown",
   "metadata": {},
   "source": [
    "### Extracting Topics from Product Reviews"
   ]
  },
  {
   "cell_type": "code",
   "execution_count": 100,
   "metadata": {
    "collapsed": true
   },
   "outputs": [],
   "source": [
    "data = pd.read_csv('amazon_skyrim_reviews.csv')"
   ]
  },
  {
   "cell_type": "code",
   "execution_count": 101,
   "metadata": {
    "collapsed": false
   },
   "outputs": [
    {
     "data": {
      "text/html": [
       "<div>\n",
       "<style>\n",
       "    .dataframe thead tr:only-child th {\n",
       "        text-align: right;\n",
       "    }\n",
       "\n",
       "    .dataframe thead th {\n",
       "        text-align: left;\n",
       "    }\n",
       "\n",
       "    .dataframe tbody tr th {\n",
       "        vertical-align: top;\n",
       "    }\n",
       "</style>\n",
       "<table border=\"1\" class=\"dataframe\">\n",
       "  <thead>\n",
       "    <tr style=\"text-align: right;\">\n",
       "      <th></th>\n",
       "      <th>Reviews</th>\n",
       "    </tr>\n",
       "  </thead>\n",
       "  <tbody>\n",
       "    <tr>\n",
       "      <th>0</th>\n",
       "      <td>After playing this game over 100 hours in less...</td>\n",
       "    </tr>\n",
       "    <tr>\n",
       "      <th>1</th>\n",
       "      <td>a great ARPG, the improvements on the mechanic...</td>\n",
       "    </tr>\n",
       "    <tr>\n",
       "      <th>2</th>\n",
       "      <td>A little buggy but such an amazing game it doe...</td>\n",
       "    </tr>\n",
       "    <tr>\n",
       "      <th>3</th>\n",
       "      <td>Amazing game, cool graphics, cool gameplay, co...</td>\n",
       "    </tr>\n",
       "    <tr>\n",
       "      <th>4</th>\n",
       "      <td>Bethesda adds here what it left out, or what w...</td>\n",
       "    </tr>\n",
       "  </tbody>\n",
       "</table>\n",
       "</div>"
      ],
      "text/plain": [
       "                                             Reviews\n",
       "0  After playing this game over 100 hours in less...\n",
       "1  a great ARPG, the improvements on the mechanic...\n",
       "2  A little buggy but such an amazing game it doe...\n",
       "3  Amazing game, cool graphics, cool gameplay, co...\n",
       "4  Bethesda adds here what it left out, or what w..."
      ]
     },
     "execution_count": 101,
     "metadata": {},
     "output_type": "execute_result"
    }
   ],
   "source": [
    "data.head()"
   ]
  },
  {
   "cell_type": "code",
   "execution_count": 102,
   "metadata": {
    "collapsed": false
   },
   "outputs": [
    {
     "data": {
      "text/plain": [
       "(312, 1)"
      ]
     },
     "execution_count": 102,
     "metadata": {},
     "output_type": "execute_result"
    }
   ],
   "source": [
    "data.shape"
   ]
  },
  {
   "cell_type": "code",
   "execution_count": 105,
   "metadata": {
    "collapsed": true
   },
   "outputs": [],
   "source": [
    "corpus = data['Reviews'].values\n",
    "\n",
    "total_topics = 5"
   ]
  },
  {
   "cell_type": "code",
   "execution_count": 104,
   "metadata": {
    "collapsed": false
   },
   "outputs": [
    {
     "name": "stdout",
     "output_type": "stream",
     "text": [
      "I base the value of a game on the amount of enjoyable gameplay I can get out of it and this one was definitely worth the price!\n"
     ]
    }
   ],
   "source": [
    "print(corpus[12])"
   ]
  },
  {
   "cell_type": "code",
   "execution_count": 106,
   "metadata": {
    "collapsed": true
   },
   "outputs": [],
   "source": [
    "# Latent Semantic Indexing\n",
    "lsi_gensim = train_lsi_model_gensim(corpus, n_topics=total_topics)"
   ]
  },
  {
   "cell_type": "code",
   "execution_count": 107,
   "metadata": {
    "collapsed": false
   },
   "outputs": [
    {
     "name": "stdout",
     "output_type": "stream",
     "text": [
      "Topic 0:\n",
      "['skyrim', 'like', 'one', 'play', 'quest', 'go', 'get', 'time', 'oblivion', 'good']\n",
      "\n",
      "Topic 1:\n",
      "['recommend', 'love', 'great', 'ever', 'best', 'buy', 'highly', 'elder', 'scroll', 'level']\n",
      "\n",
      "Topic 2:\n",
      "['recommend', 'fun', 'highly', 'love', 'ever', 'wonderful', 'best', 'series', 'definitely', 'scroll']\n",
      "\n",
      "Topic 3:\n",
      "['fun', 'recommend', 'scroll', 'elder', 'highly', 'ever', 'wonderful', 'graphic', 'best', 'cool']\n",
      "\n",
      "Topic 4:\n",
      "['fun', 'love', 'scroll', 'elder', 'highly', 'series', 'hour', 'recommend', 'always', 'ive']\n",
      "\n"
     ]
    }
   ],
   "source": [
    "print_topic_gensim(lsi_gensim, total_topic=total_topics, num_terms=10)"
   ]
  },
  {
   "cell_type": "code",
   "execution_count": 108,
   "metadata": {
    "collapsed": true
   },
   "outputs": [],
   "source": [
    "# LDA gensim\n",
    "lda_gensim = train_lda_model_gensim(corpus, total_topics=total_topics)"
   ]
  },
  {
   "cell_type": "code",
   "execution_count": 109,
   "metadata": {
    "collapsed": false
   },
   "outputs": [
    {
     "name": "stdout",
     "output_type": "stream",
     "text": [
      "Topic 0:\n",
      "['skyrim', 'fun', 'one', 'great', 'like', 'play', 'go', 'buy', 'ever', 'glitch']\n",
      "\n",
      "Topic 1:\n",
      "['skyrim', 'quest', 'get', 'never', 'think', 'big', 'character', 'play', 'make', 'world']\n",
      "\n",
      "Topic 2:\n",
      "['play', 'love', 'get', 'quest', 'hour', 'oblivion', 'graphic', 'one', 'time', 'system']\n",
      "\n",
      "Topic 3:\n",
      "['recommend', 'love', 'like', 'fun', 'good', 'even', 'really', 'great', 'scroll', 'elder']\n",
      "\n",
      "Topic 4:\n",
      "['scroll', 'elder', 'oblivion', 'one', 'play', 'best', 'much', 'ever', 'love', 'go']\n",
      "\n"
     ]
    }
   ],
   "source": [
    "print_topic_gensim(lda_gensim, total_topic=total_topics, num_terms=10)"
   ]
  },
  {
   "cell_type": "code",
   "execution_count": 110,
   "metadata": {
    "collapsed": false
   },
   "outputs": [
    {
     "data": {
      "text/plain": [
       "LatentDirichletAllocation(batch_size=128, doc_topic_prior=None,\n",
       "             evaluate_every=-1, learning_decay=0.7,\n",
       "             learning_method='online', learning_offset=50,\n",
       "             max_doc_update_iter=100, max_iter=100, mean_change_tol=0.001,\n",
       "             n_components=5, n_jobs=1, n_topics=None, perp_tol=0.1,\n",
       "             random_state=None, topic_word_prior=None,\n",
       "             total_samples=1000000.0, verbose=0)"
      ]
     },
     "execution_count": 110,
     "metadata": {},
     "output_type": "execute_result"
    }
   ],
   "source": [
    "# LDA sklearn\n",
    "norm_corpus = normalize_corpus(corpus)\n",
    "vectorizer, tfidf_matrix = build_tfidf_matrix(norm_corpus)\n",
    "\n",
    "lda_sk = LatentDirichletAllocation(n_components=total_topics, \n",
    "                                   learning_method='online', learning_offset=50, max_iter=100)\n",
    "\n",
    "lda_sk.fit(tfidf_matrix)"
   ]
  },
  {
   "cell_type": "code",
   "execution_count": 112,
   "metadata": {
    "collapsed": false
   },
   "outputs": [
    {
     "name": "stdout",
     "output_type": "stream",
     "text": [
      "Topic 1:\n",
      "de                 0.571\n",
      "crédito            0.398\n",
      "skyrimseguridad    0.398\n",
      "tarjeta            0.398\n",
      "compras            0.398\n",
      "recomiendo         0.398\n",
      "momento            0.398\n",
      "responsabilidad    0.398\n",
      "futuras            0.398\n",
      "para               0.398\n",
      "dtype: float64\n",
      "\n",
      "Topic 2:\n",
      "love          0.2\n",
      "fun           0.2\n",
      "booklet       0.2\n",
      "unrivaled     0.2\n",
      "definetley    0.2\n",
      "factory       0.2\n",
      "get           0.2\n",
      "staple        0.2\n",
      "whereas       0.2\n",
      "romp          0.2\n",
      "dtype: float64\n",
      "\n",
      "Topic 3:\n",
      "game       0.2\n",
      "play       0.2\n",
      "make       0.2\n",
      "skyrim     0.2\n",
      "great      0.2\n",
      "like       0.2\n",
      "hour       0.2\n",
      "one        0.2\n",
      "ever       0.2\n",
      "graphic    0.2\n",
      "dtype: float64\n",
      "\n",
      "Topic 4:\n",
      "game      38.348\n",
      "play      17.936\n",
      "get       13.440\n",
      "one       12.051\n",
      "skyrim    11.828\n",
      "great     11.377\n",
      "like      11.373\n",
      "time      11.040\n",
      "much      10.121\n",
      "go        10.116\n",
      "dtype: float64\n",
      "\n",
      "Topic 5:\n",
      "meadwaistlength            0.453\n",
      "peoplemudcrabsgreat        0.453\n",
      "musicdrinking              0.453\n",
      "nuff                       0.453\n",
      "wolfhoundsgiant            0.453\n",
      "helmetssnowy               0.453\n",
      "mountainsshouting          0.453\n",
      "beardsirish                0.453\n",
      "dragonsswordsaxespointy    0.453\n",
      "castle                     0.424\n",
      "dtype: float64\n",
      "\n"
     ]
    }
   ],
   "source": [
    "feature_names = vectorizer.get_feature_names()\n",
    "weights = lda_sk.components_\n",
    "\n",
    "print_topics(weights, feature_names, num_terms=10)"
   ]
  },
  {
   "cell_type": "code",
   "execution_count": 113,
   "metadata": {
    "collapsed": false
   },
   "outputs": [
    {
     "data": {
      "text/plain": [
       "NMF(alpha=0.1, beta_loss='frobenius', init='random', l1_ratio=0.5,\n",
       "  max_iter=200, n_components=5, random_state=42, shuffle=False,\n",
       "  solver='cd', tol=0.0001, verbose=0)"
      ]
     },
     "execution_count": 113,
     "metadata": {},
     "output_type": "execute_result"
    }
   ],
   "source": [
    "# NNF\n",
    "nmf = NMF(n_components=total_topics, init='random', \n",
    "          random_state=42, alpha=.1, l1_ratio=.5)\n",
    "\n",
    "nmf.fit(tfidf_matrix)"
   ]
  },
  {
   "cell_type": "code",
   "execution_count": 114,
   "metadata": {
    "collapsed": false
   },
   "outputs": [
    {
     "name": "stdout",
     "output_type": "stream",
     "text": [
      "Topic 1:\n",
      "game      0.756\n",
      "get       0.365\n",
      "skyrim    0.348\n",
      "play      0.326\n",
      "time      0.323\n",
      "like      0.318\n",
      "quest     0.303\n",
      "one       0.271\n",
      "go        0.267\n",
      "much      0.250\n",
      "dtype: float64\n",
      "\n",
      "Topic 2:\n",
      "game         0.685\n",
      "recommend    0.672\n",
      "love         0.653\n",
      "great        0.456\n",
      "highly       0.417\n",
      "play         0.276\n",
      "wonderful    0.265\n",
      "like         0.220\n",
      "would        0.153\n",
      "graphic      0.148\n",
      "dtype: float64\n",
      "\n",
      "Topic 3:\n",
      "scroll       0.731\n",
      "elder        0.721\n",
      "series       0.286\n",
      "always       0.280\n",
      "love         0.234\n",
      "pass         0.227\n",
      "buy          0.141\n",
      "far          0.140\n",
      "franchise    0.122\n",
      "every        0.121\n",
      "dtype: float64\n",
      "\n",
      "Topic 4:\n",
      "fun            1.335\n",
      "game           0.488\n",
      "much           0.194\n",
      "graphic        0.110\n",
      "improvement    0.094\n",
      "mission        0.079\n",
      "expect         0.069\n",
      "couple         0.063\n",
      "though         0.062\n",
      "favorite       0.058\n",
      "dtype: float64\n",
      "\n",
      "Topic 5:\n",
      "ever          0.759\n",
      "best          0.693\n",
      "game          0.605\n",
      "play          0.555\n",
      "one           0.240\n",
      "rpg           0.231\n",
      "great         0.222\n",
      "definitely    0.186\n",
      "hour          0.178\n",
      "ive           0.151\n",
      "dtype: float64\n",
      "\n"
     ]
    }
   ],
   "source": [
    "print_topics(nmf.components_, feature_names, num_terms=10)"
   ]
  },
  {
   "cell_type": "markdown",
   "metadata": {},
   "source": [
    "### Automated Document Summarization"
   ]
  },
  {
   "cell_type": "code",
   "execution_count": 115,
   "metadata": {
    "collapsed": false
   },
   "outputs": [
    {
     "data": {
      "text/plain": [
       "\"\\nElephants are large mammals of the family Elephantidae \\nand the order Proboscidea. Two species are traditionally recognised, \\nthe African elephant and the Asian elephant. Elephants are scattered \\nthroughout sub-Saharan Africa, South Asia, and Southeast Asia. Male \\nAfrican elephants are the largest extant terrestrial animals. All \\nelephants have a long trunk used for many purposes, \\nparticularly breathing, lifting water and grasping objects. Their \\nincisors grow into tusks, which can serve as weapons and as tools \\nfor moving objects and digging. Elephants' large ear flaps help \\nto control their body temperature. Their pillar-like legs can \\ncarry their great weight. African elephants have larger ears \\nand concave backs while Asian elephants have smaller ears \\nand convex or level backs.  \\n\""
      ]
     },
     "execution_count": 115,
     "metadata": {},
     "output_type": "execute_result"
    }
   ],
   "source": [
    "toy_text"
   ]
  },
  {
   "cell_type": "code",
   "execution_count": 117,
   "metadata": {
    "collapsed": true
   },
   "outputs": [],
   "source": [
    "from gensim.summarization import summarize, keywords\n",
    "\n",
    "\n",
    "def text_summarization_gensim(text, summary_ratio=0.5):\n",
    "    '''summarize the given text to a fraction of its original size'''\n",
    "    summary = summarize(text, ratio=summary_ratio, split=True)\n",
    "    for sentence in summary:\n",
    "        print(sentence)"
   ]
  },
  {
   "cell_type": "code",
   "execution_count": 120,
   "metadata": {
    "collapsed": false
   },
   "outputs": [],
   "source": [
    "text = \" \".join(parse_document(toy_text))"
   ]
  },
  {
   "cell_type": "code",
   "execution_count": 122,
   "metadata": {
    "collapsed": false
   },
   "outputs": [
    {
     "name": "stdout",
     "output_type": "stream",
     "text": [
      "Two species are traditionally recognised,  the African elephant and the Asian elephant.\n",
      "All  elephants have a long trunk used for many purposes,  particularly breathing, lifting water and grasping objects.\n",
      "African elephants have larger ears  and concave backs while Asian elephants have smaller ears  and convex or level backs.\n"
     ]
    }
   ],
   "source": [
    "text_summarization_gensim(text, summary_ratio=.4)"
   ]
  },
  {
   "cell_type": "code",
   "execution_count": 123,
   "metadata": {
    "collapsed": true
   },
   "outputs": [],
   "source": [
    "sentences = parse_document(toy_text)\n",
    "norm_sentences = normalize_corpus(sentences, lemmatize=True, tokenize=False)"
   ]
  },
  {
   "cell_type": "code",
   "execution_count": 125,
   "metadata": {
    "collapsed": false
   },
   "outputs": [
    {
     "name": "stdout",
     "output_type": "stream",
     "text": [
      "9\n"
     ]
    }
   ],
   "source": [
    "print(len(norm_sentences))"
   ]
  },
  {
   "cell_type": "markdown",
   "metadata": {},
   "source": [
    "### Latent Semantic Analysis"
   ]
  },
  {
   "cell_type": "code",
   "execution_count": 126,
   "metadata": {
    "collapsed": true
   },
   "outputs": [],
   "source": [
    "from sklearn.feature_extraction.text import CountVectorizer"
   ]
  },
  {
   "cell_type": "code",
   "execution_count": 136,
   "metadata": {
    "collapsed": true
   },
   "outputs": [],
   "source": [
    "n_topic, n_sentence = 3, 3"
   ]
  },
  {
   "cell_type": "code",
   "execution_count": 127,
   "metadata": {
    "collapsed": true
   },
   "outputs": [],
   "source": [
    "bow = CountVectorizer(min_df=1, ngram_range=(1, 1))"
   ]
  },
  {
   "cell_type": "code",
   "execution_count": 173,
   "metadata": {
    "collapsed": false
   },
   "outputs": [],
   "source": [
    "sentences = np.array(parse_document(toy_text))"
   ]
  },
  {
   "cell_type": "code",
   "execution_count": 174,
   "metadata": {
    "collapsed": true
   },
   "outputs": [],
   "source": [
    "# term-sentence matrix\n",
    "bow_matrix = bow.fit_transform(sentences).transpose()"
   ]
  },
  {
   "cell_type": "code",
   "execution_count": 175,
   "metadata": {
    "collapsed": false
   },
   "outputs": [],
   "source": [
    "bow_matrix = bow_matrix.multiply(bow_matrix > 0).asfptype()"
   ]
  },
  {
   "cell_type": "code",
   "execution_count": 176,
   "metadata": {
    "collapsed": false
   },
   "outputs": [],
   "source": [
    "u, s, vt = low_rank_svd(bow_matrix, singular_count=n_topic)"
   ]
  },
  {
   "cell_type": "code",
   "execution_count": 177,
   "metadata": {
    "collapsed": false
   },
   "outputs": [],
   "source": [
    "s[s < 0.5] = 0"
   ]
  },
  {
   "cell_type": "code",
   "execution_count": 178,
   "metadata": {
    "collapsed": false
   },
   "outputs": [],
   "source": [
    "salience_scores = np.sqrt(np.dot(np.square(s), np.square(vt)))"
   ]
  },
  {
   "cell_type": "code",
   "execution_count": 179,
   "metadata": {
    "collapsed": false
   },
   "outputs": [],
   "source": [
    "idx = np.argsort(salience_scores)[::-1][:n_sentence]"
   ]
  },
  {
   "cell_type": "code",
   "execution_count": 180,
   "metadata": {
    "collapsed": false
   },
   "outputs": [
    {
     "data": {
      "text/plain": [
       "array([ 'African elephants have larger ears  and concave backs while Asian elephants have smaller ears  and convex or level backs.',\n",
       "       'Their  incisors grow into tusks, which can serve as weapons and as tools  for moving objects and digging.',\n",
       "       'Two species are traditionally recognised,  the African elephant and the Asian elephant.'],\n",
       "      dtype='<U121')"
      ]
     },
     "execution_count": 180,
     "metadata": {},
     "output_type": "execute_result"
    }
   ],
   "source": [
    "sentences[idx]"
   ]
  },
  {
   "cell_type": "code",
   "execution_count": 226,
   "metadata": {
    "collapsed": true
   },
   "outputs": [],
   "source": [
    "def lsa_text_summarizer(norm_sentences, num_sentences=3, \n",
    "                        num_topic=5, sv_threshold=0.5):\n",
    "    vec, dt_matrix = build_feature_matrix(norm_sentences)\n",
    "    td_matrix = dt_matrix.transpose()\n",
    "    td_matrix = td_matrix.multiply(td_matrix > 0)\n",
    "    \n",
    "    u, s, vt = low_rank_svd(td_matrix, singular_count=num_topic)\n",
    "    s[s < sv_threshold*max(s)] = 0\n",
    "    \n",
    "    ss = np.sqrt(np.dot(np.square(s), np.square(vt)))\n",
    "    idx = np.argsort(ss)[::-1][:num_sentences]\n",
    "    \n",
    "    for i in idx:\n",
    "        print(norm_sentences[i])\n",
    "        print()"
   ]
  },
  {
   "cell_type": "markdown",
   "metadata": {},
   "source": [
    "### TextRank"
   ]
  },
  {
   "cell_type": "code",
   "execution_count": 181,
   "metadata": {
    "collapsed": true
   },
   "outputs": [],
   "source": [
    "import networkx"
   ]
  },
  {
   "cell_type": "code",
   "execution_count": 183,
   "metadata": {
    "collapsed": false
   },
   "outputs": [],
   "source": [
    "n_sentences = 3\n",
    "\n",
    "vec, dt_matrix = build_tfidf_matrix(norm_sentences)"
   ]
  },
  {
   "cell_type": "code",
   "execution_count": 185,
   "metadata": {
    "collapsed": false
   },
   "outputs": [
    {
     "data": {
      "text/plain": [
       "(9, 59)"
      ]
     },
     "execution_count": 185,
     "metadata": {},
     "output_type": "execute_result"
    }
   ],
   "source": [
    "dt_matrix.shape"
   ]
  },
  {
   "cell_type": "code",
   "execution_count": 186,
   "metadata": {
    "collapsed": false
   },
   "outputs": [
    {
     "data": {
      "text/plain": [
       "(9, 9)"
      ]
     },
     "execution_count": 186,
     "metadata": {},
     "output_type": "execute_result"
    }
   ],
   "source": [
    "similarity_matrix = dt_matrix * dt_matrix.T\n",
    "similarity_matrix.shape"
   ]
  },
  {
   "cell_type": "code",
   "execution_count": 189,
   "metadata": {
    "collapsed": false
   },
   "outputs": [
    {
     "data": {
      "text/plain": [
       "array([[ 1.  ,  0.07,  0.03,  0.12,  0.03,  0.  ,  0.11,  0.  ,  0.1 ],\n",
       "       [ 0.07,  1.  ,  0.06,  0.17,  0.05,  0.  ,  0.07,  0.  ,  0.24],\n",
       "       [ 0.03,  0.06,  1.  ,  0.03,  0.02,  0.  ,  0.03,  0.  ,  0.04],\n",
       "       [ 0.12,  0.17,  0.03,  1.  ,  0.03,  0.  ,  0.11,  0.  ,  0.17],\n",
       "       [ 0.03,  0.05,  0.02,  0.03,  1.  ,  0.07,  0.03,  0.  ,  0.04],\n",
       "       [ 0.  ,  0.  ,  0.  ,  0.  ,  0.07,  1.  ,  0.  ,  0.  ,  0.  ],\n",
       "       [ 0.11,  0.07,  0.03,  0.11,  0.03,  0.  ,  1.  ,  0.  ,  0.25],\n",
       "       [ 0.  ,  0.  ,  0.  ,  0.  ,  0.  ,  0.  ,  0.  ,  1.  ,  0.  ],\n",
       "       [ 0.1 ,  0.24,  0.04,  0.17,  0.04,  0.  ,  0.25,  0.  ,  1.  ]])"
      ]
     },
     "execution_count": 189,
     "metadata": {},
     "output_type": "execute_result"
    }
   ],
   "source": [
    "np.round(similarity_matrix.todense(), 2)"
   ]
  },
  {
   "cell_type": "code",
   "execution_count": 191,
   "metadata": {
    "collapsed": false
   },
   "outputs": [],
   "source": [
    "similarity_graph = networkx.from_scipy_sparse_matrix(similarity_matrix)"
   ]
  },
  {
   "cell_type": "code",
   "execution_count": 196,
   "metadata": {
    "collapsed": false
   },
   "outputs": [
    {
     "data": {
      "image/png": "[encoded data removed]",
      "text/plain": [
       "<matplotlib.figure.Figure at 0x7f45236aec18>"
      ]
     },
     "metadata": {},
     "output_type": "display_data"
    }
   ],
   "source": [
    "networkx.draw_networkx(similarity_graph)"
   ]
  },
  {
   "cell_type": "code",
   "execution_count": 197,
   "metadata": {
    "collapsed": true
   },
   "outputs": [],
   "source": [
    "scores = networkx.pagerank(similarity_graph)"
   ]
  },
  {
   "cell_type": "code",
   "execution_count": 199,
   "metadata": {
    "collapsed": false
   },
   "outputs": [
    {
     "data": {
      "text/plain": [
       "[(8, 0.12601516066915536), (1, 0.1176994845473083), (3, 0.11551107983088753)]"
      ]
     },
     "execution_count": 199,
     "metadata": {},
     "output_type": "execute_result"
    }
   ],
   "source": [
    "sorted(scores.items(), key=lambda x: x[1], reverse=True)[:3]"
   ]
  },
  {
   "cell_type": "code",
   "execution_count": 201,
   "metadata": {
    "collapsed": false
   },
   "outputs": [
    {
     "data": {
      "text/plain": [
       "array([ 'african elephant large ear concave back asian elephant small ear convex level back',\n",
       "       'two specie traditionally recognise african elephant asian elephant',\n",
       "       'male african elephant large extant terrestrial animal'],\n",
       "      dtype='<U86')"
      ]
     },
     "execution_count": 201,
     "metadata": {},
     "output_type": "execute_result"
    }
   ],
   "source": [
    "np.array(norm_sentences)[[8, 1, 3]]"
   ]
  },
  {
   "cell_type": "code",
   "execution_count": 211,
   "metadata": {
    "collapsed": true
   },
   "outputs": [],
   "source": [
    "def textrank_text_summarizer(documents, num_sentences=2):\n",
    "    \n",
    "    documents = parse_document(documents)\n",
    "    norm_doc = normalize_corpus(documents, lemmatize=True)\n",
    "    vec, tfidf_matrix = build_tfidf_matrix(norm_doc)\n",
    "    sim_matrix = tfidf_matrix * tfidf_matrix.T\n",
    "    \n",
    "    sim_graph = networkx.from_scipy_sparse_matrix(sim_matrix)\n",
    "    scores = networkx.pagerank(sim_graph)\n",
    "    \n",
    "    ranked_scores = sorted(scores.items(), key=lambda x:x[1], reverse=True)\n",
    "    \n",
    "    for i in range(num_sentences):\n",
    "        print(i, ':', documents[ranked_scores[i][0]])\n",
    "        print()"
   ]
  },
  {
   "cell_type": "code",
   "execution_count": 212,
   "metadata": {
    "collapsed": false
   },
   "outputs": [
    {
     "name": "stdout",
     "output_type": "stream",
     "text": [
      "0 : African elephants have larger ears  and concave backs while Asian elephants have smaller ears  and convex or level backs.\n",
      "\n",
      "1 : Two species are traditionally recognised,  the African elephant and the Asian elephant.\n",
      "\n",
      "2 : Male  African elephants are the largest extant terrestrial animals.\n",
      "\n"
     ]
    }
   ],
   "source": [
    "textrank_text_summarizer(toy_text, num_sentences=3)"
   ]
  },
  {
   "cell_type": "markdown",
   "metadata": {},
   "source": [
    "### Summarizing a Product Description"
   ]
  },
  {
   "cell_type": "code",
   "execution_count": 213,
   "metadata": {
    "collapsed": true
   },
   "outputs": [],
   "source": [
    "DOCUMENT = \"\"\"\n",
    "The Elder Scrolls V: Skyrim is an open world action role-playing video game \n",
    "developed by Bethesda Game Studios and published by Bethesda Softworks. \n",
    "It is the fifth installment in The Elder Scrolls series, following \n",
    "The Elder Scrolls IV: Oblivion. Skyrim's main story revolves around \n",
    "the player character and their effort to defeat Alduin the World-Eater, \n",
    "a dragon who is prophesied to destroy the world. \n",
    "The game is set two hundred years after the events of Oblivion \n",
    "and takes place in the fictional province of Skyrim. The player completes quests \n",
    "and develops the character by improving skills. \n",
    "Skyrim continues the open world tradition of its predecessors by allowing the \n",
    "player to travel anywhere in the game world at any time, and to \n",
    "ignore or postpone the main storyline indefinitely. The player may freely roam \n",
    "over the land of Skyrim, which is an open world environment consisting \n",
    "of wilderness expanses, dungeons, cities, towns, fortresses and villages. \n",
    "Players may navigate the game world more quickly by riding horses, \n",
    "or by utilizing a fast-travel system which allows them to warp to previously \n",
    "Players have the option to develop their character. At the beginning of the game, \n",
    "players create their character by selecting one of several races, \n",
    "including humans, orcs, elves and anthropomorphic cat or lizard-like creatures, \n",
    "and then customizing their character's appearance.discovered locations. Over the \n",
    "course of the game, players improve their character's skills, which are numerical \n",
    "representations of their ability in certain areas. There are eighteen skills \n",
    "divided evenly among the three schools of combat, magic, and stealth. \n",
    "Skyrim is the first entry in The Elder Scrolls to include Dragons in the game's \n",
    "wilderness. Like other creatures, Dragons are generated randomly in the world \n",
    "and will engage in combat. \n",
    "\"\"\"\n"
   ]
  },
  {
   "cell_type": "code",
   "execution_count": 214,
   "metadata": {
    "collapsed": true
   },
   "outputs": [],
   "source": [
    "sentences = parse_document(DOCUMENT)\n",
    "norm_sentences = normalize_corpus(sentences, lemmatize=True)"
   ]
  },
  {
   "cell_type": "code",
   "execution_count": 215,
   "metadata": {
    "collapsed": false
   },
   "outputs": [
    {
     "data": {
      "text/plain": [
       "['The Elder Scrolls V: Skyrim is an open world action role-playing video game  developed by Bethesda Game Studios and published by Bethesda Softworks.',\n",
       " 'It is the fifth installment in The Elder Scrolls series, following  The Elder Scrolls IV: Oblivion.',\n",
       " \"Skyrim's main story revolves around  the player character and their effort to defeat Alduin the World-Eater,  a dragon who is prophesied to destroy the world.\",\n",
       " 'The game is set two hundred years after the events of Oblivion  and takes place in the fictional province of Skyrim.',\n",
       " 'The player completes quests  and develops the character by improving skills.',\n",
       " 'Skyrim continues the open world tradition of its predecessors by allowing the  player to travel anywhere in the game world at any time, and to  ignore or postpone the main storyline indefinitely.',\n",
       " 'The player may freely roam  over the land of Skyrim, which is an open world environment consisting  of wilderness expanses, dungeons, cities, towns, fortresses and villages.',\n",
       " 'Players may navigate the game world more quickly by riding horses,  or by utilizing a fast-travel system which allows them to warp to previously  Players have the option to develop their character.',\n",
       " \"At the beginning of the game,  players create their character by selecting one of several races,  including humans, orcs, elves and anthropomorphic cat or lizard-like creatures,  and then customizing their character's appearance.discovered locations.\",\n",
       " \"Over the  course of the game, players improve their character's skills, which are numerical  representations of their ability in certain areas.\",\n",
       " 'There are eighteen skills  divided evenly among the three schools of combat, magic, and stealth.',\n",
       " \"Skyrim is the first entry in The Elder Scrolls to include Dragons in the game's  wilderness.\",\n",
       " 'Like other creatures, Dragons are generated randomly in the world  and will engage in combat.']"
      ]
     },
     "execution_count": 215,
     "metadata": {},
     "output_type": "execute_result"
    }
   ],
   "source": [
    "# LSA document summarization\n"
   ]
  },
  {
   "cell_type": "code",
   "execution_count": 227,
   "metadata": {
    "collapsed": false
   },
   "outputs": [
    {
     "name": "stdout",
     "output_type": "stream",
     "text": [
      "beginning game player create character select one several race include human orcs elf anthropomorphic cat lizardlike creature customize character appearancediscovered location\n",
      "\n",
      "player may navigate game world quickly rid horse utilize fasttravel system allow warp previously player option develop character\n",
      "\n",
      "skyrim continue open world tradition predecessor allow player travel anywhere game world time ignore postpone main storyline indefinitely\n",
      "\n"
     ]
    }
   ],
   "source": [
    "lsa_text_summarizer(norm_sentences, num_sentences=3, num_topic=5)"
   ]
  },
  {
   "cell_type": "code",
   "execution_count": 219,
   "metadata": {
    "collapsed": false
   },
   "outputs": [
    {
     "name": "stdout",
     "output_type": "stream",
     "text": [
      "0 : Skyrim is the first entry in The Elder Scrolls to include Dragons in the game's  wilderness.\n",
      "\n",
      "1 : The Elder Scrolls V: Skyrim is an open world action role-playing video game  developed by Bethesda Game Studios and published by Bethesda Softworks.\n",
      "\n",
      "2 : The player completes quests  and develops the character by improving skills.\n",
      "\n"
     ]
    }
   ],
   "source": [
    "textrank_text_summarizer(DOCUMENT, num_sentences=3)"
   ]
  },
  {
   "cell_type": "code",
   "execution_count": 224,
   "metadata": {
    "collapsed": false
   },
   "outputs": [
    {
     "data": {
      "text/plain": [
       "array([8, 5, 1])"
      ]
     },
     "execution_count": 224,
     "metadata": {},
     "output_type": "execute_result"
    }
   ],
   "source": [
    "np.argsort(salience_scores)[::-1][:3]"
   ]
  },
  {
   "cell_type": "code",
   "execution_count": null,
   "metadata": {
    "collapsed": true
   },
   "outputs": [],
   "source": []
  }
 ],
 "metadata": {
  "kernelspec": {
   "display_name": "Python [conda env:py35]",
   "language": "python",
   "name": "conda-env-py35-py"
  },
  "language_info": {
   "codemirror_mode": {
    "name": "ipython",
    "version": 3
   },
   "file_extension": ".py",
   "mimetype": "text/x-python",
   "name": "python",
   "nbconvert_exporter": "python",
   "pygments_lexer": "ipython3",
   "version": "3.5.4"
  }
 },
 "nbformat": 4,
 "nbformat_minor": 2
}
