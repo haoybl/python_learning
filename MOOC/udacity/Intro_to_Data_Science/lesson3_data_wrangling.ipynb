{
 "cells": [
  {
   "cell_type": "code",
   "execution_count": 1,
   "metadata": {
    "collapsed": false
   },
   "outputs": [],
   "source": [
    "import pandas"
   ]
  },
  {
   "cell_type": "code",
   "execution_count": 2,
   "metadata": {
    "collapsed": false
   },
   "outputs": [],
   "source": [
    "import pandas\n",
    "import pandasql\n",
    "\n",
    "def aggregate_query(filename):\n",
    "    # Read in our aadhaar_data csv to a pandas dataframe.  Afterwards, we rename the columns\n",
    "    # by replacing spaces with underscores and setting all characters to lowercase, so the\n",
    "    # column names more closely resemble columns names one might find in a table.\n",
    "    \n",
    "    aadhaar_data = pandas.read_csv(filename)\n",
    "    aadhaar_data.rename(columns = lambda x: x.replace(' ', '_').lower(), inplace=True)\n",
    "\n",
    "    # Write a query that will select from the aadhaar_data table how many men and how \n",
    "    # many women over the age of 50 have had aadhaar generated for them in each district.\n",
    "    # aadhaar_generated is a column in the Aadhaar Data that denotes the number who have had\n",
    "    # aadhaar generated in each row of the table.\n",
    "    #\n",
    "    # Note that in this quiz, the SQL query keywords are case sensitive. \n",
    "    # For example, if you want to do a sum make sure you type 'sum' rather than 'SUM'.\n",
    "    #\n",
    "\n",
    "    # The possible columns to select from aadhaar data are:\n",
    "    #     1) registrar\n",
    "    #     2) enrolment_agency\n",
    "    #     3) state\n",
    "    #     4) district\n",
    "    #     5) sub_district\n",
    "    #     6) pin_code\n",
    "    #     7) gender\n",
    "    #     8) age\n",
    "    #     9) aadhaar_generated\n",
    "    #     10) enrolment_rejected\n",
    "    #     11) residents_providing_email,\n",
    "    #     12) residents_providing_mobile_number\n",
    "    #\n",
    "    # You can download a copy of the aadhaar data that we are passing \n",
    "    # into this exercise below:\n",
    "    # https://s3.amazonaws.com/content.udacity-data.com/courses/ud359/aadhaar_data.csv\n",
    "        \n",
    "    q = \"\"\"\n",
    "    SELECT \n",
    "    gender, district, SUM(aadhaar_generated)\n",
    "    FROM\n",
    "    aadhaar_data\n",
    "    WHERE\n",
    "    age > 50\n",
    "    GROUP BY\n",
    "    gender, district;\n",
    "    \"\"\"\n",
    "\n",
    "    # Execute your SQL command against the pandas frame\n",
    "    aadhaar_solution = pandasql.sqldf(q.lower(), locals())\n",
    "    return aadhaar_solution    "
   ]
  },
  {
   "cell_type": "code",
   "execution_count": 3,
   "metadata": {
    "collapsed": true
   },
   "outputs": [],
   "source": [
    "url = 'https://s3.amazonaws.com/content.udacity-data.com/courses/ud359/aadhaar_data.csv'"
   ]
  },
  {
   "cell_type": "code",
   "execution_count": 4,
   "metadata": {
    "collapsed": true
   },
   "outputs": [],
   "source": [
    "df = pandas.read_csv(url)"
   ]
  },
  {
   "cell_type": "code",
   "execution_count": 4,
   "metadata": {
    "collapsed": false
   },
   "outputs": [
    {
     "data": {
      "text/plain": [
       "(119998, 12)"
      ]
     },
     "execution_count": 4,
     "metadata": {},
     "output_type": "execute_result"
    }
   ],
   "source": [
    "df.shape"
   ]
  },
  {
   "cell_type": "code",
   "execution_count": 5,
   "metadata": {
    "collapsed": false
   },
   "outputs": [
    {
     "data": {
      "text/html": [
       "<div>\n",
       "<table border=\"1\" class=\"dataframe\">\n",
       "  <thead>\n",
       "    <tr style=\"text-align: right;\">\n",
       "      <th></th>\n",
       "      <th>Registrar</th>\n",
       "      <th>Enrolment Agency</th>\n",
       "      <th>State</th>\n",
       "      <th>District</th>\n",
       "      <th>Sub District</th>\n",
       "      <th>Pin Code</th>\n",
       "      <th>Gender</th>\n",
       "      <th>Age</th>\n",
       "      <th>Aadhaar generated</th>\n",
       "      <th>Enrolment Rejected</th>\n",
       "      <th>Residents providing email</th>\n",
       "      <th>Residents providing mobile number</th>\n",
       "    </tr>\n",
       "  </thead>\n",
       "  <tbody>\n",
       "    <tr>\n",
       "      <th>0</th>\n",
       "      <td>Allahabad Bank</td>\n",
       "      <td>Tera Software Ltd</td>\n",
       "      <td>Jharkhand</td>\n",
       "      <td>Ranchi</td>\n",
       "      <td>Namkum</td>\n",
       "      <td>834003</td>\n",
       "      <td>M</td>\n",
       "      <td>63</td>\n",
       "      <td>0</td>\n",
       "      <td>1</td>\n",
       "      <td>0</td>\n",
       "      <td>1</td>\n",
       "    </tr>\n",
       "    <tr>\n",
       "      <th>1</th>\n",
       "      <td>Allahabad Bank</td>\n",
       "      <td>Tera Software Ltd</td>\n",
       "      <td>Jharkhand</td>\n",
       "      <td>Ranchi</td>\n",
       "      <td>Ranchi</td>\n",
       "      <td>834004</td>\n",
       "      <td>F</td>\n",
       "      <td>36</td>\n",
       "      <td>0</td>\n",
       "      <td>1</td>\n",
       "      <td>0</td>\n",
       "      <td>1</td>\n",
       "    </tr>\n",
       "    <tr>\n",
       "      <th>2</th>\n",
       "      <td>Allahabad Bank</td>\n",
       "      <td>Vakrangee Softwares Limited</td>\n",
       "      <td>Gujarat</td>\n",
       "      <td>Surat</td>\n",
       "      <td>Nizar</td>\n",
       "      <td>394380</td>\n",
       "      <td>M</td>\n",
       "      <td>10</td>\n",
       "      <td>1</td>\n",
       "      <td>0</td>\n",
       "      <td>0</td>\n",
       "      <td>0</td>\n",
       "    </tr>\n",
       "    <tr>\n",
       "      <th>3</th>\n",
       "      <td>Allahabad Bank</td>\n",
       "      <td>Vakrangee Softwares Limited</td>\n",
       "      <td>Himachal Pradesh</td>\n",
       "      <td>Kangra</td>\n",
       "      <td>Baijnath</td>\n",
       "      <td>176081</td>\n",
       "      <td>M</td>\n",
       "      <td>44</td>\n",
       "      <td>1</td>\n",
       "      <td>0</td>\n",
       "      <td>1</td>\n",
       "      <td>1</td>\n",
       "    </tr>\n",
       "    <tr>\n",
       "      <th>4</th>\n",
       "      <td>Allahabad Bank</td>\n",
       "      <td>Vakrangee Softwares Limited</td>\n",
       "      <td>Madhya Pradesh</td>\n",
       "      <td>Chhindwara</td>\n",
       "      <td>Pandhurna</td>\n",
       "      <td>480334</td>\n",
       "      <td>M</td>\n",
       "      <td>35</td>\n",
       "      <td>1</td>\n",
       "      <td>0</td>\n",
       "      <td>0</td>\n",
       "      <td>0</td>\n",
       "    </tr>\n",
       "  </tbody>\n",
       "</table>\n",
       "</div>"
      ],
      "text/plain": [
       "        Registrar             Enrolment Agency             State    District  \\\n",
       "0  Allahabad Bank            Tera Software Ltd         Jharkhand      Ranchi   \n",
       "1  Allahabad Bank            Tera Software Ltd         Jharkhand      Ranchi   \n",
       "2  Allahabad Bank  Vakrangee Softwares Limited           Gujarat       Surat   \n",
       "3  Allahabad Bank  Vakrangee Softwares Limited  Himachal Pradesh      Kangra   \n",
       "4  Allahabad Bank  Vakrangee Softwares Limited    Madhya Pradesh  Chhindwara   \n",
       "\n",
       "  Sub District Pin Code Gender  Age  Aadhaar generated  Enrolment Rejected  \\\n",
       "0       Namkum   834003      M   63                  0                   1   \n",
       "1       Ranchi   834004      F   36                  0                   1   \n",
       "2        Nizar   394380      M   10                  1                   0   \n",
       "3     Baijnath   176081      M   44                  1                   0   \n",
       "4    Pandhurna   480334      M   35                  1                   0   \n",
       "\n",
       "   Residents providing email  Residents providing mobile number  \n",
       "0                          0                                  1  \n",
       "1                          0                                  1  \n",
       "2                          0                                  0  \n",
       "3                          1                                  1  \n",
       "4                          0                                  0  "
      ]
     },
     "execution_count": 5,
     "metadata": {},
     "output_type": "execute_result"
    }
   ],
   "source": [
    "df.head()"
   ]
  },
  {
   "cell_type": "code",
   "execution_count": 6,
   "metadata": {
    "collapsed": true
   },
   "outputs": [],
   "source": [
    "df.rename(columns=lambda x: x.replace(' ', '_').lower(), inplace=True)"
   ]
  },
  {
   "cell_type": "code",
   "execution_count": 7,
   "metadata": {
    "collapsed": false
   },
   "outputs": [
    {
     "data": {
      "text/plain": [
       "Index(['registrar', 'enrolment_agency', 'state', 'district', 'sub_district',\n",
       "       'pin_code', 'gender', 'age', 'aadhaar_generated', 'enrolment_rejected',\n",
       "       'residents_providing_email', 'residents_providing_mobile_number'],\n",
       "      dtype='object')"
      ]
     },
     "execution_count": 7,
     "metadata": {},
     "output_type": "execute_result"
    }
   ],
   "source": [
    "df.columns"
   ]
  },
  {
   "cell_type": "code",
   "execution_count": 8,
   "metadata": {
    "collapsed": true
   },
   "outputs": [],
   "source": [
    "import json\n",
    "import requests\n",
    "\n",
    "def api_get_request(url):\n",
    "    # In this exercise, you want to call the last.fm API to get a list of the\n",
    "    # top artists in Spain. The grader will supply the URL as an argument to\n",
    "    # the function; you do not need to construct the address or call this\n",
    "    # function in your grader submission.\n",
    "    # \n",
    "    # Once you've done this, return the name of the number 1 top artist in\n",
    "    # Spain. \n",
    "    data = requests.get(url).text\n",
    "    data = json.loads(data)\n",
    "    \n",
    "    return ... # return the top artist in Spain\n"
   ]
  },
  {
   "cell_type": "code",
   "execution_count": 3,
   "metadata": {
    "collapsed": true
   },
   "outputs": [],
   "source": [
    "from pprint import pprint"
   ]
  },
  {
   "cell_type": "code",
   "execution_count": 4,
   "metadata": {
    "collapsed": true
   },
   "outputs": [],
   "source": [
    "import pandas\n",
    "import pandasql\n",
    "\n",
    "\n",
    "def num_rainy_days(filename):\n",
    "    '''\n",
    "    This function should run a SQL query on a dataframe of\n",
    "    weather data.  The SQL query should return one column and\n",
    "    one row - a count of the number of days in the dataframe where\n",
    "    the rain column is equal to 1 (i.e., the number of days it\n",
    "    rained).  The dataframe will be titled 'weather_data'. You'll\n",
    "    need to provide the SQL query.  You might find SQL's count function\n",
    "    useful for this exercise.  You can read more about it here:\n",
    "    \n",
    "    https://dev.mysql.com/doc/refman/5.1/en/counting-rows.html\n",
    "    \n",
    "    You might also find that interpreting numbers as integers or floats may not\n",
    "    work initially.  In order to get around this issue, it may be useful to cast\n",
    "    these numbers as integers.  This can be done by writing cast(column as integer).\n",
    "    So for example, if we wanted to cast the maxtempi column as an integer, we would actually\n",
    "    write something like where cast(maxtempi as integer) = 76, as opposed to simply \n",
    "    where maxtempi = 76.\n",
    "    \n",
    "    You can see the weather data that we are passing in below:\n",
    "    https://s3.amazonaws.com/content.udacity-data.com/courses/ud359/weather_underground.csv\n",
    "    '''\n",
    "    weather_data = pandas.read_csv(filename)\n",
    "\n",
    "     q = \"\"\"\n",
    "    SELECT COUNT(date) AS num_rainy_days\n",
    "    FROM weather_data\n",
    "    WHERE rain = 1 \"\"\"\n",
    "    \n",
    "    #Execute your SQL command against the pandas frame\n",
    "    rainy_days = pandasql.sqldf(q.lower(), locals())\n",
    "    return rainy_days\n"
   ]
  },
  {
   "cell_type": "code",
   "execution_count": 5,
   "metadata": {
    "collapsed": true
   },
   "outputs": [],
   "source": [
    "url = 'https://s3.amazonaws.com/content.udacity-data.com/courses/ud359/weather_underground.csv'"
   ]
  },
  {
   "cell_type": "code",
   "execution_count": 6,
   "metadata": {
    "collapsed": false
   },
   "outputs": [
    {
     "data": {
      "text/html": [
       "<div>\n",
       "<table border=\"1\" class=\"dataframe\">\n",
       "  <thead>\n",
       "    <tr style=\"text-align: right;\">\n",
       "      <th></th>\n",
       "      <th>date</th>\n",
       "      <th>maxpressurem</th>\n",
       "      <th>maxdewptm</th>\n",
       "      <th>maxpressurei</th>\n",
       "      <th>maxdewpti</th>\n",
       "      <th>since1julheatingdegreedaysnormal</th>\n",
       "      <th>heatingdegreedaysnormal</th>\n",
       "      <th>since1sepcoolingdegreedaysnormal</th>\n",
       "      <th>hail</th>\n",
       "      <th>since1julsnowfallm</th>\n",
       "      <th>...</th>\n",
       "      <th>precipi</th>\n",
       "      <th>snowfalli</th>\n",
       "      <th>since1jancoolingdegreedaysnormal</th>\n",
       "      <th>precipm</th>\n",
       "      <th>snowfallm</th>\n",
       "      <th>thunder</th>\n",
       "      <th>monthtodateheatingdegreedays</th>\n",
       "      <th>meantempi</th>\n",
       "      <th>maxvism</th>\n",
       "      <th>meantempm</th>\n",
       "    </tr>\n",
       "  </thead>\n",
       "  <tbody>\n",
       "    <tr>\n",
       "      <th>0</th>\n",
       "      <td>2011-05-01</td>\n",
       "      <td>1026</td>\n",
       "      <td>6</td>\n",
       "      <td>30.31</td>\n",
       "      <td>42</td>\n",
       "      <td>4646</td>\n",
       "      <td>8</td>\n",
       "      <td>NaN</td>\n",
       "      <td>0</td>\n",
       "      <td>157.23</td>\n",
       "      <td>...</td>\n",
       "      <td>0.0</td>\n",
       "      <td>0.0</td>\n",
       "      <td>13</td>\n",
       "      <td>0.0</td>\n",
       "      <td>0.0</td>\n",
       "      <td>0</td>\n",
       "      <td>5</td>\n",
       "      <td>60</td>\n",
       "      <td>16</td>\n",
       "      <td>16</td>\n",
       "    </tr>\n",
       "    <tr>\n",
       "      <th>1</th>\n",
       "      <td>2011-05-02</td>\n",
       "      <td>1026</td>\n",
       "      <td>10</td>\n",
       "      <td>30.31</td>\n",
       "      <td>50</td>\n",
       "      <td>4653</td>\n",
       "      <td>7</td>\n",
       "      <td>NaN</td>\n",
       "      <td>0</td>\n",
       "      <td>157.23</td>\n",
       "      <td>...</td>\n",
       "      <td>0.0</td>\n",
       "      <td>0.0</td>\n",
       "      <td>14</td>\n",
       "      <td>0.0</td>\n",
       "      <td>0.0</td>\n",
       "      <td>0</td>\n",
       "      <td>13</td>\n",
       "      <td>57</td>\n",
       "      <td>16</td>\n",
       "      <td>14</td>\n",
       "    </tr>\n",
       "    <tr>\n",
       "      <th>2</th>\n",
       "      <td>2011-05-03</td>\n",
       "      <td>1021</td>\n",
       "      <td>15</td>\n",
       "      <td>30.14</td>\n",
       "      <td>59</td>\n",
       "      <td>4660</td>\n",
       "      <td>7</td>\n",
       "      <td>NaN</td>\n",
       "      <td>0</td>\n",
       "      <td>157.23</td>\n",
       "      <td>...</td>\n",
       "      <td>0.0</td>\n",
       "      <td>0.0</td>\n",
       "      <td>15</td>\n",
       "      <td>0.0</td>\n",
       "      <td>0.0</td>\n",
       "      <td>0</td>\n",
       "      <td>13</td>\n",
       "      <td>65</td>\n",
       "      <td>16</td>\n",
       "      <td>18</td>\n",
       "    </tr>\n",
       "    <tr>\n",
       "      <th>3</th>\n",
       "      <td>2011-05-04</td>\n",
       "      <td>1017</td>\n",
       "      <td>14</td>\n",
       "      <td>30.03</td>\n",
       "      <td>57</td>\n",
       "      <td>4667</td>\n",
       "      <td>7</td>\n",
       "      <td>NaN</td>\n",
       "      <td>0</td>\n",
       "      <td>157.23</td>\n",
       "      <td>...</td>\n",
       "      <td>0.5</td>\n",
       "      <td>0.0</td>\n",
       "      <td>16</td>\n",
       "      <td>12.7</td>\n",
       "      <td>0.0</td>\n",
       "      <td>0</td>\n",
       "      <td>23</td>\n",
       "      <td>55</td>\n",
       "      <td>16</td>\n",
       "      <td>13</td>\n",
       "    </tr>\n",
       "    <tr>\n",
       "      <th>4</th>\n",
       "      <td>2011-05-05</td>\n",
       "      <td>1016</td>\n",
       "      <td>4</td>\n",
       "      <td>30.01</td>\n",
       "      <td>39</td>\n",
       "      <td>4673</td>\n",
       "      <td>6</td>\n",
       "      <td>NaN</td>\n",
       "      <td>0</td>\n",
       "      <td>157.23</td>\n",
       "      <td>...</td>\n",
       "      <td>0.0</td>\n",
       "      <td>0.0</td>\n",
       "      <td>17</td>\n",
       "      <td>0.0</td>\n",
       "      <td>0.0</td>\n",
       "      <td>0</td>\n",
       "      <td>32</td>\n",
       "      <td>56</td>\n",
       "      <td>16</td>\n",
       "      <td>13</td>\n",
       "    </tr>\n",
       "  </tbody>\n",
       "</table>\n",
       "<p>5 rows × 70 columns</p>\n",
       "</div>"
      ],
      "text/plain": [
       "         date  maxpressurem  maxdewptm  maxpressurei  maxdewpti  \\\n",
       "0  2011-05-01          1026          6         30.31         42   \n",
       "1  2011-05-02          1026         10         30.31         50   \n",
       "2  2011-05-03          1021         15         30.14         59   \n",
       "3  2011-05-04          1017         14         30.03         57   \n",
       "4  2011-05-05          1016          4         30.01         39   \n",
       "\n",
       "   since1julheatingdegreedaysnormal  heatingdegreedaysnormal  \\\n",
       "0                              4646                        8   \n",
       "1                              4653                        7   \n",
       "2                              4660                        7   \n",
       "3                              4667                        7   \n",
       "4                              4673                        6   \n",
       "\n",
       "   since1sepcoolingdegreedaysnormal  hail  since1julsnowfallm    ...      \\\n",
       "0                               NaN     0              157.23    ...       \n",
       "1                               NaN     0              157.23    ...       \n",
       "2                               NaN     0              157.23    ...       \n",
       "3                               NaN     0              157.23    ...       \n",
       "4                               NaN     0              157.23    ...       \n",
       "\n",
       "   precipi  snowfalli  since1jancoolingdegreedaysnormal  precipm  snowfallm  \\\n",
       "0      0.0        0.0                                13      0.0        0.0   \n",
       "1      0.0        0.0                                14      0.0        0.0   \n",
       "2      0.0        0.0                                15      0.0        0.0   \n",
       "3      0.5        0.0                                16     12.7        0.0   \n",
       "4      0.0        0.0                                17      0.0        0.0   \n",
       "\n",
       "   thunder  monthtodateheatingdegreedays  meantempi  maxvism  meantempm  \n",
       "0        0                             5         60       16         16  \n",
       "1        0                            13         57       16         14  \n",
       "2        0                            13         65       16         18  \n",
       "3        0                            23         55       16         13  \n",
       "4        0                            32         56       16         13  \n",
       "\n",
       "[5 rows x 70 columns]"
      ]
     },
     "execution_count": 6,
     "metadata": {},
     "output_type": "execute_result"
    }
   ],
   "source": [
    "weather_data = pandas.read_csv(url)\n",
    "weather_data.head()"
   ]
  },
  {
   "cell_type": "code",
   "execution_count": 7,
   "metadata": {
    "collapsed": false
   },
   "outputs": [
    {
     "name": "stdout",
     "output_type": "stream",
     "text": [
      "<class 'pandas.core.frame.DataFrame'>\n",
      "RangeIndex: 30 entries, 0 to 29\n",
      "Data columns (total 70 columns):\n",
      "date                                  30 non-null object\n",
      "maxpressurem                          30 non-null int64\n",
      "maxdewptm                             30 non-null int64\n",
      "maxpressurei                          30 non-null float64\n",
      "maxdewpti                             30 non-null int64\n",
      "since1julheatingdegreedaysnormal      30 non-null int64\n",
      "heatingdegreedaysnormal               30 non-null int64\n",
      "since1sepcoolingdegreedaysnormal      0 non-null float64\n",
      "hail                                  30 non-null int64\n",
      "since1julsnowfallm                    30 non-null float64\n",
      "since1julheatingdegreedays            30 non-null int64\n",
      "maxvisi                               30 non-null int64\n",
      "since1sepheatingdegreedaysnormal      0 non-null float64\n",
      "heatingdegreedays                     30 non-null int64\n",
      "mindewptm                             30 non-null int64\n",
      "since1sepheatingdegreedays            0 non-null float64\n",
      "maxwspdm                              30 non-null int64\n",
      "since1julsnowfalli                    30 non-null float64\n",
      "since1sepcoolingdegreedays            0 non-null float64\n",
      "snow                                  30 non-null int64\n",
      "meanvism                              30 non-null int64\n",
      "meandewptm                            30 non-null int64\n",
      "snowdepthm                            29 non-null float64\n",
      "meanvisi                              30 non-null int64\n",
      "fog                                   30 non-null int64\n",
      "snowdepthi                            29 non-null float64\n",
      "minvism                               30 non-null int64\n",
      "since1jancoolingdegreedays            30 non-null int64\n",
      "minvisi                               30 non-null int64\n",
      "coolingdegreedaysnormal               30 non-null int64\n",
      "gdegreedays                           30 non-null int64\n",
      "maxwspdi                              30 non-null int64\n",
      "meanwindspdi                          30 non-null int64\n",
      "meanpressurei                         30 non-null float64\n",
      "monthtodateheatingdegreedaysnormal    30 non-null int64\n",
      "meanwindspdm                          30 non-null int64\n",
      "meanpressurem                         30 non-null int64\n",
      "tornado                               30 non-null int64\n",
      "mindewpti                             30 non-null int64\n",
      "mintempi                              30 non-null int64\n",
      "meandewpti                            30 non-null int64\n",
      "rain                                  30 non-null int64\n",
      "mintempm                              30 non-null int64\n",
      "minhumidity                           30 non-null int64\n",
      "precipsource                          0 non-null float64\n",
      "minwspdi                              30 non-null int64\n",
      "meanwdird                             30 non-null int64\n",
      "meanwdire                             0 non-null float64\n",
      "minwspdm                              30 non-null int64\n",
      "monthtodatesnowfalli                  30 non-null float64\n",
      "monthtodatecoolingdegreedaysnormal    30 non-null int64\n",
      "monthtodatesnowfallm                  30 non-null float64\n",
      "maxhumidity                           30 non-null int64\n",
      "coolingdegreedays                     30 non-null int64\n",
      "maxtempm                              30 non-null int64\n",
      "minpressurei                          30 non-null float64\n",
      "monthtodatecoolingdegreedays          30 non-null int64\n",
      "maxtempi                              30 non-null int64\n",
      "minpressurem                          30 non-null int64\n",
      "humidity                              0 non-null float64\n",
      "precipi                               30 non-null float64\n",
      "snowfalli                             30 non-null float64\n",
      "since1jancoolingdegreedaysnormal      30 non-null int64\n",
      "precipm                               30 non-null float64\n",
      "snowfallm                             30 non-null float64\n",
      "thunder                               30 non-null int64\n",
      "monthtodateheatingdegreedays          30 non-null int64\n",
      "meantempi                             30 non-null int64\n",
      "maxvism                               30 non-null int64\n",
      "meantempm                             30 non-null int64\n",
      "dtypes: float64(20), int64(49), object(1)\n",
      "memory usage: 16.5+ KB\n"
     ]
    }
   ],
   "source": [
    "weather_data.info()"
   ]
  },
  {
   "cell_type": "code",
   "execution_count": 8,
   "metadata": {
    "collapsed": false
   },
   "outputs": [
    {
     "data": {
      "text/plain": [
       "0     0\n",
       "1     0\n",
       "2     0\n",
       "3     1\n",
       "4     0\n",
       "5     0\n",
       "6     0\n",
       "7     0\n",
       "8     0\n",
       "9     0\n",
       "10    0\n",
       "11    0\n",
       "12    0\n",
       "13    0\n",
       "14    1\n",
       "15    1\n",
       "16    1\n",
       "17    1\n",
       "18    1\n",
       "19    1\n",
       "20    1\n",
       "21    0\n",
       "22    1\n",
       "23    0\n",
       "24    0\n",
       "25    0\n",
       "26    0\n",
       "27    0\n",
       "28    0\n",
       "29    1\n",
       "Name: rain, dtype: int64"
      ]
     },
     "execution_count": 8,
     "metadata": {},
     "output_type": "execute_result"
    }
   ],
   "source": [
    "weather_data['rain']"
   ]
  },
  {
   "cell_type": "code",
   "execution_count": 13,
   "metadata": {
    "collapsed": false
   },
   "outputs": [
    {
     "data": {
      "text/html": [
       "<div>\n",
       "<table border=\"1\" class=\"dataframe\">\n",
       "  <thead>\n",
       "    <tr style=\"text-align: right;\">\n",
       "      <th></th>\n",
       "      <th>num_rainy_days</th>\n",
       "    </tr>\n",
       "  </thead>\n",
       "  <tbody>\n",
       "    <tr>\n",
       "      <th>0</th>\n",
       "      <td>10</td>\n",
       "    </tr>\n",
       "  </tbody>\n",
       "</table>\n",
       "</div>"
      ],
      "text/plain": [
       "   num_rainy_days\n",
       "0              10"
      ]
     },
     "execution_count": 13,
     "metadata": {},
     "output_type": "execute_result"
    }
   ],
   "source": [
    " q = \"\"\"\n",
    "    SELECT COUNT(date) AS num_rainy_days\n",
    "    FROM weather_data\n",
    "    WHERE rain = 1\n",
    "    \"\"\"\n",
    "    \n",
    "pandasql.sqldf(q, globals())"
   ]
  },
  {
   "cell_type": "code",
   "execution_count": 14,
   "metadata": {
    "collapsed": true
   },
   "outputs": [],
   "source": [
    "import pandas\n",
    "import pandasql\n",
    "\n",
    "\n",
    "def max_temp_aggregate_by_fog(filename):\n",
    "    '''\n",
    "    This function should run a SQL query on a dataframe of\n",
    "    weather data.  The SQL query should return two columns and\n",
    "    two rows - whether it was foggy or not (0 or 1) and the max\n",
    "    maxtempi for that fog value (i.e., the maximum max temperature\n",
    "    for both foggy and non-foggy days).  The dataframe will be \n",
    "    titled 'weather_data'. You'll need to provide the SQL query.\n",
    "    \n",
    "    You might also find that interpreting numbers as integers or floats may not\n",
    "    work initially.  In order to get around this issue, it may be useful to cast\n",
    "    these numbers as integers.  This can be done by writing cast(column as integer).\n",
    "    So for example, if we wanted to cast the maxtempi column as an integer, we would actually\n",
    "    write something like where cast(maxtempi as integer) = 76, as opposed to simply \n",
    "    where maxtempi = 76.\n",
    "    \n",
    "    You can see the weather data that we are passing in below:\n",
    "    https://s3.amazonaws.com/content.udacity-data.com/courses/ud359/weather_underground.csv\n",
    "    '''\n",
    "    weather_data = pandas.read_csv(filename)\n",
    "\n",
    "    q = \"\"\"\n",
    "    SELECT fog, maxtempm\n",
    "    FROM weather_data\n",
    "    \"\"\"\n",
    "    \n",
    "    #Execute your SQL command against the pandas frame\n",
    "    foggy_days = pandasql.sqldf(q.lower(), locals())\n",
    "    return foggy_days\n"
   ]
  },
  {
   "cell_type": "code",
   "execution_count": 16,
   "metadata": {
    "collapsed": false
   },
   "outputs": [
    {
     "data": {
      "text/html": [
       "<div>\n",
       "<table border=\"1\" class=\"dataframe\">\n",
       "  <thead>\n",
       "    <tr style=\"text-align: right;\">\n",
       "      <th></th>\n",
       "      <th>fog</th>\n",
       "      <th>max(maxtempm)</th>\n",
       "    </tr>\n",
       "  </thead>\n",
       "  <tbody>\n",
       "    <tr>\n",
       "      <th>0</th>\n",
       "      <td>0</td>\n",
       "      <td>30</td>\n",
       "    </tr>\n",
       "    <tr>\n",
       "      <th>1</th>\n",
       "      <td>1</td>\n",
       "      <td>27</td>\n",
       "    </tr>\n",
       "  </tbody>\n",
       "</table>\n",
       "</div>"
      ],
      "text/plain": [
       "   fog  max(maxtempm)\n",
       "0    0             30\n",
       "1    1             27"
      ]
     },
     "execution_count": 16,
     "metadata": {},
     "output_type": "execute_result"
    }
   ],
   "source": [
    "q = '''\n",
    "SELECT fog, max(maxtempm)\n",
    "FROM weather_data\n",
    "GROUP BY fog\n",
    "'''\n",
    "\n",
    "pandasql.sqldf(q.lower(), globals())"
   ]
  },
  {
   "cell_type": "code",
   "execution_count": 17,
   "metadata": {
    "collapsed": true
   },
   "outputs": [],
   "source": [
    "import pandas\n",
    "import pandasql\n",
    "\n",
    "def avg_weekend_temperature(filename):\n",
    "    '''\n",
    "    This function should run a SQL query on a dataframe of\n",
    "    weather data.  The SQL query should return one column and\n",
    "    one row - the average meantempi on days that are a Saturday\n",
    "    or Sunday (i.e., the the average mean temperature on weekends).\n",
    "    The dataframe will be titled 'weather_data' and you can access\n",
    "    the date in the dataframe via the 'date' column.\n",
    "    \n",
    "    You'll need to provide  the SQL query.\n",
    "    \n",
    "    You might also find that interpreting numbers as integers or floats may not\n",
    "    work initially.  In order to get around this issue, it may be useful to cast\n",
    "    these numbers as integers.  This can be done by writing cast(column as integer).\n",
    "    So for example, if we wanted to cast the maxtempi column as an integer, we would actually\n",
    "    write something like where cast(maxtempi as integer) = 76, as opposed to simply \n",
    "    where maxtempi = 76.\n",
    "    \n",
    "    Also, you can convert dates to days of the week via the 'strftime' keyword in SQL.\n",
    "    For example, cast (strftime('%w', date) as integer) will return 0 if the date\n",
    "    is a Sunday or 6 if the date is a Saturday.\n",
    "    \n",
    "    You can see the weather data that we are passing in below:\n",
    "    https://s3.amazonaws.com/content.udacity-data.com/courses/ud359/weather_underground.csv\n",
    "    '''\n",
    "    weather_data = pandas.read_csv(filename)\n",
    "\n",
    "    q = \"\"\"\n",
    "    your query here\n",
    "    \"\"\"\n",
    "    \n",
    "    #Execute your SQL command against the pandas frame\n",
    "    mean_temp_weekends = pandasql.sqldf(q.lower(), locals())\n",
    "    return mean_temp_weekends"
   ]
  },
  {
   "cell_type": "code",
   "execution_count": 25,
   "metadata": {
    "collapsed": false
   },
   "outputs": [
    {
     "data": {
      "text/html": [
       "<div>\n",
       "<table border=\"1\" class=\"dataframe\">\n",
       "  <thead>\n",
       "    <tr style=\"text-align: right;\">\n",
       "      <th></th>\n",
       "      <th>mean_temp</th>\n",
       "    </tr>\n",
       "  </thead>\n",
       "  <tbody>\n",
       "    <tr>\n",
       "      <th>0</th>\n",
       "      <td>65.111111</td>\n",
       "    </tr>\n",
       "  </tbody>\n",
       "</table>\n",
       "</div>"
      ],
      "text/plain": [
       "   mean_temp\n",
       "0  65.111111"
      ]
     },
     "execution_count": 25,
     "metadata": {},
     "output_type": "execute_result"
    }
   ],
   "source": [
    "q = \"\"\"\n",
    "SELECT AVG(meantempi) as mean_temp\n",
    "FROM weather_data\n",
    "WHERE (cast(strftime('%w', date) as integer) = 0) or (cast(strftime('%w', date) as integer) = 6)\n",
    "\"\"\"\n",
    "\n",
    "pandasql.sqldf(q.lower(), globals())"
   ]
  },
  {
   "cell_type": "code",
   "execution_count": null,
   "metadata": {
    "collapsed": false
   },
   "outputs": [],
   "source": [
    "import pandas\n",
    "import pandasql\n",
    "\n",
    "def avg_min_temperature(filename):\n",
    "    '''\n",
    "    This function should run a SQL query on a dataframe of\n",
    "    weather data. More specifically you want to find the average\n",
    "    minimum temperature (mintempi column of the weather dataframe) on \n",
    "    rainy days where the minimum temperature is greater than 55 degrees.\n",
    "    \n",
    "    You might also find that interpreting numbers as integers or floats may not\n",
    "    work initially.  In order to get around this issue, it may be useful to cast\n",
    "    these numbers as integers.  This can be done by writing cast(column as integer).\n",
    "    So for example, if we wanted to cast the maxtempi column as an integer, we would actually\n",
    "    write something like where cast(maxtempi as integer) = 76, as opposed to simply \n",
    "    where maxtempi = 76.\n",
    "    \n",
    "    You can see the weather data that we are passing in below:\n",
    "    https://s3.amazonaws.com/content.udacity-data.com/courses/ud359/weather_underground.csv\n",
    "    '''\n",
    "    weather_data = pandas.read_csv(filename)\n",
    "\n",
    "    q = \"\"\"\n",
    "    your query here\n",
    "    \"\"\"\n",
    "    \n",
    "    #Execute your SQL command against the pandas frame\n",
    "    avg_min_temp_rainy = pandasql.sqldf(q.lower(), locals())\n",
    "    return avg_min_temp_rainy"
   ]
  },
  {
   "cell_type": "code",
   "execution_count": 26,
   "metadata": {
    "collapsed": false
   },
   "outputs": [
    {
     "data": {
      "text/html": [
       "<div>\n",
       "<table border=\"1\" class=\"dataframe\">\n",
       "  <thead>\n",
       "    <tr style=\"text-align: right;\">\n",
       "      <th></th>\n",
       "      <th>avg_min_temp</th>\n",
       "    </tr>\n",
       "  </thead>\n",
       "  <tbody>\n",
       "    <tr>\n",
       "      <th>0</th>\n",
       "      <td>61.25</td>\n",
       "    </tr>\n",
       "  </tbody>\n",
       "</table>\n",
       "</div>"
      ],
      "text/plain": [
       "   avg_min_temp\n",
       "0         61.25"
      ]
     },
     "execution_count": 26,
     "metadata": {},
     "output_type": "execute_result"
    }
   ],
   "source": [
    "q = \"\"\"\n",
    "SELECT AVG(mintempi) as avg_min_temp\n",
    "FROM weather_data\n",
    "WHERE rain = 1 and mintempi > 55;\n",
    "\"\"\"\n",
    "\n",
    "pandasql.sqldf(q.lower(), globals())"
   ]
  },
  {
   "cell_type": "code",
   "execution_count": 9,
   "metadata": {
    "collapsed": false
   },
   "outputs": [],
   "source": [
    "import csv\n",
    "\n",
    "def fix_turnstile_data(filenames):\n",
    "    '''\n",
    "    Filenames is a list of MTA Subway turnstile text files. A link to an example\n",
    "    MTA Subway turnstile text file can be seen at the URL below:\n",
    "    http://web.mta.info/developers/data/nyct/turnstile/turnstile_110507.txt\n",
    "    \n",
    "    As you can see, there are numerous data points included in each row of the\n",
    "    a MTA Subway turnstile text file. \n",
    "\n",
    "    You want to write a function that will update each row in the text\n",
    "    file so there is only one entry per row. A few examples below:\n",
    "    A002,R051,02-00-00,05-28-11,00:00:00,REGULAR,003178521,001100739\n",
    "    A002,R051,02-00-00,05-28-11,04:00:00,REGULAR,003178541,001100746\n",
    "    A002,R051,02-00-00,05-28-11,08:00:00,REGULAR,003178559,001100775\n",
    "    \n",
    "    Write the updates to a different text file in the format of \"updated_\" + filename.\n",
    "    For example:\n",
    "        1) if you read in a text file called \"turnstile_110521.txt\"\n",
    "        2) you should write the updated data to \"updated_turnstile_110521.txt\"\n",
    "\n",
    "    The order of the fields should be preserved. Remember to read through the \n",
    "    Instructor Notes below for more details on the task. \n",
    "    \n",
    "    In addition, here is a CSV reader/writer introductory tutorial:\n",
    "    http://goo.gl/HBbvyy\n",
    "    \n",
    "    You can see a sample of the turnstile text file that's passed into this function\n",
    "    and the the corresponding updated file by downloading these files from the resources:\n",
    "    \n",
    "    Sample input file: turnstile_110528.txt\n",
    "    Sample updated file: solution_turnstile_110528.txt\n",
    "    '''\n",
    "    for name in filenames:\n",
    "        # your code here\n",
    "        with open('updated_' + name, 'w') as f1:\n",
    "            writer = csv.writer(f1)\n",
    "            with open(name, 'r') as f2:\n",
    "                reader = csv.reader(f2)\n",
    "                for row in reader:\n",
    "                    header = row[:3]\n",
    "                    for i in range(3, len(row), 5):\n",
    "                        writer.writerow(header + row[i:i+5])"
   ]
  },
  {
   "cell_type": "code",
   "execution_count": 10,
   "metadata": {
    "collapsed": true
   },
   "outputs": [],
   "source": [
    "url = 'http://web.mta.info/developers/data/nyct/turnstile/turnstile_110507.txt'"
   ]
  },
  {
   "cell_type": "code",
   "execution_count": 15,
   "metadata": {
    "collapsed": false
   },
   "outputs": [
    {
     "name": "stdout",
     "output_type": "stream",
     "text": [
      "--2017-10-31 22:30:51--  http://web.mta.info/developers/data/nyct/turnstile/turnstile_110507.txt\n",
      "Resolving web.mta.info (web.mta.info)... 64:ff9b::31e7:391a, 64:ff9b::31e7:391b, 49.231.57.26, ...\n",
      "Connecting to web.mta.info (web.mta.info)|64:ff9b::31e7:391a|:80... connected.\n",
      "HTTP request sent, awaiting response... 200 OK\n",
      "Length: unspecified [text/plain]\n",
      "Saving to: ‘turnstile_110507.txt’\n",
      "\n",
      "turnstile_110507.tx     [               <=>  ]  10.92M  3.81MB/s    in 2.9s    \n",
      "\n",
      "2017-10-31 22:30:55 (3.81 MB/s) - ‘turnstile_110507.txt’ saved [11450970]\n",
      "\n"
     ]
    }
   ],
   "source": [
    "!wget $url"
   ]
  },
  {
   "cell_type": "code",
   "execution_count": 16,
   "metadata": {
    "collapsed": true
   },
   "outputs": [],
   "source": [
    "import csv"
   ]
  },
  {
   "cell_type": "code",
   "execution_count": 30,
   "metadata": {
    "collapsed": false
   },
   "outputs": [],
   "source": [
    "with open('updated_' + 'turnstile_110507.txt', 'w') as f1:\n",
    "    writer = csv.writer(f1)\n",
    "    with open('turnstile_110507.txt', 'r') as f2:\n",
    "        reader = csv.reader(f2)\n",
    "        for row in reader:\n",
    "            header = row[:3]\n",
    "            for i in range(3, len(row), 5):\n",
    "                writer.writerow(header + row[i:i+5])"
   ]
  },
  {
   "cell_type": "code",
   "execution_count": 22,
   "metadata": {
    "collapsed": false
   },
   "outputs": [],
   "source": [
    "front = row[:3]"
   ]
  },
  {
   "cell_type": "code",
   "execution_count": 21,
   "metadata": {
    "collapsed": false
   },
   "outputs": [
    {
     "data": {
      "text/plain": [
       "43"
      ]
     },
     "execution_count": 21,
     "metadata": {},
     "output_type": "execute_result"
    }
   ],
   "source": [
    "len(row)"
   ]
  },
  {
   "cell_type": "code",
   "execution_count": 28,
   "metadata": {
    "collapsed": false
   },
   "outputs": [
    {
     "name": "stdout",
     "output_type": "stream",
     "text": [
      "['A002', 'R051', '02-00-00', '04-30-11', '00:00:00', 'REGULAR', '003143506', '001087907']\n",
      "['A002', 'R051', '02-00-00', '04-30-11', '04:00:00', 'REGULAR', '003143547', '001087915']\n",
      "['A002', 'R051', '02-00-00', '04-30-11', '08:00:00', 'REGULAR', '003143563', '001087935']\n",
      "['A002', 'R051', '02-00-00', '04-30-11', '12:00:00', 'REGULAR', '003143646', '001088024']\n",
      "['A002', 'R051', '02-00-00', '04-30-11', '16:00:00', 'REGULAR', '003143865', '001088083']\n",
      "['A002', 'R051', '02-00-00', '04-30-11', '20:00:00', 'REGULAR', '003144181', '001088132']\n",
      "['A002', 'R051', '02-00-00', '05-01-11', '00:00:00', 'REGULAR', '003144312', '001088151']\n",
      "['A002', 'R051', '02-00-00', '05-01-11', '04:00:00', 'REGULAR', '003144335', '001088159              ']\n"
     ]
    }
   ],
   "source": [
    "for i in range(3, len(row), 5):\n",
    "    print(front + row[i:i+5])"
   ]
  },
  {
   "cell_type": "code",
   "execution_count": null,
   "metadata": {
    "collapsed": false
   },
   "outputs": [],
   "source": []
  },
  {
   "cell_type": "code",
   "execution_count": null,
   "metadata": {
    "collapsed": true
   },
   "outputs": [],
   "source": []
  }
 ],
 "metadata": {
  "kernelspec": {
   "display_name": "py34",
   "language": "python",
   "name": "py34"
  },
  "language_info": {
   "codemirror_mode": {
    "name": "ipython",
    "version": 3
   },
   "file_extension": ".py",
   "mimetype": "text/x-python",
   "name": "python",
   "nbconvert_exporter": "python",
   "pygments_lexer": "ipython3",
   "version": "3.6.0"
  }
 },
 "nbformat": 4,
 "nbformat_minor": 2
}
