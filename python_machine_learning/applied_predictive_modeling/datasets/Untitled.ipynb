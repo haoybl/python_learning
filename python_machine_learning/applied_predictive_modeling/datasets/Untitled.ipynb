{
 "cells": [
  {
   "cell_type": "code",
   "execution_count": 8,
   "metadata": {
    "collapsed": false
   },
   "outputs": [
    {
     "name": "stdout",
     "output_type": "stream",
     "text": [
      "Writing my_fetch.py\n"
     ]
    }
   ],
   "source": [
    "%%writefile my_fetch.py\n",
    "import rpy2.robjects as robjects\n",
    "import pandas.rpy.common as com\n",
    "import pandas as pd\n",
    "import os\n",
    "\n",
    "\n",
    "for name in os.listdir('.'):\n",
    "    if name.endswith('.RData'):\n",
    "        name_ = os.path.splitext(name)[0]\n",
    "        dir_path = os.path.join(os.getcwd(), name_)\n",
    "        # creat sub-directory\n",
    "        if not os.path.exists(dir_path):\n",
    "            os.makedirs(dir_path)\n",
    "        #file_path = os.path.join(root, name)\n",
    "        robj = robjects.r.load(name)\n",
    "        # check out subfiles in the data frame\n",
    "        for var in robj:\n",
    "            myRData = com.load_data(var)\n",
    "            # convert to DataFrame\n",
    "            if not isinstance(myRData, pd.DataFrame):\n",
    "                myRData = pd.DataFrame(myRData)\n",
    "            var_path = os.path.join(dir_path,var+'.csv')\n",
    "            myRData.to_csv(var_path)\n",
    "        os.remove(os.path.join(dir_path, name)) # clean up\n",
    "    print 'success'"
   ]
  },
  {
   "cell_type": "code",
   "execution_count": null,
   "metadata": {
    "collapsed": true
   },
   "outputs": [],
   "source": []
  }
 ],
 "metadata": {
  "kernelspec": {
   "display_name": "Python 2",
   "language": "python",
   "name": "python2"
  },
  "language_info": {
   "codemirror_mode": {
    "name": "ipython",
    "version": 2
   },
   "file_extension": ".py",
   "mimetype": "text/x-python",
   "name": "python",
   "nbconvert_exporter": "python",
   "pygments_lexer": "ipython2",
   "version": "2.7.14"
  }
 },
 "nbformat": 4,
 "nbformat_minor": 2
}
