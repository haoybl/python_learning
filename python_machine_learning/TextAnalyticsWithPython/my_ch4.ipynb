{
 "cells": [
  {
   "cell_type": "code",
   "execution_count": 125,
   "metadata": {
    "collapsed": false
   },
   "outputs": [],
   "source": [
    "import pandas as pd\n",
    "import numpy as np\n",
    "import matplotlib.pyplot as plt\n",
    "import seaborn as sns\n",
    "%matplotlib inline"
   ]
  },
  {
   "cell_type": "code",
   "execution_count": 2,
   "metadata": {
    "collapsed": true
   },
   "outputs": [],
   "source": [
    "sentence = \"The mapping relies on a Monte Carlo approximation to the kernel values\"\n",
    "#sentence = \"What made you want to look up he'll?\"\n",
    "sentence = \"we convert each word token to lowercase, annotate it with its correct, converted wordnet tag\""
   ]
  },
  {
   "cell_type": "markdown",
   "metadata": {},
   "source": [
    "### Text Normalization"
   ]
  },
  {
   "cell_type": "code",
   "execution_count": 3,
   "metadata": {
    "collapsed": true
   },
   "outputs": [],
   "source": [
    "import re\n",
    "import nltk\n",
    "import string\n",
    "from nltk.stem import WordNetLemmatizer\n",
    "import pickle\n",
    "from nltk.corpus import wordnet as wn"
   ]
  },
  {
   "cell_type": "code",
   "execution_count": 4,
   "metadata": {
    "collapsed": false
   },
   "outputs": [],
   "source": [
    "CONTRACTION_MAP = pickle.load(open('contraction_map.pkl', 'rb'))\n",
    "\n",
    "stopword_list = set(nltk.corpus.stopwords.words('english'))\n",
    "\n",
    "wnl = WordNetLemmatizer()"
   ]
  },
  {
   "cell_type": "code",
   "execution_count": 150,
   "metadata": {
    "collapsed": false
   },
   "outputs": [
    {
     "data": {
      "text/plain": [
       "{\"'cause\": 'because',\n",
       " \"I'd\": 'I would',\n",
       " \"I'd've\": 'I would have',\n",
       " \"I'll\": 'I will',\n",
       " \"I'll've\": 'I will have',\n",
       " \"I'm\": 'I am',\n",
       " \"I've\": 'I have',\n",
       " \"ain't\": 'is not',\n",
       " \"aren't\": 'are not',\n",
       " \"can't\": 'cannot',\n",
       " \"can't've\": 'cannot have',\n",
       " \"could've\": 'could have',\n",
       " \"couldn't\": 'could not',\n",
       " \"couldn't've\": 'could not have',\n",
       " \"didn't\": 'did not',\n",
       " \"doesn't\": 'does not',\n",
       " \"don't\": 'do not',\n",
       " \"hadn't\": 'had not',\n",
       " \"hadn't've\": 'had not have',\n",
       " \"hasn't\": 'has not',\n",
       " \"haven't\": 'have not',\n",
       " \"he'd\": 'he would',\n",
       " \"he'd've\": 'he would have',\n",
       " \"he'll\": 'he will',\n",
       " \"he'll've\": 'he he will have',\n",
       " \"he's\": 'he is',\n",
       " \"how'd\": 'how did',\n",
       " \"how'd'y\": 'how do you',\n",
       " \"how'll\": 'how will',\n",
       " \"how's\": 'how is',\n",
       " \"i'd\": 'i would',\n",
       " \"i'd've\": 'i would have',\n",
       " \"i'll\": 'i will',\n",
       " \"i'll've\": 'i will have',\n",
       " \"i'm\": 'i am',\n",
       " \"i've\": 'i have',\n",
       " \"isn't\": 'is not',\n",
       " \"it'd\": 'it would',\n",
       " \"it'd've\": 'it would have',\n",
       " \"it'll\": 'it will',\n",
       " \"it'll've\": 'it will have',\n",
       " \"it's\": 'it is',\n",
       " \"let's\": 'let us',\n",
       " \"ma'am\": 'madam',\n",
       " \"mayn't\": 'may not',\n",
       " \"might've\": 'might have',\n",
       " \"mightn't\": 'might not',\n",
       " \"mightn't've\": 'might not have',\n",
       " \"must've\": 'must have',\n",
       " \"mustn't\": 'must not',\n",
       " \"mustn't've\": 'must not have',\n",
       " \"needn't\": 'need not',\n",
       " \"needn't've\": 'need not have',\n",
       " \"o'clock\": 'of the clock',\n",
       " \"oughtn't\": 'ought not',\n",
       " \"oughtn't've\": 'ought not have',\n",
       " \"sha'n't\": 'shall not',\n",
       " \"shan't\": 'shall not',\n",
       " \"shan't've\": 'shall not have',\n",
       " \"she'd\": 'she would',\n",
       " \"she'd've\": 'she would have',\n",
       " \"she'll\": 'she will',\n",
       " \"she'll've\": 'she will have',\n",
       " \"she's\": 'she is',\n",
       " \"should've\": 'should have',\n",
       " \"shouldn't\": 'should not',\n",
       " \"shouldn't've\": 'should not have',\n",
       " \"so's\": 'so as',\n",
       " \"so've\": 'so have',\n",
       " \"that'd\": 'that would',\n",
       " \"that'd've\": 'that would have',\n",
       " \"that's\": 'that is',\n",
       " \"there'd\": 'there would',\n",
       " \"there'd've\": 'there would have',\n",
       " \"there's\": 'there is',\n",
       " \"they'd\": 'they would',\n",
       " \"they'd've\": 'they would have',\n",
       " \"they'll\": 'they will',\n",
       " \"they'll've\": 'they will have',\n",
       " \"they're\": 'they are',\n",
       " \"they've\": 'they have',\n",
       " \"to've\": 'to have',\n",
       " \"wasn't\": 'was not',\n",
       " \"we'd\": 'we would',\n",
       " \"we'd've\": 'we would have',\n",
       " \"we'll\": 'we will',\n",
       " \"we'll've\": 'we will have',\n",
       " \"we're\": 'we are',\n",
       " \"we've\": 'we have',\n",
       " \"weren't\": 'were not',\n",
       " \"what'll\": 'what will',\n",
       " \"what'll've\": 'what will have',\n",
       " \"what're\": 'what are',\n",
       " \"what's\": 'what is',\n",
       " \"what've\": 'what have',\n",
       " \"when's\": 'when is',\n",
       " \"when've\": 'when have',\n",
       " \"where'd\": 'where did',\n",
       " \"where's\": 'where is',\n",
       " \"where've\": 'where have',\n",
       " \"who'll\": 'who will',\n",
       " \"who'll've\": 'who will have',\n",
       " \"who's\": 'who is',\n",
       " \"who've\": 'who have',\n",
       " \"why's\": 'why is',\n",
       " \"why've\": 'why have',\n",
       " \"will've\": 'will have',\n",
       " \"won't\": 'will not',\n",
       " \"won't've\": 'will not have',\n",
       " \"would've\": 'would have',\n",
       " \"wouldn't\": 'would not',\n",
       " \"wouldn't've\": 'would not have',\n",
       " \"y'all\": 'you all',\n",
       " \"y'all'd\": 'you all would',\n",
       " \"y'all'd've\": 'you all would have',\n",
       " \"y'all're\": 'you all are',\n",
       " \"y'all've\": 'you all have',\n",
       " \"you'd\": 'you would',\n",
       " \"you'd've\": 'you would have',\n",
       " \"you'll\": 'you will',\n",
       " \"you'll've\": 'you will have',\n",
       " \"you're\": 'you are',\n",
       " \"you've\": 'you have'}"
      ]
     },
     "execution_count": 150,
     "metadata": {},
     "output_type": "execute_result"
    }
   ],
   "source": [
    "CONTRACTION_MAP"
   ]
  },
  {
   "cell_type": "code",
   "execution_count": 5,
   "metadata": {
    "collapsed": false
   },
   "outputs": [
    {
     "data": {
      "text/plain": [
       "(123, 179)"
      ]
     },
     "execution_count": 5,
     "metadata": {},
     "output_type": "execute_result"
    }
   ],
   "source": [
    "len(CONTRACTION_MAP), len(stopword_list)"
   ]
  },
  {
   "cell_type": "code",
   "execution_count": 6,
   "metadata": {
    "collapsed": false
   },
   "outputs": [],
   "source": [
    "def tokenize_text(text):\n",
    "    '''tokenize and remove extraneous whitespace'''\n",
    "    return [t.strip() for t in nltk.word_tokenize(text)]\n",
    "\n",
    "\n",
    "def expand_contraction(text, contraction_map):\n",
    "    '''expanding contractions'''\n",
    "    pattern = re.compile(\"({})\".format(\"|\".join(contraction_map.keys())), \n",
    "                         flags=re.IGNORECASE|re.DOTALL)\n",
    "    \n",
    "    def expand_match(match_obj):\n",
    "        match = match_obj.group(0)\n",
    "        first_char = match[0]\n",
    "        text = contraction_map.get(match, contraction_map.get(match.lower()))\n",
    "        return first_char + text[1:]\n",
    "    \n",
    "    expand_text = pattern.sub(expand_match, text)\n",
    "    expand_text = re.sub(\"'\", \"\", expand_text)\n",
    "    return expand_text\n",
    "\n",
    "\n",
    "# Annotate text tokens with POS tags\n",
    "def pos_tag_text(text):\n",
    "    # convert Penn treebank tag to wordnet tag\n",
    "    def penn_to_wn_tags(pos_tag):\n",
    "        if pos_tag.startswith('J'):\n",
    "            return wn.ADJ\n",
    "        elif pos_tag.startswith('V'):\n",
    "            return wn.VERB\n",
    "        elif pos_tag.startswith('N'):\n",
    "            return wn.NOUN\n",
    "        elif pos_tag.startswith('R'):\n",
    "            return wn.ADV\n",
    "        return None\n",
    "    \n",
    "    tagged_text = nltk.pos_tag(nltk.word_tokenize(text))\n",
    "    tagged_lower_text = [(word.lower(), penn_to_wn_tags(pos_tag)) \n",
    "                          for word, pos_tag in tagged_text]\n",
    "    return tagged_lower_text\n",
    "\n",
    "# lemmatize text based on POS tags\n",
    "def lemmatize_text(text):\n",
    "    \n",
    "    pos_tagged_text = pos_tag_text(text)\n",
    "    lemmatized_tokens = [wnl.lemmatize(word, pos_tag) if pos_tag else word\n",
    "                        for word, pos_tag in pos_tagged_text]\n",
    "    return \" \".join(lemmatized_tokens)\n",
    "\n",
    "def remove_special_characters(text):\n",
    "    #text = expand_contraction(text, CONTRACTION_MAP)\n",
    "    pattern = re.compile(\"[{}]\".format(re.escape(string.punctuation)))\n",
    "    return pattern.sub(\"\", text)\n",
    "\n",
    "def remove_stopwords(text):\n",
    "    return \" \".join(t for t in tokenize_text(text) if t not in stopword_list)\n",
    "\n",
    "def normalize_corpus(corpus, tokenize=False):\n",
    "    normalize_corpus = []\n",
    "    for text in corpus:\n",
    "        text = expand_contraction(text, CONTRACTION_MAP)\n",
    "        text = lemmatize_text(text)\n",
    "        text = remove_special_characters(text)\n",
    "        text = remove_stopwords(text)\n",
    "        normalize_corpus.append(text)\n",
    "        if tokenize:\n",
    "            normalize_corpus.append(tokenize_text(text))\n",
    "    return normalize_corpus"
   ]
  },
  {
   "cell_type": "code",
   "execution_count": 7,
   "metadata": {
    "collapsed": false
   },
   "outputs": [
    {
     "data": {
      "text/plain": [
       "'this be a very simple sentence about'"
      ]
     },
     "execution_count": 7,
     "metadata": {},
     "output_type": "execute_result"
    }
   ],
   "source": [
    "sentence = \"This is a very simple sentence about ...\"\n",
    "lemmatize_text(remove_special_characters(sentence))"
   ]
  },
  {
   "cell_type": "code",
   "execution_count": 8,
   "metadata": {
    "collapsed": false
   },
   "outputs": [
    {
     "data": {
      "text/plain": [
       "['simple sentence']"
      ]
     },
     "execution_count": 8,
     "metadata": {},
     "output_type": "execute_result"
    }
   ],
   "source": [
    "normalize_corpus([sentence])"
   ]
  },
  {
   "cell_type": "markdown",
   "metadata": {
    "collapsed": true
   },
   "source": [
    "## Feature extraction"
   ]
  },
  {
   "cell_type": "code",
   "execution_count": 9,
   "metadata": {
    "collapsed": true
   },
   "outputs": [],
   "source": [
    "CORPUS = [\n",
    "    'the sky is blue',\n",
    "    'sky is blue and sky is beautiful',\n",
    "    'the beautiful sky is so blue',\n",
    "    'i love blue cheese'\n",
    "]\n",
    "\n",
    "new_doc = ['loving this blue sky today']"
   ]
  },
  {
   "cell_type": "markdown",
   "metadata": {
    "collapsed": true
   },
   "source": [
    "### Bag of Words Model"
   ]
  },
  {
   "cell_type": "code",
   "execution_count": 10,
   "metadata": {
    "collapsed": true
   },
   "outputs": [],
   "source": [
    "from sklearn.feature_extraction.text import CountVectorizer\n"
   ]
  },
  {
   "cell_type": "code",
   "execution_count": 11,
   "metadata": {
    "collapsed": false
   },
   "outputs": [
    {
     "data": {
      "text/plain": [
       "CountVectorizer(analyzer='word', binary=False, decode_error='strict',\n",
       "        dtype=<class 'numpy.int64'>, encoding='utf-8', input='content',\n",
       "        lowercase=True, max_df=1.0, max_features=None, min_df=1,\n",
       "        ngram_range=(1, 1), preprocessor=None, stop_words=None,\n",
       "        strip_accents=None, token_pattern='(?u)\\\\b\\\\w\\\\w+\\\\b',\n",
       "        tokenizer=None, vocabulary=None)"
      ]
     },
     "execution_count": 11,
     "metadata": {},
     "output_type": "execute_result"
    }
   ],
   "source": [
    "CountVectorizer()"
   ]
  },
  {
   "cell_type": "code",
   "execution_count": 12,
   "metadata": {
    "collapsed": true
   },
   "outputs": [],
   "source": [
    "def bow_extractor(corpus, ngram_range=(1, 1)):\n",
    "    vectorizer = CountVectorizer(min_df=1, ngram_range=ngram_range)\n",
    "    features = vectorizer.fit_transform(corpus)\n",
    "    return vectorizer, features\n",
    "\n",
    "\n",
    "def display_features(features, feature_names):\n",
    "    return pd.DataFrame(features, columns=feature_names)"
   ]
  },
  {
   "cell_type": "code",
   "execution_count": 13,
   "metadata": {
    "collapsed": true
   },
   "outputs": [],
   "source": [
    "bow_vectorizer, bow_features = bow_extractor(CORPUS)"
   ]
  },
  {
   "cell_type": "code",
   "execution_count": 14,
   "metadata": {
    "collapsed": false
   },
   "outputs": [
    {
     "data": {
      "text/html": [
       "<div>\n",
       "<style>\n",
       "    .dataframe thead tr:only-child th {\n",
       "        text-align: right;\n",
       "    }\n",
       "\n",
       "    .dataframe thead th {\n",
       "        text-align: left;\n",
       "    }\n",
       "\n",
       "    .dataframe tbody tr th {\n",
       "        vertical-align: top;\n",
       "    }\n",
       "</style>\n",
       "<table border=\"1\" class=\"dataframe\">\n",
       "  <thead>\n",
       "    <tr style=\"text-align: right;\">\n",
       "      <th></th>\n",
       "      <th>and</th>\n",
       "      <th>beautiful</th>\n",
       "      <th>blue</th>\n",
       "      <th>cheese</th>\n",
       "      <th>is</th>\n",
       "      <th>love</th>\n",
       "      <th>sky</th>\n",
       "      <th>so</th>\n",
       "      <th>the</th>\n",
       "    </tr>\n",
       "  </thead>\n",
       "  <tbody>\n",
       "    <tr>\n",
       "      <th>0</th>\n",
       "      <td>0</td>\n",
       "      <td>0</td>\n",
       "      <td>1</td>\n",
       "      <td>0</td>\n",
       "      <td>1</td>\n",
       "      <td>0</td>\n",
       "      <td>1</td>\n",
       "      <td>0</td>\n",
       "      <td>1</td>\n",
       "    </tr>\n",
       "    <tr>\n",
       "      <th>1</th>\n",
       "      <td>1</td>\n",
       "      <td>1</td>\n",
       "      <td>1</td>\n",
       "      <td>0</td>\n",
       "      <td>2</td>\n",
       "      <td>0</td>\n",
       "      <td>2</td>\n",
       "      <td>0</td>\n",
       "      <td>0</td>\n",
       "    </tr>\n",
       "    <tr>\n",
       "      <th>2</th>\n",
       "      <td>0</td>\n",
       "      <td>1</td>\n",
       "      <td>1</td>\n",
       "      <td>0</td>\n",
       "      <td>1</td>\n",
       "      <td>0</td>\n",
       "      <td>1</td>\n",
       "      <td>1</td>\n",
       "      <td>1</td>\n",
       "    </tr>\n",
       "    <tr>\n",
       "      <th>3</th>\n",
       "      <td>0</td>\n",
       "      <td>0</td>\n",
       "      <td>1</td>\n",
       "      <td>1</td>\n",
       "      <td>0</td>\n",
       "      <td>1</td>\n",
       "      <td>0</td>\n",
       "      <td>0</td>\n",
       "      <td>0</td>\n",
       "    </tr>\n",
       "  </tbody>\n",
       "</table>\n",
       "</div>"
      ],
      "text/plain": [
       "   and  beautiful  blue  cheese  is  love  sky  so  the\n",
       "0    0          0     1       0   1     0    1   0    1\n",
       "1    1          1     1       0   2     0    2   0    0\n",
       "2    0          1     1       0   1     0    1   1    1\n",
       "3    0          0     1       1   0     1    0   0    0"
      ]
     },
     "execution_count": 14,
     "metadata": {},
     "output_type": "execute_result"
    }
   ],
   "source": [
    "display_features(bow_features.todense(), bow_vectorizer.get_feature_names())"
   ]
  },
  {
   "cell_type": "code",
   "execution_count": 15,
   "metadata": {
    "collapsed": false
   },
   "outputs": [
    {
     "data": {
      "text/html": [
       "<div>\n",
       "<style>\n",
       "    .dataframe thead tr:only-child th {\n",
       "        text-align: right;\n",
       "    }\n",
       "\n",
       "    .dataframe thead th {\n",
       "        text-align: left;\n",
       "    }\n",
       "\n",
       "    .dataframe tbody tr th {\n",
       "        vertical-align: top;\n",
       "    }\n",
       "</style>\n",
       "<table border=\"1\" class=\"dataframe\">\n",
       "  <thead>\n",
       "    <tr style=\"text-align: right;\">\n",
       "      <th></th>\n",
       "      <th>and</th>\n",
       "      <th>beautiful</th>\n",
       "      <th>blue</th>\n",
       "      <th>cheese</th>\n",
       "      <th>is</th>\n",
       "      <th>love</th>\n",
       "      <th>sky</th>\n",
       "      <th>so</th>\n",
       "      <th>the</th>\n",
       "    </tr>\n",
       "  </thead>\n",
       "  <tbody>\n",
       "    <tr>\n",
       "      <th>0</th>\n",
       "      <td>0</td>\n",
       "      <td>0</td>\n",
       "      <td>1</td>\n",
       "      <td>0</td>\n",
       "      <td>0</td>\n",
       "      <td>0</td>\n",
       "      <td>1</td>\n",
       "      <td>0</td>\n",
       "      <td>0</td>\n",
       "    </tr>\n",
       "  </tbody>\n",
       "</table>\n",
       "</div>"
      ],
      "text/plain": [
       "   and  beautiful  blue  cheese  is  love  sky  so  the\n",
       "0    0          0     1       0   0     0    1   0    0"
      ]
     },
     "execution_count": 15,
     "metadata": {},
     "output_type": "execute_result"
    }
   ],
   "source": [
    "display_features(bow_vectorizer.transform(new_doc).todense(), bow_vectorizer.get_feature_names())"
   ]
  },
  {
   "cell_type": "code",
   "execution_count": 16,
   "metadata": {
    "collapsed": true
   },
   "outputs": [],
   "source": [
    "bow_vectorizer_norm, bow_features_norm = bow_extractor(normalize_corpus(CORPUS))"
   ]
  },
  {
   "cell_type": "code",
   "execution_count": 17,
   "metadata": {
    "collapsed": false
   },
   "outputs": [
    {
     "data": {
      "text/html": [
       "<div>\n",
       "<style>\n",
       "    .dataframe thead tr:only-child th {\n",
       "        text-align: right;\n",
       "    }\n",
       "\n",
       "    .dataframe thead th {\n",
       "        text-align: left;\n",
       "    }\n",
       "\n",
       "    .dataframe tbody tr th {\n",
       "        vertical-align: top;\n",
       "    }\n",
       "</style>\n",
       "<table border=\"1\" class=\"dataframe\">\n",
       "  <thead>\n",
       "    <tr style=\"text-align: right;\">\n",
       "      <th></th>\n",
       "      <th>beautiful</th>\n",
       "      <th>blue</th>\n",
       "      <th>cheese</th>\n",
       "      <th>love</th>\n",
       "      <th>sky</th>\n",
       "    </tr>\n",
       "  </thead>\n",
       "  <tbody>\n",
       "    <tr>\n",
       "      <th>0</th>\n",
       "      <td>0</td>\n",
       "      <td>1</td>\n",
       "      <td>0</td>\n",
       "      <td>0</td>\n",
       "      <td>1</td>\n",
       "    </tr>\n",
       "    <tr>\n",
       "      <th>1</th>\n",
       "      <td>1</td>\n",
       "      <td>1</td>\n",
       "      <td>0</td>\n",
       "      <td>0</td>\n",
       "      <td>2</td>\n",
       "    </tr>\n",
       "    <tr>\n",
       "      <th>2</th>\n",
       "      <td>1</td>\n",
       "      <td>1</td>\n",
       "      <td>0</td>\n",
       "      <td>0</td>\n",
       "      <td>1</td>\n",
       "    </tr>\n",
       "    <tr>\n",
       "      <th>3</th>\n",
       "      <td>0</td>\n",
       "      <td>1</td>\n",
       "      <td>1</td>\n",
       "      <td>1</td>\n",
       "      <td>0</td>\n",
       "    </tr>\n",
       "  </tbody>\n",
       "</table>\n",
       "</div>"
      ],
      "text/plain": [
       "   beautiful  blue  cheese  love  sky\n",
       "0          0     1       0     0    1\n",
       "1          1     1       0     0    2\n",
       "2          1     1       0     0    1\n",
       "3          0     1       1     1    0"
      ]
     },
     "execution_count": 17,
     "metadata": {},
     "output_type": "execute_result"
    }
   ],
   "source": [
    "display_features(bow_features_norm.todense(), bow_vectorizer_norm.get_feature_names())"
   ]
  },
  {
   "cell_type": "code",
   "execution_count": 18,
   "metadata": {
    "collapsed": false
   },
   "outputs": [
    {
     "data": {
      "text/html": [
       "<div>\n",
       "<style>\n",
       "    .dataframe thead tr:only-child th {\n",
       "        text-align: right;\n",
       "    }\n",
       "\n",
       "    .dataframe thead th {\n",
       "        text-align: left;\n",
       "    }\n",
       "\n",
       "    .dataframe tbody tr th {\n",
       "        vertical-align: top;\n",
       "    }\n",
       "</style>\n",
       "<table border=\"1\" class=\"dataframe\">\n",
       "  <thead>\n",
       "    <tr style=\"text-align: right;\">\n",
       "      <th></th>\n",
       "      <th>beautiful</th>\n",
       "      <th>blue</th>\n",
       "      <th>cheese</th>\n",
       "      <th>love</th>\n",
       "      <th>sky</th>\n",
       "    </tr>\n",
       "  </thead>\n",
       "  <tbody>\n",
       "    <tr>\n",
       "      <th>0</th>\n",
       "      <td>0</td>\n",
       "      <td>1</td>\n",
       "      <td>0</td>\n",
       "      <td>1</td>\n",
       "      <td>1</td>\n",
       "    </tr>\n",
       "  </tbody>\n",
       "</table>\n",
       "</div>"
      ],
      "text/plain": [
       "   beautiful  blue  cheese  love  sky\n",
       "0          0     1       0     1    1"
      ]
     },
     "execution_count": 18,
     "metadata": {},
     "output_type": "execute_result"
    }
   ],
   "source": [
    "display_features(bow_vectorizer_norm.transform(normalize_corpus(new_doc)).todense(), \n",
    "                 bow_vectorizer_norm.get_feature_names())"
   ]
  },
  {
   "cell_type": "code",
   "execution_count": 19,
   "metadata": {
    "collapsed": false
   },
   "outputs": [],
   "source": [
    "bow_vectorizer_3, bow_features_3 = bow_extractor(CORPUS, (1, 3))"
   ]
  },
  {
   "cell_type": "code",
   "execution_count": 20,
   "metadata": {
    "collapsed": false
   },
   "outputs": [
    {
     "data": {
      "text/html": [
       "<div>\n",
       "<style>\n",
       "    .dataframe thead tr:only-child th {\n",
       "        text-align: right;\n",
       "    }\n",
       "\n",
       "    .dataframe thead th {\n",
       "        text-align: left;\n",
       "    }\n",
       "\n",
       "    .dataframe tbody tr th {\n",
       "        vertical-align: top;\n",
       "    }\n",
       "</style>\n",
       "<table border=\"1\" class=\"dataframe\">\n",
       "  <thead>\n",
       "    <tr style=\"text-align: right;\">\n",
       "      <th></th>\n",
       "      <th>and</th>\n",
       "      <th>and sky</th>\n",
       "      <th>and sky is</th>\n",
       "      <th>beautiful</th>\n",
       "      <th>beautiful sky</th>\n",
       "      <th>beautiful sky is</th>\n",
       "      <th>blue</th>\n",
       "      <th>blue and</th>\n",
       "      <th>blue and sky</th>\n",
       "      <th>blue cheese</th>\n",
       "      <th>...</th>\n",
       "      <th>sky is beautiful</th>\n",
       "      <th>sky is blue</th>\n",
       "      <th>sky is so</th>\n",
       "      <th>so</th>\n",
       "      <th>so blue</th>\n",
       "      <th>the</th>\n",
       "      <th>the beautiful</th>\n",
       "      <th>the beautiful sky</th>\n",
       "      <th>the sky</th>\n",
       "      <th>the sky is</th>\n",
       "    </tr>\n",
       "  </thead>\n",
       "  <tbody>\n",
       "    <tr>\n",
       "      <th>0</th>\n",
       "      <td>0</td>\n",
       "      <td>0</td>\n",
       "      <td>0</td>\n",
       "      <td>0</td>\n",
       "      <td>0</td>\n",
       "      <td>0</td>\n",
       "      <td>1</td>\n",
       "      <td>0</td>\n",
       "      <td>0</td>\n",
       "      <td>0</td>\n",
       "      <td>...</td>\n",
       "      <td>0</td>\n",
       "      <td>1</td>\n",
       "      <td>0</td>\n",
       "      <td>0</td>\n",
       "      <td>0</td>\n",
       "      <td>1</td>\n",
       "      <td>0</td>\n",
       "      <td>0</td>\n",
       "      <td>1</td>\n",
       "      <td>1</td>\n",
       "    </tr>\n",
       "    <tr>\n",
       "      <th>1</th>\n",
       "      <td>1</td>\n",
       "      <td>1</td>\n",
       "      <td>1</td>\n",
       "      <td>1</td>\n",
       "      <td>0</td>\n",
       "      <td>0</td>\n",
       "      <td>1</td>\n",
       "      <td>1</td>\n",
       "      <td>1</td>\n",
       "      <td>0</td>\n",
       "      <td>...</td>\n",
       "      <td>1</td>\n",
       "      <td>1</td>\n",
       "      <td>0</td>\n",
       "      <td>0</td>\n",
       "      <td>0</td>\n",
       "      <td>0</td>\n",
       "      <td>0</td>\n",
       "      <td>0</td>\n",
       "      <td>0</td>\n",
       "      <td>0</td>\n",
       "    </tr>\n",
       "    <tr>\n",
       "      <th>2</th>\n",
       "      <td>0</td>\n",
       "      <td>0</td>\n",
       "      <td>0</td>\n",
       "      <td>1</td>\n",
       "      <td>1</td>\n",
       "      <td>1</td>\n",
       "      <td>1</td>\n",
       "      <td>0</td>\n",
       "      <td>0</td>\n",
       "      <td>0</td>\n",
       "      <td>...</td>\n",
       "      <td>0</td>\n",
       "      <td>0</td>\n",
       "      <td>1</td>\n",
       "      <td>1</td>\n",
       "      <td>1</td>\n",
       "      <td>1</td>\n",
       "      <td>1</td>\n",
       "      <td>1</td>\n",
       "      <td>0</td>\n",
       "      <td>0</td>\n",
       "    </tr>\n",
       "    <tr>\n",
       "      <th>3</th>\n",
       "      <td>0</td>\n",
       "      <td>0</td>\n",
       "      <td>0</td>\n",
       "      <td>0</td>\n",
       "      <td>0</td>\n",
       "      <td>0</td>\n",
       "      <td>1</td>\n",
       "      <td>0</td>\n",
       "      <td>0</td>\n",
       "      <td>1</td>\n",
       "      <td>...</td>\n",
       "      <td>0</td>\n",
       "      <td>0</td>\n",
       "      <td>0</td>\n",
       "      <td>0</td>\n",
       "      <td>0</td>\n",
       "      <td>0</td>\n",
       "      <td>0</td>\n",
       "      <td>0</td>\n",
       "      <td>0</td>\n",
       "      <td>0</td>\n",
       "    </tr>\n",
       "  </tbody>\n",
       "</table>\n",
       "<p>4 rows × 32 columns</p>\n",
       "</div>"
      ],
      "text/plain": [
       "   and  and sky  and sky is  beautiful  beautiful sky  beautiful sky is  blue  \\\n",
       "0    0        0           0          0              0                 0     1   \n",
       "1    1        1           1          1              0                 0     1   \n",
       "2    0        0           0          1              1                 1     1   \n",
       "3    0        0           0          0              0                 0     1   \n",
       "\n",
       "   blue and  blue and sky  blue cheese     ...      sky is beautiful  \\\n",
       "0         0             0            0     ...                     0   \n",
       "1         1             1            0     ...                     1   \n",
       "2         0             0            0     ...                     0   \n",
       "3         0             0            1     ...                     0   \n",
       "\n",
       "   sky is blue  sky is so  so  so blue  the  the beautiful  the beautiful sky  \\\n",
       "0            1          0   0        0    1              0                  0   \n",
       "1            1          0   0        0    0              0                  0   \n",
       "2            0          1   1        1    1              1                  1   \n",
       "3            0          0   0        0    0              0                  0   \n",
       "\n",
       "   the sky  the sky is  \n",
       "0        1           1  \n",
       "1        0           0  \n",
       "2        0           0  \n",
       "3        0           0  \n",
       "\n",
       "[4 rows x 32 columns]"
      ]
     },
     "execution_count": 20,
     "metadata": {},
     "output_type": "execute_result"
    }
   ],
   "source": [
    "display_features(bow_features_3.todense(), bow_vectorizer_3.get_feature_names())"
   ]
  },
  {
   "cell_type": "markdown",
   "metadata": {},
   "source": [
    "### TF-IDF Model"
   ]
  },
  {
   "cell_type": "code",
   "execution_count": 21,
   "metadata": {
    "collapsed": true
   },
   "outputs": [],
   "source": [
    "from sklearn.feature_extraction.text import TfidfTransformer, TfidfVectorizer"
   ]
  },
  {
   "cell_type": "code",
   "execution_count": 22,
   "metadata": {
    "collapsed": true
   },
   "outputs": [],
   "source": [
    "def tfidf_transformer(bow_matrix, norm='l2'):\n",
    "    \n",
    "    transformer = TfidfTransformer(norm=norm, \n",
    "                                   use_idf=True, \n",
    "                                   smooth_idf=True,)\n",
    "    \n",
    "    tfidf_matrix = transformer.fit_transform(bow_matrix)\n",
    "    return transformer, tfidf_matrix\n",
    "\n",
    "\n",
    "def tfidf_extractor(corpus, ngram_range=(1, 1)):\n",
    "    \n",
    "    vectorizer = TfidfVectorizer(min_df=1, ngram_range=ngram_range, \n",
    "                                 norm='l2', smooth_idf=True, use_idf=True)\n",
    "    \n",
    "    tfidf_matrix = vectorizer.fit_transform(corpus)\n",
    "    \n",
    "    return vectorizer, tfidf_matrix"
   ]
  },
  {
   "cell_type": "code",
   "execution_count": 23,
   "metadata": {
    "collapsed": true
   },
   "outputs": [],
   "source": [
    "col_names = bow_vectorizer.get_feature_names()"
   ]
  },
  {
   "cell_type": "code",
   "execution_count": 24,
   "metadata": {
    "collapsed": false
   },
   "outputs": [
    {
     "data": {
      "text/html": [
       "<div>\n",
       "<style>\n",
       "    .dataframe thead tr:only-child th {\n",
       "        text-align: right;\n",
       "    }\n",
       "\n",
       "    .dataframe thead th {\n",
       "        text-align: left;\n",
       "    }\n",
       "\n",
       "    .dataframe tbody tr th {\n",
       "        vertical-align: top;\n",
       "    }\n",
       "</style>\n",
       "<table border=\"1\" class=\"dataframe\">\n",
       "  <thead>\n",
       "    <tr style=\"text-align: right;\">\n",
       "      <th></th>\n",
       "      <th>and</th>\n",
       "      <th>beautiful</th>\n",
       "      <th>blue</th>\n",
       "      <th>cheese</th>\n",
       "      <th>is</th>\n",
       "      <th>love</th>\n",
       "      <th>sky</th>\n",
       "      <th>so</th>\n",
       "      <th>the</th>\n",
       "    </tr>\n",
       "  </thead>\n",
       "  <tbody>\n",
       "    <tr>\n",
       "      <th>0</th>\n",
       "      <td>0.00</td>\n",
       "      <td>0.00</td>\n",
       "      <td>0.20</td>\n",
       "      <td>0.0</td>\n",
       "      <td>0.25</td>\n",
       "      <td>0.0</td>\n",
       "      <td>0.25</td>\n",
       "      <td>0.00</td>\n",
       "      <td>0.30</td>\n",
       "    </tr>\n",
       "    <tr>\n",
       "      <th>1</th>\n",
       "      <td>0.21</td>\n",
       "      <td>0.16</td>\n",
       "      <td>0.11</td>\n",
       "      <td>0.0</td>\n",
       "      <td>0.26</td>\n",
       "      <td>0.0</td>\n",
       "      <td>0.26</td>\n",
       "      <td>0.00</td>\n",
       "      <td>0.00</td>\n",
       "    </tr>\n",
       "    <tr>\n",
       "      <th>2</th>\n",
       "      <td>0.00</td>\n",
       "      <td>0.18</td>\n",
       "      <td>0.12</td>\n",
       "      <td>0.0</td>\n",
       "      <td>0.15</td>\n",
       "      <td>0.0</td>\n",
       "      <td>0.15</td>\n",
       "      <td>0.23</td>\n",
       "      <td>0.18</td>\n",
       "    </tr>\n",
       "    <tr>\n",
       "      <th>3</th>\n",
       "      <td>0.00</td>\n",
       "      <td>0.00</td>\n",
       "      <td>0.21</td>\n",
       "      <td>0.4</td>\n",
       "      <td>0.00</td>\n",
       "      <td>0.4</td>\n",
       "      <td>0.00</td>\n",
       "      <td>0.00</td>\n",
       "      <td>0.00</td>\n",
       "    </tr>\n",
       "  </tbody>\n",
       "</table>\n",
       "</div>"
      ],
      "text/plain": [
       "    and  beautiful  blue  cheese    is  love   sky    so   the\n",
       "0  0.00       0.00  0.20     0.0  0.25   0.0  0.25  0.00  0.30\n",
       "1  0.21       0.16  0.11     0.0  0.26   0.0  0.26  0.00  0.00\n",
       "2  0.00       0.18  0.12     0.0  0.15   0.0  0.15  0.23  0.18\n",
       "3  0.00       0.00  0.21     0.4  0.00   0.4  0.00  0.00  0.00"
      ]
     },
     "execution_count": 24,
     "metadata": {},
     "output_type": "execute_result"
    }
   ],
   "source": [
    "tfidf_vectorizer, tfidf_matrix = tfidf_transformer(bow_features, norm='l1')\n",
    "\n",
    "display_features(tfidf_matrix.todense(), col_names).round(2)"
   ]
  },
  {
   "cell_type": "code",
   "execution_count": 25,
   "metadata": {
    "collapsed": false
   },
   "outputs": [
    {
     "data": {
      "text/html": [
       "<div>\n",
       "<style>\n",
       "    .dataframe thead tr:only-child th {\n",
       "        text-align: right;\n",
       "    }\n",
       "\n",
       "    .dataframe thead th {\n",
       "        text-align: left;\n",
       "    }\n",
       "\n",
       "    .dataframe tbody tr th {\n",
       "        vertical-align: top;\n",
       "    }\n",
       "</style>\n",
       "<table border=\"1\" class=\"dataframe\">\n",
       "  <thead>\n",
       "    <tr style=\"text-align: right;\">\n",
       "      <th></th>\n",
       "      <th>and</th>\n",
       "      <th>beautiful</th>\n",
       "      <th>blue</th>\n",
       "      <th>cheese</th>\n",
       "      <th>is</th>\n",
       "      <th>love</th>\n",
       "      <th>sky</th>\n",
       "      <th>so</th>\n",
       "      <th>the</th>\n",
       "    </tr>\n",
       "  </thead>\n",
       "  <tbody>\n",
       "    <tr>\n",
       "      <th>0</th>\n",
       "      <td>0.00</td>\n",
       "      <td>0.00</td>\n",
       "      <td>0.40</td>\n",
       "      <td>0.00</td>\n",
       "      <td>0.49</td>\n",
       "      <td>0.00</td>\n",
       "      <td>0.49</td>\n",
       "      <td>0.00</td>\n",
       "      <td>0.60</td>\n",
       "    </tr>\n",
       "    <tr>\n",
       "      <th>1</th>\n",
       "      <td>0.44</td>\n",
       "      <td>0.35</td>\n",
       "      <td>0.23</td>\n",
       "      <td>0.00</td>\n",
       "      <td>0.56</td>\n",
       "      <td>0.00</td>\n",
       "      <td>0.56</td>\n",
       "      <td>0.00</td>\n",
       "      <td>0.00</td>\n",
       "    </tr>\n",
       "    <tr>\n",
       "      <th>2</th>\n",
       "      <td>0.00</td>\n",
       "      <td>0.43</td>\n",
       "      <td>0.29</td>\n",
       "      <td>0.00</td>\n",
       "      <td>0.35</td>\n",
       "      <td>0.00</td>\n",
       "      <td>0.35</td>\n",
       "      <td>0.55</td>\n",
       "      <td>0.43</td>\n",
       "    </tr>\n",
       "    <tr>\n",
       "      <th>3</th>\n",
       "      <td>0.00</td>\n",
       "      <td>0.00</td>\n",
       "      <td>0.35</td>\n",
       "      <td>0.66</td>\n",
       "      <td>0.00</td>\n",
       "      <td>0.66</td>\n",
       "      <td>0.00</td>\n",
       "      <td>0.00</td>\n",
       "      <td>0.00</td>\n",
       "    </tr>\n",
       "  </tbody>\n",
       "</table>\n",
       "</div>"
      ],
      "text/plain": [
       "    and  beautiful  blue  cheese    is  love   sky    so   the\n",
       "0  0.00       0.00  0.40    0.00  0.49  0.00  0.49  0.00  0.60\n",
       "1  0.44       0.35  0.23    0.00  0.56  0.00  0.56  0.00  0.00\n",
       "2  0.00       0.43  0.29    0.00  0.35  0.00  0.35  0.55  0.43\n",
       "3  0.00       0.00  0.35    0.66  0.00  0.66  0.00  0.00  0.00"
      ]
     },
     "execution_count": 25,
     "metadata": {},
     "output_type": "execute_result"
    }
   ],
   "source": [
    "tfidf_vectorizer, tfidf_matrix = tfidf_transformer(bow_features)\n",
    "\n",
    "display_features(tfidf_matrix.todense(), col_names).round(2)"
   ]
  },
  {
   "cell_type": "code",
   "execution_count": 26,
   "metadata": {
    "collapsed": false
   },
   "outputs": [
    {
     "data": {
      "text/html": [
       "<div>\n",
       "<style>\n",
       "    .dataframe thead tr:only-child th {\n",
       "        text-align: right;\n",
       "    }\n",
       "\n",
       "    .dataframe thead th {\n",
       "        text-align: left;\n",
       "    }\n",
       "\n",
       "    .dataframe tbody tr th {\n",
       "        vertical-align: top;\n",
       "    }\n",
       "</style>\n",
       "<table border=\"1\" class=\"dataframe\">\n",
       "  <thead>\n",
       "    <tr style=\"text-align: right;\">\n",
       "      <th></th>\n",
       "      <th>and</th>\n",
       "      <th>beautiful</th>\n",
       "      <th>blue</th>\n",
       "      <th>cheese</th>\n",
       "      <th>is</th>\n",
       "      <th>love</th>\n",
       "      <th>sky</th>\n",
       "      <th>so</th>\n",
       "      <th>the</th>\n",
       "    </tr>\n",
       "  </thead>\n",
       "  <tbody>\n",
       "    <tr>\n",
       "      <th>0</th>\n",
       "      <td>0.0</td>\n",
       "      <td>0.0</td>\n",
       "      <td>0.63</td>\n",
       "      <td>0.0</td>\n",
       "      <td>0.0</td>\n",
       "      <td>0.0</td>\n",
       "      <td>0.77</td>\n",
       "      <td>0.0</td>\n",
       "      <td>0.0</td>\n",
       "    </tr>\n",
       "  </tbody>\n",
       "</table>\n",
       "</div>"
      ],
      "text/plain": [
       "   and  beautiful  blue  cheese   is  love   sky   so  the\n",
       "0  0.0        0.0  0.63     0.0  0.0   0.0  0.77  0.0  0.0"
      ]
     },
     "execution_count": 26,
     "metadata": {},
     "output_type": "execute_result"
    }
   ],
   "source": [
    "display_features(tfidf_vectorizer.transform(bow_vectorizer.transform(new_doc)).todense(), \n",
    "                 col_names).round(2)"
   ]
  },
  {
   "cell_type": "code",
   "execution_count": 27,
   "metadata": {
    "collapsed": true
   },
   "outputs": [],
   "source": [
    "# calculate tfidf manually\n",
    "import scipy.sparse as sp"
   ]
  },
  {
   "cell_type": "code",
   "execution_count": 28,
   "metadata": {
    "collapsed": false
   },
   "outputs": [
    {
     "data": {
      "text/plain": [
       "array([[ 0.,  0.,  1.,  0.,  1.,  0.,  1.,  0.,  1.],\n",
       "       [ 1.,  1.,  1.,  0.,  2.,  0.,  2.,  0.,  0.],\n",
       "       [ 0.,  1.,  1.,  0.,  1.,  0.,  1.,  1.,  1.],\n",
       "       [ 0.,  0.,  1.,  1.,  0.,  1.,  0.,  0.,  0.]])"
      ]
     },
     "execution_count": 28,
     "metadata": {},
     "output_type": "execute_result"
    }
   ],
   "source": [
    "tf_matrix = np.array(bow_features.todense(), dtype=float)\n",
    "tf_matrix"
   ]
  },
  {
   "cell_type": "code",
   "execution_count": 29,
   "metadata": {
    "collapsed": false
   },
   "outputs": [
    {
     "data": {
      "text/html": [
       "<div>\n",
       "<style>\n",
       "    .dataframe thead tr:only-child th {\n",
       "        text-align: right;\n",
       "    }\n",
       "\n",
       "    .dataframe thead th {\n",
       "        text-align: left;\n",
       "    }\n",
       "\n",
       "    .dataframe tbody tr th {\n",
       "        vertical-align: top;\n",
       "    }\n",
       "</style>\n",
       "<table border=\"1\" class=\"dataframe\">\n",
       "  <thead>\n",
       "    <tr style=\"text-align: right;\">\n",
       "      <th></th>\n",
       "      <th>and</th>\n",
       "      <th>beautiful</th>\n",
       "      <th>blue</th>\n",
       "      <th>cheese</th>\n",
       "      <th>is</th>\n",
       "      <th>love</th>\n",
       "      <th>sky</th>\n",
       "      <th>so</th>\n",
       "      <th>the</th>\n",
       "    </tr>\n",
       "  </thead>\n",
       "  <tbody>\n",
       "    <tr>\n",
       "      <th>0</th>\n",
       "      <td>0.0</td>\n",
       "      <td>0.0</td>\n",
       "      <td>1.0</td>\n",
       "      <td>0.0</td>\n",
       "      <td>1.0</td>\n",
       "      <td>0.0</td>\n",
       "      <td>1.0</td>\n",
       "      <td>0.0</td>\n",
       "      <td>1.0</td>\n",
       "    </tr>\n",
       "    <tr>\n",
       "      <th>1</th>\n",
       "      <td>1.0</td>\n",
       "      <td>1.0</td>\n",
       "      <td>1.0</td>\n",
       "      <td>0.0</td>\n",
       "      <td>2.0</td>\n",
       "      <td>0.0</td>\n",
       "      <td>2.0</td>\n",
       "      <td>0.0</td>\n",
       "      <td>0.0</td>\n",
       "    </tr>\n",
       "    <tr>\n",
       "      <th>2</th>\n",
       "      <td>0.0</td>\n",
       "      <td>1.0</td>\n",
       "      <td>1.0</td>\n",
       "      <td>0.0</td>\n",
       "      <td>1.0</td>\n",
       "      <td>0.0</td>\n",
       "      <td>1.0</td>\n",
       "      <td>1.0</td>\n",
       "      <td>1.0</td>\n",
       "    </tr>\n",
       "    <tr>\n",
       "      <th>3</th>\n",
       "      <td>0.0</td>\n",
       "      <td>0.0</td>\n",
       "      <td>1.0</td>\n",
       "      <td>1.0</td>\n",
       "      <td>0.0</td>\n",
       "      <td>1.0</td>\n",
       "      <td>0.0</td>\n",
       "      <td>0.0</td>\n",
       "      <td>0.0</td>\n",
       "    </tr>\n",
       "  </tbody>\n",
       "</table>\n",
       "</div>"
      ],
      "text/plain": [
       "   and  beautiful  blue  cheese   is  love  sky   so  the\n",
       "0  0.0        0.0   1.0     0.0  1.0   0.0  1.0  0.0  1.0\n",
       "1  1.0        1.0   1.0     0.0  2.0   0.0  2.0  0.0  0.0\n",
       "2  0.0        1.0   1.0     0.0  1.0   0.0  1.0  1.0  1.0\n",
       "3  0.0        0.0   1.0     1.0  0.0   1.0  0.0  0.0  0.0"
      ]
     },
     "execution_count": 29,
     "metadata": {},
     "output_type": "execute_result"
    }
   ],
   "source": [
    "display_features(tf_matrix, col_names)"
   ]
  },
  {
   "cell_type": "code",
   "execution_count": 30,
   "metadata": {
    "collapsed": false
   },
   "outputs": [
    {
     "data": {
      "text/plain": [
       "array([2, 3, 5, 2, 4, 2, 4, 2, 3])"
      ]
     },
     "execution_count": 30,
     "metadata": {},
     "output_type": "execute_result"
    }
   ],
   "source": [
    "# doc freq\n",
    "df = tf_matrix.astype(bool).sum(axis=0) + 1\n",
    "df"
   ]
  },
  {
   "cell_type": "code",
   "execution_count": 31,
   "metadata": {
    "collapsed": false
   },
   "outputs": [
    {
     "data": {
      "text/plain": [
       "array([ 1.91629073,  1.51082562,  1.        ,  1.91629073,  1.22314355,\n",
       "        1.91629073,  1.22314355,  1.91629073,  1.51082562])"
      ]
     },
     "execution_count": 31,
     "metadata": {},
     "output_type": "execute_result"
    }
   ],
   "source": [
    "# idf = 1 + log(C+1 / tf+1)\n",
    "\n",
    "C = tf_matrix.shape[0]\n",
    "\n",
    "idf = np.log((C+1) / df) + 1\n",
    "idf"
   ]
  },
  {
   "cell_type": "code",
   "execution_count": 32,
   "metadata": {
    "collapsed": false
   },
   "outputs": [],
   "source": [
    "tf_idf_matrix = (tf_matrix * idf[None, :]).round(2)"
   ]
  },
  {
   "cell_type": "code",
   "execution_count": 33,
   "metadata": {
    "collapsed": false
   },
   "outputs": [
    {
     "data": {
      "text/plain": [
       "array([[ 0.  ,  0.  ,  1.  ,  0.  ,  1.22,  0.  ,  1.22,  0.  ,  1.51],\n",
       "       [ 1.92,  1.51,  1.  ,  0.  ,  2.45,  0.  ,  2.45,  0.  ,  0.  ],\n",
       "       [ 0.  ,  1.51,  1.  ,  0.  ,  1.22,  0.  ,  1.22,  1.92,  1.51],\n",
       "       [ 0.  ,  0.  ,  1.  ,  1.92,  0.  ,  1.92,  0.  ,  0.  ,  0.  ]])"
      ]
     },
     "execution_count": 33,
     "metadata": {},
     "output_type": "execute_result"
    }
   ],
   "source": [
    "tf_idf_matrix"
   ]
  },
  {
   "cell_type": "code",
   "execution_count": 34,
   "metadata": {
    "collapsed": false
   },
   "outputs": [],
   "source": [
    "# l2 normalize -> each row\n",
    "tf_idf_norm = tf_idf_matrix / np.linalg.norm(tf_idf_matrix, axis=1, keepdims=True)"
   ]
  },
  {
   "cell_type": "code",
   "execution_count": 35,
   "metadata": {
    "collapsed": false
   },
   "outputs": [
    {
     "data": {
      "text/html": [
       "<div>\n",
       "<style>\n",
       "    .dataframe thead tr:only-child th {\n",
       "        text-align: right;\n",
       "    }\n",
       "\n",
       "    .dataframe thead th {\n",
       "        text-align: left;\n",
       "    }\n",
       "\n",
       "    .dataframe tbody tr th {\n",
       "        vertical-align: top;\n",
       "    }\n",
       "</style>\n",
       "<table border=\"1\" class=\"dataframe\">\n",
       "  <thead>\n",
       "    <tr style=\"text-align: right;\">\n",
       "      <th></th>\n",
       "      <th>and</th>\n",
       "      <th>beautiful</th>\n",
       "      <th>blue</th>\n",
       "      <th>cheese</th>\n",
       "      <th>is</th>\n",
       "      <th>love</th>\n",
       "      <th>sky</th>\n",
       "      <th>so</th>\n",
       "      <th>the</th>\n",
       "    </tr>\n",
       "  </thead>\n",
       "  <tbody>\n",
       "    <tr>\n",
       "      <th>0</th>\n",
       "      <td>0.00</td>\n",
       "      <td>0.00</td>\n",
       "      <td>0.40</td>\n",
       "      <td>0.00</td>\n",
       "      <td>0.49</td>\n",
       "      <td>0.00</td>\n",
       "      <td>0.49</td>\n",
       "      <td>0.00</td>\n",
       "      <td>0.60</td>\n",
       "    </tr>\n",
       "    <tr>\n",
       "      <th>1</th>\n",
       "      <td>0.44</td>\n",
       "      <td>0.35</td>\n",
       "      <td>0.23</td>\n",
       "      <td>0.00</td>\n",
       "      <td>0.56</td>\n",
       "      <td>0.00</td>\n",
       "      <td>0.56</td>\n",
       "      <td>0.00</td>\n",
       "      <td>0.00</td>\n",
       "    </tr>\n",
       "    <tr>\n",
       "      <th>2</th>\n",
       "      <td>0.00</td>\n",
       "      <td>0.43</td>\n",
       "      <td>0.29</td>\n",
       "      <td>0.00</td>\n",
       "      <td>0.35</td>\n",
       "      <td>0.00</td>\n",
       "      <td>0.35</td>\n",
       "      <td>0.55</td>\n",
       "      <td>0.43</td>\n",
       "    </tr>\n",
       "    <tr>\n",
       "      <th>3</th>\n",
       "      <td>0.00</td>\n",
       "      <td>0.00</td>\n",
       "      <td>0.35</td>\n",
       "      <td>0.66</td>\n",
       "      <td>0.00</td>\n",
       "      <td>0.66</td>\n",
       "      <td>0.00</td>\n",
       "      <td>0.00</td>\n",
       "      <td>0.00</td>\n",
       "    </tr>\n",
       "  </tbody>\n",
       "</table>\n",
       "</div>"
      ],
      "text/plain": [
       "    and  beautiful  blue  cheese    is  love   sky    so   the\n",
       "0  0.00       0.00  0.40    0.00  0.49  0.00  0.49  0.00  0.60\n",
       "1  0.44       0.35  0.23    0.00  0.56  0.00  0.56  0.00  0.00\n",
       "2  0.00       0.43  0.29    0.00  0.35  0.00  0.35  0.55  0.43\n",
       "3  0.00       0.00  0.35    0.66  0.00  0.66  0.00  0.00  0.00"
      ]
     },
     "execution_count": 35,
     "metadata": {},
     "output_type": "execute_result"
    }
   ],
   "source": [
    "display_features(tf_idf_norm.round(2), col_names)"
   ]
  },
  {
   "cell_type": "code",
   "execution_count": 36,
   "metadata": {
    "collapsed": false
   },
   "outputs": [
    {
     "data": {
      "text/plain": [
       "array([[ 0.  ,  0.  ,  0.63,  0.  ,  0.  ,  0.  ,  0.77,  0.  ,  0.  ]])"
      ]
     },
     "execution_count": 36,
     "metadata": {},
     "output_type": "execute_result"
    }
   ],
   "source": [
    "# transform new_doc using tfidf method\n",
    "a = np.array(bow_vectorizer.transform(new_doc).todense(), dtype=float) * idf\n",
    "a /= np.linalg.norm(a, axis=1, keepdims=True)\n",
    "a.round(2)"
   ]
  },
  {
   "cell_type": "code",
   "execution_count": 37,
   "metadata": {
    "collapsed": false
   },
   "outputs": [
    {
     "data": {
      "text/html": [
       "<div>\n",
       "<style>\n",
       "    .dataframe thead tr:only-child th {\n",
       "        text-align: right;\n",
       "    }\n",
       "\n",
       "    .dataframe thead th {\n",
       "        text-align: left;\n",
       "    }\n",
       "\n",
       "    .dataframe tbody tr th {\n",
       "        vertical-align: top;\n",
       "    }\n",
       "</style>\n",
       "<table border=\"1\" class=\"dataframe\">\n",
       "  <thead>\n",
       "    <tr style=\"text-align: right;\">\n",
       "      <th></th>\n",
       "      <th>and</th>\n",
       "      <th>beautiful</th>\n",
       "      <th>blue</th>\n",
       "      <th>cheese</th>\n",
       "      <th>is</th>\n",
       "      <th>love</th>\n",
       "      <th>sky</th>\n",
       "      <th>so</th>\n",
       "      <th>the</th>\n",
       "    </tr>\n",
       "  </thead>\n",
       "  <tbody>\n",
       "    <tr>\n",
       "      <th>0</th>\n",
       "      <td>0.0</td>\n",
       "      <td>0.0</td>\n",
       "      <td>0.63</td>\n",
       "      <td>0.0</td>\n",
       "      <td>0.0</td>\n",
       "      <td>0.0</td>\n",
       "      <td>0.77</td>\n",
       "      <td>0.0</td>\n",
       "      <td>0.0</td>\n",
       "    </tr>\n",
       "  </tbody>\n",
       "</table>\n",
       "</div>"
      ],
      "text/plain": [
       "   and  beautiful  blue  cheese   is  love   sky   so  the\n",
       "0  0.0        0.0  0.63     0.0  0.0   0.0  0.77  0.0  0.0"
      ]
     },
     "execution_count": 37,
     "metadata": {},
     "output_type": "execute_result"
    }
   ],
   "source": [
    "display_features(a, col_names).round(2)"
   ]
  },
  {
   "cell_type": "code",
   "execution_count": 38,
   "metadata": {
    "collapsed": true
   },
   "outputs": [],
   "source": [
    "tfidf_vectorizer, tfidf_matrix = tfidf_extractor(CORPUS)"
   ]
  },
  {
   "cell_type": "code",
   "execution_count": 39,
   "metadata": {
    "collapsed": false
   },
   "outputs": [
    {
     "data": {
      "text/html": [
       "<div>\n",
       "<style>\n",
       "    .dataframe thead tr:only-child th {\n",
       "        text-align: right;\n",
       "    }\n",
       "\n",
       "    .dataframe thead th {\n",
       "        text-align: left;\n",
       "    }\n",
       "\n",
       "    .dataframe tbody tr th {\n",
       "        vertical-align: top;\n",
       "    }\n",
       "</style>\n",
       "<table border=\"1\" class=\"dataframe\">\n",
       "  <thead>\n",
       "    <tr style=\"text-align: right;\">\n",
       "      <th></th>\n",
       "      <th>and</th>\n",
       "      <th>beautiful</th>\n",
       "      <th>blue</th>\n",
       "      <th>cheese</th>\n",
       "      <th>is</th>\n",
       "      <th>love</th>\n",
       "      <th>sky</th>\n",
       "      <th>so</th>\n",
       "      <th>the</th>\n",
       "    </tr>\n",
       "  </thead>\n",
       "  <tbody>\n",
       "    <tr>\n",
       "      <th>0</th>\n",
       "      <td>0.00</td>\n",
       "      <td>0.00</td>\n",
       "      <td>0.40</td>\n",
       "      <td>0.00</td>\n",
       "      <td>0.49</td>\n",
       "      <td>0.00</td>\n",
       "      <td>0.49</td>\n",
       "      <td>0.00</td>\n",
       "      <td>0.60</td>\n",
       "    </tr>\n",
       "    <tr>\n",
       "      <th>1</th>\n",
       "      <td>0.44</td>\n",
       "      <td>0.35</td>\n",
       "      <td>0.23</td>\n",
       "      <td>0.00</td>\n",
       "      <td>0.56</td>\n",
       "      <td>0.00</td>\n",
       "      <td>0.56</td>\n",
       "      <td>0.00</td>\n",
       "      <td>0.00</td>\n",
       "    </tr>\n",
       "    <tr>\n",
       "      <th>2</th>\n",
       "      <td>0.00</td>\n",
       "      <td>0.43</td>\n",
       "      <td>0.29</td>\n",
       "      <td>0.00</td>\n",
       "      <td>0.35</td>\n",
       "      <td>0.00</td>\n",
       "      <td>0.35</td>\n",
       "      <td>0.55</td>\n",
       "      <td>0.43</td>\n",
       "    </tr>\n",
       "    <tr>\n",
       "      <th>3</th>\n",
       "      <td>0.00</td>\n",
       "      <td>0.00</td>\n",
       "      <td>0.35</td>\n",
       "      <td>0.66</td>\n",
       "      <td>0.00</td>\n",
       "      <td>0.66</td>\n",
       "      <td>0.00</td>\n",
       "      <td>0.00</td>\n",
       "      <td>0.00</td>\n",
       "    </tr>\n",
       "  </tbody>\n",
       "</table>\n",
       "</div>"
      ],
      "text/plain": [
       "    and  beautiful  blue  cheese    is  love   sky    so   the\n",
       "0  0.00       0.00  0.40    0.00  0.49  0.00  0.49  0.00  0.60\n",
       "1  0.44       0.35  0.23    0.00  0.56  0.00  0.56  0.00  0.00\n",
       "2  0.00       0.43  0.29    0.00  0.35  0.00  0.35  0.55  0.43\n",
       "3  0.00       0.00  0.35    0.66  0.00  0.66  0.00  0.00  0.00"
      ]
     },
     "execution_count": 39,
     "metadata": {},
     "output_type": "execute_result"
    }
   ],
   "source": [
    "display_features(tfidf_matrix.todense().round(2), tfidf_vectorizer.get_feature_names())"
   ]
  },
  {
   "cell_type": "code",
   "execution_count": 40,
   "metadata": {
    "collapsed": false
   },
   "outputs": [
    {
     "data": {
      "text/html": [
       "<div>\n",
       "<style>\n",
       "    .dataframe thead tr:only-child th {\n",
       "        text-align: right;\n",
       "    }\n",
       "\n",
       "    .dataframe thead th {\n",
       "        text-align: left;\n",
       "    }\n",
       "\n",
       "    .dataframe tbody tr th {\n",
       "        vertical-align: top;\n",
       "    }\n",
       "</style>\n",
       "<table border=\"1\" class=\"dataframe\">\n",
       "  <thead>\n",
       "    <tr style=\"text-align: right;\">\n",
       "      <th></th>\n",
       "      <th>and</th>\n",
       "      <th>beautiful</th>\n",
       "      <th>blue</th>\n",
       "      <th>cheese</th>\n",
       "      <th>is</th>\n",
       "      <th>love</th>\n",
       "      <th>sky</th>\n",
       "      <th>so</th>\n",
       "      <th>the</th>\n",
       "    </tr>\n",
       "  </thead>\n",
       "  <tbody>\n",
       "    <tr>\n",
       "      <th>0</th>\n",
       "      <td>0.0</td>\n",
       "      <td>0.0</td>\n",
       "      <td>0.63</td>\n",
       "      <td>0.0</td>\n",
       "      <td>0.0</td>\n",
       "      <td>0.0</td>\n",
       "      <td>0.77</td>\n",
       "      <td>0.0</td>\n",
       "      <td>0.0</td>\n",
       "    </tr>\n",
       "  </tbody>\n",
       "</table>\n",
       "</div>"
      ],
      "text/plain": [
       "   and  beautiful  blue  cheese   is  love   sky   so  the\n",
       "0  0.0        0.0  0.63     0.0  0.0   0.0  0.77  0.0  0.0"
      ]
     },
     "execution_count": 40,
     "metadata": {},
     "output_type": "execute_result"
    }
   ],
   "source": [
    "display_features(tfidf_vectorizer.transform(new_doc).todense(), \n",
    "                 tfidf_vectorizer.get_feature_names()).round(2)"
   ]
  },
  {
   "cell_type": "markdown",
   "metadata": {},
   "source": [
    "### Advanced Word Vectorization Models"
   ]
  },
  {
   "cell_type": "code",
   "execution_count": 41,
   "metadata": {
    "collapsed": true
   },
   "outputs": [],
   "source": [
    "import gensim\n",
    "import nltk"
   ]
  },
  {
   "cell_type": "code",
   "execution_count": 42,
   "metadata": {
    "collapsed": true
   },
   "outputs": [],
   "source": [
    "TOKENIZED_CORPUS = [nltk.word_tokenize(sent) for sent in CORPUS]\n",
    "\n",
    "tokenized_new_doc = [nltk.word_tokenize(sent) for sent in new_doc]"
   ]
  },
  {
   "cell_type": "code",
   "execution_count": 43,
   "metadata": {
    "collapsed": true
   },
   "outputs": [],
   "source": [
    "# build word2vec model\n",
    "model = gensim.models.Word2Vec(sentences=TOKENIZED_CORPUS, \n",
    "                               size=10, window=10, min_count=2, sample=1e-3)"
   ]
  },
  {
   "cell_type": "code",
   "execution_count": 44,
   "metadata": {
    "collapsed": false
   },
   "outputs": [
    {
     "data": {
      "text/plain": [
       "array([-0.00902445, -0.03059663,  0.00619714,  0.00140127,  0.02062266,\n",
       "        0.04905912, -0.03310942,  0.031585  , -0.01510096,  0.03631796], dtype=float32)"
      ]
     },
     "execution_count": 44,
     "metadata": {},
     "output_type": "execute_result"
    }
   ],
   "source": [
    "model['sky']"
   ]
  },
  {
   "cell_type": "code",
   "execution_count": 45,
   "metadata": {
    "collapsed": false
   },
   "outputs": [
    {
     "data": {
      "text/plain": [
       "array([-0.04295705,  0.00361034,  0.03533934, -0.00301723, -0.03600539,\n",
       "       -0.03145101, -0.04008604, -0.02292028,  0.04104633, -0.01972442], dtype=float32)"
      ]
     },
     "execution_count": 45,
     "metadata": {},
     "output_type": "execute_result"
    }
   ],
   "source": [
    "model['blue']"
   ]
  },
  {
   "cell_type": "markdown",
   "metadata": {},
   "source": [
    "### Averaged word vectors"
   ]
  },
  {
   "cell_type": "code",
   "execution_count": 46,
   "metadata": {
    "collapsed": true
   },
   "outputs": [],
   "source": [
    "def average_word_vectors(words, model, vocabulary, num_features):\n",
    "    '''calculate average word vectors for a text document'''\n",
    "    \n",
    "    feature_vec = np.zeros((num_features, ), dtype=float)\n",
    "    nwords = 0\n",
    "    \n",
    "    for word in words:\n",
    "        if word in vocabulary:\n",
    "            nwords += 1\n",
    "            feature_vec += model[word]\n",
    "    if nwords:\n",
    "        return feature_vec / nwords\n",
    "    return feature_vec\n",
    "\n",
    "\n",
    "def averaged_word_vectorizer(corpus, model, num_features):\n",
    "    \n",
    "    vocabulary = set(model.wv.index2word)\n",
    "    feature_vecs = [average_word_vectors(tokens, model, vocabulary, num_features) \n",
    "                     for tokens in corpus]\n",
    "    return np.array(feature_vecs)"
   ]
  },
  {
   "cell_type": "code",
   "execution_count": 47,
   "metadata": {
    "collapsed": false
   },
   "outputs": [
    {
     "data": {
      "text/plain": [
       "array([[-0.013, -0.019,  0.008,  0.003, -0.016,  0.004, -0.001,  0.012,\n",
       "         0.014,  0.01 ],\n",
       "       [ 0.005, -0.004, -0.015, -0.002,  0.002,  0.028,  0.001,  0.017,\n",
       "         0.006,  0.013],\n",
       "       [-0.008, -0.007, -0.002,  0.001, -0.011,  0.005,  0.003,  0.018,\n",
       "         0.013,  0.002],\n",
       "       [-0.043,  0.004,  0.035, -0.003, -0.036, -0.031, -0.04 , -0.023,\n",
       "         0.041, -0.02 ]])"
      ]
     },
     "execution_count": 47,
     "metadata": {},
     "output_type": "execute_result"
    }
   ],
   "source": [
    "averaged_word_vectorizer(TOKENIZED_CORPUS, model, 10).round(3)"
   ]
  },
  {
   "cell_type": "code",
   "execution_count": 48,
   "metadata": {
    "collapsed": false
   },
   "outputs": [
    {
     "data": {
      "text/plain": [
       "array([[-0.026, -0.013,  0.021, -0.001, -0.008,  0.009, -0.037,  0.004,\n",
       "         0.013,  0.008]])"
      ]
     },
     "execution_count": 48,
     "metadata": {},
     "output_type": "execute_result"
    }
   ],
   "source": [
    "averaged_word_vectorizer(tokenized_new_doc, model, 10).round(3)"
   ]
  },
  {
   "cell_type": "markdown",
   "metadata": {},
   "source": [
    "### TF-IDF weighted averaged word vectors"
   ]
  },
  {
   "cell_type": "code",
   "execution_count": 49,
   "metadata": {
    "collapsed": false
   },
   "outputs": [
    {
     "data": {
      "text/plain": [
       "matrix([[ 0.        ,  0.        ,  0.39921021,  0.        ,  0.48829139,\n",
       "          0.        ,  0.48829139,  0.        ,  0.60313701],\n",
       "        [ 0.44051607,  0.34730793,  0.22987956,  0.        ,  0.5623514 ,\n",
       "          0.        ,  0.5623514 ,  0.        ,  0.        ],\n",
       "        [ 0.        ,  0.43202578,  0.28595344,  0.        ,  0.3497621 ,\n",
       "          0.        ,  0.3497621 ,  0.54796992,  0.43202578],\n",
       "        [ 0.        ,  0.        ,  0.34618161,  0.66338461,  0.        ,\n",
       "          0.66338461,  0.        ,  0.        ,  0.        ]])"
      ]
     },
     "execution_count": 49,
     "metadata": {},
     "output_type": "execute_result"
    }
   ],
   "source": [
    "tfidf_matrix.todense()"
   ]
  },
  {
   "cell_type": "code",
   "execution_count": 50,
   "metadata": {
    "collapsed": false
   },
   "outputs": [
    {
     "data": {
      "text/plain": [
       "{'and': 0,\n",
       " 'beautiful': 1,\n",
       " 'blue': 2,\n",
       " 'cheese': 3,\n",
       " 'is': 4,\n",
       " 'love': 5,\n",
       " 'sky': 6,\n",
       " 'so': 7,\n",
       " 'the': 8}"
      ]
     },
     "execution_count": 50,
     "metadata": {},
     "output_type": "execute_result"
    }
   ],
   "source": [
    "tfidf_vectorizer.vocabulary_"
   ]
  },
  {
   "cell_type": "code",
   "execution_count": 51,
   "metadata": {
    "collapsed": true
   },
   "outputs": [],
   "source": [
    "def tfidf_wtd_avg_word_vectors(words, tfidf_vector, tfidf_vocab, model, num_features):\n",
    "    '''compute tfidf weighted averaged word vector for a document'''\n",
    "    \n",
    "    word_tfidfs = [tfidf_vector[0, tfidf_vocab.get(word)] if word in tfidf_vocab else 0\n",
    "                                for word in words]\n",
    "    word_tfidf_map = {word:tfidf_val for word, tfidf_val in zip(words, word_tfidfs)}\n",
    "    \n",
    "    feature_vec = np.zeros((num_features, ), dtype=float)\n",
    "    wts = 0\n",
    "    vocab = set(model.wv.index2word)\n",
    "    for word in words:\n",
    "        if word in vocab:\n",
    "            feature_vec += model[word] * word_tfidf_map[word]\n",
    "            wts += word_tfidf_map[word]\n",
    "    if wts:\n",
    "        return feature_vec / wts\n",
    "    return feature_vec\n",
    "\n",
    "\n",
    "def tfidf_weighted_averaged_word_vectorizer(corpus, tfidf_vectors, tfidf_vocab, model, num_features):\n",
    "    '''return tfidf weighted averaged word vector for corpus'''\n",
    "    assert len(corpus) == len(tfidf_vectors)\n",
    "    \n",
    "    features = [tfidf_wtd_avg_word_vectors(words, vec, tfidf_vocab, model, num_features)\n",
    "                for words, vec in zip(corpus, tfidf_vectors)]\n",
    "    \n",
    "    return np.array(features)"
   ]
  },
  {
   "cell_type": "code",
   "execution_count": 52,
   "metadata": {
    "collapsed": true
   },
   "outputs": [],
   "source": [
    "corpus_tfidf = tfidf_matrix.todense()\n",
    "vocab = tfidf_vectorizer.vocabulary_\n",
    "\n",
    "wt_tfidf_word_vec_features = tfidf_weighted_averaged_word_vectorizer(TOKENIZED_CORPUS, \n",
    "                                                                     corpus_tfidf, \n",
    "                                                                     vocab, model, 10)"
   ]
  },
  {
   "cell_type": "code",
   "execution_count": 53,
   "metadata": {
    "collapsed": false
   },
   "outputs": [
    {
     "data": {
      "text/plain": [
       "array([[-0.01346301, -0.02210545,  0.00863192,  0.00434172, -0.016948  ,\n",
       "         0.00210893,  0.00182713,  0.01480093,  0.01271891,  0.0099421 ],\n",
       "       [ 0.00994022, -0.00803649, -0.01882209, -0.00099282,  0.00594375,\n",
       "         0.03685214,  0.00373658,  0.01927835,  0.00172328,  0.02012198],\n",
       "       [-0.00687397, -0.00743495, -0.00330448,  0.00093536, -0.01029633,\n",
       "         0.00416343,  0.00656087,  0.02150966,  0.01168572,  0.00054393],\n",
       "       [-0.04295705,  0.00361034,  0.03533934, -0.00301723, -0.03600539,\n",
       "        -0.03145101, -0.04008604, -0.02292028,  0.04104632, -0.01972442]])"
      ]
     },
     "execution_count": 53,
     "metadata": {},
     "output_type": "execute_result"
    }
   ],
   "source": [
    "wt_tfidf_word_vec_features"
   ]
  },
  {
   "cell_type": "code",
   "execution_count": 54,
   "metadata": {
    "collapsed": false
   },
   "outputs": [
    {
     "data": {
      "text/plain": [
       "array([[-0.02428779, -0.01520988,  0.01930569, -0.00058623, -0.0048494 ,\n",
       "         0.01284457, -0.03624759,  0.00706778,  0.01015484,  0.01110934]])"
      ]
     },
     "execution_count": 54,
     "metadata": {},
     "output_type": "execute_result"
    }
   ],
   "source": [
    "tfidf_weighted_averaged_word_vectorizer(tokenized_new_doc, tfidf_vectorizer.transform(new_doc).todense(), \n",
    "                                        vocab, model, 10)"
   ]
  },
  {
   "cell_type": "markdown",
   "metadata": {},
   "source": [
    "## Classification Algorithms"
   ]
  },
  {
   "cell_type": "code",
   "execution_count": 120,
   "metadata": {
    "collapsed": false
   },
   "outputs": [],
   "source": [
    "from sklearn.datasets import fetch_20newsgroups\n",
    "from sklearn.model_selection import train_test_split\n",
    "from sklearn.metrics import classification_report, confusion_matrix\n",
    "from sklearn.naive_bayes import MultinomialNB\n",
    "from sklearn.linear_model import SGDClassifier"
   ]
  },
  {
   "cell_type": "code",
   "execution_count": 74,
   "metadata": {
    "collapsed": true
   },
   "outputs": [],
   "source": [
    "def remove_empty_docs(corpus, labels):\n",
    "    filtered_corpus = []\n",
    "    filtered_labels = []\n",
    "    for doc, label in zip(corpus, labels):\n",
    "        if doc.strip():\n",
    "            filtered_corpus.append(doc)\n",
    "            filtered_labels.append(label)\n",
    "    return filtered_corpus, filtered_labels"
   ]
  },
  {
   "cell_type": "code",
   "execution_count": 80,
   "metadata": {
    "collapsed": false
   },
   "outputs": [],
   "source": [
    "data = fetch_20newsgroups(remove=('headers', 'footers', 'quotes'))"
   ]
  },
  {
   "cell_type": "code",
   "execution_count": 81,
   "metadata": {
    "collapsed": false
   },
   "outputs": [
    {
     "name": "stdout",
     "output_type": "stream",
     "text": [
      "I have a line on a Ducati 900GTS 1978 model with 17k on the clock.  Runs\n",
      "very well, paint is the bronze/brown/orange faded out, leaks a bit of oil\n",
      "and pops out of 1st with hard accel.  The shop will fix trans and oil \n",
      "leak.  They sold the bike to the 1 and only owner.  They want $3495, and\n",
      "I am thinking more like $3K.  Any opinions out there?  Please email me.\n",
      "Thanks.  It would be a nice stable mate to the Beemer.  Then I'll get\n",
      "a jap bike and call myself Axis Motors!\n",
      "\n",
      "-- \n",
      "-----------------------------------------------------------------------\n",
      "\"Tuba\" (Irwin)      \"I honk therefore I am\"     CompuTrac-Richardson,Tx\n",
      "irwin@cmptrc.lonestar.org    DoD #0826          (R75/6)\n"
     ]
    }
   ],
   "source": [
    "print(data.data[10])"
   ]
  },
  {
   "cell_type": "code",
   "execution_count": 71,
   "metadata": {
    "collapsed": false
   },
   "outputs": [
    {
     "data": {
      "text/plain": [
       "dict_keys(['target_names', 'description', 'target', 'DESCR', 'filenames', 'data'])"
      ]
     },
     "execution_count": 71,
     "metadata": {},
     "output_type": "execute_result"
    }
   ],
   "source": [
    "data.keys()"
   ]
  },
  {
   "cell_type": "code",
   "execution_count": 72,
   "metadata": {
    "collapsed": false
   },
   "outputs": [
    {
     "data": {
      "text/plain": [
       "array(['alt.atheism', 'comp.graphics', 'comp.os.ms-windows.misc',\n",
       "       'comp.sys.ibm.pc.hardware', 'comp.sys.mac.hardware',\n",
       "       'comp.windows.x', 'misc.forsale', 'rec.autos', 'rec.motorcycles',\n",
       "       'rec.sport.baseball', 'rec.sport.hockey', 'sci.crypt',\n",
       "       'sci.electronics', 'sci.med', 'sci.space', 'soc.religion.christian',\n",
       "       'talk.politics.guns', 'talk.politics.mideast', 'talk.politics.misc',\n",
       "       'talk.religion.misc'],\n",
       "      dtype='<U24')"
      ]
     },
     "execution_count": 72,
     "metadata": {},
     "output_type": "execute_result"
    }
   ],
   "source": [
    "np.unique(data['target_names'])"
   ]
  },
  {
   "cell_type": "code",
   "execution_count": 82,
   "metadata": {
    "collapsed": true
   },
   "outputs": [],
   "source": [
    "corpus, labels = data['data'], data['target']"
   ]
  },
  {
   "cell_type": "code",
   "execution_count": 83,
   "metadata": {
    "collapsed": false
   },
   "outputs": [
    {
     "data": {
      "text/plain": [
       "11314"
      ]
     },
     "execution_count": 83,
     "metadata": {},
     "output_type": "execute_result"
    }
   ],
   "source": [
    "len(corpus)"
   ]
  },
  {
   "cell_type": "code",
   "execution_count": 84,
   "metadata": {
    "collapsed": true
   },
   "outputs": [],
   "source": [
    "corpus, labels = remove_empty_docs(corpus, labels)"
   ]
  },
  {
   "cell_type": "code",
   "execution_count": 85,
   "metadata": {
    "collapsed": false
   },
   "outputs": [
    {
     "data": {
      "text/plain": [
       "(11014, 11014)"
      ]
     },
     "execution_count": 85,
     "metadata": {},
     "output_type": "execute_result"
    }
   ],
   "source": [
    "len(corpus), len(labels)"
   ]
  },
  {
   "cell_type": "code",
   "execution_count": 86,
   "metadata": {
    "collapsed": true
   },
   "outputs": [],
   "source": [
    "train_corpus, test_corpus, train_labels, test_labels = train_test_split(corpus, labels, stratify=labels, \n",
    "                                                                        test_size=.3, random_state=42)"
   ]
  },
  {
   "cell_type": "code",
   "execution_count": 88,
   "metadata": {
    "collapsed": false
   },
   "outputs": [
    {
     "data": {
      "text/plain": [
       "(7709, 3305, 7709, 3305)"
      ]
     },
     "execution_count": 88,
     "metadata": {},
     "output_type": "execute_result"
    }
   ],
   "source": [
    "len(train_corpus), len(test_corpus), len(train_labels), len(test_labels)"
   ]
  },
  {
   "cell_type": "code",
   "execution_count": 90,
   "metadata": {
    "collapsed": false
   },
   "outputs": [
    {
     "name": "stdout",
     "output_type": "stream",
     "text": [
      "CPU times: user 8min 49s, sys: 1.47 s, total: 8min 50s\n",
      "Wall time: 9min 6s\n"
     ]
    }
   ],
   "source": [
    "%%time\n",
    "norm_train_corpus = normalize_corpus(train_corpus)\n",
    "norm_test_corpus = normalize_corpus(test_corpus)"
   ]
  },
  {
   "cell_type": "code",
   "execution_count": 91,
   "metadata": {
    "collapsed": true
   },
   "outputs": [],
   "source": [
    "# bag of words features\n",
    "bow_vectorizer, bow_train_featuress = bow_extractor(norm_train_corpus)\n",
    "bow_test_features = bow_vectorizer.transform(norm_test_corpus)"
   ]
  },
  {
   "cell_type": "code",
   "execution_count": 93,
   "metadata": {
    "collapsed": false
   },
   "outputs": [
    {
     "data": {
      "text/plain": [
       "((7709, 95525), (3305, 95525))"
      ]
     },
     "execution_count": 93,
     "metadata": {},
     "output_type": "execute_result"
    }
   ],
   "source": [
    "bow_train_featuress.shape, bow_test_features.shape"
   ]
  },
  {
   "cell_type": "code",
   "execution_count": 92,
   "metadata": {
    "collapsed": true
   },
   "outputs": [],
   "source": [
    "# tf-idf features\n",
    "tfidf_vectorizer, tfidf_train_features = tfidf_extractor(norm_train_corpus)\n",
    "tfidf_test_features = tfidf_vectorizer.transform(norm_test_corpus)"
   ]
  },
  {
   "cell_type": "code",
   "execution_count": 94,
   "metadata": {
    "collapsed": false
   },
   "outputs": [
    {
     "data": {
      "text/plain": [
       "((7709, 95525), (3305, 95525))"
      ]
     },
     "execution_count": 94,
     "metadata": {},
     "output_type": "execute_result"
    }
   ],
   "source": [
    "tfidf_train_features.shape, tfidf_test_features.shape"
   ]
  },
  {
   "cell_type": "code",
   "execution_count": 95,
   "metadata": {
    "collapsed": true
   },
   "outputs": [],
   "source": [
    "# tokenize documents\n",
    "tokenized_train = [nltk.word_tokenize(txt) for txt in norm_train_corpus]\n",
    "tokenized_test = [nltk.word_tokenize(txt) for txt in norm_test_corpus]"
   ]
  },
  {
   "cell_type": "code",
   "execution_count": 96,
   "metadata": {
    "collapsed": true
   },
   "outputs": [],
   "source": [
    "# build word2vec model\n",
    "model = gensim.models.Word2Vec(sentences=tokenized_train, size=500, \n",
    "                               window=100, min_count=30, sample=1e-3)"
   ]
  },
  {
   "cell_type": "code",
   "execution_count": 98,
   "metadata": {
    "collapsed": true
   },
   "outputs": [],
   "source": [
    "# average word vector features\n",
    "\n",
    "avg_wv_train_features = averaged_word_vectorizer(tokenized_train, model, num_features=500)\n",
    "avg_wv_test_features = averaged_word_vectorizer(tokenized_test, model, num_features=500)"
   ]
  },
  {
   "cell_type": "code",
   "execution_count": 100,
   "metadata": {
    "collapsed": false
   },
   "outputs": [
    {
     "data": {
      "text/plain": [
       "((3305, 500), (7709, 500))"
      ]
     },
     "execution_count": 100,
     "metadata": {},
     "output_type": "execute_result"
    }
   ],
   "source": [
    "avg_wv_test_features.shape, avg_wv_train_features.shape"
   ]
  },
  {
   "cell_type": "code",
   "execution_count": 106,
   "metadata": {
    "collapsed": false
   },
   "outputs": [],
   "source": [
    "# tfidf weighted averaged word vector features\n",
    "tfidf_vocab = tfidf_vectorizer.vocabulary_\n",
    "\n",
    "tfidf_wv_train_features = tfidf_weighted_averaged_word_vectorizer(tokenized_train, \n",
    "                                                                  tfidf_train_features.todense(), \n",
    "                                                                  tfidf_vocab, \n",
    "                                                                  model, num_features=500)\n",
    "\n",
    "tfidf_wv_test_features = tfidf_weighted_averaged_word_vectorizer(tokenized_test, \n",
    "                                                                 tfidf_test_features.todense(), \n",
    "                                                                 tfidf_vocab, \n",
    "                                                                 model, num_features=500)"
   ]
  },
  {
   "cell_type": "code",
   "execution_count": 107,
   "metadata": {
    "collapsed": false
   },
   "outputs": [
    {
     "data": {
      "text/plain": [
       "((3305, 500), (7709, 500))"
      ]
     },
     "execution_count": 107,
     "metadata": {},
     "output_type": "execute_result"
    }
   ],
   "source": [
    "tfidf_wv_test_features.shape, tfidf_wv_train_features.shape"
   ]
  },
  {
   "cell_type": "code",
   "execution_count": 110,
   "metadata": {
    "collapsed": true
   },
   "outputs": [],
   "source": [
    "def train_predict_evaluate_model(classifier, X_train, y_train, X_test, y_test):\n",
    "    classifier.fit(X_train, y_train)\n",
    "    y_pred = classifier.predict(X_test)\n",
    "    print(classification_report(y_test, y_pred, target_names=data['target_names']))\n",
    "    return y_pred"
   ]
  },
  {
   "cell_type": "code",
   "execution_count": 111,
   "metadata": {
    "collapsed": true
   },
   "outputs": [],
   "source": [
    "mnb = MultinomialNB()\n",
    "svm = SGDClassifier(loss='hinge', max_iter=100)"
   ]
  },
  {
   "cell_type": "code",
   "execution_count": 112,
   "metadata": {
    "collapsed": false
   },
   "outputs": [
    {
     "name": "stdout",
     "output_type": "stream",
     "text": [
      "                          precision    recall  f1-score   support\n",
      "\n",
      "             alt.atheism       0.81      0.34      0.48       140\n",
      "           comp.graphics       0.65      0.65      0.65       171\n",
      " comp.os.ms-windows.misc       0.83      0.03      0.06       170\n",
      "comp.sys.ibm.pc.hardware       0.58      0.72      0.64       174\n",
      "   comp.sys.mac.hardware       0.85      0.63      0.72       167\n",
      "          comp.windows.x       0.52      0.86      0.65       177\n",
      "            misc.forsale       0.89      0.60      0.71       173\n",
      "               rec.autos       0.82      0.67      0.74       169\n",
      "         rec.motorcycles       0.93      0.57      0.71       175\n",
      "      rec.sport.baseball       0.98      0.69      0.81       173\n",
      "        rec.sport.hockey       0.85      0.85      0.85       176\n",
      "               sci.crypt       0.49      0.89      0.63       175\n",
      "         sci.electronics       0.83      0.49      0.62       173\n",
      "                 sci.med       0.79      0.86      0.83       173\n",
      "               sci.space       0.74      0.72      0.73       173\n",
      "  soc.religion.christian       0.43      0.93      0.59       177\n",
      "      talk.politics.guns       0.75      0.69      0.72       160\n",
      "   talk.politics.mideast       0.51      0.91      0.65       165\n",
      "      talk.politics.misc       0.54      0.65      0.59       136\n",
      "      talk.religion.misc       1.00      0.07      0.14       108\n",
      "\n",
      "             avg / total       0.73      0.66      0.64      3305\n",
      "\n"
     ]
    }
   ],
   "source": [
    "mnb_bow_pred = train_predict_evaluate_model(mnb, bow_train_featuress, train_labels,\n",
    "                                            bow_test_features, test_labels)"
   ]
  },
  {
   "cell_type": "code",
   "execution_count": 113,
   "metadata": {
    "collapsed": false
   },
   "outputs": [
    {
     "name": "stdout",
     "output_type": "stream",
     "text": [
      "                          precision    recall  f1-score   support\n",
      "\n",
      "             alt.atheism       0.50      0.45      0.48       140\n",
      "           comp.graphics       0.62      0.54      0.58       171\n",
      " comp.os.ms-windows.misc       0.49      0.56      0.52       170\n",
      "comp.sys.ibm.pc.hardware       0.58      0.47      0.52       174\n",
      "   comp.sys.mac.hardware       0.61      0.60      0.61       167\n",
      "          comp.windows.x       0.74      0.61      0.67       177\n",
      "            misc.forsale       0.68      0.62      0.65       173\n",
      "               rec.autos       0.74      0.61      0.67       169\n",
      "         rec.motorcycles       0.28      0.75      0.41       175\n",
      "      rec.sport.baseball       0.69      0.71      0.70       173\n",
      "        rec.sport.hockey       0.48      0.78      0.59       176\n",
      "               sci.crypt       0.87      0.69      0.77       175\n",
      "         sci.electronics       0.63      0.55      0.59       173\n",
      "                 sci.med       0.82      0.59      0.69       173\n",
      "               sci.space       0.65      0.67      0.66       173\n",
      "  soc.religion.christian       0.70      0.50      0.59       177\n",
      "      talk.politics.guns       0.82      0.64      0.72       160\n",
      "   talk.politics.mideast       0.80      0.74      0.77       165\n",
      "      talk.politics.misc       0.65      0.41      0.50       136\n",
      "      talk.religion.misc       0.50      0.36      0.42       108\n",
      "\n",
      "             avg / total       0.65      0.60      0.61      3305\n",
      "\n"
     ]
    }
   ],
   "source": [
    "svm_bow_pred = train_predict_evaluate_model(svm, bow_train_featuress, train_labels, \n",
    "                                            bow_test_features, test_labels)"
   ]
  },
  {
   "cell_type": "code",
   "execution_count": 114,
   "metadata": {
    "collapsed": false
   },
   "outputs": [
    {
     "name": "stdout",
     "output_type": "stream",
     "text": [
      "                          precision    recall  f1-score   support\n",
      "\n",
      "             alt.atheism       0.86      0.31      0.46       140\n",
      "           comp.graphics       0.71      0.64      0.67       171\n",
      " comp.os.ms-windows.misc       0.70      0.62      0.66       170\n",
      "comp.sys.ibm.pc.hardware       0.63      0.75      0.68       174\n",
      "   comp.sys.mac.hardware       0.82      0.74      0.78       167\n",
      "          comp.windows.x       0.68      0.82      0.75       177\n",
      "            misc.forsale       0.84      0.71      0.77       173\n",
      "               rec.autos       0.85      0.75      0.80       169\n",
      "         rec.motorcycles       0.87      0.71      0.78       175\n",
      "      rec.sport.baseball       0.91      0.77      0.83       173\n",
      "        rec.sport.hockey       0.82      0.88      0.85       176\n",
      "               sci.crypt       0.59      0.90      0.71       175\n",
      "         sci.electronics       0.84      0.62      0.72       173\n",
      "                 sci.med       0.89      0.83      0.86       173\n",
      "               sci.space       0.79      0.76      0.77       173\n",
      "  soc.religion.christian       0.37      0.97      0.53       177\n",
      "      talk.politics.guns       0.74      0.81      0.77       160\n",
      "   talk.politics.mideast       0.79      0.87      0.83       165\n",
      "      talk.politics.misc       0.91      0.37      0.52       136\n",
      "      talk.religion.misc       1.00      0.02      0.04       108\n",
      "\n",
      "             avg / total       0.77      0.71      0.71      3305\n",
      "\n"
     ]
    }
   ],
   "source": [
    "mnb_tfidf_pred = train_predict_evaluate_model(mnb, tfidf_train_features, train_labels, \n",
    "                                              tfidf_test_features, test_labels)"
   ]
  },
  {
   "cell_type": "code",
   "execution_count": 115,
   "metadata": {
    "collapsed": false
   },
   "outputs": [
    {
     "name": "stdout",
     "output_type": "stream",
     "text": [
      "                          precision    recall  f1-score   support\n",
      "\n",
      "             alt.atheism       0.62      0.68      0.65       140\n",
      "           comp.graphics       0.75      0.66      0.70       171\n",
      " comp.os.ms-windows.misc       0.64      0.72      0.68       170\n",
      "comp.sys.ibm.pc.hardware       0.68      0.64      0.66       174\n",
      "   comp.sys.mac.hardware       0.76      0.78      0.77       167\n",
      "          comp.windows.x       0.76      0.84      0.80       177\n",
      "            misc.forsale       0.72      0.73      0.73       173\n",
      "               rec.autos       0.79      0.81      0.80       169\n",
      "         rec.motorcycles       0.79      0.71      0.75       175\n",
      "      rec.sport.baseball       0.84      0.84      0.84       173\n",
      "        rec.sport.hockey       0.87      0.88      0.87       176\n",
      "               sci.crypt       0.85      0.83      0.84       175\n",
      "         sci.electronics       0.77      0.72      0.74       173\n",
      "                 sci.med       0.82      0.87      0.85       173\n",
      "               sci.space       0.80      0.83      0.82       173\n",
      "  soc.religion.christian       0.74      0.81      0.78       177\n",
      "      talk.politics.guns       0.75      0.83      0.79       160\n",
      "   talk.politics.mideast       0.81      0.89      0.85       165\n",
      "      talk.politics.misc       0.75      0.71      0.73       136\n",
      "      talk.religion.misc       0.70      0.31      0.43       108\n",
      "\n",
      "             avg / total       0.76      0.76      0.76      3305\n",
      "\n"
     ]
    }
   ],
   "source": [
    "svm_tfidf_pred = train_predict_evaluate_model(svm, tfidf_train_features, train_labels, \n",
    "                                              tfidf_test_features, test_labels)"
   ]
  },
  {
   "cell_type": "code",
   "execution_count": 117,
   "metadata": {
    "collapsed": false
   },
   "outputs": [
    {
     "name": "stdout",
     "output_type": "stream",
     "text": [
      "                          precision    recall  f1-score   support\n",
      "\n",
      "             alt.atheism       0.14      0.64      0.24       140\n",
      "           comp.graphics       0.38      0.59      0.46       171\n",
      " comp.os.ms-windows.misc       0.60      0.40      0.48       170\n",
      "comp.sys.ibm.pc.hardware       0.64      0.09      0.16       174\n",
      "   comp.sys.mac.hardware       0.39      0.59      0.47       167\n",
      "          comp.windows.x       0.73      0.58      0.65       177\n",
      "            misc.forsale       0.54      0.76      0.63       173\n",
      "               rec.autos       0.81      0.39      0.53       169\n",
      "         rec.motorcycles       0.63      0.33      0.43       175\n",
      "      rec.sport.baseball       0.58      0.48      0.53       173\n",
      "        rec.sport.hockey       0.78      0.53      0.63       176\n",
      "               sci.crypt       0.77      0.61      0.68       175\n",
      "         sci.electronics       0.37      0.26      0.30       173\n",
      "                 sci.med       0.66      0.59      0.62       173\n",
      "               sci.space       0.62      0.57      0.59       173\n",
      "  soc.religion.christian       0.65      0.41      0.50       177\n",
      "      talk.politics.guns       0.51      0.71      0.59       160\n",
      "   talk.politics.mideast       0.72      0.73      0.73       165\n",
      "      talk.politics.misc       0.24      0.22      0.23       136\n",
      "      talk.religion.misc       0.00      0.00      0.00       108\n",
      "\n",
      "             avg / total       0.56      0.48      0.49      3305\n",
      "\n"
     ]
    }
   ],
   "source": [
    "svm_avgwv_pred = train_predict_evaluate_model(svm, avg_wv_train_features, train_labels, \n",
    "                                              avg_wv_test_features, test_labels)"
   ]
  },
  {
   "cell_type": "code",
   "execution_count": 118,
   "metadata": {
    "collapsed": false
   },
   "outputs": [
    {
     "name": "stdout",
     "output_type": "stream",
     "text": [
      "                          precision    recall  f1-score   support\n",
      "\n",
      "             alt.atheism       0.29      0.11      0.16       140\n",
      "           comp.graphics       0.42      0.40      0.41       171\n",
      " comp.os.ms-windows.misc       0.58      0.34      0.42       170\n",
      "comp.sys.ibm.pc.hardware       0.44      0.34      0.39       174\n",
      "   comp.sys.mac.hardware       0.30      0.56      0.39       167\n",
      "          comp.windows.x       0.61      0.68      0.64       177\n",
      "            misc.forsale       0.61      0.60      0.60       173\n",
      "               rec.autos       0.69      0.57      0.62       169\n",
      "         rec.motorcycles       0.59      0.45      0.51       175\n",
      "      rec.sport.baseball       0.58      0.42      0.48       173\n",
      "        rec.sport.hockey       0.60      0.79      0.68       176\n",
      "               sci.crypt       0.70      0.68      0.69       175\n",
      "         sci.electronics       0.61      0.47      0.53       173\n",
      "                 sci.med       0.64      0.67      0.66       173\n",
      "               sci.space       0.61      0.60      0.60       173\n",
      "  soc.religion.christian       0.57      0.68      0.62       177\n",
      "      talk.politics.guns       0.48      0.68      0.56       160\n",
      "   talk.politics.mideast       0.42      0.86      0.56       165\n",
      "      talk.politics.misc       0.53      0.20      0.29       136\n",
      "      talk.religion.misc       0.07      0.04      0.05       108\n",
      "\n",
      "             avg / total       0.53      0.52      0.51      3305\n",
      "\n"
     ]
    }
   ],
   "source": [
    "svm_tfidfwv_pred = train_predict_evaluate_model(svm, tfidf_wv_train_features, train_labels, \n",
    "                                                tfidf_wv_test_features, test_labels)"
   ]
  },
  {
   "cell_type": "code",
   "execution_count": 124,
   "metadata": {
    "collapsed": false
   },
   "outputs": [],
   "source": [
    "col_idx = pd.MultiIndex.from_product([['Predict'], data['target_names']])\n",
    "row_idx = pd.MultiIndex.from_product([['Actual'], data['target_names']])\n",
    "conmat = pd.DataFrame(confusion_matrix(test_labels, svm_tfidf_pred), columns=col_idx, index=row_idx)"
   ]
  },
  {
   "cell_type": "code",
   "execution_count": 133,
   "metadata": {
    "collapsed": false
   },
   "outputs": [
    {
     "data": {
      "text/plain": [
       "<matplotlib.axes._subplots.AxesSubplot at 0x7fd531edcb00>"
      ]
     },
     "execution_count": 133,
     "metadata": {},
     "output_type": "execute_result"
    },
    {
     "data": {
      "image/png": "[encoded data removed]",
      "text/plain": [
       "<matplotlib.figure.Figure at 0x7fd531edca20>"
      ]
     },
     "metadata": {},
     "output_type": "display_data"
    }
   ],
   "source": [
    "fig, ax = plt.subplots(figsize=(15, 15))\n",
    "sns.heatmap(conmat, square=True, annot=True, fmt='d', vmin=0, vmax=50, \n",
    "            cmap=plt.cm.viridis_r, ax=ax, cbar_kws={'shrink':.8})"
   ]
  },
  {
   "cell_type": "code",
   "execution_count": 135,
   "metadata": {
    "collapsed": false
   },
   "outputs": [
    {
     "data": {
      "text/plain": [
       "('alt.atheism', 'soc.religion.christian')"
      ]
     },
     "execution_count": 135,
     "metadata": {},
     "output_type": "execute_result"
    }
   ],
   "source": [
    "data['target_names'][0], data['target_names'][15]"
   ]
  },
  {
   "cell_type": "code",
   "execution_count": 148,
   "metadata": {
    "collapsed": false
   },
   "outputs": [
    {
     "name": "stdout",
     "output_type": "stream",
     "text": [
      "To all a.a readers:\n",
      "     I have been asked be several of you to post a list of the SDA Church's \n",
      "27 Fundamental beliefs.  I warn you now, it's a long list.  However, I'll \n",
      "post it on Sunday.  Sabbath is coming up soon so I won't be reading on \n",
      "Saturday.  And I don't have time to do it now.\n",
      "     I would GREATLY appreciate it if you would keep me in touch with what's \n",
      "going on.\n",
      "     I hope all of you have a reastful and relaxing weekend.  I hope it's \n",
      "the best one so far!!\n",
      "--------------------------------------------------\n",
      "\n",
      "\n",
      "\n",
      "Do you honestly hold to that tripe Charley? For a start there are enough\n",
      "current versions of the Bible to make comparisons to show that what you write\n",
      "above is utter garbage. Witness JW, Mormon, Catholic, Anglican, and Greek\n",
      "Orthodox Bibles. But to really convince you I'd have to take you to a good\n",
      "old library. In our local library we had a 1804 King James which I compared\n",
      "to a brand new, hot of God's tongue Good News Bible. Genesis was almost\n",
      "unrecognisable, many of the discrepencies between the four gospels had been\n",
      "edited from the Good News Bible. In fact the God of Good News was a much\n",
      "more congenial fellow I must say. \n",
      "\n",
      "If you like I'll get the 1804 King James out again and actually give you\n",
      "some quotes. At least the headings haven't changed much.\n",
      "--------------------------------------------------\n",
      "[reply to zazen@austin.ibm.com (E. H. Welbon)]\n",
      " \n",
      " \n",
      " \n",
      " \n",
      "For many atheists, the lack of belief in gods is secondary to an\n",
      "epistemological consideration:  what do we accept as a reliable way of\n",
      "knowing?  There are no known valid logical arguments for the existence\n",
      "of gods, nor is there any empirical evidence that they exist.  Most\n",
      "philosophers and theologians agree that the idea of a god is one that\n",
      "must be accepted on faith.  Faith is belief without a sound logical\n",
      "basis or empirical evidence.  It is a reliable way of knowing?\n",
      " \n",
      "There is probably nothing else most people would accept in the absence\n",
      "of any possibility of proof.  Even when we agree to take someone elses\n",
      "word \"on faith\", we just mean that having found this person to be\n",
      "reliable in the past, we judge him likely to be a reliable source now.\n",
      "If we find faith less reliable than logic and empirical evidence\n",
      "everywhere else, why assume it will provide reliable knowledge about\n",
      "gods?\n",
      " \n",
      "The difference between the atheist and the theist is fundamentally then\n",
      "one of whether or not faith is held to be a reliable way of knowing,\n",
      "rather than, as some agnostic posters would have it, whether ones faith\n",
      "is in gods or no gods.  The theist believes that faith is an acceptable\n",
      "basis for a belief in gods, even if he rejects faith as reliable at\n",
      "other times, for example in his work as a scientist.  The atheist\n",
      "believes that only logic and empirical evidence lead to reliable\n",
      "knowledge.  Agnosticism seems to me a less defensible position than\n",
      "theism or atheism, unless one is a sceptic in regards to all other\n",
      "knowledge.  Without evidence, why should we believe in gods rather than\n",
      "Santa Claus or the Easter Bunny?\n",
      " \n",
      "I would also like to point out as others have that the atheist doesn't\n",
      "require absolute knowledge of the lack of gods.  I don't believe that\n",
      "there is any such thing as absolute knowledge.  Atheism is the best and\n",
      "simplest theory to fit the (lack of) facts and so should be held until\n",
      "contrary evidence is found.\n",
      "--------------------------------------------------\n",
      "\n",
      "Hi Adda,\n",
      "\n",
      "Most Bible scholars agree that there was one copy of each book at a certain\n",
      "time -- the time when the author wrote it.  Unfortunately, like all works\n",
      "from this time period and earlier, all that exists today are copies. \n",
      "\n",
      "\n",
      "There are parts of books, scraps really, that date from around the\n",
      "mid second century (A.D. 130+).  There are some complete books, letters,\n",
      "etc. from the middle third century.  The first complete collection of\n",
      "the New Testament dates from the early 4th century (A.D. 325).  Throughout\n",
      "this period are writings of various early church fathers/leaders who\n",
      "quoted various scriptures in their writings.\n",
      "\n",
      "\n",
      "If you mean that someone discovered thousands of \"Bibles\" which were all\n",
      "perfect copies dating from the last part of the 1st century...No!\n",
      "\n",
      "If you mean that there are thousands of early manuscripts (within the\n",
      "dates given above, but not letter perfect) and that the most probable\n",
      "text can be reconstructed from these documents and that the earliest\n",
      "original autographs (now lost) probably were written starting sometime\n",
      "shortly after A.D. 50, then yes.\n",
      "\n",
      "\n",
      "From the original authors.  We call them Matthew, Mark, Luke, John, Peter,\n",
      "Paul, James, and one other not identified.\n",
      "\n",
      "\n",
      "As long as you make it.\n",
      "\n",
      "\n",
      "Regards,\n",
      "--------------------------------------------------\n",
      ": [first post I've seen from the ol' Bug-Zoo (BGSU)]\n",
      ": >     There is no means that i can possibly think of to prove beyond doubt\n",
      ": >that a god does not exist (but if anyone has one, by all means, tell me\n",
      ": >what it is).  Therefore, lacking this ability of absolute proof, being an\n",
      ": >atheist becomes an act of faith in and of itself, and this I cannot accept.\n",
      ": > I accept nothing on blind faith.\n",
      "\n",
      ": Invisible Pink Flying Unicorns!  Need I say more?\n",
      "\n",
      "There is also the question of what is meant by \"atheist\".  A familiar\n",
      "example of the importance of the meaning of the word is as follows.\n",
      "\n",
      "The two statements following ARE consistent:\n",
      "\n",
      "(1) I do not believe that you are wearing lilac socks\n",
      "(2) I do not believe that you are are not wearing lilac socks\n",
      "\n",
      "The two statements following are NOT consistent:\n",
      "\n",
      "(3) I do believe that you are wearing lilac socks\n",
      "(4) I do believe that you are are not wearing lilac socks\n",
      "\n",
      "Statements (1) and (2) require no faith, they make no presumptions about\n",
      "the nature of reality.  Statements (3) and (4) require belief.  Many\n",
      "atheists (myself included) take the following position:\n",
      "\n",
      "(5) I do not believe that there is a god.\n",
      "(6) I do not believe that there is not a god.\n",
      "--------------------------------------------------\n",
      "I hope you're not going to flame him.  Please give him the same coutesy you'\n",
      "ve given me.\n",
      "--------------------------------------------------\n",
      ": You know, it just occurred to me today that this whole Christian thing\n",
      ": can be blamed solely on Mary.\n",
      ": \n",
      ": So, she's married to Joseph.  She gets knocked up.  What do you think\n",
      ": ol' Joe will do if he finds she's been getting around?  So Mary comes up\n",
      ": with this ridiculous story about God making her pregnant.  \n",
      ": \n",
      "\n",
      "  Nice attempt Chris . . . verrry close.\n",
      "\n",
      "  You missed the conspiracy by 1 step. Joseph knew who knocked her up.\n",
      "He couldn't let it be known that somebody ELSE got ol' Mary prego. That\n",
      "wouldn't do well for his popularity in the local circles. So what \n",
      "happened is that she was feeling guilty, he was feeling embarrassed, and\n",
      "THEY decided to improve both of their images on what could have otherwise\n",
      "been the downfall for both. Clever indeed. Come to think of it . . . I\n",
      "have gained a new respect for the couple. Maybe Joseph and Mary should\n",
      "receive all of the praise being paid to jesus.\n",
      "--------------------------------------------------\n",
      "I would like a list of Bible contadictions from those of you who dispite\n",
      "being free from Christianity are well versed in the Bible.\n",
      "\n",
      "--------------------------------------------------\n",
      "\n",
      " \n",
      "\n",
      "\n",
      "I love it, I love it, I love it!! Wish I could fit all that into a .sig\n",
      "file! (If someone is keeping a list of Bobby quotes, be sure to include\n",
      "this one!)\n",
      "\n",
      "\n",
      "\n",
      "The Flat-Earthers state that \"the Earth is flat\" is a fact. I don't accept\n",
      "this, I think it's an unproven opinion, and I think the Round-Earthers are\n",
      "right because they have better evidence than the Flat-Earthers do.\n",
      "\n",
      "Although I can't prove that a god doesn't exist, the arguments used to\n",
      "support a god's existence are weak and often self-contradictory, and I'm not\n",
      "going to believe in a god unless someone comes over to me and gives me a\n",
      "reason to believe in a god that I absolutely can't ignore.\n",
      "\n",
      "A while ago, I read an interesting book by a fellow called Von Daenicken,\n",
      "in which he proved some of the wildest things, and on the last page, he\n",
      "wrote something like \"Can you prove it isn't so?\" I certainly can't, but\n",
      "I'm not going to believe him, because he based his \"proof\" on some really\n",
      "questionable stuff, such as old myths (he called it \"circumstancial\n",
      "evidence\" :] ).\n",
      "\n",
      "So far, atheism hasn't made me kill anyone, and I'm regarded as quite an\n",
      "agreeable fellow, really. :)\n",
      "--------------------------------------------------\n",
      "\n",
      " Ah, now here is the core question. Let me suggest a scenario.\n",
      "\n",
      " We will grant that a God exists, and uses revelation to communicate\n",
      "with humans. (Said revelation taking the form (paraphrased from your\n",
      "own words) 'This infinitely powerful deity grabs some poor schmuck,\n",
      "makes him take dictation, and then hides away for a few hundred years'.)\n",
      " Now, there exists a human who has not personally experienced a\n",
      "revelation. This person observes that not only do these revelations seem\n",
      "to contain elements that contradict rather strongly aspects of the\n",
      "observed world (which is all this person has ever seen), but there are\n",
      "many mutually contradictory claims of revelation.\n",
      "\n",
      " Now, based on this, can this person be blamed for concluding, absent\n",
      "a personal revelation of their own, that there is almost certainly\n",
      "nothing to this 'revelation' thing?\n",
      "\n",
      "\n",
      " Absent this better language, and absent observations in support of the\n",
      "claims of revelation, can one be blamed for doubting the whole thing?\n",
      "\n",
      " Here is what I am driving at: I have thought a long time about this. I\n",
      "have come to the honest conclusion that if there is a deity, it is\n",
      "nothing like the ones proposed by any religion that I am familiar with.\n",
      " Now, if there does happen to be, say, a Christian God, will I be held\n",
      "accountable for such an honest mistake?\n",
      "\n",
      " Sincerely,\n",
      "\n",
      " Ray Ingles               ingles@engin.umich.edu\n",
      "--------------------------------------------------\n",
      "The recent rise of nostalgia in this group, combined with the\n",
      "  incredible level of utter bullshit, has prompted me to comb\n",
      "  through my archives and pull out some of \"The Best of Alt.Atheism\"\n",
      "  for your reading pleasure.  I'll post a couple of these a day\n",
      "  unless group concensus demands that I stop, or I run out of good\n",
      "  material.\n",
      "\n",
      "  I haven't been particularly careful in the past about saving\n",
      "  attributions.  I think the following comes from John A. Johnson,\n",
      "  but someone correct me if I'm wrong.  This is probably the longest\n",
      "  of my entire collection.\n",
      "\n",
      "________________________________________________________\n",
      "\n",
      "\n",
      "                                  So that the\n",
      "                                  Prophecy be\n",
      "                                   Fulfilled\n",
      "\n",
      "                                     * * *\n",
      "\n",
      "       In considering the Christian religion, and judging it\n",
      "according to its claims, it is important to look at its claims at\n",
      "fulfilling earlier Jewish prophecy.  The scribe Matthew is perhaps\n",
      "the most eager to draw out what he thinks are prophetic answers in\n",
      "the career of Jesus of Nazareth.  As you will see, Matthew's main\n",
      "strategy is to take various Old Testament passages, often not even\n",
      "about the promised Messiah, and apply them to the circumstances in\n",
      "the New Testament.  We must also bear in mind the question of the\n",
      "authenticity of the accounts.  Since the gospels were written at\n",
      "least 35 years after Jesus was executed, we do not know how much\n",
      "happened exactly as stated.  But, for purposes of analysis, we\n",
      "will take particular claims at face value.\n",
      "\n",
      "Immanuel:\n",
      "\n",
      "       We begin, of course, at the beginning.\n",
      "\n",
      "       (Mt 1.21-22):  \"[Mary] will bear a son, and you,\n",
      "       Joseph, will name him 'Jesus' (which means G'd is\n",
      "       salvation), for he will save his people from their\n",
      "       sins.\"  All this happened to fulfil what the lord had\n",
      "       spoken by a prophet:\n",
      "\n",
      "       [Isaiah 7.1-16]:  In the days of Ahaz (c. 750 BCE),\n",
      "       king of Judah, Rezin of Syria and Pekah of Israel made\n",
      "       war on Jerusalem (capitol of Judah), but could not\n",
      "       quite conquer it.  When the house of David (i.e. Ahaz\n",
      "       and his court in Judah) were told of this, ...its\n",
      "       heart and the heart of its people shook...   And, the\n",
      "       lord G'd said to Isaiah, \"go to meet with Ahaz...\" \n",
      "       ...And the lord spoke to Ahaz (through prophet Isaiah,\n",
      "       naturally) saying, \"Ask a sign of G'd your lord.  It\n",
      "       can be as deep as Sheol or as high as heaven.\"  But,\n",
      "       Ahaz said, \"I won't ask; I will not put the lord to a\n",
      "       test.\"  Then (Isaiah) said, \"Hear then, O house of\n",
      "       David.  Is it not enough for you to weary men, that\n",
      "       you must weary my god too?  Therefore, the lord\n",
      "       himself will give you a sign:  Behold, a young woman\n",
      "       is with child and will bear a son, and name him\n",
      "       \"Immanuel,\" which means, \"G'd is with us.\"   He will\n",
      "       eat curds and honey when he knows how to refuse evil\n",
      "       and choose good.  For, before the child knows how to\n",
      "       refuse evil and choose good, the land of the two kings\n",
      "       you dread will have been deserted...\n",
      "\n",
      "Matthew homes in on just the sentence that is in italics. \n",
      "Further, he the Hebrew word \"almah,\" (young woman), as\n",
      "specifically, \"virgin.\"  But, this is not a prophecy about the\n",
      "Messiah.  It is not a prophecy about an event to happen 750 years\n",
      "later.  It is not a prophecy about a virgin (bethulah) mother.  In\n",
      "short, it not about Jesus.  Matthew has made use of a verse out of\n",
      "context, and tries to make it fit the specific case of Mary.  It\n",
      "should be noted that if we want to read the prophecy in a general\n",
      "manner, a very general one, it can be made to fit Mary.  Mary,\n",
      "virgin or not, was indeed a young woman with child.  Of course,\n",
      "the fit is shady and has problems.  Jesus, while thought of by\n",
      "later Christians to be G'd walking among men, was never called by\n",
      "the name, Immanuel.  If Christianity wished to claim this prophecy\n",
      "for Jesus, it becomes at best a cut-and-paste prophecy... a second\n",
      "class prophecy.   Not too convincing.\n",
      "\n",
      "Egypt:\n",
      "\n",
      "       After Jesus's birth in Bethlehem, Matthew tells about a\n",
      "quick (and elsewhere unmentioned) excursion to Egypt, as if he\n",
      "wishes to liken Jesus to Moses.  This was done to escape an\n",
      "alleged infanticidal rampage of the king, Herod.\n",
      "\n",
      "       [Mt 2.15]  ...and remained there until the death of\n",
      "       Herod.  This was to fulfil what the lord had spoken:\n",
      "       \"Out of Egypt I have cal-led my son.\"\n",
      "\n",
      "\n",
      "What the lord really said was this.\n",
      "\n",
      "       [Hosea 11.1]  When Israel was a child, I loved him. \n",
      "       And, out of Egypt I called my son.  The more I called\n",
      "       them (my people), the more they went from me; they\n",
      "       kept sacrificing to the Ba'als, and kept burning\n",
      "       incense to idols.\n",
      "\n",
      "Matthew conveniently omits the rest of Hosea's oracle.  But, it\n",
      "was indeed Israel that, once called out of Egypt, wanted to\n",
      "return.  This is history.  Jesus is certainly not being spoken of\n",
      "here.  And, if we are to draw some kind of parallel here, we wind\n",
      "up with a Jesus that flees and resists G'd.   Again, this prophecy\n",
      "is just not as convincing as Matthew probably had hoped.\n",
      "\n",
      "Rachel Weeps:\n",
      "\n",
      "        While Jesus is off vacationing in Egypt, Matthew says that\n",
      "King Herod sought to kill him, and thus ordered the executions of\n",
      "all young male children.  Matthew then writes,\n",
      "\n",
      "       [Mt 2.17-18]   By this, that which was spoken by the\n",
      "       prophet Jeremiah was fulfilled:\n",
      "\n",
      "       \"A voice was heard in Ramah, wailing and loud\n",
      "       lamentation-- Rachel weeping for her children;\n",
      "       she refused to be consoled, because they were\n",
      "       no more.\"   \n",
      "\n",
      "The reference is to a passage in Jeremiah 31.15, referring to the\n",
      "carrying off of Israel into exile by Sargon (of Assyria) in 722\n",
      "BCE.  Rachel, the ancestor of the major tribes of Israel, Ephraim,\n",
      "and Manasseh, is said to weep for her descendants who are \"no\n",
      "more.\"  It is metaphorical, of course, since Rachel lived and dies\n",
      "before the Hebrews were even in the Egyptian exile.\n",
      "       It is interesting to note that it was Leah, not Rachel, who\n",
      "was the ancestor of the Judeans (the land where Jesus and\n",
      "Bethlehem were).  If anyone should do weeping for her \"children,\"\n",
      "it is Leah.  The only connexion that Rachel has with Bethlehem is\n",
      "that the legends have it that she was buried north of the city,\n",
      "\"on the way to Ephrath, (Bethlehem).\"\n",
      "       As for Herod and his infanticide, it is rather unlikely\n",
      "that such an event actually occurred.  One never knows, but the\n",
      "event is not mentioned or alluded to anywhere else in the Bible,\n",
      "nor is it mentioned in any of the secular records of the time. \n",
      "Herod was particularly unliked in his reign, and many far less\n",
      "evil deeds of Herod were carefully recorded.  This might be a\n",
      "prime example of how events were added to Jesus's life to enhance\n",
      "the message of the church's gospel.\n",
      "       Because of the whole story's similarity to the tale of the\n",
      "infant Moses in Egypt, it is highly likely that it is a device set\n",
      "up by Matthew to add prophetic, yet artificial, approval of Jesus.\n",
      "It is not surprising that Matthew conveniently neglects to mention\n",
      "the rest of the Jeremiah quote.   The \"children\" the prophet\n",
      "speaks of are not dead, but exiled in the Assyrian Empire.  G'd\n",
      "comforts the weeping Rachel, saying that the children will be\n",
      "returned-- he will gather them back together.  Of course, this\n",
      "would not suit Matthew's purpose, as the children he speaks of are\n",
      "dead for good.  Again, the \"prophecy\" Matthew sets up is not even\n",
      "that, and to anyone who bothers to check it out, is not too\n",
      "convincing.\n",
      "\n",
      "The Nazarene:\n",
      "\n",
      "       We do not even have to go to the next chapter to find\n",
      "another Matthean prophecy.  After leaving Egypt, Joseph & wife\n",
      "take the infant Jesus to live in the city of Nazareth, \n",
      "\n",
      "       [Mt 2.23]  ...that what was spoken of by the prophets\n",
      "       might be fulfilled, \"He shall be called a Nazarene.\"\n",
      "\n",
      "First thing we notice is that Matthew does not mention the name of\n",
      "the prophet(s) this time.  Second, we have to ask who \"He\" is. \n",
      "There are no Messianic prophecies speaking of a Nazarene.  Worse,\n",
      "there are no prophecies, period, mentioning a Nazarene.  Still\n",
      "worse, there are no Nazarenes mentioned in the Old Testament at\n",
      "all.  In the book of Judges, an angel tells Samson's mother that\n",
      "she will,\n",
      "\n",
      "       [Judges 13.5]  \"...conceive and bear a son.  No razor\n",
      "       shall tough his head, for he will be a Nazirite to his\n",
      "       god from the day of his birth.  He will deliver Israel\n",
      "       from the hands of the Philistines.\"\n",
      "\n",
      "This is of course not a prophecy of Jesus, or the messiah of G'd. \n",
      "But, it is the best that can be found.  Obviously, Matthew has\n",
      "begun to go overboard in cut-and-paste prophecies, in that he is\n",
      "simple making them up now.\n",
      "\n",
      "Bearing our\n",
      "Diseases:\n",
      "\n",
      "       Jesus next goes around healing people of physical illnesses\n",
      "and disabilities.\n",
      "\n",
      "       [Mt 8.17]   This was to fulfil what was spoken by the\n",
      "       prophet Isaiah, \"He took our infirmities and bore our\n",
      "       diseases.\"\n",
      "\n",
      "As expected, the verse quoted in Isaiah is quoted out of context,\n",
      "and a few words are skewed to fit the Christian scheme.  We have,\n",
      "\n",
      "       [Is 53.4]  Surely he, [the suffering servant], has\n",
      "       borne our sickness, and carried our pains.\n",
      "\n",
      "From a reading of the surrounding passages in Isaiah, we know that\n",
      "the prophet is speaking in present tense of the collective nation\n",
      "of Israel, Jehovah's chosen servant and people.  He speaks to the\n",
      "Israelites suffering in exile, in the voice of the gentile nations\n",
      "that look upon it.  This image is deeply ingrained in Jewish\n",
      "identity --an image of a chastised, yet cherished, Israel as the\n",
      "instrument of the nations' salvation by G'd.\n",
      "      The verses speak of Israel taking on the sicknesses which\n",
      "are the literal and metaphorical manifestations of guilt and\n",
      "discipline.  They do not speak of a \"servant\" going around and\n",
      "healing people.  Notice that the servant in Isaiah takes on the\n",
      "sicknesses and pains of the nations (and individual Jews).  Jesus,\n",
      "as we all know, did not take the diseases onto himself.  The\n",
      "verses here in Isaiah are not a prophecy of something to come, but\n",
      "rather something that had already happened.  While it is believed\n",
      "that Jesus took on the eternal punishment of hell, he did not bear\n",
      "the illnesses he healed.  So, while someone might want to say\n",
      "that, figuratively, Jesus reenacted the deeds of Israel in his\n",
      "spiritual atonement, he has to admit that Matthew's parallel\n",
      "misses where he intended it to have its effect.\n",
      "\n",
      "\n",
      "Silent Messiah:\n",
      "\n",
      "      Upon healing multitudes of commoners, it is said that Jesus\n",
      "ordered them to keep quiet, presumable so that he wouldn't arouse\n",
      "the attention of the local rulers.\n",
      "\n",
      "       [Mt 12.15-21]  This was to fulfill what was spoken by\n",
      "       the prophet Isaiah.   \n",
      "\n",
      "       \"Behold my servant whom I have chosen, my beloved,\n",
      "       with whom my soul is pleased.  I will put my spirit on\n",
      "       him, and he will announce justice to the Gentiles.  He\n",
      "       will not wrangle or cry aloud, nor will anyone hear\n",
      "       his voice in the streets.  He will not break a bruised\n",
      "       reed or quench a smoldering wick until he brings\n",
      "       justice to victory, and the gentiles will hope in his\n",
      "       name.\"\n",
      "\n",
      "The Isaiah passage quoted reads,\n",
      "\n",
      "       [Is 42.1-4]  Behold my servant whom I uphold, my\n",
      "       chosen, in whom my soul delights.  I have put my\n",
      "       spirit on him, and he will bring forth justice to the\n",
      "       nations.  We will not cry or lift up his voice, or\n",
      "       make it heard in the street.  He will not break a\n",
      "       bruised reed, or quench a smoldering wick.  He will\n",
      "       faithfully bring forth justice.  He will not fail\n",
      "       (burn dimly) or be discouraged (bruised) until he has\n",
      "       established justice in the earth.  And the coastlands\n",
      "       await his law.\n",
      "\n",
      "You see, Matthew has conveniently left out part of the passage,\n",
      "because it does not suit the dealings of Jesus.  Christians could\n",
      "never think of Jesus failing, never would the \"light\" of mankind\n",
      "burn dimly.  But, the servant nation of Israel will indeed come to\n",
      "an end when its job is done.  When the gentiles come to embrace\n",
      "G'd there will no longer be a chosen people, but rather all will\n",
      "be the children of G'd.  Also, the ending phrase has been changed\n",
      "from the Judaic \"...the coastlands await his law.\" to the\n",
      "Christologic, \"the Gentiles will hope in his name.\"   While the\n",
      "original proclaims the Torah law of Jehovah, the other rewrites it\n",
      "to fit its strange doctrine of \"believing in the name.\"  If one\n",
      "has any doubt the servant referred to is not Jesus, one has only\n",
      "to read the whole chapter, Isaiah 42, and hear about the beloved\n",
      "but blind and imperfect servant, \"a people robbed and\n",
      "plundered...\"   So, we see that when Matthew's attempt at\n",
      "\"prophecy\" is examined, it crumbles.\n",
      "\n",
      "Three Days and\n",
      "Three Nights:\n",
      "\n",
      "      Now we come upon a prophecy supposedly uttered by the very\n",
      "mouth of the god Jesus himself.  He speaks of his crucifixion and\n",
      "resurrection.\n",
      "\n",
      "       [Mt 12.40]   For as Jonah was in the belly of the\n",
      "       whale for three days and three nights, so will the Son\n",
      "       of Man be in the heart of the earth three days and\n",
      "       three nights.\n",
      "\n",
      "Before any further discussion can occur, it is necessary to know\n",
      "how the Jews understood days.  As far as day names went, each was\n",
      "24 hours long, lasting from sunset 6pm to the following sunset\n",
      "6pm.  What was referred to as a \"day\" was the period of light from\n",
      "6am to the ending sunset at 6pm.  Thus, according to our time\n",
      "scale, a sabbath day began at 6pm Friday evening, and lasted until\n",
      "6pm saturday evening.  This is why the Jews celebrate their\n",
      "sabbath on the daylight portion of Saturdays, instead of Sundays. \n",
      "(It seems like a real miracle that Christians didn't forget that\n",
      "Saturday was indeed the seventh and last day of the week!)  Thus,\n",
      "when days and nights are referred to together, 12 hour daylight\n",
      "portions and 12 hour night periods are being spoken of.  Thus,\n",
      "Jesus says that he will be in the grave, or in hell, or otherwise\n",
      "unresurrected for three days and three nights.\n",
      "\n",
      "      As the good book tells us, Jesus was crucified on the \"ninth\n",
      "hour,\" which is 3pm, Friday afternoon.  He then was put into the\n",
      "grave sometime after that.  Then, Jesus left the grave, \"rose,\"\n",
      "before dawn of what we call Sunday (The dawn after the sabbath was\n",
      "over).  What this means is that Jesus was, using our time for\n",
      "clarity, in the grave from 6pm Friday night to some time before\n",
      "6am Sunday morning.  We could also add a little time before 6pm\n",
      "Friday, since the bible is not specific here.  What this means\n",
      "using Jewish time is that he was in the grave for one day, two\n",
      "nights, and possibly a couple of hours of one day.  Certainly this\n",
      "is a problem for Jesus prediction.  There is absolutely no way we\n",
      "are even able to have his death involve three days and three\n",
      "nights --even using modern time measurements.   We then are led to\n",
      "suspect that this error is another one of Matthew's little\n",
      "mistakes, and that the gospel writer put false words into his\n",
      "god's mouth.   And no matter who made the prediction, it is more\n",
      "than unconvincing... it is counter-convincing.\n",
      "\n",
      "Hearing &\n",
      "Understanding:\n",
      "\n",
      "     Jesus tool on a habit of speaking to his vast audiences in\n",
      "parables-- stories in which a deeper meaning could be found, if\n",
      "you were already one of the elect, those chosen to understand the\n",
      "message of Jesus.  He reasons that those who can understand the\n",
      "parables are the ones he wants.  If the people cannot understand\n",
      "them, there is no need to bother with them, since they will not\n",
      "accept the \"plain\" message any better.  Matthew says,\n",
      "\n",
      "       [Mt 13.14-16]  With them [the audience] indeed in\n",
      "       fulfilled the prophecy of Isaiah which says, \n",
      "\n",
      "       \"You will indeed hear but never understand; and you\n",
      "       will indeed see, but never perceive.  Because this\n",
      "       people's heart has grown dull, their ears are heavy of\n",
      "       hearing, and they have shut their eyes so the they\n",
      "       would not perceive with them, her with their ears, and\n",
      "       understand with their heart, and turn for me to heal\n",
      "       them.\"\n",
      "\n",
      "The original Isaiah passages are part of his earlier works, his\n",
      "call to the ministry.  This is in 740 BCE, when Israel is\n",
      "flourishing, right before it falls under the authority of Assyria. \n",
      "Isaiah sees the good times ending, and also a vision from G'd,\n",
      "calling him to bring reform to Israel and Judah.\n",
      "\n",
      "       [Is 6.9-13]  And G'd said, \"Go, and say to this\n",
      "       people, `Hear and hear, but do not understand; see and\n",
      "       see, but do not perceive.'   Make the heart of this\n",
      "       people fat, make their ears heavy, and shut their\n",
      "       eyes, so they will not see with their eyes, or hear\n",
      "       with their ears, and understand with their hearts, and\n",
      "       turn and be healed.\"  Then Isaiah said, \"How long,\n",
      "       lord?\"  And he said, \"Until the cities lie waste\n",
      "       without inhabitant, and houses without men, and the\n",
      "       land is utterly desolate, and the G'ds take men far\n",
      "       away, and forsaken places are many in the land.  And\n",
      "       though a tenth will remain in it, it will be burned\n",
      "       again, like a terebinth or an oak whose stump still\n",
      "       stands when the tree is felled.\" The holy seed is its\n",
      "       stump.\n",
      "\n",
      "Here we see that it is really G'd who causes the people of Israel\n",
      "to stop listening to the prophet's warnings, but reaffirms the\n",
      "promise made to Solomon's (and David's) seed/lineage.  If you read\n",
      "the rest of Isaiah, you find that this is done to fulfil the plan\n",
      "of G'd to use Israel as a servant, a light to the nations.  (Look\n",
      "at Isaiah 42.18-25, 48.20, 49.3)\n",
      "     We see that Matthew has cut-and-pasted just a little portion\n",
      "of Isaiah's verse, to suit his own gospel needs.  More than that,\n",
      "he has altered the words, to make it fit the people who didn't\n",
      "understand Jesus's stories.  And, as we see, Isaiah's verses are\n",
      "not prophecies, but rather commands from G'd to him, in the\n",
      "present.   Once again, Matthew's prophecy falls flat on its face. \n",
      "\n",
      "     Matthew tries again to make Jesus's parables look like they\n",
      "have the prophetic approval.\n",
      "\n",
      "       [Mt 13.35]  ...he said nothing to them without a\n",
      "       parable.  This was to fulfil what was spoken of by the\n",
      "       prophet, \"I will open my mouth to them in parables.  I\n",
      "       will utter that which has been hidden since the\n",
      "       foundation of the world.\"\n",
      "\n",
      "Matthew really botches up here.  He attempts to quote not from a\n",
      "prophet, but from the Psalms.\n",
      "\n",
      "       [Ps 78.2-4]  I will open my mouth in parable.  I will\n",
      "       utter dark sayings of old, things that we all have\n",
      "       heard and known, things that our fathers have told us. \n",
      "       We will not hide them from their children, but tell to\n",
      "       the coming generation the glorious deeds of the\n",
      "       lord...\n",
      "\n",
      "As was pointed out, the verses in the Psalms do not really come\n",
      "from a prophet.  You might also want to know that earlier copies\n",
      "of Matthew's gospel even inserted Isaiah's name as this prophet. \n",
      "Apparently, later scribes caught the error and tried to cover some\n",
      "of it up.\n",
      "     Perhaps the most significant part of this is that, once\n",
      "again, Matthew has altered the Old Testament Scriptures.  As Jesus\n",
      "has said earlier, he speaks in parables so that some will not\n",
      "understand them.  The parables in the Psalms are not to be hidden. \n",
      "Further, they speak of things \"known, that our fathers have told\n",
      "us.\"  Jesus deals with things \"hidden since the foundation of the\n",
      "world.\"  Indeed Jesus dealt in a lot of secrecy and confusion. \n",
      "This is in direct opposition to the parables in the Psalms.  No\n",
      "wonder Matthew had to rewrite them!   And still once again,\n",
      "Matthew's artificial prophecies fall flat on their face.  But,\n",
      "Christians rarely look at this.  Matthew's prophecies aren't the\n",
      "only things about Christianity that are beginning to look bad.\n",
      "\n",
      "\n",
      "Excuses of\n",
      "Little Faith:\n",
      "\n",
      "       In Mt. 17.14-21, we see that the disciples are able to go\n",
      "around casting out demons, except in one case.  Not knowing what\n",
      "epilepsy was, the people thought those with the disease were\n",
      "possesed with demons.  It is no wonder that the disciples were\n",
      "unable to \"dispossess\" the epileptic.  But, Jesus, perhaps no more\n",
      "enlightened than they, is reported to have rebuked them, saying\n",
      "they didn't have enough faith.   This seems strange.  Why was this\n",
      "demon special?  It seems that either a true believer has faith or\n",
      "he does not.  Apparently, enough faith will allow someone to move\n",
      "mountains.  Of course, you will find no one, these days that can\n",
      "move real mountains.  No one parts seas.  The only miracles the\n",
      "Charismatics can speak of are those rumoured to happen on trips to\n",
      "Mexico or some faraway place.  Major miracles are making some old\n",
      "woman's arthritis feel better on Sunday morning T.V.\n",
      "\n",
      "       And the gods, including Jesus, are always shrouded in\n",
      "ancient lore and writings, protected from the skeptics in their\n",
      "sacred pasts.  They are either dead, sleeping, or hiding in\n",
      "heaven, with people rumouring about their imminent return and\n",
      "their great miracles of days long gone.  Yet, life goes on.  \n",
      "\n",
      "     Tales of mystics, stories of miracles-- all in a distant time\n",
      "or a distant place.  Gods used to reveal themselves to men in the\n",
      "old days, Jehovah too.  But, now they are silent.  All the\n",
      "theologians give are various excuses as to why we don't get to see\n",
      "God anymore.\n",
      "\n",
      "       We're too lazy; we're not zealous enough; we're\n",
      "       sinful; it's just his \"plan\"; we put too many of our\n",
      "       own demands on G'd's appearance; if we had the right\n",
      "       faith, if we  were willing to meet G'd on his terms...\n",
      "\n",
      "     Yet, even the most pious of men have not seen G'd.  You, dear\n",
      "reader, have not seen G'd.  Not literally, you know that to be\n",
      "true. (I know that's presumptuous and bold.  But, searching your\n",
      "heart, you know what I mean.)  All that we've seen religions do is\n",
      "make people feel good and content about not seeing G'd.  They say\n",
      "our little faith does not merit us to see G'd.  Sometimes, they\n",
      "say, \"See the love in these people you worship with... see the\n",
      "lives of people change... that is seeing G'd.\"   Thus people get\n",
      "lulled to sleep, satisfied with turning G'd into the everyday\n",
      "sights.   But, that is not seeing G'd as I am speaking of... it is\n",
      "not seeing G'd the way people used to see.  \n",
      "      What we see in the world that is good, is the compassion of\n",
      "human hearts, the love given and taken by men and women, the\n",
      "forgiveness practised by Christian & Atheist alike, beauty created\n",
      "by the mind of man.  These are the things that are done; these are\n",
      "what we see.  But, it is said this is so only because everybody\n",
      "has little faith.\n",
      "\f",
      "\n",
      "Jesus Rides on\n",
      "an Ass:\n",
      "\n",
      "       Shortly after accepting the role of the Jewish messiah\n",
      "king, Jesus requests a donkey be brought in for him to ride into\n",
      "Jerusalem.  \n",
      "\n",
      "       [Mt 21.5]  This took place to fulfil what was spoken\n",
      "       by the prophet, saying,\n",
      "\n",
      "       Tell the daughter of Zion, \"Behold, your king is\n",
      "       coming to you, humble, mounted on an ass, and on a\n",
      "       ass-colt.\"\n",
      "\n",
      "Of course, the passage quoted from Zechariah 9.9 reads a little\n",
      "differently.\n",
      "\n",
      "       Lo, your king comes to you; he is triumphant and\n",
      "       victorious, humble, and riding on an ass, on an ass-\n",
      "       colt... he will command peace to the nations.\n",
      "\n",
      "There isn't all that much difference here, except that Zechariah\n",
      "only involves one animal  --an ass-colt--  while Matthew reads the\n",
      "poetic wording slightly differently.  Thus, he has Jesus call for\n",
      "both a colt and an adult ass.  From Matthew's version, we get a\n",
      "comical picture of the divine Christ sweating it to straddle two\n",
      "donkeys.  This could inevitably lead to a theological,\n",
      "proctological dilemma!   We find that in the account written\n",
      "earlier by St. Mark, only the colt was called for and brought to\n",
      "Jesus.  This indeed fits the verses of Zechariah properly, and\n",
      "shows us that in Matthew attempt to use prophetic verses, he has\n",
      "bungled.  Now, excluding many respectable Christians I have met, I\n",
      "have noticed that while Christ is thought to have ridden on asses,\n",
      "the situation is often reversed nowadays...\n",
      "\n",
      "       Then, entering the Jerusalem temple, the priests were\n",
      "angered at people and youngsters calling Jesus the messiah.  But,\n",
      "Jesus replied as we might expect Matthew to have done,\n",
      "\n",
      "       [Mt 21.16]  Haven't you read?  `Out of the mouth of\n",
      "       babes and sucklings thou has brought perfect praise.'\n",
      "\n",
      "It is more likely that Matthew made this response up since Jesus\n",
      "was never one to point out such little \"prophetic\" things AND\n",
      "since, as we might expect, the quote is in error, which seems to\n",
      "fit Matthew's track record quite well.  We might ask Jesus or\n",
      "Matthew, \"Haven't you read?\" for the source reads,\n",
      "\n",
      "       [Psalms 8.1-2]  O YaHWeH our lord, how majestic is\n",
      "       your name in the whole world!   You, whose glory is\n",
      "       chanted above the heavens by babes and infants, you\n",
      "       have founded a bulwark against your foes to still the\n",
      "       enemy and the avenger.\n",
      "\n",
      "The passages hardly need comment.  There is no \"perfect praise\"\n",
      "spoken of in the psalm, and what praise is there is given to G'd,\n",
      "not his messiah king, and not Jesus.  As mentioned, it seems to be\n",
      "just one more case of Matthew's pen making up convenient prophetic\n",
      "scripture.\n",
      "\n",
      "YHVH said to \n",
      "my lord...:\n",
      "\n",
      "      Jesus is said to have asked from whom the promised Jewish\n",
      "messiah-king is to be descended.  The Jews agree-- it is king\n",
      "David.  But, then Jesus counters by quoting Psalms 110,\n",
      "\n",
      "       \"The LORD said to my Lord, sit at my right hand, until\n",
      "       I put your enemies under your feet.\"\n",
      "\n",
      "Taken at face value, Jesus is denying the necessity of Davidic\n",
      "descent.  One assumes he is in opposition to their answer.  Of\n",
      "course, the Christian answer is that he agrees, but is trying to\n",
      "make some hidden point, to reveal some mystery about the divine\n",
      "nature of the messiah-king.  It's tempting to believe this, if one\n",
      "is a Christian and not interested in matters of investigation. \n",
      "But, there are problems.\n",
      "       In Jesus's time, the psalm was thought to be about the\n",
      "messiah.  And, it is easy to see why David might refer to the\n",
      "messiah as his superior.  We need only look at the scriptures\n",
      "about the messiah to see that he is expected to be a great king,\n",
      "bringing the Jews to times even better than those under David's\n",
      "rule.  Of course, the Jews listening had no good answer, and the\n",
      "passage could indeed refer to a divine messiah, such as the\n",
      "Christians worship.  The problem lies in the meaning of this\n",
      "psalm, an error that apparently several Jews of Jesus's time had\n",
      "also made.  One must remember that there were various factions\n",
      "among the Jews, often as a result of different expectations of the\n",
      "messiah-king.  Jesus was apparently one of these adventists, like\n",
      "his audience, who thought the messiah's advent was imminent, and\n",
      "who interpreted Psalms 110, among others, as being messianic.\n",
      "What is the problem, then?  Psalm 110 literally reads,\n",
      "\n",
      "       YHVH's utterance to my lord:\n",
      "\t\"Sit at my right hand, until I make your enemies your\n",
      "       footstool.\"\n",
      "\n",
      "       YHVH sends forth your mighty scepter from Zion.  Rule\n",
      "       in the midst of your foes!  Your people will offer\n",
      "       themselves freely on the day you lead your host on the\n",
      "       holy mountains.  \n",
      "\n",
      "       \"You are a priest of the order of Melchizedek\n",
      "       forever.\"\n",
      "\n",
      "The word \"lord\" is often mistakenly capitalised by Christian\n",
      "bibles to denote divinity in this lord.  But, in the Hebrew, the\n",
      "word is \"adoni,\" and no capitalisation exists.  Adoni simply means\n",
      "\"lord,\" a generic term as we would use it.  It is used often in\n",
      "the scriptures to refer to kings and to G'd.  It is merely an\n",
      "address of respect.  \n",
      "      There is nothing in the text itself to imply that the word\n",
      "refers either to divinity or to the messiah-king.  That this is\n",
      "supposed to be written by David is not certain.  The title of the\n",
      "psalm translates to either \"a psalm of David,\" or \"a psalm about\n",
      "David.\"  It seems fitting to assume it to be written by a court\n",
      "poet, about David's covenant and endorsement from G'd.  If the\n",
      "psalm had been written by David, it is unlikely that he would be\n",
      "talking about the messiah.  The idea of a perfect king, descended\n",
      "from David, was not present in David's age.  We have extensive\n",
      "tales of David's doings and sayings-- none of which include any\n",
      "praises of a messiah.\n",
      "     Many of the psalms show evidence of being written long after\n",
      "David was dead, in times of the exile when G'd had put his show of\n",
      "favour for David's kingdom on hold.  \n",
      "     The description in the psalm fit David very well.  David was\n",
      "promised by G'd a rise to power, victory over his enemies,\n",
      "successful judgement among the nations he conquered.  He achieved\n",
      "the priesthood common to Melchizedek in being a righteous king,\n",
      "enabled to bless the people.   It all fits.\n",
      "      We do not have to blame this problem on Matthew alone,\n",
      "though.  Here, there is not artificial prophecy alluded to, though\n",
      "his use of the scripture is rather questionable.  Still, this\n",
      "event is common to the other gospels too.  So, we let Matthew off\n",
      "a little more easily this time.  It is interesting to note,\n",
      "though, how Matthew dresses up the event.  The earlier gospel of\n",
      "Mark tells the tale with Jesus simply speaking to a crowd. \n",
      "Matthew has the Pharisees, who became the religious competition of\n",
      "an infant Christianity, be the target of Jesus's question.  As we\n",
      "might expect, Matthew writes that the event ends up by\n",
      "embarrassing the Pharisees.  Such power is the pen.\n",
      "\n",
      "Moses & Jesus,\n",
      "Had it Together\n",
      "All Along...:\n",
      "\n",
      "       We leave the gospel story of Matthew momentarily to see a\n",
      "pseudo-prophecy in John's gospel.  The gospel story of John\n",
      "deserves special treatment, because it seems to be so far removed\n",
      "from the real events of Jesus's career as told by even Matthew. \n",
      "But, for the moment, we will just look at one verse.  The early\n",
      "church leaders founded a religion on the Jewish hopes of a messiah\n",
      "king, and on an artificial extension of the original promises made\n",
      "by G'd.  When constructing the history of Abraham, Moses wrote of\n",
      "a promise of land and nationhood to the Jewish people.  While this\n",
      "was accomplished eventually, under the rule of king David, the\n",
      "Christians who came along later decided that they would claim the\n",
      "fulfillment of the promise.  But, to do so, they expanded on the\n",
      "promise, preaching about a heavenly kingdom.\n",
      "\n",
      "       [John 8.56] (J.C. speaking) Your father, Abraham,\n",
      "       rejoiced to see My day.  He say it and was glad.\n",
      "\n",
      "It would be nice to tie in approval for Jesus from Abraham, but,\n",
      "Abraham knew nothing of Jesus or a messiah, or anything Christian. \n",
      "I have tried, and failed to find any event in the Old Testament\n",
      "which corresponds to John's little prophecy.  It is par for the\n",
      "course to see St. John making up Old Testament backings, just like\n",
      "his forerunner Matthew.  Many Christians know that their faith has\n",
      "many of its foundations in such fraud, and it is surprising they\n",
      "still cling to it.\n",
      "\n",
      "The Potter's\n",
      "Field:\n",
      "\n",
      "      We are told that Jesus was betrayed while in Jerusalem by\n",
      "one of his followers, Judas Iscariot.   Matthew writes,\n",
      "\n",
      "       [Mt 27.5-10]  And throwing down the pieces of silver\n",
      "       in the temple, [Judas] departed... But, the chief\n",
      "       priests, taking the silver, said, \"It isn't lawful for\n",
      "       us to put it in the treasury, since it is blood\n",
      "       money.\"  So they... bought a potter's field with it to\n",
      "       bury strangers in... Then was fulfilled what was\n",
      "       spoken by the prophet Jeremiah,\n",
      "\n",
      "       \"And they took the thirty pieces of silver, the price\n",
      "       of him on whom a price had been set by some of the\n",
      "       sons of Israel, and they gave them for the potter's\n",
      "       field, as the lord directed me.\"\n",
      "\n",
      "This prophecy is an utterly gross bastardisation of Old Testament\n",
      "Scripture.  First, Matthew has made a mistake regarding the name\n",
      "of the prophet.  It is Zechariah who utters the verses which\n",
      "Matthew makes use of.\n",
      "\n",
      "       [Zech. 11.12-13]  ...And they weighed out my wages,\n",
      "       thirty shekels of silver.  Then YHVH said to me, \"Cast\n",
      "       them to the treasury,\" --the lordly price at which I\n",
      "       was paid off by them.  So I took the thirty shekels of\n",
      "       silver and cast them into the treasury in the house of\n",
      "       YHVH.\n",
      "\n",
      "First of all, the verses of Zechariah do not deal with a betrayer\n",
      "of the messiah, or of G'd.  The deal with a shepherd, most likely\n",
      "a priest, chosen to serve a function of presiding over the people\n",
      "shortly before G'd would send Judah and Israel into conflict with\n",
      "one another.  The word, \"treasury,\" had been replaced by the King\n",
      "James Scholars with \"to the potter,\" precisely because this made\n",
      "Matthew's quote fit better.  But, this is a blatant error.  The\n",
      "correct translation of the Hebrew is indeed \"treasury,\" which also\n",
      "makes perfect sense in Zechariah's context, whereas \"potter's\n",
      "field\" is totally unrelated.  Whether the mistranslation was\n",
      "intentional or not seems to be beyond speculation.  However, given\n",
      "Matthew's track record, one finds it hard to resist the notion of\n",
      "intentional dishonesty.\n",
      "      Of course, Matthew would have ample reason for altering the\n",
      "text.  The thirty pieces of silver match Judas's situation, and if\n",
      "as most Christians seem to be, the reader is willing to disregard\n",
      "the contextual incongruity, Matthew might have another prophecy to\n",
      "toss around.  However, the correct translation of Zechariah\n",
      "directly contradicts the situation with Judas and the high\n",
      "priests.  The high priests would not put the money in the\n",
      "treasury.  The worthless shepherd of Zechariah does exactly the\n",
      "opposite!  Of course, to the average Thursday-Night Bible student,\n",
      "the \"prophecy\" as presented by Matthew would be taken at New\n",
      "Testament face value.  To those, Matthew's work is convincing\n",
      "enough.\n",
      "\n",
      "Wine, Vinegar,\n",
      "& Casting Lots:\n",
      "\n",
      "      Then, Jesus is led away to be crucified.\n",
      "\n",
      "       [Mt 27.34-35]  ...they gave him vinegar to drink,\n",
      "       mingled with gall; but when he tasted it, he would not\n",
      "       drink it.  And, when they had crucified him, they\n",
      "       divided his garments among them by casting lots: that\n",
      "       it might be fulfilled what was spoken by the prophet,\n",
      "\n",
      "       \"They parted my garments among them, and upon my\n",
      "       vesture did they cast lots.\"\n",
      "\n",
      "First of all, the vinegar offered to Jesus is actually common sour\n",
      "wine, of the type that Roman soldiers drank regularly.  We find\n",
      "that right before Jesus dies, the soldiers themselves give him\n",
      "some to drink --not polluted with gall.\n",
      "\n",
      "       [Jn 19.28-30]  Jesus... said, \"I thirst.\"  A bowl of\n",
      "       vinegar stood there, so they put a sponge full of the\n",
      "       vinegar on hyssop and held it to his mouth.  When he\n",
      "       had received the vinegar, he said, \"It is finished;\"\n",
      "\n",
      "But, Matthew seems to be drawing on, not a passage from the\n",
      "prophets, but one from the Psalms.\n",
      "\n",
      "       [Ps 69.20-28]  I looked for pity, but there was none;\n",
      "       and for comforters, but I found none.  They gave me\n",
      "       poison for food (lit. they put gall in my meat), and\n",
      "       for my thirst, they gave me vinegar to drink...  Add\n",
      "       to them punishment upon punishment, may they have no\n",
      "       acquittal from thee.  Let them be blotted out of the\n",
      "       Book of the Living.\n",
      "\n",
      "Of course, the sour wine offered to Jesus is done at his request\n",
      "of drink.  This does indeed seem to be a show of pity.  The psalm\n",
      "quoted is about David and his political and military enemies.  It\n",
      "is not about the messiah or Jesus.  It is then not surprising that\n",
      "we run into further problem when we see that the \"Jesus\" in the\n",
      "psalm asks G'd for the damnation of the \"crucifiers,\" whereas the\n",
      "Jesus of the gospels says,\n",
      "\n",
      "       [Lk 23.34]  Jesus said, \"Father, forgive them, the\n",
      "       don't know what they do!\"\n",
      "\n",
      "Further, Matthew misses with his attempt to create prophecy by\n",
      "having gall (a bitter substance) put into Jesus's drink, not his\n",
      "meat, as the psalm stipulates.\n",
      "\n",
      "       With the \"prophecy\" of the vinegar faulty, we naturally\n",
      "ask, \"What of the casting of lots?\"  This brings up the 22nd\n",
      "Psalm, which deserves discussion all by itself.  Suffice it now to\n",
      "say that the fact that Jesus's clothes were divided as told is no\n",
      "great thing.  It turns out that this happened often to any felon\n",
      "in those days.  As we will soon see, it is perhaps the least\n",
      "erroneous passage of the psalm when applied to Jesus.  It does\n",
      "indeed bring up the interesting question as to the quality of\n",
      "Jesus's clothes.  For a man so removed from worldly possessions,\n",
      "his ownership of clothes worthy of casting lots raises some\n",
      "suspicions.\n",
      "\n",
      "The 22nd Psalm:\n",
      "\n",
      "      This psalm is attributed to David, as a lament of his\n",
      "condition under the attack of his enemies.  It becomes a song of\n",
      "praise to YHVH and of hope.  Taken out of context, parts of it\n",
      "seem to fit the plight of Jesus at the crucifixion quite well.  We\n",
      "will examine the primary passages.\n",
      "\n",
      "       Verse 1-2:  My god, my god! why have you forsaken me?! \n",
      "       Why are you so far from helping me, far from the words\n",
      "       of my groaning?  Oh, my god, I cry by day, but you\n",
      "       don't answer, and by night, but find no rest.\n",
      "\n",
      "Jesus is said to have cried the first sentence while on the cross. \n",
      "This suggests that the whole psalm is really about Jesus, rather\n",
      "than king David.  Of course, the rest of the first stanza does not\n",
      "fit as nicely to Jesus or his execution.  Jesus is not pictured as\n",
      "complaining about the whole ordeal, he is supposed to be like \"the\n",
      "lamb led mute before its shearers.\"  Indeed, Jesus doesn't do much\n",
      "groaning, even when on the cross.  He certainly does not cry by\n",
      "both day and night on the cross.\n",
      "\n",
      "       6-8:  But, I am a worm, and no man-- scorned by men... \n",
      "       All who see me mock at me.  They make faces and wag\n",
      "       their heads;  \"He committed his cause to YHVH.  So let\n",
      "       him deliver him... for he delights in him.\"\n",
      "\n",
      "This seems to fit Jesus's execution pretty well, with the\n",
      "exception of the Holy messiah being called a worm.\n",
      "\n",
      "       12-13:  Many bulls encompass me... they open their\n",
      "       mouths widely at me like a ravening and roaring lion.\n",
      "\n",
      "       16-18:  Yea, dogs are round about me, a company of\n",
      "       evildoers encir-cle me, they have pierced my hands and\n",
      "       feet.  I can see all my bones... They divide my\n",
      "       garments among them, and cast lost for my raiment.\n",
      "\n",
      "       19-21:  But you, YHVH, be not far away!  ...Deliver my\n",
      "       soul from the sword, my life from the power of the\n",
      "       dog!  Save me from the mouth of the lion, and my\n",
      "       afflicted soul from the horns of the wild bull!\n",
      "\n",
      "It would seem quite convincing, and I'm sure the early Christian\n",
      "fathers who wrote of this prophecy thought so too.  Unfortunately,\n",
      "this prophecy has a fatal flaw.  The words \"have pierced\" really\n",
      "do not exist in the psalm.  The correct Hebrew translation is,\n",
      "\n",
      "       16:  Yea, dogs are round about me, a company of\n",
      "       evildoers encircles me, like the lion, they are at my\n",
      "       hands and feet...\n",
      "\n",
      "In Hebrew the phrase \"like the lion\" and a very rare verb form\n",
      "which can mean \"pierced\" differ by one phonetic character.  The\n",
      "word in the Hebrew text is literally, \"like the lion\" (ka'ari),\n",
      "which makes sense in the context, and even further fits the animal\n",
      "imagery employed by the psalm writer.  It is convenience that\n",
      "would urge a Christian to change the word to \"ka'aru.\"   But, to\n",
      "add the needed (yet artificial) weight to the \"prophecy\" this is\n",
      "just what the Christian translators have chosen to do.  While the\n",
      "correct translation does not eliminate the psalm from referring to\n",
      "Jesus, its absence does not say much for the honesty of the\n",
      "translators.\n",
      "\n",
      "       Apart from the erroneous verse 16, the psalm does not lend\n",
      "itself to Jesus so easily.  Verse 20 speaks of the sufferer being\n",
      "saved from a sword rather than a cross.  This naturally fits the\n",
      "psalm's true subject, king David.  As a side note, we now know\n",
      "that crucifixions did not pierce the hands, the palms, but rather\n",
      "the forearms.  This doesn't say much in favour of the traditional\n",
      "thought of a resurrected Jesus showing his disciples the scars on\n",
      "his palms.  But then, facts aren't bound by our religious beliefs.\n",
      "\n",
      "      Matthew escapes culpability this time, as he does not\n",
      "attempt to draw many direct links between this psalm and his lord\n",
      "Jesus.  But the psalm, like many others, was on the minds of all\n",
      "the gospel writers when they compiled the stories and\n",
      "interpretations of Jesus's life and death.  How much these\n",
      "scriptures may have contributed to what actually got written down\n",
      "is a question that has serious repercussions for Christian\n",
      "theology.  It is easy to see, for those who are not faithful\n",
      "fundamentalists, how some of the events in the New Testament might\n",
      "have been \"enhanced\" by scribes such as the eager Matthew.  But,\n",
      "it does less to speculate than to simply investigate scriptural\n",
      "matters and prophetic claims.  So far, this has not said good\n",
      "things for St. Matthew.\n",
      "\n",
      "The reference to the piercing looks a lot like Jesus's\n",
      "crucifixion.  John's gospel recount, written about 70 years after\n",
      "the fact, tells us at Jesus's execution,\n",
      "\n",
      "       [Jn 19.34,37]  But one of the soldiers pierced his\n",
      "       side with a spear, and out came blood and water...\n",
      "       these things took place that Scripture be fulfilled...\n",
      "       \"The will look on him whom they've pierced.\"\n",
      "\n",
      "Of course, this is built on a passage taken blatantly out of\n",
      "context.   Prophet Zechariah tells us how much of the nation of\n",
      "Israel will split off from Jerusalem and Judah and go to war with\n",
      "them.\n",
      "\n",
      "       [Zc 12.7-10]  And YHVH will give victory to Judah...\n",
      "       And on that day, I will seek to destroy the nations\n",
      "       that come against Jerusalem (in Judah).  And I will\n",
      "       pour a spirit of compassion and supplication... on\n",
      "       Jerusalem so that when they look on him who they have\n",
      "       pierced, they will mourn, and weep bitterly over him\n",
      "       like you weep over a firstborn child.\n",
      "\n",
      "John's attempt to make up prophecy is perhaps weaker that\n",
      "Matthew's attempts.  Matthew, at least, usually excontexts more\n",
      "than just one passage.  John's errors are grossly obvious and\n",
      "blatant here.  It does not speak well for any of the gospel\n",
      "writers, as it helps to show how the prophetic aspects of their\n",
      "religion were founded.\n",
      "\n",
      "\f",
      "\n",
      "Reckoned with\n",
      "Transgressors:\n",
      "\n",
      "       After his arrest, Jesus is quickly executed for claiming\n",
      "the Jewish kingship, messiahship.   According to one version of\n",
      "the gospel tale, Jesus gets executed along with two thieves.\n",
      "\n",
      "       [Mk 15.27]  And with him they crucified two robbers,\n",
      "       one on his right, one on his left.  And so the\n",
      "       scripture was fulfilled which says,\n",
      "\n",
      "       \"He was reckoned with the transgressors.\"\n",
      "\n",
      "Here, Mark is trying to link Jesus to a passage in Isaiah 53,\n",
      "about the servant nation of Israel.  The passage is not about the\n",
      "messiah, for if one reads the whole chapter of Isaiah 53, and its\n",
      "surrounding chapters, one sees that the servant is a nation.  The\n",
      "verses are also about what this servant has gone through in the\n",
      "past, not a prediction of what is to come, in any event.  The\n",
      "servant is thought of as a criminal.  This also happens to fit the\n",
      "description of Jesus.  Had the passage really been about the\n",
      "messiah, it still is not at all clear why executing Jesus between\n",
      "two thieves would fulfill the \"prophecy\" in Isaiah.  Jesus would\n",
      "more fittingly fulfill it with his whole ministry.  He was\n",
      "considered a blasphemer and troublemaker all throughout his\n",
      "career.   Locking onto a single event is a rather poor way to\n",
      "steal prophecy, at least in this case, as we see that Mark could\n",
      "have had made a better analogy with general comparisons.\n",
      "\n",
      "       Mark goes on to tell us how \"those who were crucified with\n",
      "[Jesus] also reviled him.\" [15.32]  This is to be expected from a\n",
      "couple of robbers.  Of course in his later recount, St. Luke\n",
      "decides to change some things.  Luke tells us,\n",
      "\n",
      "       [Lk 23.39-43]  And one of the criminals who was hanged\n",
      "       with him railed, \"Aren't you the messiah?! Save\n",
      "       yourself, and us!\"\n",
      "\n",
      "This certainly fits with Mark's recount, which tells how the\n",
      "people who crucified Jesus said, \"Save yourself!\" and that the\n",
      "robbers did the same.  But then Luke goes on,\n",
      "\n",
      "       But the other [criminal] rebuked [the first] saying,\n",
      "       \"Don't you fear G'd, since you are under the same\n",
      "       sentence of condemnation?  And we, indeed justly so,\n",
      "       for we are receiving the due reward for our deeds. \n",
      "       But, this man has done nothing wrong. And he said,\n",
      "       \"Jesus, remember me when you come in your kingdom.\" \n",
      "       And Jesus answered, \"Verily I say to you, today you\n",
      "       will be with me in paradise.\"\n",
      "\n",
      "Now, this little dialogue seems highly contrived.  It stretches\n",
      "the imagination a bit to see this picture of one ruffian rebuking\n",
      "his fellow criminal with such eloquent speech.  We have a rather\n",
      "strange picture of a criminal lamenting over the goodness of his\n",
      "punishment and the justness of his suffering.   Such a man,\n",
      "apparently noble and of principle, doesn't seem likely to have\n",
      "been a robber.  We wonder at the amount of theatrics created by\n",
      "Luke.  Of course, Luke's recount also disagrees with Mark's.  \n",
      "Luke has only one criminal revile Jesus, not both.  It is easy\n",
      "enough to discount the discrepancy because the account was made\n",
      "up, but those who wish to believe it is all part of the error free\n",
      "words of G'd do not have this avenue open.  This is yet another\n",
      "example of a writer trying to take an Old Testament passage and\n",
      "expand it and reinterpret it to suit his theology.  In this case,\n",
      "the embroidery creates some embarrassing problems, as we have\n",
      "seen.\n",
      "\n",
      "The End of the\n",
      "World--\n",
      "       Mt. 24:\n",
      "\n",
      "       Now comes perhaps one of the most extraordinary and\n",
      "embarrassing passages in the New Testament.  It is found in all\n",
      "three of the synoptic gospel stories, and casts some of the most\n",
      "unfavourable doubt on the whole theory of Christianity.  Jesus\n",
      "mentions the destruction of the Jewish temples and buildings, and\n",
      "his disciples ask him about this, and about the end of the world\n",
      "which he has been warning about.\n",
      "\n",
      "       The disciples: Tell us, when will this [the temple's\n",
      "       destruction] be, and what will be the sign of your\n",
      "       coming, and of the close of the age?\n",
      "\n",
      "       Jesus: Take care that no one leads you astray, for\n",
      "       many will come in my name, saying, \"I am the christ.\"  \n",
      "       ...you will hear of wars and rumours of wars... for\n",
      "       this must take place, but the end is not yet.   For,\n",
      "       nation will rise against nation... all this is but the\n",
      "       beginning of the birthpangs.\n",
      "             They will deliver you up... put you to death,\n",
      "       and false prophets will arise and lead many astray.\n",
      "       ...But he who endures to the end will be saved.  This\n",
      "       gospel will be preached throughout the whole world, a\n",
      "       testimony to the nations, and then the end will come.\n",
      "             So, when you see the desolation spoken of by the\n",
      "       prophet Daniel, ...let those who are in Judea flee to\n",
      "       the mountains.\n",
      "\n",
      "             Immediately after the tribulation of those days,\n",
      "       the sun will be darkened... the stars will fall from\n",
      "       heaven... then will appear the sign of the Son of Man\n",
      "       in heaven, and all the tribes of the earth will mourn,\n",
      "       and see the Son of Man coming... and he will send out\n",
      "       his angels... and gather his elect...\n",
      "             Learn the lesson of the fig tree: as soon as its\n",
      "       branch becomes tender and puts forth leaves, you know\n",
      "       that summer is near.  So also, when you see all these\n",
      "       things, you will know that He is near, at the very\n",
      "       gate.  Truly I say to you, this generation will not\n",
      "       pass away until all these things take place...\n",
      "             But, of the day and hour, no one knows; not the\n",
      "       angels, not the Son, but only the Father... Therefore,\n",
      "       you also must be ready, for the Son of Man is coming\n",
      "       at an hour you do not expect.\n",
      "\n",
      "From this, it is clear that Jesus thought the world would in\n",
      "within the lifetimes of at least some of his disciples.  He tells\n",
      "them that although he doesn't know the exact day or hour, that it\n",
      "will come, and thus they must be ready.  Theologians have wet\n",
      "their pants in panic to find some way out of this Holy Error. \n",
      "But, unfortunately, Jesus made himself to explicit.  He told his\n",
      "disciples that their generation would still be around at the End,\n",
      "and that they in particular should prepare for it, prepare to be\n",
      "swept away.\n",
      "      There have been some who resorted to removing the inerrant\n",
      "nature of the Bible, and said that the phrase, \"this generation\n",
      "shall not pass away...\" really means \"this race of people will not\n",
      "pass away...\"  Of course, the word for generation is used many\n",
      "times to refer to exactly that, the generation of the disciples. \n",
      "It is an interesting notion that when God decided to learn Greek,\n",
      "he didn't learn it well enough to make himself clear.  But. it is\n",
      "quite obvious from the rest of the dialogue that the disciples (at\n",
      "least some of them) are supposed to live to the End of the World. \n",
      "The charge of mistranslation is completely blown away by looking\n",
      "at the Apostles' responses.  It becomes abundantly clear from\n",
      "Rev. 22.7, 1 Peter 4.7, 1 John 2.18, and Rev. 22.20, that Jesus\n",
      "meant exactly what he said.  The End was very near.\n",
      "\n",
      "       For 2,000 years, Christians have rationalised this 24th\n",
      "chapter of Matthew, or ignored its meaning altogether.  For 2,000\n",
      "years, they have waited for their executed leader to come back,\n",
      "hearing of wars, and rumours of wars, sure that He is coming soon. \n",
      "Surely He must be.  All we must do is wait.  Can you imagine how\n",
      "tired He must be, sitting around up there, being holy, waiting for\n",
      "just the right moment to spring?\n",
      "\n",
      "\n",
      "       So, shortly after his crucifixion, Jesus of Nazareth,\n",
      "(Joshua-ben-Joseph), died.   It is said that after three days, or\n",
      "three days and three nights, or three periods of time, or three\n",
      "eternal seconds --or three of whatever they can decide makes for\n",
      "less trouble-- he was seen again, resurrected, glowing with divine\n",
      "radiance.  Then the Saviour decided it wasn't in the best\n",
      "interests of his new religion to stick around, and therefore\n",
      "disappeared from sight into heaven.  So the story goes, anyway. \n",
      "As has been seen, there were many things attributed to Jesus when\n",
      "people got around to writing the gospel stories down.  To them,\n",
      "Jesus was the fulfiller of all prophecy and scripture.  We have\n",
      "seen, though, that this matter is quite shaky.  But, throughout\n",
      "Church history, Christians have held fast to faith, in simple\n",
      "belief.  What doctrinal objections could not be solved with\n",
      "argumentation or brute force, faith and forgetfulness kept away\n",
      "from question.  To question and investigate has never been the\n",
      "easiest way to treat matters.  Thus for 2,000 years, the\n",
      "prophecies cited in the New Testament have gone on largely\n",
      "accepted.  Things may well continue that way for some time. \n",
      "Pausing a moment to consider the way the doctrines of Christianity\n",
      "have been accepted and used (properly or improperly) to support\n",
      "wars and persecution, I suppose there is one prophecy of which\n",
      "Christianity can securely keep hold.\n",
      "--------------------------------------------------\n",
      "You know, it just occurred to me today that this whole Christian thing\n",
      "can be blamed solely on Mary.\n",
      "\n",
      "So, she's married to Joseph.  She gets knocked up.  What do you think\n",
      "ol' Joe will do if he finds she's been getting around?  So Mary comes up\n",
      "with this ridiculous story about God making her pregnant.  Actually, it\n",
      "can't be all THAT ridiculous, considering the number of people that\n",
      "believe it.  Anyway, she never tells anyone the truth, and even tells\n",
      "poor little Jesus that he's hot shit, the Son of God.  Everyone else\n",
      "tells him this too, since they've bought Mary's story.  So, what does\n",
      "Mary actually turn out to be?  An adultress and a liar, and the cause of\n",
      "mankind's greatest folly...\n",
      "\n",
      "Just my recently-minted two cents.\n",
      "\n",
      "Chris\n",
      "\n",
      "--------------------------------------------------\n",
      " \n",
      "]The \"corrupted over and over\" theory is pretty weak.  Comparison of the\n",
      "]current hebrew text with old versions and translations shows that the text\n",
      "]has in fact changed very little over a space of some two millennia.  This\n",
      "]shouldn't be all that suprising; people who believe in a text in this manner\n",
      "]are likely to makes some pains to make good copies.\n",
      " \n",
      "Tell it to King James, mate.\n",
      " \n",
      "]C. Wingate        + \"The peace of God, it is no peace,\n",
      "]                  +    but strife closed in the sod.\n",
      "]mangoe@cs.umd.edu +  Yet, brothers, pray for but one thing:\n",
      "]tove!mangoe       +    the marv'lous peace of God.\"\n",
      " \n",
      "--------------------------------------------------\n",
      "\n",
      "(WEBSTER:  myth:  \"a traditional or legendary story...\n",
      "           ...a belief...whose truth is accepted uncritically.\")\n",
      "\n",
      "How does that qualify?\n",
      "Indeed, it's almost oxymoronic...a rather amusing instance.\n",
      "I've found that most atheists hold almost no atheist-views as\n",
      "\"accepted uncritically,\" especially the few that are legend.\n",
      "Many are trying to explain basic truths, as myths do, but\n",
      "they don't meet the other criterions.\n",
      "Also...\n",
      "\n",
      "\n",
      "You accuse him of referencing mythology, then you procede to\n",
      "launch your own xtian mythology.  (This time meeting all the\n",
      "requirements of myth.)\n",
      "\n",
      "\n",
      "Ah, but not everyone \"knows\" that god exists.  So you have\n",
      "a fallacy.\n",
      "\n",
      "\n",
      "And that makes it true?  Holding with the Bible rules out controversy?\n",
      "Read the FAQ.  If you've read it, you missed something, so re-read.\n",
      "(Not a bad suggestion for anyone...I re-read it just before this.)\n",
      "\n",
      "\n",
      "...should I repeat what I wrote above for the sake of getting\n",
      "it across?  You may trust the Bible, but your trusting it doesn't\n",
      "make it any more credible to me.\n",
      "\n",
      "If the Bible says that everyone knows, that's clearly reason\n",
      "to doubt the Bible, because not everyone \"knows\" your alleged\n",
      "god's alleged existance.\n",
      "\n",
      "\n",
      "1) No, they don't have to ignore the Bible.  The Bible is far\n",
      "from universally accepted.  The Bible is NOT a proof of god;\n",
      "it is only a proof that some people have thought that there\n",
      "was a god.  (Or does it prove even that?  They might have been\n",
      "writing it as series of fiction short-stories.  As in the\n",
      "case of Dionetics.)  Assuming the writers believed it, the\n",
      "only thing it could possibly prove is that they believed it.\n",
      "And that's ignoring the problem of whether or not all the\n",
      "interpretations and Biblical-philosophers were correct.\n",
      "\n",
      "2) There are people who have truly never heard of the Bible.\n",
      "\n",
      "3) Again, read the FAQ.\n",
      "\n",
      "\n",
      "Bzzt...wrong answer!\n",
      "Gravity is directly THERE.  It doesn't stop exerting a direct and\n",
      "rationally undeniable influence if you ignore it.  God, on the\n",
      "other hand, doesn't generally show up in the supermarket, except\n",
      "on the tabloids.  God doesn't exert a rationally undeniable influence.\n",
      "Gravity is obvious; gods aren't.\n",
      "\n",
      "\n",
      "No, human reason hasn't always come back to the existance of\n",
      "\"God\"; it has usually come back to the existance of \"god\".\n",
      "In other words, it doesn't generally come back to the xtian\n",
      "god, it comes back to whether there is any god.  And, in much\n",
      "of oriental philosophic history, it generally doesn't pop up as\n",
      "the idea of a god so much as the question of what natural forces\n",
      "are and which ones are out there.  From a world-wide view,\n",
      "human nature just makes us wonder how the universe came to\n",
      "be and/or what force(s) are currently in control.  A natural\n",
      "tendancy to believe in \"God\" only exists in religious wishful\n",
      "thinking.\n",
      "\n",
      "\n",
      "Xtianity is no more reasonable than most other religions, and\n",
      "it's reasonableness certainly doesn't merit eminence.\n",
      "Divine justice...well, it only seems just to those who already\n",
      "believe in the divinity.\n",
      "First, not all atheists believe the same things about human\n",
      "nature. Second, whether most atheists are correct or not,\n",
      "YOU certainly are not correct on human nature.  You are, at\n",
      "the least, basing your views on a completely eurocentric\n",
      "approach.  Try looking at the outside world as well when\n",
      "you attempt to sum up all of humanity.\n",
      "--------------------------------------------------\n"
     ]
    }
   ],
   "source": [
    "for i, val in enumerate(np.logical_and(np.array(test_labels)==0, svm_tfidf_pred==15)):\n",
    "    if val:\n",
    "        print(test_corpus[i])\n",
    "        print('-'*50)"
   ]
  },
  {
   "cell_type": "code",
   "execution_count": null,
   "metadata": {
    "collapsed": false
   },
   "outputs": [],
   "source": []
  },
  {
   "cell_type": "code",
   "execution_count": null,
   "metadata": {
    "collapsed": true
   },
   "outputs": [],
   "source": []
  },
  {
   "cell_type": "code",
   "execution_count": null,
   "metadata": {
    "collapsed": true
   },
   "outputs": [],
   "source": []
  },
  {
   "cell_type": "code",
   "execution_count": null,
   "metadata": {
    "collapsed": true
   },
   "outputs": [],
   "source": []
  },
  {
   "cell_type": "code",
   "execution_count": null,
   "metadata": {
    "collapsed": true
   },
   "outputs": [],
   "source": []
  },
  {
   "cell_type": "code",
   "execution_count": null,
   "metadata": {
    "collapsed": true
   },
   "outputs": [],
   "source": []
  }
 ],
 "metadata": {
  "kernelspec": {
   "display_name": "Python [conda env:py35]",
   "language": "python",
   "name": "conda-env-py35-py"
  },
  "language_info": {
   "codemirror_mode": {
    "name": "ipython",
    "version": 3
   },
   "file_extension": ".py",
   "mimetype": "text/x-python",
   "name": "python",
   "nbconvert_exporter": "python",
   "pygments_lexer": "ipython3",
   "version": "3.5.4"
  }
 },
 "nbformat": 4,
 "nbformat_minor": 2
}
