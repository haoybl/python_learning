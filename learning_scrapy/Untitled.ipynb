{
 "cells": [
  {
   "cell_type": "code",
   "execution_count": 1,
   "metadata": {
    "collapsed": true
   },
   "outputs": [],
   "source": [
    "import requests\n",
    "\n"
   ]
  },
  {
   "cell_type": "code",
   "execution_count": 26,
   "metadata": {
    "collapsed": true
   },
   "outputs": [],
   "source": [
    "url = \"https://www.nomuradirect.com/th/login/default.aspx\"\n",
    "\n",
    "params = {'username': '', 'password':''}"
   ]
  },
  {
   "cell_type": "code",
   "execution_count": 35,
   "metadata": {
    "collapsed": true
   },
   "outputs": [],
   "source": [
    "#session = requests.Session()\n",
    "\n",
    "s = requests.post(url, data=params)"
   ]
  },
  {
   "cell_type": "code",
   "execution_count": 36,
   "metadata": {
    "collapsed": false
   },
   "outputs": [
    {
     "data": {
      "text/plain": [
       "{'ASP.NET_SessionId': '3s0hzqfv2pfoux45fejzyr45',\n",
       " 'DirectAkamai': 'ffffffff83cf1f9745525d5f4f58455e445a4a423660'}"
      ]
     },
     "execution_count": 36,
     "metadata": {},
     "output_type": "execute_result"
    }
   ],
   "source": [
    "s.cookies.get_dict()"
   ]
  },
  {
   "cell_type": "code",
   "execution_count": 37,
   "metadata": {
    "collapsed": false
   },
   "outputs": [
    {
     "name": "stdout",
     "output_type": "stream",
     "text": [
      "\r\n",
      "\r\n",
      "<!DOCTYPE html>\r\n",
      "<html lang=\"en\" xml:lang=\"en\">\r\n",
      "<head>\r\n",
      "<title>Nomura - บริษัทหลักทรัพย์ โนมูระ พัฒนสิน จำกัด (มหาชน)</title>\r\n",
      "<link rel=\"shortcut icon\" href=\"../../favicon.ico\" type=\"image/x-icon\" />\r\n",
      "<!DOCTYPE html>\r\n",
      "<html>\r\n",
      "<head>\r\n",
      "\r\n",
      "\r\n",
      "<!--[if IE 6]>\r\n",
      "\t <link href=\"../../css/ie6.css\" rel=\"stylesheet\" type=\"text/css\" />\r\n",
      "\t<![endif]-->\r\n",
      "<!--start headder-->\r\n",
      "<meta http-equiv=\"Content-Type\" content=\"text/html; charset=utf-8\">\r\n",
      "<meta name=\"viewport\" content=\"width=device-width, initial-scale=1.0\">\r\n",
      "<style>\r\n",
      "\r\n",
      "html, body, .container,.text-boxs, #wrapper2 {\r\n",
      "    overflow: hidden;\r\n",
      "    width: 100%;\r\n",
      "    height: 100%;\r\n",
      "}\r\n",
      " .text-boxs{\r\n",
      " width:100% !important;\r\n",
      " }\r\n",
      "\r\n",
      " .frm_login {\r\n",
      "\r\n",
      "\t}\r\n",
      "body {\r\n",
      "\r\n",
      "    font-family: tahoma, Arial, Helvetica, sans-serif;\r\n",
      "\tfont-size:13px;\r\n",
      "}\r\n",
      ".overlay {\r\n",
      "    height: 0%;\r\n",
      "\twidth: 100%;\r\n",
      "    position: fixed;\r\n",
      "    z-index: 1;\r\n",
      "    top: 0;\r\n",
      "    left: 0;\r\n",
      "    background-color: rgb(0,0,0);\r\n",
      "    background-color: rgba(0,0,0, 0.9);\r\n",
      "    overflow-y: hidden;\r\n",
      "    transition: 0.5s;\r\n",
      "}\r\n",
      "\r\n",
      ".overlay-content {\r\n",
      "    position: relative;\r\n",
      "    top: 25%;\r\n",
      "    width: 100%;\r\n",
      "    text-align: center;\r\n",
      "   /* margin-top: 30px;*/\r\n",
      "    \r\n",
      "}\r\n",
      "\r\n",
      ".overlay a {\r\n",
      "    padding: 8px;\r\n",
      "    text-decoration: none;\r\n",
      " font-family: tahoma, Arial, Helvetica, sans-serif;\r\n",
      "    font-size: 0.75rem;\r\n",
      "    color: #818181;\r\n",
      "    display: block;\r\n",
      "    transition: 0.3s;\r\n",
      "    margin-top: 20px;\r\n",
      "}\r\n",
      "\r\n",
      ".overlay a:hover, .overlay a:focus {\r\n",
      "    color: #f1f1f1;\r\n",
      "}\r\n",
      "\r\n",
      ".overlay .closebtn {\r\n",
      "    position: absolute;\r\n",
      "    top: 20px;\r\n",
      "    right: 45px;\r\n",
      "    font-size: 60px;\r\n",
      "}\r\n",
      ".frm_login \r\n",
      "{max-width: 480px;\r\n",
      "\r\n",
      "   /* width: 35%;*/\r\n",
      "\tpadding: 0 20px;\r\n",
      "    overflow: hidden;\r\n",
      "    margin: 0 auto;}\r\n",
      ".headlogin {/*color: #990000*/\r\n",
      "    color: #fff;\r\n",
      "    letter-spacing: 1px ;\r\n",
      " font-family: tahoma, Arial, Helvetica, sans-serif;\r\n",
      "    font-size: 1.5rem;\r\n",
      "    margin: 0 0 25px !important;\r\n",
      "    font-weight: normal;}\r\n",
      "input,label {display:block; width:100%;   text-align: left;    font-family: tahoma, Arial, Helvetica, sans-serif;\r\n",
      "    font-size: 0.875rem;}\r\n",
      "label{    color: #fff;    /*font-size: 13px;*/\r\n",
      "    padding: 10px 0 7px;\r\n",
      "\tmargin-bottom: 5px;\r\n",
      "\tcursor: pointer;\r\n",
      "    display: block;\r\n",
      "    font-weight: normal;\r\n",
      "    line-height: 1.5;\r\n",
      "\t    text-align: left;} \r\n",
      " input[type=\"text\"],input[type=\"password\"] {     -webkit-appearance: none;\r\n",
      "    background-color: #fff;\r\n",
      "    border: 1px solid #ccc;\r\n",
      "    box-shadow: inset 0 1px 2px rgba(0,0,0,0.1);\r\n",
      "    color: rgba(0,0,0,0.75);\r\n",
      "    display: block;\r\n",
      "    margin: 0 0 1rem 0;\r\n",
      "    padding: 0.5rem;\r\n",
      "    height: 2.3125rem;\r\n",
      "    width: 100%;\r\n",
      "    -webkit-box-sizing: border-box;\r\n",
      "    -moz-box-sizing: border-box;\r\n",
      "    box-sizing: border-box;\r\n",
      "    transition: box-shadow 0.45s,border-color 0.45s ease-in-out;}\r\n",
      " input[type=\"submit\"] {\r\n",
      "\t/*font-size: 16px;*/\r\n",
      "\tfont-weight: 700;\r\n",
      "\tpadding: 15px 50px;\r\n",
      "\tbackground-color: #CA2420;\r\n",
      "\tcolor: #FFF;\r\n",
      "\tborder: none;\r\n",
      "\tborder-radius: 5px;\r\n",
      "\toutline: none;\r\n",
      "\tfloat: left;\r\n",
      "\tcursor: pointer;\r\n",
      "\tdisplay: block;\r\n",
      "\twidth:100%;\r\n",
      "\ttext-align: center;\r\n",
      "}\r\n",
      "\r\n",
      " input[type=\"submit\"]:hover {\r\n",
      "\tbackground-color: #FFF;\r\n",
      "\tcolor: #CA2420;\r\n",
      "}\r\n",
      "\r\n",
      "\r\n",
      " @media only screen and (min-width:320px) and (max-width:767px){\r\n",
      "\r\n",
      "\r\n",
      " .overlay {\r\n",
      "\r\n",
      "   width: 100% !important;\r\n",
      "   height: 100% !important;\r\n",
      "}\r\n",
      "\r\n",
      "}\r\n",
      "\r\n",
      "\r\n",
      "\r\n",
      "</style>\r\n",
      "</head>\r\n",
      "<body  onload=\"openNav()\">\r\n",
      "<script>\r\n",
      "function check_login()\r\n",
      "{\r\n",
      "\ta = document.getElementById('login_username');\r\n",
      "\tif(a.value == \"\")\r\n",
      "\t{\r\n",
      "\t\talert(\"กรุณากรอก Username\");\r\n",
      "\t\ta.focus();\r\n",
      "\t\treturn false;\r\n",
      "\t}\r\n",
      "\ta = document.getElementById('login_password');\r\n",
      "\tif(a.value == \"\")\r\n",
      "\t{\r\n",
      "\t\talert(\"กรุณากรอก Password\");\r\n",
      "\t\ta.focus();\r\n",
      "\t\treturn false;\r\n",
      "\t}\r\n",
      "}\r\n",
      "</script>\r\n",
      "<div id=\"myNav\" class=\"overlay\">\r\n",
      "  <a href=\"javascript:void(0)\" class=\"closebtn\" onclick=\"closeNav()\">&times;</a>\r\n",
      "  <div class=\"overlay-content\">\r\n",
      "<!-- <div class=\"fn-page\">\r\n",
      "        \r\n",
      "<div class=\"sign-in-box\"> -->\r\n",
      "           <form action=\"https://www.nomuradirect.com/th/main/check_login.aspx\" method=\"post\" onsubmit=\"return check_login();\"  class=\"frm_login\">\r\n",
      "             <div class=\"text-boxs\">\r\n",
      "                 <div id=\"wrapper2\">\r\n",
      "\r\n",
      "                         <h2 class=\"headlogin\">NOMURA DIRECT Login</h2>\r\n",
      "\r\n",
      "                         <!-- <form action=\"../th/main/check_login_mobile.aspx\" method=\"post\" onSubmit=\"return check_login();\"  >-->\r\n",
      "                         \r\n",
      "                           <label>Username</label>\r\n",
      "                           <input placeholder=\"Username\"  name=\"username\" type=\"text\" id=\"login_username\"  maxlength=\"10\"  autocomplete=\"off\" />\r\n",
      "                           \r\n",
      "                           <div class=\"clear\"> </div>\r\n",
      "                           <span class=\"text-box\">\r\n",
      "                             <label>Password</label>\r\n",
      "                             <input placeholder=\"Password\"  name=\"password\" type=\"password\"  id=\"login_password\"  maxlength=\"10\" />\r\n",
      "                             </span>\r\n",
      "                           <div class=\"clear\"> </div><br>\r\n",
      "                       \r\n",
      "                         <input type=\"submit\" value=\"Login\" id=\"login\" />\r\n",
      "\t\t\t\t\t\t <div class=\"clear\"> </div><br>\r\n",
      "                         <input type=\"hidden\" name=\"type_login\" value=\"2\" />\r\n",
      "\r\n",
      "\t\t\t\t\t\t <input type=\"hidden\" name=\"autostart\" value=\"\">\r\n",
      "                         <div style=\"float:left\"><a class=\"member-signup\" href=\"../help/sign-in-faqs.aspx\"  style=\"\">Need help with logging in?</a></div>\r\n",
      "                         <div style=\"float:right;display: inline;\"><a class=\"member-signup\" href=\"../main/forgot-pwd.aspx\" style=\"\">Forgot Password?</a></div>\r\n",
      "                         <br />\r\n",
      "\r\n",
      "                       </div>\r\n",
      "                       \r\n",
      "                   <!-- [END] #wrapper -->\r\n",
      "                 </div>\r\n",
      "                 <!--===== end content=========-->\r\n",
      "                <span class=\"text-box\"></span></div><br><br><br>\r\n",
      "           </form>\r\n",
      "         </div>\r\n",
      "          \r\n",
      "          \r\n",
      "          \r\n",
      "      </div>\r\n",
      "  <!-- </div>\r\n",
      "</div> -->\r\n",
      "\r\n",
      "<!-- \r\n",
      "<span style=\"font-size:30px;cursor:pointer\" onclick=\"openNav()\">&#9776; Login</span> -->\r\n",
      "\r\n",
      "<script>\r\n",
      "function openNav() {\r\n",
      "    document.getElementById(\"myNav\").style.height = \"100%\";\r\n",
      "\r\n",
      "}\r\n",
      "\r\n",
      "function closeNav() {\r\n",
      "    document.getElementById(\"myNav\").style.height = \"0%\";\r\n",
      "\thistory.go(-1);\r\n",
      "}\r\n",
      "</script>\r\n",
      "   \r\n",
      "\r\n",
      "\r\n",
      "\r\n",
      "\r\n",
      "     \r\n",
      "</body>\r\n",
      "</html>\n"
     ]
    }
   ],
   "source": [
    "print(s.text)"
   ]
  },
  {
   "cell_type": "code",
   "execution_count": 42,
   "metadata": {
    "collapsed": true
   },
   "outputs": [],
   "source": [
    "r = requests.get(\"https://www.nomuradirect.com/th/trading/stock-info.aspx?s=ADVANC\", cookies=s.cookies)"
   ]
  },
  {
   "cell_type": "code",
   "execution_count": 43,
   "metadata": {
    "collapsed": false
   },
   "outputs": [
    {
     "name": "stdout",
     "output_type": "stream",
     "text": [
      "\r\n",
      "\t<script>\r\n",
      "\talert(\"กรุณาเข้าสู่ระบบ\");\r\n",
      "\twindow.location = \"../main/Default.aspx\";\r\n",
      "\t</script>\r\n",
      "\t\n"
     ]
    }
   ],
   "source": [
    "print(r.text)"
   ]
  },
  {
   "cell_type": "code",
   "execution_count": 32,
   "metadata": {
    "collapsed": false
   },
   "outputs": [
    {
     "data": {
      "text/plain": [
       "{'DirectAkamai': 'ffffffff83cf1f9745525d5f4f58455e445a4a423660'}"
      ]
     },
     "execution_count": 32,
     "metadata": {},
     "output_type": "execute_result"
    }
   ],
   "source": [
    "s.cookies.get_dict()"
   ]
  },
  {
   "cell_type": "code",
   "execution_count": 34,
   "metadata": {
    "collapsed": false
   },
   "outputs": [
    {
     "name": "stdout",
     "output_type": "stream",
     "text": [
      "\r\n",
      "\t<script>\r\n",
      "\talert(\"กรุณาเข้าสู่ระบบ\");\r\n",
      "\twindow.location = \"../main/Default.aspx\";\r\n",
      "\t</script>\r\n",
      "\t\n"
     ]
    }
   ],
   "source": [
    "print(s.text)"
   ]
  },
  {
   "cell_type": "code",
   "execution_count": 3,
   "metadata": {
    "collapsed": true
   },
   "outputs": [],
   "source": [
    "from selenium import webdriver\n",
    "import time\n",
    "from selenium.webdriver.remote.webelement import WebElement\n",
    "from selenium.common.exceptions import StaleElementReferenceException\n",
    "\n",
    "\n",
    "\n"
   ]
  },
  {
   "cell_type": "code",
   "execution_count": 4,
   "metadata": {
    "collapsed": true
   },
   "outputs": [],
   "source": [
    "phantom_path = '../../../Downloads/phantomjs-2.1.1-linux-x86_64/bin/phantomjs'"
   ]
  },
  {
   "cell_type": "code",
   "execution_count": 7,
   "metadata": {
    "collapsed": false
   },
   "outputs": [
    {
     "name": "stdout",
     "output_type": "stream",
     "text": [
      "Timing out after 10 secondes and returning\n",
      "21\n",
      "<html><head>\n",
      "<title>A Page You Will be Leaving Soon</title>\n",
      "\n",
      "</head>\n",
      "<body>\n",
      "<div id=\"content\">\n",
      "This page will be redirecting soon...\n",
      "</div>\n",
      "\n",
      "\n",
      "<script>\n",
      "setTimeout(function() {\n",
      "  window.location.href = \"redirectDemo2.html\";\n",
      "}, 2000);\n",
      "</script>\n",
      "\n",
      "</body></html>\n"
     ]
    }
   ],
   "source": [
    "def wait_for_load(driver):\n",
    "    elem = driver.find_element_by_tag_name(\"html\")\n",
    "    count = 0\n",
    "    while True:\n",
    "        count += 1\n",
    "        if count > 20:\n",
    "            print(\"Timing out after 10 secondes and returning\")\n",
    "            return count\n",
    "        try:\n",
    "            elem = driver.find_element_by_tag_name('html')\n",
    "        except StaleElementReferenceException:\n",
    "            return count\n",
    "        \n",
    "        \n",
    "driver = webdriver.PhantomJS(executable_path=phantom_path)\n",
    "driver.get(\"http://pythonscraping.com/pages/javascript/redirectDemo1.html\")\n",
    "c = wait_for_load(driver)\n",
    "print(c)\n",
    "print(driver.page_source)\n",
    "driver.close()"
   ]
  },
  {
   "cell_type": "code",
   "execution_count": 10,
   "metadata": {
    "collapsed": false
   },
   "outputs": [
    {
     "name": "stdout",
     "output_type": "stream",
     "text": [
      "Here is some important text you want to retrieve!\n",
      "A button to click!\n"
     ]
    }
   ],
   "source": [
    "driver = webdriver.PhantomJS(executable_path=phantom_path)\n",
    "\n",
    "driver.get(\"http://pythonscraping.com/pages/javascript/ajaxDemo.html\")\n",
    "\n",
    "time.sleep(3)\n",
    "\n",
    "print(driver.find_element_by_id(\"content\").text)\n",
    "driver.close()"
   ]
  },
  {
   "cell_type": "code",
   "execution_count": 14,
   "metadata": {
    "collapsed": false
   },
   "outputs": [
    {
     "name": "stdout",
     "output_type": "stream",
     "text": [
      "Here is some important text you want to retrieve!\n",
      "A button to click!\n"
     ]
    }
   ],
   "source": [
    "from selenium.webdriver.common.by import By\n",
    "from selenium.webdriver.support.ui import WebDriverWait\n",
    "from selenium.webdriver.support import expected_conditions as EC\n",
    "\n",
    "driver = webdriver.PhantomJS(executable_path=phantom_path)\n",
    "driver.get(\"http://pythonscraping.com/pages/javascript/ajaxDemo.html\")\n",
    "\n",
    "try:\n",
    "    element = WebDriverWait(driver, 10).until(EC.presence_of_element_located((By.ID, 'loadedButton')))\n",
    "\n",
    "finally:\n",
    "    print(driver.find_element_by_id('content').text)\n",
    "    driver.close()"
   ]
  },
  {
   "cell_type": "code",
   "execution_count": null,
   "metadata": {
    "collapsed": false
   },
   "outputs": [],
   "source": []
  },
  {
   "cell_type": "code",
   "execution_count": null,
   "metadata": {
    "collapsed": false
   },
   "outputs": [],
   "source": []
  },
  {
   "cell_type": "code",
   "execution_count": null,
   "metadata": {
    "collapsed": true
   },
   "outputs": [],
   "source": []
  }
 ],
 "metadata": {
  "kernelspec": {
   "display_name": "Python [conda env:py35]",
   "language": "python",
   "name": "conda-env-py35-py"
  },
  "language_info": {
   "codemirror_mode": {
    "name": "ipython",
    "version": 3
   },
   "file_extension": ".py",
   "mimetype": "text/x-python",
   "name": "python",
   "nbconvert_exporter": "python",
   "pygments_lexer": "ipython3",
   "version": "3.5.4"
  }
 },
 "nbformat": 4,
 "nbformat_minor": 2
}
