{
 "cells": [
  {
   "cell_type": "code",
   "execution_count": 3,
   "metadata": {},
   "outputs": [],
   "source": [
    "import tensorflow as tf\n",
    "import numpy as np\n",
    "\n",
    "np.set_printoptions(precision=2)\n",
    "\n",
    "\n",
    "import matplotlib.pyplot as plt\n",
    "%matplotlib inline"
   ]
  },
  {
   "cell_type": "markdown",
   "metadata": {},
   "source": [
    "### Tutorial VDO\n",
    "* https://www.youtube.com/watch?v=vRF7ENlwD50&feature=youtu.be"
   ]
  },
  {
   "cell_type": "code",
   "execution_count": 4,
   "metadata": {},
   "outputs": [
    {
     "name": "stdout",
     "output_type": "stream",
     "text": [
      "1\n",
      "1\n"
     ]
    }
   ],
   "source": [
    "g = tf.Graph()\n",
    "\n",
    "with g.as_default():\n",
    "    a = tf.constant(1, name='a')\n",
    "    b = tf.constant(2, name='b')\n",
    "    c = tf.constant(3, name='c')\n",
    "    \n",
    "    z = 2*(a - b) + c\n",
    "\n",
    "    \n",
    "with tf.Session(graph=g) as sess:\n",
    "    print(sess.run(z))\n",
    "    print(z.eval())"
   ]
  },
  {
   "cell_type": "markdown",
   "metadata": {},
   "source": [
    "### Placeholders"
   ]
  },
  {
   "cell_type": "code",
   "execution_count": 11,
   "metadata": {},
   "outputs": [
    {
     "name": "stdout",
     "output_type": "stream",
     "text": [
      "z: 1\n"
     ]
    }
   ],
   "source": [
    "g =  tf.Graph()\n",
    "\n",
    "with g.as_default():\n",
    "    tf_a = tf.placeholder(dtype=tf.int32, shape=[], name='tf_a')\n",
    "    tf_b = tf.placeholder(dtype=tf.int32, shape=[], name='tf_b')\n",
    "    tf_c = tf.placeholder(dtype=tf.int32, shape=[], name='tf_c')\n",
    "    \n",
    "    r1 = tf_a - tf_b\n",
    "    r2 = 2 * r1\n",
    "    z = r2 + tf_c\n",
    "    \n",
    "with tf.Session(graph=g) as sess:\n",
    "    feed = {tf_a: 1, tf_b:2, tf_c:3}\n",
    "    print('z:', sess.run(z, feed_dict=feed))"
   ]
  },
  {
   "cell_type": "markdown",
   "metadata": {},
   "source": [
    "### placeholders for data arrays with varying bathsizes"
   ]
  },
  {
   "cell_type": "code",
   "execution_count": 16,
   "metadata": {},
   "outputs": [
    {
     "name": "stdout",
     "output_type": "stream",
     "text": [
      "Feeding data with shape (5, 2)\n",
      "Result: [ 0.62  0.47]\n",
      "------------------------------\n",
      "Feeding data with shape (10, 2)\n",
      "Result: [ 0.46  0.49]\n"
     ]
    }
   ],
   "source": [
    "g = tf.Graph()\n",
    "\n",
    "with g.as_default():\n",
    "    tf_x = tf.placeholder(dtype=tf.float32, shape=[None, 2], name='tf_x')\n",
    "    \n",
    "    # column means\n",
    "    x_mean = tf.reduce_mean(tf_x, axis=0, name='x_mean')\n",
    "    \n",
    "\n",
    "with tf.Session(graph=g) as sess:\n",
    "    np.random.seed(123)\n",
    "    x1 = np.random.uniform(low=0, high=1, size=(5, 2))\n",
    "    x2 = np.random.uniform(low=0, high=1, size=(10, 2))\n",
    "    \n",
    "    print(\"Feeding data with shape {}\".format(x1.shape))\n",
    "    print('Result: {}'.format(sess.run(x_mean, feed_dict={tf_x: x1})))\n",
    "    print('-'*30)\n",
    "    print(\"Feeding data with shape {}\".format(x2.shape))\n",
    "    print('Result: {}'.format(sess.run(x_mean, feed_dict={tf_x: x2})))"
   ]
  },
  {
   "cell_type": "code",
   "execution_count": 19,
   "metadata": {},
   "outputs": [
    {
     "data": {
      "text/plain": [
       "[None, 2]"
      ]
     },
     "execution_count": 19,
     "metadata": {},
     "output_type": "execute_result"
    }
   ],
   "source": [
    "tf_x.get_shape().as_list()"
   ]
  },
  {
   "cell_type": "markdown",
   "metadata": {},
   "source": [
    "### Variables"
   ]
  },
  {
   "cell_type": "code",
   "execution_count": 26,
   "metadata": {},
   "outputs": [
    {
     "data": {
      "text/plain": [
       "<tf.Variable 'abc:0' shape=() dtype=float32_ref>"
      ]
     },
     "execution_count": 26,
     "metadata": {},
     "output_type": "execute_result"
    }
   ],
   "source": [
    "tf.get_variable('abc', shape=[])"
   ]
  },
  {
   "cell_type": "code",
   "execution_count": 21,
   "metadata": {},
   "outputs": [
    {
     "data": {
      "text/plain": [
       "<tensorflow.python.ops.init_ops.Zeros at 0x7f8fe3aa16a0>"
      ]
     },
     "execution_count": 21,
     "metadata": {},
     "output_type": "execute_result"
    }
   ],
   "source": [
    "tf.zeros_initializer"
   ]
  },
  {
   "cell_type": "code",
   "execution_count": 22,
   "metadata": {},
   "outputs": [
    {
     "data": {
      "text/plain": [
       "'trainable_variables'"
      ]
     },
     "execution_count": 22,
     "metadata": {},
     "output_type": "execute_result"
    }
   ],
   "source": [
    "tf.GraphKeys.TRAINABLE_VARIABLES"
   ]
  },
  {
   "cell_type": "code",
   "execution_count": 33,
   "metadata": {},
   "outputs": [
    {
     "name": "stdout",
     "output_type": "stream",
     "text": [
      "<tf.Variable 'w:0' shape=(2, 4) dtype=int32_ref>\n",
      "[[1 2 3 4]\n",
      " [5 6 7 8]]\n"
     ]
    }
   ],
   "source": [
    "g = tf.Graph()\n",
    "\n",
    "with g.as_default():\n",
    "    w = tf.Variable(np.arange(1, 9, dtype=np.int32).reshape(2,-1), name='w')\n",
    "    print(w)\n",
    "    \n",
    "with tf.Session(graph=g) as sess:\n",
    "    sess.run(tf.global_variables_initializer())\n",
    "    print(w.eval())"
   ]
  },
  {
   "cell_type": "code",
   "execution_count": 41,
   "metadata": {},
   "outputs": [
    {
     "name": "stdout",
     "output_type": "stream",
     "text": [
      "[[-0.4   2.1   0.17  0.55]\n",
      " [-2.42  0.42  0.29 -0.5 ]\n",
      " [-0.96 -0.65  0.11 -0.1 ]\n",
      " [-1.3  -0.5   0.02 -0.09]\n",
      " [-0.13 -0.04 -0.46  0.55]\n",
      " [-0.39  2.52 -1.46  0.9 ]\n",
      " [-0.26  0.62 -0.25  0.76]\n",
      " [-0.89  1.32 -1.2   0.76]\n",
      " [ 0.84  0.25  0.24 -1.9 ]\n",
      " [-1.43 -0.53  0.26 -0.94]]\n",
      "[[-0.4   2.1   0.17  0.55]\n",
      " [-2.42  0.42  0.29 -0.5 ]\n",
      " [-0.96 -0.65  0.11 -0.1 ]\n",
      " [-1.3  -0.5   0.02 -0.09]\n",
      " [-0.13 -0.04 -0.46  0.55]\n",
      " [-0.39  2.52 -1.46  0.9 ]\n",
      " [-0.26  0.62 -0.25  0.76]\n",
      " [-0.89  1.32 -1.2   0.76]\n",
      " [ 0.84  0.25  0.24 -1.9 ]\n",
      " [-1.43 -0.53  0.26 -0.94]]\n"
     ]
    }
   ],
   "source": [
    "g = tf.Graph()\n",
    "\n",
    "with g.as_default():\n",
    "    \n",
    "    with tf.variable_scope('net_A'):\n",
    "        with tf.variable_scope('layer-1'):\n",
    "            w1 = tf.get_variable('weights', shape=(10, 4), dtype=tf.float32, \n",
    "                                 initializer=tf.random_normal_initializer(seed=0))\n",
    "        with tf.variable_scope('layer-2'):\n",
    "            w2 = tf.get_variable('weights', shape=(20, 10), dtype=tf.float32, \n",
    "                                 initializer=tf.random_normal_initializer(seed=1))\n",
    "    \n",
    "    with tf.variable_scope('net_B'):\n",
    "        with tf.variable_scope('layer-1'):\n",
    "            w3 = tf.get_variable('weights', shape=(10, 4), dtype=tf.float32, \n",
    "                                 initializer=tf.random_normal_initializer(seed=0))\n",
    "            \n",
    "with tf.Session(graph=g) as sess:\n",
    "    sess.run(tf.global_variables_initializer())\n",
    "    print(sess.run(w1))\n",
    "    print(sess.run(w3))"
   ]
  },
  {
   "cell_type": "code",
   "execution_count": 39,
   "metadata": {},
   "outputs": [
    {
     "name": "stdout",
     "output_type": "stream",
     "text": [
      "<tf.Variable 'net_A/layer-1/weights:0' shape=(10, 4) dtype=float32_ref>\n",
      "<tf.Variable 'net_A/layer-2/weights:0' shape=(20, 10) dtype=float32_ref>\n",
      "<tf.Variable 'net_B/layer-1/weights:0' shape=(10, 4) dtype=float32_ref>\n"
     ]
    }
   ],
   "source": [
    "print(w1)\n",
    "print(w2)\n",
    "print(w3)"
   ]
  },
  {
   "cell_type": "markdown",
   "metadata": {},
   "source": [
    "### Reusing variables"
   ]
  },
  {
   "cell_type": "code",
   "execution_count": 45,
   "metadata": {},
   "outputs": [],
   "source": [
    "def build_classifier(data, labels, n_classes=2):\n",
    "    data_shape = data.get_shape().as_list()\n",
    "    \n",
    "    weights = tf.get_variable('weights', shape=(data_shape[1], n_classes), dtype=tf.float32)\n",
    "    bias = tf.get_variable('bias', shape=(n_classes), dtype=tf.float32, initializer=tf.zeros_initializer)\n",
    "    \n",
    "    logits = tf.add(tf.matmul(data, weights), bias, name='logits')\n",
    "    return logits, tf.nn.softmax(logits)\n",
    "    \n",
    "\n",
    "def build_generator(data, n_hidden):\n",
    "    data_shape = data.get_shape().as_list()\n",
    "    \n",
    "    # layer 1\n",
    "    w1 = tf.get_variable('w1', shape=(data_shape[1], n_hidden), dtype=tf.float32)\n",
    "    b1 = tf.get_variable('b1', shape=(n_hidden), dtype=tf.float32, \n",
    "                         initializer=tf.zeros_initializer)\n",
    "    \n",
    "    z1 = tf.add(tf.matmul(data, w1), b1, name='z1')\n",
    "    a1 = tf.nn.relu(z1, name='a1')\n",
    "    \n",
    "    # layer 2\n",
    "    w2 = tf.get_variable('w2', shape=(n_hidden, data_shape[1]), dtype=tf.float32)\n",
    "    b2 = tf.get_variable('b2', shape=(data_shape[1]), dtype=tf.float32, \n",
    "                         initializer=tf.zeros_initializer)\n",
    "    z2 = tf.add(tf.matmul(a1, w2), b2, name='output')\n",
    "    return z2, tf.nn.sigmoid(z2)\n"
   ]
  },
  {
   "cell_type": "code",
   "execution_count": 59,
   "metadata": {},
   "outputs": [
    {
     "name": "stdout",
     "output_type": "stream",
     "text": [
      "(array([[ 0.78, -1.49],\n",
      "       [ 0.72,  1.5 ],\n",
      "       [-1.96, -2.43],\n",
      "       [ 1.46, -2.65],\n",
      "       [ 1.02,  3.11],\n",
      "       [-1.04, -1.58],\n",
      "       [-1.31, -2.68],\n",
      "       [ 1.87,  0.14],\n",
      "       [ 2.02,  2.01],\n",
      "       [-0.36, -2.44],\n",
      "       [ 1.72,  2.58],\n",
      "       [ 2.51, -2.96],\n",
      "       [-0.6 , -0.97],\n",
      "       [ 0.64,  0.05],\n",
      "       [ 0.26,  2.31],\n",
      "       [-0.29,  0.4 ],\n",
      "       [-3.22, -1.45],\n",
      "       [-1.58, -0.68],\n",
      "       [ 1.08, -1.95],\n",
      "       [ 1.27, -1.31],\n",
      "       [-0.95, -0.6 ],\n",
      "       [-2.01, -1.39],\n",
      "       [-2.48, -0.35],\n",
      "       [-0.47, -1.19],\n",
      "       [ 0.88,  0.4 ],\n",
      "       [-1.22, -2.25],\n",
      "       [-1.83,  2.44],\n",
      "       [ 0.67, -0.72],\n",
      "       [ 0.43, -0.58],\n",
      "       [ 0.56, -1.28],\n",
      "       [ 0.32, -0.51],\n",
      "       [-0.84,  0.78],\n",
      "       [ 0.86,  1.12],\n",
      "       [-1.72,  1.33],\n",
      "       [-1.84,  3.48],\n",
      "       [ 0.45, -1.3 ],\n",
      "       [ 0.4 ,  1.17],\n",
      "       [-0.83,  1.17],\n",
      "       [-1.35,  0.59],\n",
      "       [-2.13,  0.15],\n",
      "       [ 2.02,  0.19],\n",
      "       [ 0.5 ,  1.08],\n",
      "       [-2.45, -2.39],\n",
      "       [-0.29, -1.25],\n",
      "       [ 1.57,  1.55],\n",
      "       [-1.92, -1.98],\n",
      "       [-1.7 , -1.88],\n",
      "       [-1.12, -0.98],\n",
      "       [-0.02,  0.17],\n",
      "       [-1.38,  0.82],\n",
      "       [ 0.53,  1.63],\n",
      "       [-1.22, -2.9 ],\n",
      "       [-0.51, -1.42],\n",
      "       [-0.59,  0.96],\n",
      "       [ 1.44,  2.16],\n",
      "       [-0.49,  0.59],\n",
      "       [ 0.47,  1.05],\n",
      "       [-1.55, -3.72],\n",
      "       [-1.63, -2.22],\n",
      "       [-0.31, -0.83],\n",
      "       [-1.04,  2.39],\n",
      "       [ 2.32, -2.69],\n",
      "       [-2.22, -0.4 ],\n",
      "       [ 0.94, -0.4 ]], dtype=float32), array([[ 0.91,  0.09],\n",
      "       [ 0.31,  0.69],\n",
      "       [ 0.62,  0.38],\n",
      "       [ 0.98,  0.02],\n",
      "       [ 0.11,  0.89],\n",
      "       [ 0.63,  0.37],\n",
      "       [ 0.8 ,  0.2 ],\n",
      "       [ 0.85,  0.15],\n",
      "       [ 0.5 ,  0.5 ],\n",
      "       [ 0.89,  0.11],\n",
      "       [ 0.3 ,  0.7 ],\n",
      "       [ 1.  ,  0.  ],\n",
      "       [ 0.59,  0.41],\n",
      "       [ 0.64,  0.36],\n",
      "       [ 0.11,  0.89],\n",
      "       [ 0.33,  0.67],\n",
      "       [ 0.15,  0.85],\n",
      "       [ 0.29,  0.71],\n",
      "       [ 0.95,  0.05],\n",
      "       [ 0.93,  0.07],\n",
      "       [ 0.41,  0.59],\n",
      "       [ 0.35,  0.65],\n",
      "       [ 0.11,  0.89],\n",
      "       [ 0.67,  0.33],\n",
      "       [ 0.62,  0.38],\n",
      "       [ 0.74,  0.26],\n",
      "       [ 0.01,  0.99],\n",
      "       [ 0.8 ,  0.2 ],\n",
      "       [ 0.73,  0.27],\n",
      "       [ 0.86,  0.14],\n",
      "       [ 0.7 ,  0.3 ],\n",
      "       [ 0.16,  0.84],\n",
      "       [ 0.43,  0.57],\n",
      "       [ 0.05,  0.95],\n",
      "       [ 0.  ,  1.  ],\n",
      "       [ 0.85,  0.15],\n",
      "       [ 0.32,  0.68],\n",
      "       [ 0.12,  0.88],\n",
      "       [ 0.12,  0.88],\n",
      "       [ 0.09,  0.91],\n",
      "       [ 0.86,  0.14],\n",
      "       [ 0.36,  0.64],\n",
      "       [ 0.48,  0.52],\n",
      "       [ 0.72,  0.28],\n",
      "       [ 0.51,  0.49],\n",
      "       [ 0.52,  0.48],\n",
      "       [ 0.54,  0.46],\n",
      "       [ 0.46,  0.54],\n",
      "       [ 0.45,  0.55],\n",
      "       [ 0.1 ,  0.9 ],\n",
      "       [ 0.25,  0.75],\n",
      "       [ 0.84,  0.16],\n",
      "       [ 0.71,  0.29],\n",
      "       [ 0.17,  0.83],\n",
      "       [ 0.33,  0.67],\n",
      "       [ 0.25,  0.75],\n",
      "       [ 0.36,  0.64],\n",
      "       [ 0.9 ,  0.1 ],\n",
      "       [ 0.64,  0.36],\n",
      "       [ 0.63,  0.37],\n",
      "       [ 0.03,  0.97],\n",
      "       [ 0.99,  0.01],\n",
      "       [ 0.14,  0.86],\n",
      "       [ 0.79,  0.21]], dtype=float32))\n"
     ]
    }
   ],
   "source": [
    "# build graph\n",
    "\n",
    "batch_size = 64\n",
    "g = tf.Graph()\n",
    "\n",
    "with g.as_default():\n",
    "    tf_X = tf.placeholder(dtype=tf.float32, shape=(batch_size, 100), name='tf_X')\n",
    "    \n",
    "    # build generator\n",
    "    with tf.variable_scope('generator'):\n",
    "        gen_out1 = build_generator(tf_X, n_hidden=50)\n",
    "        \n",
    "    # build classifier\n",
    "    with tf.variable_scope('classifier') as scope:\n",
    "        # classifier with the original data\n",
    "        cls_out1 = build_classifier(tf_X, tf.ones(shape=64), n_classes=2)\n",
    "        \n",
    "        # reuse the classifier for generated data\n",
    "        scope.reuse_variables()\n",
    "        cls_out2 = build_classifier(gen_out1[1], tf.zeros(shape=batch_size), n_classes=2)\n",
    "\n",
    "\n",
    "# run graph\n",
    "with tf.Session(graph=g) as sess:\n",
    "    sess.run(tf.global_variables_initializer())\n",
    "    \n",
    "    x = np.random.normal(size=(batch_size, 100))\n",
    "    print(sess.run(cls_out1, feed_dict={tf_X:x}))"
   ]
  },
  {
   "cell_type": "markdown",
   "metadata": {},
   "source": [
    "### Building a regression model"
   ]
  },
  {
   "cell_type": "markdown",
   "metadata": {},
   "source": [
    "* input x: tf_x defined as a placeholder\n",
    "* input y: tf_y defined as a placeholder\n",
    "* parameter w: weight defined as a variable\n",
    "* parameter b: bias defined as a variable\n",
    "* model output $\\hat{y}$: y_hat as predicted values"
   ]
  },
  {
   "cell_type": "code",
   "execution_count": 5,
   "metadata": {},
   "outputs": [
    {
     "data": {
      "text/plain": [
       "[<matplotlib.lines.Line2D at 0x1406a096b38>]"
      ]
     },
     "execution_count": 5,
     "metadata": {},
     "output_type": "execute_result"
    },
    {
     "data": {
      "image/png": "[encoded data removed]",
      "text/plain": [
       "<matplotlib.figure.Figure at 0x140699592e8>"
      ]
     },
     "metadata": {},
     "output_type": "display_data"
    }
   ],
   "source": [
    "# create a random top dataset for regression\n",
    "def make_data():\n",
    "    # size 200, [-2, 4]\n",
    "    x = np.random.uniform(low=-2, high=4, size=200)\n",
    "    y = []\n",
    "    for t in x:\n",
    "        r = np.random.normal(loc=0, scale=(0.5 + t*t/3), size=None)\n",
    "        y.append(r)\n",
    "    y = np.asarray(y)\n",
    "    return x, 1.726*x - 0.84 + y\n",
    "\n",
    "np.random.seed(0)\n",
    "x, y = make_data()\n",
    "\n",
    "plt.plot(x, y, 'o')"
   ]
  },
  {
   "cell_type": "code",
   "execution_count": 16,
   "metadata": {},
   "outputs": [],
   "source": [
    "# create graph\n",
    "g = tf.Graph()\n",
    "\n",
    "with g.as_default():\n",
    "    \n",
    "    # define input/labels\n",
    "    tf_x = tf.placeholder(dtype=tf.float32, shape=(None), name='tf_x')   # 1-d with any length\n",
    "    tf_y = tf.placeholder(dtype=tf.float32, shape=(None), name='tf_y')\n",
    "    \n",
    "    # define parameters\n",
    "    w = tf.Variable(tf.random_normal(shape=(1,1)), name='weight')\n",
    "    b = tf.Variable(tf.zeros(shape=1), name='bias')\n",
    "    \n",
    "    # operations\n",
    "    y_hat = tf.add(tf_x * w, b, name='y_hat')\n",
    "    \n",
    "    error = y_hat - tf_y\n",
    "    cost = tf.reduce_mean(tf.square(error), name='cost')\n",
    "    \n",
    "    # optimizer\n",
    "    optimizer = tf.train.GradientDescentOptimizer(learning_rate=.001)\n",
    "    train_op = optimizer.minimize(cost, name='train_op')"
   ]
  },
  {
   "cell_type": "code",
   "execution_count": 17,
   "metadata": {},
   "outputs": [
    {
     "name": "stdout",
     "output_type": "stream",
     "text": [
      "Epoch 50: cost: 12.4805\n",
      "Epoch 100: cost: 8.5652\n",
      "Epoch 150: cost: 6.7049\n",
      "Epoch 200: cost: 5.7895\n",
      "Epoch 250: cost: 5.3131\n",
      "Epoch 300: cost: 5.0447\n",
      "Epoch 350: cost: 4.8781\n",
      "Epoch 400: cost: 4.7640\n",
      "Epoch 450: cost: 4.6792\n",
      "Epoch 500: cost: 4.6124\n"
     ]
    }
   ],
   "source": [
    "# train/test split\n",
    "x_train, x_test = x[:100], x[100:]\n",
    "y_train, y_test = y[:100], y[100:]\n",
    "\n",
    "n_epochs = 500\n",
    "training_costs = []\n",
    "\n",
    "with tf.Session(graph=g) as sess:\n",
    "    sess.run(tf.global_variables_initializer())\n",
    "    \n",
    "    for i in range(n_epochs):\n",
    "        _, c = sess.run([train_op, cost], feed_dict={tf_x:x_train, tf_y:y_train})\n",
    "        \n",
    "        training_costs.append(c)\n",
    "        \n",
    "        if (i+1)%50 == 0:\n",
    "            print('Epoch {}: cost: {:.4f}'.format(i+1, c))\n",
    "            \n",
    "    y_pred = sess.run(y_hat, feed_dict={tf_x:x_test})"
   ]
  },
  {
   "cell_type": "code",
   "execution_count": 18,
   "metadata": {},
   "outputs": [
    {
     "data": {
      "text/plain": [
       "[<matplotlib.lines.Line2D at 0x14071c27a90>]"
      ]
     },
     "execution_count": 18,
     "metadata": {},
     "output_type": "execute_result"
    },
    {
     "data": {
      "image/png": "[encoded data removed]",
      "text/plain": [
       "<matplotlib.figure.Figure at 0x140715f7f60>"
      ]
     },
     "metadata": {},
     "output_type": "display_data"
    }
   ],
   "source": [
    "plt.plot(training_costs)"
   ]
  },
  {
   "cell_type": "code",
   "execution_count": 19,
   "metadata": {},
   "outputs": [
    {
     "data": {
      "text/plain": [
       "[<matplotlib.lines.Line2D at 0x14071c3a278>]"
      ]
     },
     "execution_count": 19,
     "metadata": {},
     "output_type": "execute_result"
    },
    {
     "data": {
      "image/png": "[encoded data removed]",
      "text/plain": [
       "<matplotlib.figure.Figure at 0x14071c3a320>"
      ]
     },
     "metadata": {},
     "output_type": "display_data"
    }
   ],
   "source": [
    "plt.plot(x_test, y_test, 'o')\n",
    "plt.plot(x_test, y_pred.ravel(), '--')"
   ]
  },
  {
   "cell_type": "markdown",
   "metadata": {
    "collapsed": true
   },
   "source": [
    "### Executing objects in a TensorFlow graph using their names"
   ]
  },
  {
   "cell_type": "code",
   "execution_count": 20,
   "metadata": {},
   "outputs": [],
   "source": [
    "training_costs = []\n",
    "with tf.Session(graph=g) as sess:\n",
    "    sess.run(tf.global_variables_initializer())\n",
    "    \n",
    "    for i in range(n_epochs):\n",
    "        c, _ = sess.run(['cost:0', 'train_op'], \n",
    "                        feed_dict={tf_x:x_train, tf_y:y_train})\n",
    "        training_costs.append(c)"
   ]
  },
  {
   "cell_type": "code",
   "execution_count": 21,
   "metadata": {},
   "outputs": [
    {
     "data": {
      "text/plain": [
       "[<matplotlib.lines.Line2D at 0x14071cabd30>]"
      ]
     },
     "execution_count": 21,
     "metadata": {},
     "output_type": "execute_result"
    },
    {
     "data": {
      "image/png": "[encoded data removed]",
      "text/plain": [
       "<matplotlib.figure.Figure at 0x14071c76278>"
      ]
     },
     "metadata": {},
     "output_type": "display_data"
    }
   ],
   "source": [
    "plt.plot(training_costs)"
   ]
  },
  {
   "cell_type": "markdown",
   "metadata": {
    "collapsed": true
   },
   "source": [
    "### Saving and restoring a model in TensorFlow"
   ]
  },
  {
   "cell_type": "code",
   "execution_count": 22,
   "metadata": {},
   "outputs": [],
   "source": [
    "with g.as_default():\n",
    "    # add saver to the graph g\n",
    "    saver = tf.train.Saver()"
   ]
  },
  {
   "cell_type": "code",
   "execution_count": 23,
   "metadata": {},
   "outputs": [
    {
     "name": "stdout",
     "output_type": "stream",
     "text": [
      "Epoch 50: cost 17.1934\n",
      "Epoch 100: cost 10.8350\n",
      "Epoch 150: cost 7.8468\n",
      "Epoch 200: cost 6.4035\n",
      "Epoch 250: cost 5.6739\n",
      "Epoch 300: cost 5.2789\n",
      "Epoch 350: cost 5.0448\n",
      "Epoch 400: cost 4.8916\n",
      "Epoch 450: cost 4.7817\n",
      "Epoch 500: cost 4.6972\n"
     ]
    }
   ],
   "source": [
    "n_epoch = 500\n",
    "training_costs = []\n",
    "with tf.Session(graph=g) as sess:\n",
    "    sess.run(tf.global_variables_initializer())\n",
    "    \n",
    "    for i in range(n_epoch):\n",
    "        _, c = sess.run(['train_op', 'cost:0'], feed_dict={tf_x:x_train, tf_y:y_train})\n",
    "        training_costs.append(c)\n",
    "        \n",
    "        if (i+1) % 50 == 0:\n",
    "            print('Epoch {}: cost {:.4f}'.format(i+1, c))\n",
    "            \n",
    "    saver.save(sess, './trained-model')"
   ]
  },
  {
   "cell_type": "code",
   "execution_count": 24,
   "metadata": {},
   "outputs": [
    {
     "name": "stdout",
     "output_type": "stream",
     "text": [
      "INFO:tensorflow:Restoring parameters from ./trained-model\n"
     ]
    }
   ],
   "source": [
    "g2 = tf.Graph()\n",
    "with tf.Session(graph=g2) as sess:\n",
    "    new_saver = tf.train.import_meta_graph('./trained-model.meta')\n",
    "    \n",
    "    new_saver.restore(sess, './trained-model')\n",
    "    \n",
    "    y_pred = sess.run('y_hat:0', feed_dict={'tf_x:0': x_test})"
   ]
  },
  {
   "cell_type": "code",
   "execution_count": 29,
   "metadata": {},
   "outputs": [
    {
     "data": {
      "text/plain": [
       "[<matplotlib.lines.Line2D at 0x140f7949ef0>]"
      ]
     },
     "execution_count": 29,
     "metadata": {},
     "output_type": "execute_result"
    },
    {
     "data": {
      "image/png": "[encoded data removed]",
      "text/plain": [
       "<matplotlib.figure.Figure at 0x140717aa908>"
      ]
     },
     "metadata": {},
     "output_type": "display_data"
    }
   ],
   "source": [
    "plt.plot(x_test, y_test, 'o', alpha=.6)\n",
    "plt.plot(x_train, y_train, '^', alpha=.6)\n",
    "plt.plot(x_test, y_pred.ravel(), '--')"
   ]
  },
  {
   "cell_type": "markdown",
   "metadata": {
    "collapsed": true
   },
   "source": [
    "### Transforming Tensors as multidimensional data arrays"
   ]
  },
  {
   "cell_type": "code",
   "execution_count": 34,
   "metadata": {},
   "outputs": [
    {
     "name": "stdout",
     "output_type": "stream",
     "text": [
      "Tensor(\"T1:0\", shape=(4, 4), dtype=int32)\n",
      "<tf.Variable 'Variable:0' shape=(4, 4) dtype=float32_ref>\n",
      "<tf.Variable 'Variable_1:0' shape=(4,) dtype=float32_ref>\n"
     ]
    }
   ],
   "source": [
    "g = tf.Graph()\n",
    "\n",
    "with g.as_default():\n",
    "    arr = np.arange(1, 17).reshape(4, 4)\n",
    "    T1 = tf.constant(arr, name='T1')\n",
    "    print(T1)\n",
    "    \n",
    "    s = T1.get_shape().as_list()\n",
    "    T2 = tf.Variable(tf.random_normal(shape=s))\n",
    "    print(T2)\n",
    "    \n",
    "    T3 = tf.Variable(tf.random_normal(shape=(s[0],)))\n",
    "    print(T3)"
   ]
  },
  {
   "cell_type": "code",
   "execution_count": 36,
   "metadata": {},
   "outputs": [
    {
     "name": "stdout",
     "output_type": "stream",
     "text": [
      "Tensor(\"T4:0\", shape=(1, 1, 16), dtype=int32)\n",
      "Tensor(\"T5:0\", shape=(1, 2, 8), dtype=int32)\n"
     ]
    }
   ],
   "source": [
    "with g.as_default():\n",
    "    T4 = tf.reshape(T1, shape=(1, 1, -1), name='T4')\n",
    "    print(T4)\n",
    "    \n",
    "    T5 = tf.reshape(T1, shape=(1, 2, -1), name='T5')\n",
    "    print(T5)"
   ]
  },
  {
   "cell_type": "code",
   "execution_count": 37,
   "metadata": {},
   "outputs": [
    {
     "name": "stdout",
     "output_type": "stream",
     "text": [
      "[[[ 1  2  3  4  5  6  7  8  9 10 11 12 13 14 15 16]]]\n",
      "\n",
      "[[[ 1  2  3  4  5  6  7  8]\n",
      "  [ 9 10 11 12 13 14 15 16]]]\n"
     ]
    }
   ],
   "source": [
    "with tf.Session(graph=g) as sess:\n",
    "    print(sess.run(T4))\n",
    "    print()\n",
    "    print(sess.run(T5))"
   ]
  },
  {
   "cell_type": "code",
   "execution_count": 38,
   "metadata": {},
   "outputs": [
    {
     "name": "stdout",
     "output_type": "stream",
     "text": [
      "Tensor(\"T6:0\", shape=(8, 2, 1), dtype=int32)\n",
      "Tensor(\"T7:0\", shape=(1, 8, 2), dtype=int32)\n"
     ]
    }
   ],
   "source": [
    "with g.as_default():\n",
    "    T6 = tf.transpose(T5, perm=[2, 1, 0], name='T6')\n",
    "    print(T6)\n",
    "    T7 = tf.transpose(T5, perm=[0, 2, 1], name='T7')\n",
    "    print(T7)"
   ]
  },
  {
   "cell_type": "code",
   "execution_count": 39,
   "metadata": {},
   "outputs": [
    {
     "name": "stdout",
     "output_type": "stream",
     "text": [
      "[<tf.Tensor 'T8:0' shape=(1, 2, 4) dtype=int32>, <tf.Tensor 'T8:1' shape=(1, 2, 4) dtype=int32>]\n"
     ]
    }
   ],
   "source": [
    "with g.as_default():\n",
    "    t5_split = tf.split(T5, num_or_size_splits=2, axis=2, name='T8')\n",
    "    print(t5_split)"
   ]
  },
  {
   "cell_type": "code",
   "execution_count": 41,
   "metadata": {},
   "outputs": [
    {
     "name": "stdout",
     "output_type": "stream",
     "text": [
      "Tensor(\"T9_1:0\", shape=(1, 2, 8), dtype=int32)\n",
      "Tensor(\"T10:0\", shape=(2, 2, 4), dtype=int32)\n",
      "Tensor(\"T11:0\", shape=(1, 4, 4), dtype=int32)\n"
     ]
    }
   ],
   "source": [
    "with g.as_default():\n",
    "    T9 = tf.concat(t5_split, axis=2, name='T9')\n",
    "    print(T9)\n",
    "    \n",
    "    T10 = tf.concat(t5_split, axis=0, name='T10')\n",
    "    print(T10)\n",
    "    \n",
    "    T11 = tf.concat(t5_split, axis=1, name='T11')\n",
    "    print(T11)"
   ]
  },
  {
   "cell_type": "markdown",
   "metadata": {},
   "source": [
    "### Utilizing control flow mechanics in building graphs"
   ]
  },
  {
   "cell_type": "code",
   "execution_count": 50,
   "metadata": {},
   "outputs": [
    {
     "name": "stdout",
     "output_type": "stream",
     "text": [
      "Tensor(\"cond/Merge:0\", dtype=float32)\n"
     ]
    }
   ],
   "source": [
    "g = tf.Graph()\n",
    "\n",
    "with g.as_default():\n",
    "    tf_x = tf.placeholder(dtype=tf.float32, shape=None, name='tf_x')\n",
    "    tf_y = tf.placeholder(dtype=tf.float32, shape=None, name='tf_y')\n",
    "    \n",
    "    result = tf.cond(tf_x < tf_y, \n",
    "                     true_fn=lambda: tf.add(tf_x, tf_y, name='result_add'), \n",
    "                     false_fn=lambda: tf.subtract(tf_x, tf_y, name='result_sub'))\n",
    "    print(result)"
   ]
  },
  {
   "cell_type": "code",
   "execution_count": 51,
   "metadata": {},
   "outputs": [],
   "source": [
    "with tf.Session(graph=g) as sess:\n",
    "    file_writer = tf.summary.FileWriter(logdir='./logs', graph=g)"
   ]
  },
  {
   "cell_type": "code",
   "execution_count": 44,
   "metadata": {},
   "outputs": [
    {
     "name": "stdout",
     "output_type": "stream",
     "text": [
      "x < y: False -> Result: 1.0\n",
      "x < y: True -> Result: 3.0\n"
     ]
    }
   ],
   "source": [
    "with tf.Session(graph=g) as sess:\n",
    "    \n",
    "    x, y = 2, 1\n",
    "    print('x < y:', x < y, '-> Result:', sess.run(result, feed_dict={tf_x:x, tf_y:y}))\n",
    "    \n",
    "    x, y, = 1, 2\n",
    "    print('x < y:', x < y, '-> Result:', sess.run(result, feed_dict={tf_x:x, tf_y:y}))"
   ]
  },
  {
   "cell_type": "markdown",
   "metadata": {},
   "source": [
    "### Visualizing the graph with TensorBoard"
   ]
  },
  {
   "cell_type": "code",
   "execution_count": 48,
   "metadata": {},
   "outputs": [],
   "source": [
    "batch_size = 64\n",
    "\n",
    "g = tf.Graph()\n",
    "with g.as_default():\n",
    "    tf_X = tf.placeholder(dtype=tf.float32, shape=(batch_size, 100), name='tf_X')\n",
    "    \n",
    "    # build the generator\n",
    "    with tf.variable_scope('generator'):\n",
    "        gen_out1 = build_generator(tf_X, n_hidden=50)\n",
    "    \n",
    "    # build classifier\n",
    "    with tf.variable_scope('classifier') as scope:\n",
    "        cls_out1 = build_classifier(tf_X, \n",
    "                                    tf.ones(shape=(batch_size)))\n",
    "        \n",
    "        scope.reuse_variables()\n",
    "        cls_out2 = build_classifier(gen_out1[1], \n",
    "                                    tf.zeros(shape=(batch_size)))"
   ]
  },
  {
   "cell_type": "code",
   "execution_count": 49,
   "metadata": {},
   "outputs": [],
   "source": [
    "with tf.Session(graph=g) as sess:\n",
    "    sess.run(tf.global_variables_initializer())\n",
    "    \n",
    "    file_writer = tf.summary.FileWriter(logdir='./logs/', graph=g)"
   ]
  },
  {
   "cell_type": "code",
   "execution_count": null,
   "metadata": {},
   "outputs": [],
   "source": []
  },
  {
   "cell_type": "code",
   "execution_count": null,
   "metadata": {},
   "outputs": [],
   "source": []
  },
  {
   "cell_type": "code",
   "execution_count": null,
   "metadata": {},
   "outputs": [],
   "source": []
  },
  {
   "cell_type": "code",
   "execution_count": null,
   "metadata": {},
   "outputs": [],
   "source": []
  },
  {
   "cell_type": "code",
   "execution_count": null,
   "metadata": {},
   "outputs": [],
   "source": []
  },
  {
   "cell_type": "code",
   "execution_count": null,
   "metadata": {},
   "outputs": [],
   "source": []
  },
  {
   "cell_type": "code",
   "execution_count": null,
   "metadata": {},
   "outputs": [],
   "source": []
  },
  {
   "cell_type": "code",
   "execution_count": null,
   "metadata": {},
   "outputs": [],
   "source": []
  },
  {
   "cell_type": "code",
   "execution_count": null,
   "metadata": {},
   "outputs": [],
   "source": []
  },
  {
   "cell_type": "code",
   "execution_count": null,
   "metadata": {},
   "outputs": [],
   "source": []
  },
  {
   "cell_type": "code",
   "execution_count": null,
   "metadata": {},
   "outputs": [],
   "source": []
  },
  {
   "cell_type": "code",
   "execution_count": null,
   "metadata": {},
   "outputs": [],
   "source": []
  },
  {
   "cell_type": "code",
   "execution_count": null,
   "metadata": {},
   "outputs": [],
   "source": []
  },
  {
   "cell_type": "code",
   "execution_count": null,
   "metadata": {},
   "outputs": [],
   "source": []
  },
  {
   "cell_type": "code",
   "execution_count": null,
   "metadata": {},
   "outputs": [],
   "source": []
  }
 ],
 "metadata": {
  "kernelspec": {
   "display_name": "Python [conda env:deep_learning]",
   "language": "python",
   "name": "conda-env-deep_learning-py"
  },
  "language_info": {
   "codemirror_mode": {
    "name": "ipython",
    "version": 3
   },
   "file_extension": ".py",
   "mimetype": "text/x-python",
   "name": "python",
   "nbconvert_exporter": "python",
   "pygments_lexer": "ipython3",
   "version": "3.5.4"
  }
 },
 "nbformat": 4,
 "nbformat_minor": 2
}
