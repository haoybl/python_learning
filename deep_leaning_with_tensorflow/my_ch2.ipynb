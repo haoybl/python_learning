{
 "cells": [
  {
   "cell_type": "code",
   "execution_count": 1,
   "metadata": {
    "collapsed": true
   },
   "outputs": [],
   "source": [
    "import numpy as np\n",
    "import tensorflow as tf\n",
    "import matplotlib.pyplot as plt\n",
    "%matplotlib inline"
   ]
  },
  {
   "cell_type": "code",
   "execution_count": 2,
   "metadata": {
    "collapsed": false
   },
   "outputs": [
    {
     "data": {
      "text/plain": [
       "<tensorflow.python.client.session.InteractiveSession at 0x7ffadaa97940>"
      ]
     },
     "execution_count": 2,
     "metadata": {},
     "output_type": "execute_result"
    }
   ],
   "source": [
    "tf.InteractiveSession()"
   ]
  },
  {
   "cell_type": "code",
   "execution_count": 3,
   "metadata": {
    "collapsed": true
   },
   "outputs": [],
   "source": [
    "a = tf.zeros((2, 2))\n",
    "b = tf.ones((2, 2))"
   ]
  },
  {
   "cell_type": "code",
   "execution_count": 4,
   "metadata": {
    "collapsed": false
   },
   "outputs": [
    {
     "data": {
      "text/plain": [
       "array([ 2.,  2.], dtype=float32)"
      ]
     },
     "execution_count": 4,
     "metadata": {},
     "output_type": "execute_result"
    }
   ],
   "source": [
    "tf.reduce_sum(b, axis=1).eval()"
   ]
  },
  {
   "cell_type": "code",
   "execution_count": 5,
   "metadata": {
    "collapsed": false
   },
   "outputs": [
    {
     "data": {
      "text/plain": [
       "<tf.Tensor 'Sum_1:0' shape=(2,) dtype=float32>"
      ]
     },
     "execution_count": 5,
     "metadata": {},
     "output_type": "execute_result"
    }
   ],
   "source": [
    "tf.reduce_sum(b, axis=1)"
   ]
  },
  {
   "cell_type": "code",
   "execution_count": 8,
   "metadata": {
    "collapsed": false
   },
   "outputs": [
    {
     "data": {
      "text/plain": [
       "TensorShape([Dimension(2), Dimension(2)])"
      ]
     },
     "execution_count": 8,
     "metadata": {},
     "output_type": "execute_result"
    }
   ],
   "source": [
    "a.shape"
   ]
  },
  {
   "cell_type": "code",
   "execution_count": 13,
   "metadata": {
    "collapsed": false
   },
   "outputs": [
    {
     "data": {
      "text/plain": [
       "array([[ 0.],\n",
       "       [ 0.],\n",
       "       [ 0.],\n",
       "       [ 0.]], dtype=float32)"
      ]
     },
     "execution_count": 13,
     "metadata": {},
     "output_type": "execute_result"
    }
   ],
   "source": [
    "tf.reshape(a, (-1, 1)).eval()"
   ]
  },
  {
   "cell_type": "code",
   "execution_count": 15,
   "metadata": {
    "collapsed": false
   },
   "outputs": [
    {
     "data": {
      "text/plain": [
       "array([ 0.,  0.,  0.,  0.], dtype=float32)"
      ]
     },
     "execution_count": 15,
     "metadata": {},
     "output_type": "execute_result"
    }
   ],
   "source": [
    "tf.reshape(a, (-1,)).eval()"
   ]
  },
  {
   "cell_type": "code",
   "execution_count": 16,
   "metadata": {
    "collapsed": false
   },
   "outputs": [
    {
     "data": {
      "text/plain": [
       "<tf.Tensor 'zeros:0' shape=(2, 2) dtype=float32>"
      ]
     },
     "execution_count": 16,
     "metadata": {},
     "output_type": "execute_result"
    }
   ],
   "source": [
    "a"
   ]
  },
  {
   "cell_type": "code",
   "execution_count": 17,
   "metadata": {
    "collapsed": false
   },
   "outputs": [
    {
     "data": {
      "text/plain": [
       "array([[ 0.,  0.],\n",
       "       [ 0.,  0.]], dtype=float32)"
      ]
     },
     "execution_count": 17,
     "metadata": {},
     "output_type": "execute_result"
    }
   ],
   "source": [
    "a.eval()"
   ]
  },
  {
   "cell_type": "code",
   "execution_count": 26,
   "metadata": {
    "collapsed": false
   },
   "outputs": [
    {
     "name": "stdout",
     "output_type": "stream",
     "text": [
      "5\n",
      "5\n"
     ]
    }
   ],
   "source": [
    "a = tf.constant(1)\n",
    "b = tf.constant(5)\n",
    "c = a * b\n",
    "\n",
    "with tf.Session() as sess:\n",
    "    print(c.eval())\n",
    "    print(sess.run(c))"
   ]
  },
  {
   "cell_type": "code",
   "execution_count": 27,
   "metadata": {
    "collapsed": false
   },
   "outputs": [
    {
     "data": {
      "text/plain": [
       "<tf.Tensor 'mul_1:0' shape=() dtype=int32>"
      ]
     },
     "execution_count": 27,
     "metadata": {},
     "output_type": "execute_result"
    }
   ],
   "source": [
    "c"
   ]
  },
  {
   "cell_type": "code",
   "execution_count": 28,
   "metadata": {
    "collapsed": false
   },
   "outputs": [
    {
     "data": {
      "text/plain": [
       "5"
      ]
     },
     "execution_count": 28,
     "metadata": {},
     "output_type": "execute_result"
    }
   ],
   "source": [
    "c.eval()"
   ]
  },
  {
   "cell_type": "code",
   "execution_count": 29,
   "metadata": {
    "collapsed": false
   },
   "outputs": [
    {
     "data": {
      "text/plain": [
       "1"
      ]
     },
     "execution_count": 29,
     "metadata": {},
     "output_type": "execute_result"
    }
   ],
   "source": [
    "a.eval()"
   ]
  },
  {
   "cell_type": "code",
   "execution_count": 30,
   "metadata": {
    "collapsed": false
   },
   "outputs": [
    {
     "data": {
      "text/plain": [
       "<tf.Variable 'weights:0' shape=(2, 2) dtype=float32_ref>"
      ]
     },
     "execution_count": 30,
     "metadata": {},
     "output_type": "execute_result"
    }
   ],
   "source": [
    "w = tf.Variable(tf.ones((2, 2)), name='weights')\n",
    "w"
   ]
  },
  {
   "cell_type": "code",
   "execution_count": 36,
   "metadata": {
    "collapsed": false
   },
   "outputs": [
    {
     "name": "stdout",
     "output_type": "stream",
     "text": [
      "[[ 1.  1.]\n",
      " [ 1.  1.]]\n",
      "---------\n",
      "[[ 1.  1.]\n",
      " [ 1.  1.]]\n"
     ]
    }
   ],
   "source": [
    "with tf.Session() as sess:\n",
    "    sess.run(tf.global_variables_initializer())\n",
    "    print(sess.run(w))\n",
    "    print('---------')\n",
    "    print(w.eval())"
   ]
  },
  {
   "cell_type": "code",
   "execution_count": 37,
   "metadata": {
    "collapsed": true
   },
   "outputs": [],
   "source": [
    "rw = tf.Variable(tf.random_normal((2, 2)), name='random_weights')"
   ]
  },
  {
   "cell_type": "code",
   "execution_count": 40,
   "metadata": {
    "collapsed": false
   },
   "outputs": [
    {
     "name": "stdout",
     "output_type": "stream",
     "text": [
      "[[ 1.95472836  0.52403891]\n",
      " [ 1.82574213  0.17203975]]\n"
     ]
    }
   ],
   "source": [
    "with tf.Session() as sess:\n",
    "    sess.run(tf.global_variables_initializer())\n",
    "    print(sess.run(rw))"
   ]
  },
  {
   "cell_type": "code",
   "execution_count": 50,
   "metadata": {
    "collapsed": false
   },
   "outputs": [
    {
     "name": "stdout",
     "output_type": "stream",
     "text": [
      "1\n",
      "2\n",
      "3\n",
      "4\n",
      "5\n"
     ]
    }
   ],
   "source": [
    "var_1 = tf.Variable(0, name='var1')\n",
    "\n",
    "add_op = tf.add(var_1, tf.constant(1))\n",
    "\n",
    "upd_op = tf.assign(var_1, add_op)\n",
    "\n",
    "with tf.Session() as sess:\n",
    "    sess.run(tf.global_variables_initializer())\n",
    "    for i in range(5):\n",
    "        print(upd_op.eval()) "
   ]
  },
  {
   "cell_type": "code",
   "execution_count": 55,
   "metadata": {
    "collapsed": false
   },
   "outputs": [
    {
     "name": "stdout",
     "output_type": "stream",
     "text": [
      "[5, 12]\n"
     ]
    }
   ],
   "source": [
    "x = tf.constant(1)\n",
    "y = tf.constant(5)\n",
    "z = tf.constant(7)\n",
    "\n",
    "mul_xy = x * y\n",
    "final_op = mul_xy + z\n",
    "\n",
    "with tf.Session() as sess:\n",
    "    print(sess.run([mul_xy, final_op]))\n",
    "    "
   ]
  },
  {
   "cell_type": "code",
   "execution_count": 59,
   "metadata": {
    "collapsed": false
   },
   "outputs": [
    {
     "name": "stdout",
     "output_type": "stream",
     "text": [
      "[[ 1.  1.  1.]\n",
      " [ 1.  1.  1.]\n",
      " [ 1.  1.  1.]]\n"
     ]
    }
   ],
   "source": [
    "a = np.ones((3, 3))\n",
    "b = tf.convert_to_tensor(a)\n",
    "with tf.Session() as sess:\n",
    "    print(sess.run(b))"
   ]
  },
  {
   "cell_type": "code",
   "execution_count": 63,
   "metadata": {
    "collapsed": false
   },
   "outputs": [
    {
     "name": "stdout",
     "output_type": "stream",
     "text": [
      "[array([[ 10.]], dtype=float32)]\n"
     ]
    }
   ],
   "source": [
    "A = tf.placeholder(tf.float32, shape=(1, 2), name='A')\n",
    "B = tf.placeholder(tf.float32, shape=(2, 1), name='B')\n",
    "\n",
    "AB = tf.matmul(A, B)\n",
    "\n",
    "with tf.Session() as sess:\n",
    "    print(sess.run([AB], feed_dict={A:[[1., 3.]], B:[[1], [3]]}))"
   ]
  },
  {
   "cell_type": "markdown",
   "metadata": {},
   "source": [
    "### XOR Implementation Using TensorFlow"
   ]
  },
  {
   "cell_type": "code",
   "execution_count": 81,
   "metadata": {
    "collapsed": false
   },
   "outputs": [
    {
     "name": "stdout",
     "output_type": "stream",
     "text": [
      "Final Prediction\n",
      "[[ 0.03871545]\n",
      " [ 0.94456911]\n",
      " [ 0.96848285]\n",
      " [ 0.03222037]]\n"
     ]
    }
   ],
   "source": [
    "tf.reset_default_graph()\n",
    "\n",
    "X = tf.placeholder(dtype=tf.float32, shape=(None, 2), name='X')\n",
    "Y = tf.placeholder(dtype=tf.float32, shape=(None, 1), name='Y')\n",
    "\n",
    "w1 = tf.Variable(tf.random_uniform((2, 2), -1, 1), name='w1')\n",
    "w2 = tf.Variable(tf.random_uniform((2, 1), -1, 1), name='w2')\n",
    "\n",
    "b1 = tf.Variable(tf.zeros([2]), name='b1')\n",
    "b2 = tf.Variable(tf.zeros([1]), name='b2')\n",
    "\n",
    "z1 = tf.add(tf.matmul(X, w1), b1, name='z1')\n",
    "a1 = tf.sigmoid(z1, name='a1')\n",
    "\n",
    "z2 = tf.add(tf.matmul(a1, w2), b2, name='z2')\n",
    "a2 = tf.sigmoid(z2, name='a2')\n",
    "\n",
    "cost = tf.reduce_mean(-(Y * tf.log(a2) + (1 - Y)*tf.log(1 - a2)), name='cost')\n",
    "\n",
    "learning_rate = .01\n",
    "\n",
    "train_op = tf.train.GradientDescentOptimizer(learning_rate).minimize(cost)\n",
    "\n",
    "data_dict = {X: [[0, 0], [0, 1], [1, 0], [1, 1]], Y:[[0], [1], [1], [0]]}\n",
    "\n",
    "\n",
    "init = tf.global_variables_initializer()\n",
    "with tf.Session() as sess:\n",
    "    writer = tf.summary.FileWriter('./XOR_logs', sess.graph)\n",
    "    sess.run(init)\n",
    "    for i in range(100000):\n",
    "        sess.run(train_op, feed_dict=data_dict)\n",
    "        \n",
    "    print('Final Prediction\\n{}'.format(sess.run(a2, feed_dict=data_dict)))"
   ]
  },
  {
   "cell_type": "markdown",
   "metadata": {},
   "source": [
    "### XOR Implementation (linear activation for hidden layers)"
   ]
  },
  {
   "cell_type": "code",
   "execution_count": 84,
   "metadata": {
    "collapsed": false
   },
   "outputs": [
    {
     "name": "stdout",
     "output_type": "stream",
     "text": [
      "Final Prediction\n",
      "[[ 0.5       ]\n",
      " [ 0.49999994]\n",
      " [ 0.50000006]\n",
      " [ 0.5       ]]\n"
     ]
    }
   ],
   "source": [
    "tf.reset_default_graph()\n",
    "\n",
    "X = tf.placeholder(dtype=tf.float32, shape=(None, 2), name='X')\n",
    "Y = tf.placeholder(dtype=tf.float32, shape=(None, 1), name='Y')\n",
    "\n",
    "W1 = tf.Variable(tf.random_uniform((2, 2), -1., 1.), name='W1')\n",
    "W2 = tf.Variable(tf.random_uniform((2, 1), -1., 1.), name='W2')\n",
    "\n",
    "b1 = tf.Variable(tf.zeros(shape=([2])), name='b1')\n",
    "b2 = tf.Variable(tf.zeros(shape=([1])), name='b2')\n",
    "\n",
    "z1 = tf.add(tf.matmul(X, W1), b1, name='z1')\n",
    "z2 = tf.add(tf.matmul(z1, W2), b2, name='z2')\n",
    "a2 = tf.sigmoid(z2, name='a2')\n",
    "\n",
    "cost = tf.reduce_mean(-(Y*tf.log(a2) + (1. - Y)*tf.log(1. - a2)), name='cost')\n",
    "\n",
    "learning_rate = .01\n",
    "train_op = tf.train.GradientDescentOptimizer(learning_rate).minimize(cost)\n",
    "\n",
    "init = tf.global_variables_initializer()\n",
    "\n",
    "\n",
    "data_dict = {X: [[0, 0], [0, 1], [1, 0], [1, 1]], Y:[[0], [1], [1], [0]]}\n",
    "\n",
    "with tf.Session() as sess:\n",
    "    writer = tf.summary.FileWriter('./XOR_logs/', sess.graph)\n",
    "    sess.run(init)\n",
    "    for i in range(100000):\n",
    "        sess.run(train_op, feed_dict=data_dict)\n",
    "    \n",
    "    print('Final Prediction\\n{}'.format(sess.run(a2, feed_dict=data_dict)))\n",
    "    "
   ]
  },
  {
   "cell_type": "markdown",
   "metadata": {
    "collapsed": true
   },
   "source": [
    "### Linear Regression in TensorFlow"
   ]
  },
  {
   "cell_type": "code",
   "execution_count": 11,
   "metadata": {
    "collapsed": true
   },
   "outputs": [],
   "source": [
    "from sklearn.datasets import load_boston\n",
    "from sklearn.preprocessing import StandardScaler"
   ]
  },
  {
   "cell_type": "code",
   "execution_count": 12,
   "metadata": {
    "collapsed": true
   },
   "outputs": [],
   "source": [
    "# preprocessing data\n",
    "\n",
    "# load data\n",
    "data = load_boston()\n",
    "\n",
    "boston_X = data.data\n",
    "boston_y = data.target\n",
    "\n",
    "# normalize features\n",
    "sc = StandardScaler()\n",
    "boston_X = sc.fit_transform(boston_X)\n",
    "\n",
    "# add bias columns\n",
    "n_samples, n_features = boston_X.shape\n",
    "boston_X = np.c_[np.ones(n_samples), boston_X]\n",
    "boston_Y = boston_y.reshape(-1, 1)"
   ]
  },
  {
   "cell_type": "code",
   "execution_count": 13,
   "metadata": {
    "collapsed": false
   },
   "outputs": [
    {
     "data": {
      "text/plain": [
       "((506, 14), (506, 1))"
      ]
     },
     "execution_count": 13,
     "metadata": {},
     "output_type": "execute_result"
    }
   ],
   "source": [
    "boston_X.shape, boston_Y.shape"
   ]
  },
  {
   "cell_type": "code",
   "execution_count": 21,
   "metadata": {
    "collapsed": false
   },
   "outputs": [
    {
     "name": "stdout",
     "output_type": "stream",
     "text": [
      "final MSE in training: 21.9311\n"
     ]
    }
   ],
   "source": [
    "m, n_x = boston_X.shape\n",
    "\n",
    "tf.reset_default_graph()\n",
    "# construct model \n",
    "X = tf.placeholder(dtype=tf.float32, shape=(None, n_x), name='X')\n",
    "Y = tf.placeholder(dtype=tf.float32, shape=(None, 1), name='Y')\n",
    "\n",
    "W = tf.Variable(tf.random_uniform(shape=(n_x, 1), minval=-1, maxval=1), name='W')\n",
    "\n",
    "pred = tf.matmul(X, W)\n",
    "error = pred - Y\n",
    "cost = tf.reduce_mean(tf.square(error))\n",
    "\n",
    "eta = .01\n",
    "epochs = 1000\n",
    "cost_trace = []\n",
    "train_op = tf.train.GradientDescentOptimizer(eta).minimize(cost)\n",
    "\n",
    "init = tf.global_variables_initializer()\n",
    "\n",
    "with tf.Session() as sess:\n",
    "    sess.run(init)\n",
    "    for i in range(epochs):\n",
    "        _, c = sess.run([train_op, cost], feed_dict={X:boston_X, Y:boston_Y})\n",
    "        cost_trace.append(c)\n",
    "    \n",
    "    print(\"final MSE in training: {:.4f}\".format(cost_trace[-1]))\n",
    "    \n",
    "    Y_pred = sess.run(pred, feed_dict={X:boston_X})"
   ]
  },
  {
   "cell_type": "code",
   "execution_count": 22,
   "metadata": {
    "collapsed": false
   },
   "outputs": [
    {
     "data": {
      "text/plain": [
       "Text(0,0.5,'MSE')"
      ]
     },
     "execution_count": 22,
     "metadata": {},
     "output_type": "execute_result"
    },
    {
     "data": {
      "image/png": "[encoded data removed]",
      "text/plain": [
       "<matplotlib.figure.Figure at 0x7fc045e1f6a0>"
      ]
     },
     "metadata": {},
     "output_type": "display_data"
    }
   ],
   "source": [
    "plt.plot(cost_trace)\n",
    "plt.xlabel('epochs')\n",
    "plt.ylabel('MSE')"
   ]
  },
  {
   "cell_type": "code",
   "execution_count": 24,
   "metadata": {
    "collapsed": false
   },
   "outputs": [
    {
     "data": {
      "text/plain": [
       "Text(0,0.5,'prediction')"
      ]
     },
     "execution_count": 24,
     "metadata": {},
     "output_type": "execute_result"
    },
    {
     "data": {
      "image/png": "[encoded data removed]",
      "text/plain": [
       "<matplotlib.figure.Figure at 0x7fc0445de7f0>"
      ]
     },
     "metadata": {},
     "output_type": "display_data"
    }
   ],
   "source": [
    "plt.plot(boston_Y.ravel(), Y_pred.ravel(), 'o', alpha=.5)\n",
    "plt.xlabel('actual')\n",
    "plt.ylabel('prediction')"
   ]
  },
  {
   "cell_type": "markdown",
   "metadata": {},
   "source": [
    "### Multi-class Classification with SorfMax Function using Batch Gradient Descent"
   ]
  },
  {
   "cell_type": "code",
   "execution_count": 25,
   "metadata": {
    "collapsed": true
   },
   "outputs": [],
   "source": [
    "from tensorflow.examples.tutorials.mnist import input_data"
   ]
  },
  {
   "cell_type": "code",
   "execution_count": 27,
   "metadata": {
    "collapsed": false
   },
   "outputs": [
    {
     "name": "stdout",
     "output_type": "stream",
     "text": [
      "Successfully downloaded train-images-idx3-ubyte.gz 9912422 bytes.\n",
      "Extracting MNIST_data/train-images-idx3-ubyte.gz\n",
      "Successfully downloaded train-labels-idx1-ubyte.gz 28881 bytes.\n",
      "Extracting MNIST_data/train-labels-idx1-ubyte.gz\n",
      "Successfully downloaded t10k-images-idx3-ubyte.gz 1648877 bytes.\n",
      "Extracting MNIST_data/t10k-images-idx3-ubyte.gz\n",
      "Successfully downloaded t10k-labels-idx1-ubyte.gz 4542 bytes.\n",
      "Extracting MNIST_data/t10k-labels-idx1-ubyte.gz\n"
     ]
    }
   ],
   "source": [
    "mnist = input_data.read_data_sets('MNIST_data/', one_hot=True)"
   ]
  },
  {
   "cell_type": "code",
   "execution_count": 28,
   "metadata": {
    "collapsed": true
   },
   "outputs": [],
   "source": [
    "X_train = mnist.train.images\n",
    "Y_train = mnist.train.labels\n",
    "X_test = mnist.test.images\n",
    "Y_test = mnist.test.labels"
   ]
  },
  {
   "cell_type": "code",
   "execution_count": 29,
   "metadata": {
    "collapsed": false
   },
   "outputs": [
    {
     "data": {
      "text/plain": [
       "((55000, 784), (55000, 10), (10000, 784), (10000, 10))"
      ]
     },
     "execution_count": 29,
     "metadata": {},
     "output_type": "execute_result"
    }
   ],
   "source": [
    "X_train.shape, Y_train.shape, X_test.shape, Y_test.shape"
   ]
  },
  {
   "cell_type": "code",
   "execution_count": 40,
   "metadata": {
    "collapsed": false
   },
   "outputs": [
    {
     "name": "stdout",
     "output_type": "stream",
     "text": [
      "Epoch 0: loss: 2.4486 accuracy: 0.0776\n",
      "Epoch 100: loss: 1.5956 accuracy: 0.6663\n",
      "Epoch 200: loss: 1.2166 accuracy: 0.7673\n",
      "Epoch 300: loss: 1.0138 accuracy: 0.8026\n",
      "Epoch 400: loss: 0.8904 accuracy: 0.8205\n",
      "Epoch 500: loss: 0.8077 accuracy: 0.8315\n",
      "Epoch 600: loss: 0.7481 accuracy: 0.8394\n",
      "Epoch 700: loss: 0.7030 accuracy: 0.8458\n",
      "Epoch 800: loss: 0.6676 accuracy: 0.8507\n",
      "Epoch 900: loss: 0.6388 accuracy: 0.8543\n",
      "Epoch 999: loss: 0.6152 accuracy: 0.8574\n",
      "Test set: loss: 0.5876 accuracy: 0.8695\n"
     ]
    }
   ],
   "source": [
    "# construct model\n",
    "tf.reset_default_graph()\n",
    "\n",
    "m, n_x = X_train.shape\n",
    "_, n_y = Y_train.shape\n",
    "\n",
    "# init variables\n",
    "X = tf.placeholder(dtype=tf.float32, shape=[None, n_x], name='X')\n",
    "Y = tf.placeholder(dtype=tf.float32, shape=[None, n_y], name='Y')\n",
    "W = tf.get_variable(name='W', shape=[n_x, n_y], initializer=tf.contrib.layers.xavier_initializer(seed=0))\n",
    "b = tf.Variable(tf.zeros(shape=(n_y)), name='b')\n",
    "\n",
    "# forward pass\n",
    "learning_rate = .01\n",
    "epochs = 1000\n",
    "\n",
    "Z = tf.add(tf.matmul(X, W), b)\n",
    "cost = tf.reduce_mean(tf.nn.softmax_cross_entropy_with_logits(logits=Z, labels=Y))\n",
    "train_op = tf.train.GradientDescentOptimizer(learning_rate).minimize(cost)\n",
    "\n",
    "init = tf.global_variables_initializer()\n",
    "with tf.Session() as sess:\n",
    "    sess.run(init)\n",
    "    for i in range(epochs):\n",
    "        sess.run(train_op, feed_dict={X:X_train, Y:Y_train})\n",
    "        \n",
    "        if (i % 100 == 0) or (i == epochs-1):\n",
    "            c = sess.run(cost, feed_dict={X:X_train, Y:Y_train})\n",
    "            a = np.mean(np.equal(np.argmax(Y_train, axis=1),\n",
    "                                np.argmax(sess.run(Z, feed_dict={X:X_train}), axis=1)))\n",
    "            print(\"Epoch {}: loss: {:.4f} accuracy: {:.4f}\".format(i, c, a))\n",
    "            \n",
    "    test_pred = np.argmax(sess.run(Z, feed_dict={X:X_test}), axis=1)\n",
    "    test_acc = np.mean(np.equal(np.argmax(Y_test, axis=1), test_pred))\n",
    "    test_loss = sess.run(cost, feed_dict={X:X_test, Y:Y_test})\n",
    "    print(\"Test set: loss: {:.4f} accuracy: {:.4f}\".format(test_loss, test_acc))"
   ]
  },
  {
   "cell_type": "code",
   "execution_count": 44,
   "metadata": {
    "collapsed": false
   },
   "outputs": [],
   "source": [
    "test_labels = np.argmax(Y_test, axis=1)\n",
    "\n",
    "idx = test_pred != test_labels\n",
    "\n",
    "X_miss = X_test[idx]"
   ]
  },
  {
   "cell_type": "code",
   "execution_count": 57,
   "metadata": {
    "collapsed": false
   },
   "outputs": [
    {
     "data": {
      "image/png": "[encoded data removed]",
      "text/plain": [
       "<matplotlib.figure.Figure at 0x7fc01accbac8>"
      ]
     },
     "metadata": {},
     "output_type": "display_data"
    }
   ],
   "source": [
    "rand_idx = np.random.permutation(range(X_miss.shape[0]))[:10]\n",
    "\n",
    "fig, ax = plt.subplots(ncols=5, nrows=2, figsize=(10, 5))\n",
    "\n",
    "for axi, i in zip(ax.flat, rand_idx):\n",
    "    axi.imshow(X_miss[i].reshape(28, 28), cmap=plt.cm.gray)\n",
    "    axi.set_title(\"pred {}\".format(test_pred[idx][i]))\n",
    "fig.tight_layout()"
   ]
  },
  {
   "cell_type": "markdown",
   "metadata": {
    "collapsed": true
   },
   "source": [
    "### Multi-class Classification with SoftMax Function Using mini-batch Gradient Descent"
   ]
  },
  {
   "cell_type": "code",
   "execution_count": 2,
   "metadata": {
    "collapsed": true
   },
   "outputs": [],
   "source": [
    "from tensorflow.examples.tutorials.mnist import input_data\n"
   ]
  },
  {
   "cell_type": "code",
   "execution_count": 3,
   "metadata": {
    "collapsed": false
   },
   "outputs": [
    {
     "name": "stdout",
     "output_type": "stream",
     "text": [
      "Extracting ./MNIST_data/train-images-idx3-ubyte.gz\n",
      "Extracting ./MNIST_data/train-labels-idx1-ubyte.gz\n",
      "Extracting ./MNIST_data/t10k-images-idx3-ubyte.gz\n",
      "Extracting ./MNIST_data/t10k-labels-idx1-ubyte.gz\n"
     ]
    }
   ],
   "source": [
    "mnist = input_data.read_data_sets('./MNIST_data/', one_hot=True)"
   ]
  },
  {
   "cell_type": "code",
   "execution_count": 4,
   "metadata": {
    "collapsed": false
   },
   "outputs": [
    {
     "data": {
      "text/plain": [
       "((55000, 784), (55000, 10), (10000, 784), (10000, 10))"
      ]
     },
     "execution_count": 4,
     "metadata": {},
     "output_type": "execute_result"
    }
   ],
   "source": [
    "X_train = mnist.train.images\n",
    "Y_train = mnist.train.labels\n",
    "X_test = mnist.test.images\n",
    "Y_test = mnist.test.labels\n",
    "\n",
    "X_train.shape, Y_train.shape, X_test.shape, Y_test.shape"
   ]
  },
  {
   "cell_type": "code",
   "execution_count": 12,
   "metadata": {
    "collapsed": false
   },
   "outputs": [
    {
     "name": "stdout",
     "output_type": "stream",
     "text": [
      "Epoch 0: Average loss: 0.5301 accuracy: 0.9043\n",
      "Epoch 100: Average loss: 0.2171 accuracy: 0.9389\n",
      "Epoch 200: Average loss: 0.2122 accuracy: 0.9398\n",
      "Epoch 300: Average loss: 0.2104 accuracy: 0.9400\n",
      "Epoch 400: Average loss: 0.2096 accuracy: 0.9402\n",
      "Epoch 500: Average loss: 0.2091 accuracy: 0.9405\n",
      "Epoch 600: Average loss: 0.2088 accuracy: 0.9406\n",
      "Epoch 700: Average loss: 0.2086 accuracy: 0.9406\n",
      "Epoch 800: Average loss: 0.2084 accuracy: 0.9407\n",
      "Epoch 900: Average loss: 0.2083 accuracy: 0.9408\n",
      "Epoch Final: Average loss: 999.0000 accuracy: 0.2082\n",
      "Test set: Average loss: 0.4593 accuracy: 0.9155\n"
     ]
    }
   ],
   "source": [
    "# set parameters\n",
    "learning_rate = 0.01\n",
    "epochs = 1000\n",
    "batch_size = 1000\n",
    "\n",
    "tf.reset_default_graph()\n",
    "# build model \n",
    "m_x, n_x = X_train.shape\n",
    "m_y, n_y = Y_train.shape\n",
    "\n",
    "# init variable\n",
    "X = tf.placeholder(dtype=tf.float32, shape=(None, n_x), name='X')\n",
    "Y = tf.placeholder(dtype=tf.float32, shape=(None, n_y), name='Y')\n",
    "W = tf.Variable(tf.random_normal(shape=(n_x, n_y), mean=0.0, stddev=0.01), name='W')\n",
    "b = tf.Variable(tf.zeros(shape=[n_y]), name='b')\n",
    "\n",
    "# forward propagation\n",
    "Z = tf.add(tf.matmul(X, W), b)\n",
    "\n",
    "# cost function\n",
    "cost = tf.reduce_mean(tf.nn.softmax_cross_entropy_with_logits(labels=Y, logits=Z))\n",
    "train_op = tf.train.AdamOptimizer(learning_rate).minimize(cost)\n",
    "\n",
    "# training\n",
    "init = tf.global_variables_initializer()\n",
    "epoch_loss = []\n",
    "epoch_accuracy = []\n",
    "n_batch = m_x // batch_size\n",
    "with tf.Session() as sess:\n",
    "    sess.run(init)\n",
    "    for i in range(epochs):\n",
    "        total_cost = 0\n",
    "        for j in range(n_batch):\n",
    "            a, b = j*batch_size, (j+1)*batch_size\n",
    "            sess.run(train_op, feed_dict={X:X_train[a:b], Y:Y_train[a:b]})\n",
    "            a_cost = sess.run(cost, feed_dict={X:X_train[a:b], Y:Y_train[a:b]})\n",
    "            total_cost += a_cost * X_train[a:b].shape[0]\n",
    "            \n",
    "        train_pred = sess.run(Z, feed_dict={X:X_train, Y:Y_train})\n",
    "        train_acc = np.mean(np.equal(np.argmax(train_pred, axis=1), np.argmax(Y_train, axis=1)))\n",
    "        epoch_loss.append(total_cost / m_x)\n",
    "        epoch_accuracy.append(train_acc)\n",
    "        \n",
    "        if (i == epochs-1):\n",
    "            print(\"Epoch Final: Average loss: {:.4f} accuracy: {:.4f}\".format(epoch_loss[-1], epoch_accuracy[-1]))\n",
    "        elif (i % 100 == 0):\n",
    "            print(\"Epoch {}: Average loss: {:.4f} accuracy: {:.4f}\".format(i, epoch_loss[-1], epoch_accuracy[-1]))\n",
    "            \n",
    "    test_cost = sess.run(cost, feed_dict={X:X_test, Y:Y_test})\n",
    "    test_pred = sess.run(Z, feed_dict={X:X_test})\n",
    "    test_acc = np.mean(np.equal(np.argmax(Y_test, axis=1), np.argmax(test_pred, axis=1)))\n",
    "    print(\"Test set: Average loss: {:.4f} accuracy: {:.4f}\".format(test_cost, test_acc))"
   ]
  },
  {
   "cell_type": "code",
   "execution_count": null,
   "metadata": {
    "collapsed": true
   },
   "outputs": [],
   "source": []
  }
 ],
 "metadata": {
  "kernelspec": {
   "display_name": "Python [conda env:py35]",
   "language": "python",
   "name": "conda-env-py35-py"
  },
  "language_info": {
   "codemirror_mode": {
    "name": "ipython",
    "version": 3
   },
   "file_extension": ".py",
   "mimetype": "text/x-python",
   "name": "python",
   "nbconvert_exporter": "python",
   "pygments_lexer": "ipython3",
   "version": "3.5.4"
  }
 },
 "nbformat": 4,
 "nbformat_minor": 2
}
