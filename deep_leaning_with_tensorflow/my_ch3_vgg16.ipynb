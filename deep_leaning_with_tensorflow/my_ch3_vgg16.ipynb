{
 "cells": [
  {
   "cell_type": "code",
   "execution_count": 1,
   "metadata": {
    "collapsed": true
   },
   "outputs": [],
   "source": [
    "import tensorflow as tf\n",
    "import numpy as np\n",
    "import pandas as pd\n",
    "from sklearn.model_selection import train_test_split\n",
    "import cv2\n",
    "from tensorflow.contrib.slim.nets import vgg\n",
    "from tensorflow.contrib import slim\n",
    "import os\n",
    "import glob"
   ]
  },
  {
   "cell_type": "code",
   "execution_count": 2,
   "metadata": {
    "collapsed": true
   },
   "outputs": [],
   "source": [
    "cat_dir = 'C:/Users/p0ng5/Desktop/data/dog_vs_cat/train/cats/'\n",
    "dog_dir = 'C:/Users/p0ng5/Desktop/data/dog_vs_cat/train/dogs/'"
   ]
  },
  {
   "cell_type": "code",
   "execution_count": 3,
   "metadata": {
    "collapsed": true
   },
   "outputs": [],
   "source": [
    "vgg_path = './checkpoint/vgg_16.ckpt'"
   ]
  },
  {
   "cell_type": "code",
   "execution_count": 4,
   "metadata": {
    "collapsed": true
   },
   "outputs": [],
   "source": [
    "batch_size = 32\n",
    "width = 224\n",
    "height = 224\n",
    "learning_rate = .01\n",
    "\n",
    "MEAN_VALUE = np.array([103.939, 116.779, 123.68])"
   ]
  },
  {
   "cell_type": "code",
   "execution_count": 5,
   "metadata": {
    "collapsed": true
   },
   "outputs": [],
   "source": [
    "all_images = glob.glob(os.path.join(cat_dir, '*.jpg')) + glob.glob(os.path.join(dog_dir, '*.jpg'))"
   ]
  },
  {
   "cell_type": "code",
   "execution_count": 6,
   "metadata": {},
   "outputs": [
    {
     "name": "stdout",
     "output_type": "stream",
     "text": [
      "total images: 25000\n"
     ]
    }
   ],
   "source": [
    "print('total images:', len(all_images))"
   ]
  },
  {
   "cell_type": "code",
   "execution_count": 7,
   "metadata": {},
   "outputs": [
    {
     "name": "stdout",
     "output_type": "stream",
     "text": [
      "20000 5000\n"
     ]
    }
   ],
   "source": [
    "data_train, data_test = train_test_split(all_images, test_size=.2, random_state=42)\n",
    "print(len(data_train), len(data_test))"
   ]
  },
  {
   "cell_type": "code",
   "execution_count": 8,
   "metadata": {
    "collapsed": true
   },
   "outputs": [],
   "source": [
    "def image_preprocess(img_path, width, height):\n",
    "    img = cv2.imread(img_path)\n",
    "    img = cv2.resize(img, (width, height))\n",
    "    return img - MEAN_VALUE\n",
    "\n",
    "\n",
    "def get_batch(images, batch_size, widht, height, random_state=None):\n",
    "    \n",
    "    # get batch \n",
    "    n_samples = len(images)\n",
    "    n_batches = int(np.ceil(n_samples / batch_size))\n",
    "    \n",
    "    # copy & shuffle image list\n",
    "    images = list(images)\n",
    "    np.random.seed(random_state)    \n",
    "    while True:\n",
    "        np.random.shuffle(images)\n",
    "\n",
    "        \n",
    "        for i in range(n_batches):\n",
    "            a = i*batch_size\n",
    "            b = min(n_samples, (i+1)*batch_size)\n",
    "            image_batchs = images[a:b]\n",
    "\n",
    "            # process images\n",
    "            labels = []\n",
    "            imgs = []\n",
    "            for file in image_batchs:\n",
    "                img = image_preprocess(file, width, height)\n",
    "                filename = os.path.basename(file)\n",
    "                label = 1 if filename.startswith('dog') else 0    # cat:0, dog:1\n",
    "                labels.append(label)\n",
    "                imgs.append(img)\n",
    "\n",
    "            imgs = np.array(imgs, dtype=np.float32)\n",
    "            labels = np.array(labels, dtype=np.float32).reshape((-1, 1))\n",
    "            yield imgs, labels"
   ]
  },
  {
   "cell_type": "code",
   "execution_count": 9,
   "metadata": {
    "collapsed": true
   },
   "outputs": [],
   "source": [
    "train_generator = get_batch(data_train, batch_size, width, height, random_state=42)\n",
    "val_generator = get_batch(data_test, batch_size, width, height, random_state=0)"
   ]
  },
  {
   "cell_type": "code",
   "execution_count": 10,
   "metadata": {},
   "outputs": [
    {
     "name": "stdout",
     "output_type": "stream",
     "text": [
      "INFO:tensorflow:Restoring parameters from ./checkpoint/vgg_16.ckpt\n",
      "Training cost 0.9680 Validation cost 1.9168\n",
      "Training cost 0.0189 Validation cost 0.4371\n",
      "Training cost 0.0373 Validation cost 0.1900\n",
      "Training cost 0.3096 Validation cost 0.1494\n",
      "Training cost 0.3532 Validation cost 0.1241\n",
      "Training cost 0.2524 Validation cost 0.8112\n",
      "Training cost 0.0676 Validation cost 0.0066\n",
      "Training cost 0.0024 Validation cost 0.0043\n",
      "Training cost 0.4182 Validation cost 0.1011\n",
      "Training cost 0.0664 Validation cost 0.7965\n",
      "Training cost 0.2457 Validation cost 0.0296\n",
      "Training cost 0.1461 Validation cost 0.6530\n",
      "Training cost 0.0006 Validation cost 0.4416\n",
      "Training cost 0.2950 Validation cost 0.0023\n",
      "Training cost 0.3723 Validation cost 0.0251\n",
      "Training cost 0.0010 Validation cost 0.7248\n",
      "Training cost 0.2752 Validation cost 0.1928\n",
      "Training cost 0.0172 Validation cost 0.2008\n",
      "Training cost 0.7770 Validation cost 0.5688\n",
      "Training cost 0.0011 Validation cost 0.0002\n",
      "Training cost 0.0581 Validation cost 0.7359\n",
      "Training cost 0.4263 Validation cost 0.2654\n",
      "Training cost 0.5062 Validation cost 0.0265\n",
      "Training cost 0.2425 Validation cost 0.1046\n",
      "Training cost 0.0367 Validation cost 0.0000\n",
      "Training cost 0.0001 Validation cost 0.0581\n",
      "Training cost 0.0003 Validation cost 0.2072\n",
      "Training cost 0.2894 Validation cost 1.8359\n",
      "Training cost 0.1873 Validation cost 0.4878\n",
      "Training cost 0.0025 Validation cost 0.6255\n",
      "Training cost 0.0000 Validation cost 0.1324\n",
      "Training cost 0.0592 Validation cost 0.1418\n",
      "Training cost 0.0734 Validation cost 0.0062\n",
      "Training cost 0.0215 Validation cost 0.0244\n",
      "Training cost 0.3667 Validation cost 0.1355\n",
      "Training cost 0.0032 Validation cost 0.7756\n",
      "Training cost 0.1668 Validation cost 0.0017\n",
      "Training cost 0.0008 Validation cost 0.0000\n",
      "Training cost 0.0000 Validation cost 0.7652\n",
      "Training cost 0.0030 Validation cost 0.0172\n",
      "Training cost 0.0157 Validation cost 0.2666\n",
      "Training cost 0.3152 Validation cost 0.2792\n",
      "Training cost 0.0383 Validation cost 0.1935\n",
      "Training cost 0.3678 Validation cost 0.0274\n",
      "Training cost 0.0109 Validation cost 0.2327\n",
      "Training cost 0.3844 Validation cost 0.0953\n",
      "Training cost 0.0464 Validation cost 0.0000\n",
      "Training cost 0.0026 Validation cost 0.0010\n",
      "Training cost 0.0495 Validation cost 0.1329\n",
      "Training cost 0.7109 Validation cost 0.5240\n",
      "Validation accuracy: 0.0000\n"
     ]
    }
   ],
   "source": [
    "tf.reset_default_graph()\n",
    "\n",
    "with tf.Graph().as_default():\n",
    "    \n",
    "    X = tf.placeholder(tf.float32, [None, height, width, 3])\n",
    "    Y = tf.placeholder(tf.float32, [None, 1])\n",
    "    \n",
    "    # laod VGG16\n",
    "    with slim.arg_scope(vgg.vgg_arg_scope()):\n",
    "        _, end_points = vgg.vgg_16(X, num_classes=1000, is_training=False)\n",
    "        fc_7 = end_points['vgg_16/fc7']\n",
    "    \n",
    "    # define the last weights\n",
    "    Wn = tf.Variable(tf.random_normal([4096, 1], mean=0.0, stddev=0.02), name='Wn')\n",
    "    b = tf.Variable(tf.zeros([1]), name='b')\n",
    "    \n",
    "    fc_7 = tf.reshape(fc_7, (-1, 4096))\n",
    "    logits = tf.add(tf.matmul(fc_7, Wn), b)\n",
    "    probx = tf.nn.sigmoid(logits)\n",
    "    \n",
    "    cost = tf.reduce_mean(tf.nn.sigmoid_cross_entropy_with_logits(logits=logits, labels=Y))\n",
    "    optimizer = tf.train.AdamOptimizer(learning_rate).minimize(cost, var_list=[Wn, b])\n",
    "    \n",
    "    init_fn = slim.assign_from_checkpoint_fn(vgg_path, \n",
    "                                             slim.get_model_variables('vgg_16'))\n",
    "    \n",
    "    with tf.Session() as sess:\n",
    "        init_op = tf.global_variables_initializer()\n",
    "        sess.run(init_op)\n",
    "\n",
    "        init_fn(sess)\n",
    "        for i in range(1):\n",
    "            for j in range(50):\n",
    "                batch_x, batch_y= next(train_generator)\n",
    "                val_x, val_y = next(val_generator)\n",
    "                sess.run(optimizer, feed_dict={X:batch_x, Y:batch_y})\n",
    "                cost_train = sess.run(cost, feed_dict={X:batch_x, Y:batch_y})\n",
    "                cost_val = sess.run(cost, feed_dict={X:val_x, Y:val_y})\n",
    "                \n",
    "                print(\"Training cost {:.4f} Validation cost {:.4f}\".format(cost_train, cost_val))\n",
    "                \n",
    "        val_pred = sess.run(probx, feed_dict={X:val_x})\n",
    "        val_pred = (val_pred > 0.5) * 1\n",
    "        acc = np.mean(val_y == val_pred)\n",
    "        print('Validation accuracy: {:.4f}'.format(acc))"
   ]
  },
  {
   "cell_type": "code",
   "execution_count": 16,
   "metadata": {},
   "outputs": [
    {
     "data": {
      "text/plain": [
       "0.9375"
      ]
     },
     "execution_count": 16,
     "metadata": {},
     "output_type": "execute_result"
    }
   ],
   "source": [
    "np.mean(val_y == val_pred)"
   ]
  },
  {
   "cell_type": "code",
   "execution_count": null,
   "metadata": {},
   "outputs": [],
   "source": []
  },
  {
   "cell_type": "code",
   "execution_count": null,
   "metadata": {
    "collapsed": true
   },
   "outputs": [],
   "source": []
  },
  {
   "cell_type": "code",
   "execution_count": null,
   "metadata": {
    "collapsed": true
   },
   "outputs": [],
   "source": []
  }
 ],
 "metadata": {
  "kernelspec": {
   "display_name": "Python [conda env:py35]",
   "language": "python",
   "name": "conda-env-py35-py"
  },
  "language_info": {
   "codemirror_mode": {
    "name": "ipython",
    "version": 3
   },
   "file_extension": ".py",
   "mimetype": "text/x-python",
   "name": "python",
   "nbconvert_exporter": "python",
   "pygments_lexer": "ipython3",
   "version": "3.5.4"
  }
 },
 "nbformat": 4,
 "nbformat_minor": 2
}
