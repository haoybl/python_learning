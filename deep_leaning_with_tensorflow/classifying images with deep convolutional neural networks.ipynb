{
 "cells": [
  {
   "cell_type": "code",
   "execution_count": 24,
   "metadata": {},
   "outputs": [],
   "source": [
    "import numpy as np\n",
    "import tensorflow as tf\n",
    "import os\n",
    "\n",
    "np.set_printoptions(precision=2)"
   ]
  },
  {
   "cell_type": "markdown",
   "metadata": {},
   "source": [
    "### Implementing a CNN in the TensorFlow low-level API"
   ]
  },
  {
   "cell_type": "code",
   "execution_count": 2,
   "metadata": {},
   "outputs": [],
   "source": [
    "from tensorflow.examples.tutorials import mnist"
   ]
  },
  {
   "cell_type": "code",
   "execution_count": 3,
   "metadata": {},
   "outputs": [
    {
     "name": "stdout",
     "output_type": "stream",
     "text": [
      "Extracting MNIST_data/train-images-idx3-ubyte.gz\n",
      "Extracting MNIST_data/train-labels-idx1-ubyte.gz\n",
      "Extracting MNIST_data/t10k-images-idx3-ubyte.gz\n",
      "Extracting MNIST_data/t10k-labels-idx1-ubyte.gz\n"
     ]
    }
   ],
   "source": [
    "data = mnist.input_data.read_data_sets(train_dir='MNIST_data/', \n",
    "                                       one_hot=True, reshape=False, validation_size=10000)"
   ]
  },
  {
   "cell_type": "code",
   "execution_count": 4,
   "metadata": {},
   "outputs": [
    {
     "data": {
      "text/plain": [
       "(50000, 10000, 10000)"
      ]
     },
     "execution_count": 4,
     "metadata": {},
     "output_type": "execute_result"
    }
   ],
   "source": [
    "data.train.num_examples, data.test.num_examples, data.validation.num_examples"
   ]
  },
  {
   "cell_type": "code",
   "execution_count": 5,
   "metadata": {},
   "outputs": [
    {
     "data": {
      "text/plain": [
       "((50000, 28, 28, 1), (50000, 10))"
      ]
     },
     "execution_count": 5,
     "metadata": {},
     "output_type": "execute_result"
    }
   ],
   "source": [
    "data.train.images.shape, data.train.labels.shape"
   ]
  },
  {
   "cell_type": "code",
   "execution_count": 16,
   "metadata": {},
   "outputs": [],
   "source": [
    "def conv_layer(input_tensor, kernel_shape, n_out_channels, scope_name, \n",
    "               padding_mode='SAME', strides=(1, 1, 1, 1)):\n",
    "    \n",
    "    with tf.variable_scope(scope_name):\n",
    "        m, n1, n2, nc = input_tensor.get_shape().as_list()\n",
    "        p1, p2 = kernel_shape\n",
    "        \n",
    "        kernel = tf.get_variable('kernel', shape=(p1, p2, nc, n_out_channels))\n",
    "        bias = tf.get_variable('bias', shape=(n_out_channels), initializer=tf.zeros_initializer)\n",
    "        \n",
    "        output = tf.nn.conv2d(input_tensor, kernel, padding=padding_mode, strides=strides)\n",
    "        output = tf.nn.bias_add(output, bias, name='net_input')\n",
    "        output = tf.nn.relu(output, name='activation')\n",
    "        return output\n",
    "    \n",
    "def fc_layer(input_tensor, n_output, scope_name, activation_func=None):\n",
    "    with tf.variable_scope(scope_name):\n",
    "        input_shape = input_tensor.get_shape().as_list()[1:]\n",
    "        if len(input_shape) > 1:\n",
    "            # flatten to vector\n",
    "            n_input = np.prod(input_shape)\n",
    "            input_tensor = tf.reshape(input_tensor, shape=(-1, n_input))\n",
    "        else:\n",
    "            n_input = input_shape[0]\n",
    "            \n",
    "        # create W and b\n",
    "        weight = tf.get_variable('weight', shape=(n_input, n_output))\n",
    "        bias = tf.get_variable('bias', shape=(n_output), initializer=tf.zeros_initializer)\n",
    "        \n",
    "        # operation\n",
    "        output = tf.nn.bias_add(tf.matmul(input_tensor, weight), bias, name='net_input')\n",
    "        if activation_func is None:\n",
    "            return output\n",
    "        return activation_func(output, name='activation')\n",
    "    \n",
    "    \n",
    "def build_cnn():\n",
    "    \n",
    "    # create placeholder for X, Y\n",
    "    tf_X = tf.placeholder(dtype=tf.float32, shape=(None, 28, 28, 1), name='tf_X')\n",
    "    tf_Y = tf.placeholder(dtype=tf.float32, shape=(None, 10), name='tf_Y')\n",
    "    \n",
    "    # conv_1\n",
    "    h1 = conv_layer(tf_X, kernel_shape=(5, 5), n_out_channels=32, scope_name='conv1', \n",
    "                       padding_mode='SAME', strides=(1,1,1,1))\n",
    "    # max_pool_1\n",
    "    h1_maxpool = tf.nn.max_pool(h1, ksize=(1, 2, 2, 1), \n",
    "                                strides=(1, 2, 2, 1), padding='VALID')\n",
    "    # conv_2\n",
    "    h2 = conv_layer(h1_maxpool, kernel_shape=(5, 5), n_out_channels=64, scope_name='conv2',\n",
    "                   padding_mode='SAME', strides=(1, 1, 1, 1))\n",
    "    # max_pool_2\n",
    "    h2_maxpool = tf.nn.max_pool(h2, ksize=(1, 2, 2, 1), \n",
    "                                strides=(1, 2, 2, 1), padding='VALID')\n",
    "    # fc_1\n",
    "    h3 = fc_layer(h2_maxpool, n_output=1024, \n",
    "                  scope_name='fc1', activation_func=tf.nn.relu)\n",
    "    # dropout\n",
    "    dropout = tf.placeholder(dtype=tf.float32, shape=(), name='keep_prob')\n",
    "    h3_dropout = tf.nn.dropout(h3, keep_prob=dropout, name='dropout_layer')\n",
    "    # fc_2\n",
    "    logits = fc_layer(h3_dropout, n_output=10, \n",
    "                      scope_name='fc2', activation_func=None)\n",
    "    \n",
    "    # predictions: {probabilities, labels}\n",
    "    predictions = {\n",
    "        'probabilities': tf.nn.softmax(logits, name='probabilities'),\n",
    "        'labels': tf.argmax(logits, axis=1, name='labels')\n",
    "    }\n",
    "    # loss function\n",
    "    loss = tf.reduce_mean(tf.nn.softmax_cross_entropy_with_logits(labels=tf_Y, logits=logits), \n",
    "                          name='cross_entropy_loss')\n",
    "    # optimizer\n",
    "    optimizer = tf.train.AdamOptimizer(learning_rate).minimize(loss, name='train_op')\n",
    "    \n",
    "    # metric: accuracy\n",
    "    correct_pred = tf.equal(tf.argmax(tf_Y, axis=1), predictions['labels'])\n",
    "    accuracy = tf.reduce_mean(tf.cast(correct_pred, dtype=tf.float32), \n",
    "                              name='accuracy')\n",
    "    \n",
    "def save(saver, sess, epoch, path='./model/'):\n",
    "    if not os.path.exists(path):\n",
    "        os.makedirs(path)\n",
    "    print('Saving model in', path)\n",
    "    saver.save(sess, save_path=os.path.join(path, 'cnn-model.ckpt'), \n",
    "               global_step=epoch)\n",
    "\n",
    "def load(saver, sess, path, epoch):\n",
    "    print(\"Loading model from\", path)\n",
    "    saver.restore(sess, save_path=os.path.join(path, \n",
    "                                          'cnn-model.ckpt-{}'.format(epoch)))\n",
    "\n",
    "def train(sess, training_set, validation_set=None,\n",
    "          initialize=True, epochs=20, shuffle=True,\n",
    "          dropout=.5, random_seed=None):\n",
    "    n_batch = training_set.num_examples // 64 + 1\n",
    "    \n",
    "    if initialize:\n",
    "        sess.run(tf.global_variables_initializer())\n",
    "    \n",
    "    training_loss = []\n",
    "    for i in range(epochs):\n",
    "        avg_loss = 0.0\n",
    "        for j in range(n_batch):\n",
    "            x_batch, y_batch = training_set.next_batch(batch_size=64)\n",
    "            feed = {'tf_X:0':x_batch, \n",
    "                    'tf_Y:0':y_batch, \n",
    "                    'keep_prob:0':dropout}\n",
    "            loss, _ = sess.run(['cross_entropy_loss:0', 'train_op'], feed_dict=feed)\n",
    "            avg_loss += loss\n",
    "        training_loss.append(avg_loss / (j+1))\n",
    "        print(\"Epoch {}: Training Loss {:.4f}\".format(i+1, training_loss[-1]), end=' ')\n",
    "        \n",
    "        if validation_set is not None:\n",
    "            feed = {'tf_X:0': validation_set.images,\n",
    "                    'tf_Y:0': validation_set.labels,\n",
    "                    'keep_prob:0': 1.0}\n",
    "            loss = sess.run('cross_entropy_loss:0', feed_dict=feed)\n",
    "            print(\"Validation Loss {:.4f}\".format(loss))\n",
    "        else:\n",
    "            print()\n",
    "        \n",
    "def predict(sess, X_test, return_proba=False):\n",
    "    feed = {'tf_X:0': X_test.images,\n",
    "            'tf_Y:0': X_test.labels,\n",
    "            'keep_prob:0': 1.0}\n",
    "    if return_proba:\n",
    "        return sess.run('probabilities:0', feed_dict=feed)\n",
    "    return sess.run('labels:0', feed_dict=feed)\n",
    "\n"
   ]
  },
  {
   "cell_type": "markdown",
   "metadata": {},
   "source": [
    "### training first time"
   ]
  },
  {
   "cell_type": "code",
   "execution_count": 33,
   "metadata": {},
   "outputs": [],
   "source": [
    "learning_rate = 1e-4\n",
    "random_seed = 123\n",
    "batch_size = 64\n",
    "\n",
    "g = tf.Graph()\n",
    "with g.as_default():\n",
    "    tf.set_random_seed(random_seed)\n",
    "    build_cnn()\n",
    "    \n",
    "    #file_writer = tf.summary.FileWriter(logdir='./logs/cnn', graph=g)\n",
    "    \n",
    "    saver = tf.train.Saver()"
   ]
  },
  {
   "cell_type": "code",
   "execution_count": 34,
   "metadata": {},
   "outputs": [
    {
     "name": "stdout",
     "output_type": "stream",
     "text": [
      "Epoch 1: Training Loss 0.3705 Validation Loss 0.1171\n",
      "Epoch 2: Training Loss 0.1000 Validation Loss 0.0726\n",
      "Epoch 3: Training Loss 0.0696 Validation Loss 0.0571\n",
      "Epoch 4: Training Loss 0.0551 Validation Loss 0.0516\n",
      "Epoch 5: Training Loss 0.0457 Validation Loss 0.0440\n",
      "Epoch 6: Training Loss 0.0375 Validation Loss 0.0396\n",
      "Epoch 7: Training Loss 0.0343 Validation Loss 0.0443\n",
      "Epoch 8: Training Loss 0.0290 Validation Loss 0.0379\n",
      "Epoch 9: Training Loss 0.0255 Validation Loss 0.0394\n",
      "Epoch 10: Training Loss 0.0239 Validation Loss 0.0353\n",
      "Epoch 11: Training Loss 0.0199 Validation Loss 0.0331\n",
      "Epoch 12: Training Loss 0.0179 Validation Loss 0.0346\n",
      "Epoch 13: Training Loss 0.0164 Validation Loss 0.0392\n",
      "Epoch 14: Training Loss 0.0142 Validation Loss 0.0347\n",
      "Epoch 15: Training Loss 0.0133 Validation Loss 0.0330\n",
      "Epoch 16: Training Loss 0.0113 Validation Loss 0.0321\n",
      "Epoch 17: Training Loss 0.0102 Validation Loss 0.0364\n",
      "Epoch 18: Training Loss 0.0108 Validation Loss 0.0365\n",
      "Epoch 19: Training Loss 0.0088 Validation Loss 0.0329\n",
      "Epoch 20: Training Loss 0.0077 Validation Loss 0.0362\n",
      "Saving model in ./model/\n"
     ]
    }
   ],
   "source": [
    "with tf.Session(graph=g) as sess:\n",
    "    train(sess, data.train, validation_set=data.validation, \n",
    "          initialize=True, epochs=20)\n",
    "    \n",
    "    save(saver, sess, epoch=20)"
   ]
  },
  {
   "cell_type": "markdown",
   "metadata": {},
   "source": [
    "### Calculate prediction accuracy on test set\n",
    "### restoring the saved model"
   ]
  },
  {
   "cell_type": "code",
   "execution_count": 9,
   "metadata": {},
   "outputs": [],
   "source": [
    "learning_rate = 1e-4\n",
    "random_seed = 123\n",
    "batch_size = 64\n",
    "\n",
    "# reconstruct the graph\n",
    "g2 = tf.Graph()\n",
    "with g2.as_default():\n",
    "    tf.set_random_seed(random_seed)\n",
    "    # build graph\n",
    "    build_cnn()\n",
    "    \n",
    "    # saver\n",
    "    saver = tf.train.Saver()\n",
    "    "
   ]
  },
  {
   "cell_type": "code",
   "execution_count": 19,
   "metadata": {},
   "outputs": [
    {
     "name": "stdout",
     "output_type": "stream",
     "text": [
      "Loading model from model/\n",
      "INFO:tensorflow:Restoring parameters from model/cnn-model.ckpt-20\n",
      "Test accuracy: 99.22%\n"
     ]
    }
   ],
   "source": [
    "# create a new session and restore the model\n",
    "with tf.Session(graph=g2) as sess:\n",
    "    load(saver, sess, path='model/', epoch=20)\n",
    "    \n",
    "    preds = predict(sess, data.test, return_proba=False)\n",
    "    \n",
    "    print(\"Test accuracy: {:.2f}%\".format(100* np.mean(preds == np.argmax(data.test.labels, axis=1))))"
   ]
  },
  {
   "cell_type": "markdown",
   "metadata": {},
   "source": [
    "### restore the model and run prediction on some test samples"
   ]
  },
  {
   "cell_type": "code",
   "execution_count": 21,
   "metadata": {},
   "outputs": [],
   "source": [
    "g2 = tf.Graph()\n",
    "with g2.as_default():\n",
    "    build_cnn()\n",
    "    \n",
    "    saver = tf.train.Saver()"
   ]
  },
  {
   "cell_type": "code",
   "execution_count": 26,
   "metadata": {},
   "outputs": [
    {
     "name": "stdout",
     "output_type": "stream",
     "text": [
      "Loading model from ./model/\n",
      "INFO:tensorflow:Restoring parameters from ./model/cnn-model.ckpt-20\n"
     ]
    }
   ],
   "source": [
    "# load model & run session\n",
    "with tf.Session(graph=g2) as sess:\n",
    "    load(saver, sess, path='./model/', epoch=20)\n",
    "    \n",
    "    probs = predict(sess, data.test, return_proba=True)\n",
    "    labels = predict(sess, data.test, return_proba=False)"
   ]
  },
  {
   "cell_type": "code",
   "execution_count": 32,
   "metadata": {},
   "outputs": [
    {
     "data": {
      "text/plain": [
       "array([7, 2, 1, 0, 4, 1, 4, 9, 5, 9], dtype=int64)"
      ]
     },
     "execution_count": 32,
     "metadata": {},
     "output_type": "execute_result"
    }
   ],
   "source": [
    "labels[:10]"
   ]
  },
  {
   "cell_type": "code",
   "execution_count": 31,
   "metadata": {},
   "outputs": [
    {
     "name": "stdout",
     "output_type": "stream",
     "text": [
      "[[0. 0. 0. 0. 0. 0. 0. 1. 0. 0.]\n",
      " [0. 0. 1. 0. 0. 0. 0. 0. 0. 0.]\n",
      " [0. 1. 0. 0. 0. 0. 0. 0. 0. 0.]\n",
      " [1. 0. 0. 0. 0. 0. 0. 0. 0. 0.]\n",
      " [0. 0. 0. 0. 1. 0. 0. 0. 0. 0.]\n",
      " [0. 1. 0. 0. 0. 0. 0. 0. 0. 0.]\n",
      " [0. 0. 0. 0. 1. 0. 0. 0. 0. 0.]\n",
      " [0. 0. 0. 0. 0. 0. 0. 0. 0. 1.]\n",
      " [0. 0. 0. 0. 0. 1. 0. 0. 0. 0.]\n",
      " [0. 0. 0. 0. 0. 0. 0. 0. 0. 1.]]\n"
     ]
    }
   ],
   "source": [
    "print(probs[:10].round(2))"
   ]
  },
  {
   "cell_type": "markdown",
   "metadata": {},
   "source": [
    "### Continue training for 20 more epochs using previous model\n",
    "### save model\n",
    "### predict on test set"
   ]
  },
  {
   "cell_type": "code",
   "execution_count": null,
   "metadata": {},
   "outputs": [],
   "source": [
    "with tf.Session(graph=g2) as sess:\n",
    "    \n",
    "    # load pre-trained model\n",
    "    load(saver, sess, path='./model/', epoch=20)\n",
    "    \n",
    "    # train 20 more epoch\n",
    "    train(sess, data.train, validation_set=data.validation, \n",
    "          initialize=False, epochs=20, dropout=.5)\n",
    "    \n",
    "    # save 40-epoch model\n",
    "    save(saver, sess, epoch=40, path='./model/')\n",
    "    \n",
    "    # eval accuracy on test set\n",
    "    preds = predict(sess, data.test, return_proba=False)\n",
    "    \n",
    "    print(\"test accuracy: {:.2f}%\".format(100*np.mean(preds == np.argmax(data.test.labels, axis=1))))"
   ]
  },
  {
   "cell_type": "code",
   "execution_count": 37,
   "metadata": {},
   "outputs": [
    {
     "data": {
      "text/plain": [
       "array([7, 2, 1, ..., 4, 5, 6], dtype=int64)"
      ]
     },
     "execution_count": 37,
     "metadata": {},
     "output_type": "execute_result"
    }
   ],
   "source": [
    "preds"
   ]
  },
  {
   "cell_type": "code",
   "execution_count": 38,
   "metadata": {},
   "outputs": [
    {
     "data": {
      "text/plain": [
       "99.31"
      ]
     },
     "execution_count": 38,
     "metadata": {},
     "output_type": "execute_result"
    }
   ],
   "source": [
    "np.mean(np.argmax(data.test.labels, axis=1) == preds) * 100"
   ]
  },
  {
   "cell_type": "markdown",
   "metadata": {},
   "source": [
    "### Implementing a CNN in the TensorFlow Layers API"
   ]
  },
  {
   "cell_type": "code",
   "execution_count": 32,
   "metadata": {},
   "outputs": [],
   "source": [
    "import numpy as np\n",
    "import tensorflow as tf\n",
    "from tensorflow.examples.tutorials.mnist import input_data\n",
    "import os\n",
    "\n",
    "import matplotlib.pyplot as plt\n",
    "%matplotlib inline"
   ]
  },
  {
   "cell_type": "code",
   "execution_count": 2,
   "metadata": {},
   "outputs": [
    {
     "name": "stdout",
     "output_type": "stream",
     "text": [
      "Extracting MNIST_data/train-images-idx3-ubyte.gz\n",
      "Extracting MNIST_data/train-labels-idx1-ubyte.gz\n",
      "Extracting MNIST_data/t10k-images-idx3-ubyte.gz\n",
      "Extracting MNIST_data/t10k-labels-idx1-ubyte.gz\n"
     ]
    }
   ],
   "source": [
    "data = input_data.read_data_sets(train_dir='MNIST_data/', validation_size=10000, seed=123)"
   ]
  },
  {
   "cell_type": "code",
   "execution_count": 3,
   "metadata": {},
   "outputs": [
    {
     "data": {
      "text/plain": [
       "((50000, 784), (50000,))"
      ]
     },
     "execution_count": 3,
     "metadata": {},
     "output_type": "execute_result"
    }
   ],
   "source": [
    "X_train = data.train.images\n",
    "y_train = data.train.labels\n",
    "\n",
    "X_train.shape, y_train.shape"
   ]
  },
  {
   "cell_type": "code",
   "execution_count": 4,
   "metadata": {},
   "outputs": [
    {
     "data": {
      "text/plain": [
       "((10000, 784), (10000,))"
      ]
     },
     "execution_count": 4,
     "metadata": {},
     "output_type": "execute_result"
    }
   ],
   "source": [
    "X_val = data.validation.images\n",
    "y_val = data.validation.labels\n",
    "\n",
    "X_val.shape, y_val.shape"
   ]
  },
  {
   "cell_type": "code",
   "execution_count": 5,
   "metadata": {},
   "outputs": [
    {
     "data": {
      "text/plain": [
       "((10000, 784), (10000,))"
      ]
     },
     "execution_count": 5,
     "metadata": {},
     "output_type": "execute_result"
    }
   ],
   "source": [
    "X_test = data.test.images\n",
    "y_test = data.test.labels\n",
    "\n",
    "X_test.shape, y_test.shape"
   ]
  },
  {
   "cell_type": "code",
   "execution_count": 21,
   "metadata": {},
   "outputs": [],
   "source": [
    "class ConvNN:\n",
    "    '''a convolutional neural networks model'''\n",
    "    def __init__(self, batch_size=64, learning_rate=1e-4, \n",
    "                 drop_out=.5, epochs=20, random_state=None, \n",
    "                 shuffle=True):\n",
    "        # hyperparameters\n",
    "        self.batch_size = batch_size\n",
    "        self.learning_rate = learning_rate\n",
    "        self.drop_out = drop_out\n",
    "        self.epochs = epochs\n",
    "        self.random_state = random_state\n",
    "        self.shuffle = shuffle\n",
    "        \n",
    "        # graph model\n",
    "        g = tf.Graph()\n",
    "        with g.as_default():\n",
    "            # set random state\n",
    "            tf.set_random_seed(self.random_state)\n",
    "            \n",
    "            # build graph\n",
    "            self.build()\n",
    "            \n",
    "            # init global variabels\n",
    "            self.init_op = tf.global_variables_initializer()\n",
    "            \n",
    "            # create saver\n",
    "            self.saver = tf.train.Saver()\n",
    "        \n",
    "        # graph session\n",
    "        self.sess = tf.Session(graph=g)\n",
    "            \n",
    "    def build(self):\n",
    "        '''construct CNN layers'''\n",
    "        tf_X = tf.placeholder(dtype=tf.float32, shape=(None, 784), name='tf_X')\n",
    "        tf_Y = tf.placeholder(dtype=tf.int32, shape=(None),name='tf_Y')\n",
    "        is_train = tf.placeholder(dtype=tf.bool, shape=(), name='is_train')\n",
    "        \n",
    "        # preprocessing Input & Output\n",
    "        tf_X_images = tf.reshape(tf_X, shape=(-1, 28, 28, 1), name='tf_X_2d')\n",
    "        tf_Y_onehot = tf.one_hot(tf_Y, depth=10, axis=1, name='tf_Y_onehot')\n",
    "        \n",
    "        # conv-1\n",
    "        h1 = tf.layers.conv2d(tf_X_images, filters=32, kernel_size=(5, 5), \n",
    "                              strides=(1, 1), padding='SAME', activation=tf.nn.relu)\n",
    "        \n",
    "        h1_pool = tf.layers.max_pooling2d(h1, pool_size=(2, 2), \n",
    "                                          strides=(2,2), padding='valid')\n",
    "        # conv-2\n",
    "        h2 = tf.layers.conv2d(h1_pool, filters=64, kernel_size=(5, 5), padding='SAME', \n",
    "                              strides=(1, 1), activation=tf.nn.relu)\n",
    "        \n",
    "        h2_pool = tf.layers.max_pooling2d(h2, pool_size=(2, 2), \n",
    "                                          strides=(2, 2), padding='valid')\n",
    "        \n",
    "        h2_flat = tf.layers.flatten(h2_pool)\n",
    "        \n",
    "        # fc-1\n",
    "        h3 = tf.layers.dense(h2_flat, units=1024, use_bias=True, activation=tf.nn.relu)\n",
    "        # drop out\n",
    "        h3_drop = tf.layers.dropout(h3, rate=self.drop_out, training=is_train)\n",
    "        \n",
    "        # fc-2\n",
    "        h4 = tf.layers.dense(h3_drop, units=10, use_bias=True, activation=None)\n",
    "        \n",
    "        # outcomes\n",
    "        predictions = {\n",
    "            'probabilities': tf.nn.softmax(logits=h4, axis=1, name='probabilities'),\n",
    "            'labels': tf.argmax(h4, axis=1, output_type=tf.int32, name='labels')\n",
    "        }\n",
    "        \n",
    "        # cost function\n",
    "        loss = tf.reduce_mean(tf.nn.softmax_cross_entropy_with_logits_v2(logits=h4, labels=tf_Y_onehot), \n",
    "                             name='cross_entropy_loss')\n",
    "        \n",
    "        # optimizer\n",
    "        optimizer = tf.train.AdamOptimizer(learning_rate=self.learning_rate)\n",
    "        optimizer = optimizer.minimize(loss, name='train_op')\n",
    "        \n",
    "        # evaluate accuracy\n",
    "        accuracy = tf.reduce_mean(\n",
    "                        tf.cast(tf.equal(predictions['labels'], tf_Y), dtype=tf.float32),\n",
    "                        name='accuracy'\n",
    "                    )\n",
    "        \n",
    "    def train(self, train_set, validation_set=None, initialize=True):\n",
    "        \n",
    "        if initialize:\n",
    "            self.sess.run(self.init_op)\n",
    "        \n",
    "        self.train_costs_ = []\n",
    "        X_train = np.array(train_set[0])\n",
    "        y_train = np.array(train_set[1])\n",
    "        for i in range(self.epochs):\n",
    "            avg_loss = 0.0\n",
    "            for j, (x_batch, y_batch) in enumerate(ConvNN.next_batch(X_train, y_train, shuffle=self.shuffle)):\n",
    "                feed = {'tf_X:0': x_batch, 'tf_Y:0': y_batch, 'is_train:0': True}\n",
    "                _, c = self.sess.run(['train_op', 'cross_entropy_loss:0'], \n",
    "                                     feed_dict=feed)\n",
    "                avg_loss += c\n",
    "            self.train_costs_.append(avg_loss/(j+1))\n",
    "            print(\"Epoch {:3d}: Training Avg. Loss: {:.4f}\".format(i+1, self.train_costs_[-1]), end=' ')\n",
    "            # 1 epoch pass\n",
    "            if validation_set is not None:\n",
    "                X_val = np.array(validation_set[0])\n",
    "                y_val = np.array(validation_set[1])\n",
    "                feed = {'tf_X:0': X_val, 'tf_Y:0':y_val, 'is_train:0': False}\n",
    "                c, acc = self.sess.run(['cross_entropy_loss:0', 'accuracy:0'], feed_dict=feed)\n",
    "                print(\", Validation Loss: {:.4f}, Validation accuracy: {:.3f}\".format(c, acc))\n",
    "            else:\n",
    "                print()\n",
    "        \n",
    "    def predict(self, X_test, reture_prob=False):\n",
    "        feed = {'tf_X:0': X_test, 'is_train:0': False}\n",
    "        if reture_prob:\n",
    "            return self.sess.run('probabilities:0', feed_dict=feed)\n",
    "        return self.sess.run('labels:0', feed_dict=feed)\n",
    "    \n",
    "    def save(self, epoch, path='./tflayers-model/'):\n",
    "        if not os.path.exists(path):\n",
    "            os.makedirs(path)\n",
    "        print(\"Saving model in {}\".format(path))\n",
    "        self.saver.save(self.sess, \n",
    "                        os.path.join(path, 'model.ckpt'), \n",
    "                        global_step=epoch)\n",
    "        \n",
    "    def load(self, epoch, path='./tflayers-model/'):\n",
    "        print(\"Loading model from {}\".format(path))\n",
    "        self.saver.restore(self.sess, \n",
    "                           os.path.join(path, 'model.ckpt-{}'.format(epoch)))\n",
    "        \n",
    "    @staticmethod\n",
    "    def next_batch(X, y, shuffle=True, batch_size=32):\n",
    "        n_batch = len(X) // batch_size + 1\n",
    "        if shuffle:\n",
    "            idx = np.random.permutation(range(len(X)))\n",
    "        else:\n",
    "            idx = np.arange(0, len(X))\n",
    "        \n",
    "        for i in range(n_batch):\n",
    "            a, b = i*batch_size, (i+1)*batch_size\n",
    "            \n",
    "            yield X[idx[a:b]], y[idx[a:b]]"
   ]
  },
  {
   "cell_type": "markdown",
   "metadata": {},
   "source": [
    "#### train first time and save model"
   ]
  },
  {
   "cell_type": "code",
   "execution_count": 22,
   "metadata": {},
   "outputs": [],
   "source": [
    "cnn = ConvNN(batch_size=32, learning_rate=.0001, \n",
    "           drop_out=.5, epochs=20, random_state=42, shuffle=True)"
   ]
  },
  {
   "cell_type": "code",
   "execution_count": 23,
   "metadata": {},
   "outputs": [
    {
     "name": "stdout",
     "output_type": "stream",
     "text": [
      "Epoch   1: Training Avg. Loss: 0.2814 Validation Loss: 0.0958, Validation accuracy: 0.973\n",
      "Epoch   2: Training Avg. Loss: 0.0804 Validation Loss: 0.0622, Validation accuracy: 0.982\n",
      "Epoch   3: Training Avg. Loss: 0.0570 Validation Loss: 0.0510, Validation accuracy: 0.984\n",
      "Epoch   4: Training Avg. Loss: 0.0436 Validation Loss: 0.0432, Validation accuracy: 0.987\n",
      "Epoch   5: Training Avg. Loss: 0.0370 Validation Loss: 0.0392, Validation accuracy: 0.989\n",
      "Epoch   6: Training Avg. Loss: 0.0303 Validation Loss: 0.0359, Validation accuracy: 0.990\n",
      "Epoch   7: Training Avg. Loss: 0.0259 Validation Loss: 0.0374, Validation accuracy: 0.990\n",
      "Epoch   8: Training Avg. Loss: 0.0217 Validation Loss: 0.0349, Validation accuracy: 0.990\n",
      "Epoch   9: Training Avg. Loss: 0.0190 Validation Loss: 0.0329, Validation accuracy: 0.990\n",
      "Epoch  10: Training Avg. Loss: 0.0157 Validation Loss: 0.0332, Validation accuracy: 0.989\n",
      "Epoch  11: Training Avg. Loss: 0.0158 Validation Loss: 0.0338, Validation accuracy: 0.990\n",
      "Epoch  12: Training Avg. Loss: 0.0120 Validation Loss: 0.0351, Validation accuracy: 0.989\n",
      "Epoch  13: Training Avg. Loss: 0.0108 Validation Loss: 0.0358, Validation accuracy: 0.990\n",
      "Epoch  14: Training Avg. Loss: 0.0102 Validation Loss: 0.0341, Validation accuracy: 0.990\n",
      "Epoch  15: Training Avg. Loss: 0.0090 Validation Loss: 0.0393, Validation accuracy: 0.990\n",
      "Epoch  16: Training Avg. Loss: 0.0075 Validation Loss: 0.0365, Validation accuracy: 0.990\n",
      "Epoch  17: Training Avg. Loss: 0.0071 Validation Loss: 0.0359, Validation accuracy: 0.990\n",
      "Epoch  18: Training Avg. Loss: 0.0066 Validation Loss: 0.0392, Validation accuracy: 0.990\n",
      "Epoch  19: Training Avg. Loss: 0.0053 Validation Loss: 0.0364, Validation accuracy: 0.991\n",
      "Epoch  20: Training Avg. Loss: 0.0053 Validation Loss: 0.0359, Validation accuracy: 0.992\n"
     ]
    }
   ],
   "source": [
    "cnn.train(train_set=(X_train, y_train), \n",
    "          validation_set=(X_val, y_val), \n",
    "          initialize=True)"
   ]
  },
  {
   "cell_type": "code",
   "execution_count": 24,
   "metadata": {},
   "outputs": [
    {
     "name": "stdout",
     "output_type": "stream",
     "text": [
      "Saving model in ./tflayers-model/\n"
     ]
    }
   ],
   "source": [
    "cnn.save(epoch=20)"
   ]
  },
  {
   "cell_type": "markdown",
   "metadata": {},
   "source": [
    "#### load model and predict on test set"
   ]
  },
  {
   "cell_type": "code",
   "execution_count": 25,
   "metadata": {},
   "outputs": [],
   "source": [
    "del cnn"
   ]
  },
  {
   "cell_type": "code",
   "execution_count": 26,
   "metadata": {},
   "outputs": [],
   "source": [
    "cnn = ConvNN(batch_size=32, random_state=42)"
   ]
  },
  {
   "cell_type": "code",
   "execution_count": 27,
   "metadata": {},
   "outputs": [
    {
     "name": "stdout",
     "output_type": "stream",
     "text": [
      "Loading model from ./tflayers-model/\n",
      "INFO:tensorflow:Restoring parameters from ./tflayers-model/model.ckpt-20\n"
     ]
    }
   ],
   "source": [
    "cnn.load(epoch=20)"
   ]
  },
  {
   "cell_type": "code",
   "execution_count": 38,
   "metadata": {},
   "outputs": [
    {
     "name": "stdout",
     "output_type": "stream",
     "text": [
      "Test accuracy: 99.39%\n"
     ]
    }
   ],
   "source": [
    "print('Test accuracy: {:.2f}%'.format(100*np.mean(y_pred==y_test)))"
   ]
  },
  {
   "cell_type": "code",
   "execution_count": 28,
   "metadata": {},
   "outputs": [],
   "source": [
    "y_pred = cnn.predict(X_test)"
   ]
  },
  {
   "cell_type": "code",
   "execution_count": 29,
   "metadata": {},
   "outputs": [
    {
     "data": {
      "text/plain": [
       "array([7, 2, 1, 0, 4, 1, 4, 9, 5, 9])"
      ]
     },
     "execution_count": 29,
     "metadata": {},
     "output_type": "execute_result"
    }
   ],
   "source": [
    "y_pred[:10]"
   ]
  },
  {
   "cell_type": "code",
   "execution_count": 30,
   "metadata": {},
   "outputs": [],
   "source": [
    "miss_idx = y_pred != y_test"
   ]
  },
  {
   "cell_type": "code",
   "execution_count": 31,
   "metadata": {},
   "outputs": [
    {
     "data": {
      "text/plain": [
       "61"
      ]
     },
     "execution_count": 31,
     "metadata": {},
     "output_type": "execute_result"
    }
   ],
   "source": [
    "miss_idx.sum()"
   ]
  },
  {
   "cell_type": "code",
   "execution_count": 37,
   "metadata": {},
   "outputs": [
    {
     "data": {
      "image/png": "[encoded data removed]",
      "text/plain": [
       "<matplotlib.figure.Figure at 0x25706480208>"
      ]
     },
     "metadata": {},
     "output_type": "display_data"
    }
   ],
   "source": [
    "y_pred_miss = y_pred[miss_idx]\n",
    "y_true_miss = y_test[miss_idx]\n",
    "\n",
    "fig, ax = plt.subplots(nrows=8, ncols=8, figsize=(32, 32), \n",
    "                       subplot_kw={'xticks':[], 'yticks':[]})\n",
    "for im, axi, pred_, true_ in zip(X_test[miss_idx], ax.flat, \n",
    "                                 y_pred_miss, y_true_miss):\n",
    "    im = im.reshape(28, 28)\n",
    "    axi.imshow(im, cmap=plt.cm.gray)\n",
    "    axi.set_title(\"prd:{}, true:{}\".format(pred_, true_), fontdict={'fontsize':18})\n",
    "\n",
    "fig.tight_layout()"
   ]
  },
  {
   "cell_type": "code",
   "execution_count": null,
   "metadata": {},
   "outputs": [],
   "source": []
  },
  {
   "cell_type": "code",
   "execution_count": null,
   "metadata": {},
   "outputs": [],
   "source": []
  },
  {
   "cell_type": "code",
   "execution_count": null,
   "metadata": {},
   "outputs": [],
   "source": []
  },
  {
   "cell_type": "code",
   "execution_count": null,
   "metadata": {},
   "outputs": [],
   "source": []
  }
 ],
 "metadata": {
  "kernelspec": {
   "display_name": "Python [conda env:deep_learning]",
   "language": "python",
   "name": "conda-env-deep_learning-py"
  },
  "language_info": {
   "codemirror_mode": {
    "name": "ipython",
    "version": 3
   },
   "file_extension": ".py",
   "mimetype": "text/x-python",
   "name": "python",
   "nbconvert_exporter": "python",
   "pygments_lexer": "ipython3",
   "version": "3.5.4"
  }
 },
 "nbformat": 4,
 "nbformat_minor": 2
}
